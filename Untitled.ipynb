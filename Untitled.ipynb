{
 "cells": [
  {
   "cell_type": "markdown",
   "id": "809dfe43",
   "metadata": {},
   "source": [
    "| Parameters | |\n",
    "|-|-|\n",
    "|x| set of features |\n",
    "|x'| features changed to achieve a positive classification |\n",
    "|θ| weights of a model |\n",
    "|ℓ| loss |\n",
    "|c| cost |\n",
    "|α| alpha |"
   ]
  },
  {
   "cell_type": "code",
   "execution_count": 17,
   "id": "5a48fbe2",
   "metadata": {},
   "outputs": [
    {
     "data": {
      "application/vnd.jupyter.widget-view+json": {
       "model_id": "64eb713199fb4b51a1f32d338b931d8c",
       "version_major": 2,
       "version_minor": 0
      },
      "text/plain": [
       "interactive(children=(FloatSlider(value=1.0, description='θ', max=50.0, min=-50.0), Output()), _dom_classes=('…"
      ]
     },
     "metadata": {},
     "output_type": "display_data"
    },
    {
     "data": {
      "text/plain": [
       "[<matplotlib.lines.Line2D at 0x1ef02408ef0>]"
      ]
     },
     "execution_count": 17,
     "metadata": {},
     "output_type": "execute_result"
    },
    {
     "data": {
      "image/png": "[encoded data removed]",
      "text/plain": [
       "<Figure size 640x480 with 1 Axes>"
      ]
     },
     "metadata": {},
     "output_type": "display_data"
    }
   ],
   "source": [
    "import numpy as np\n",
    "import matplotlib.pyplot as plt\n",
    "import ipywidgets as widgets\n",
    "from ipywidgets import interact\n",
    "\n",
    "def plot_logistic_function(θ):\n",
    "    x = np.linspace(-10, 10, 400)\n",
    "    y = 1 / (1 + np.exp(-θ * x))  # 'a' will scale the curve\n",
    "    plt.plot(x, y, label=f'y = 1 / (1 + e^(-{θ} * x))')\n",
    "    plt.title(f'Sigmoid')\n",
    "    plt.xlabel('x')\n",
    "    plt.ylabel('y')\n",
    "    plt.grid(True)\n",
    "    plt.legend()\n",
    "    plt.show()\n",
    "\n",
    "# Create an interactive slider\n",
    "interact(plot_logistic_function, θ=widgets.FloatSlider(value=1.0, min=-50, max=50, step=0.1))\n",
    "\n",
    "x = np.linspace(0.01, 10, 400)\n",
    "y = np.log(1 + np.exp(-x))\n",
    "plt.plot(x, y, label=f'y = 1 / (1 + e^(x))')\n",
    "\n"
   ]
  },
  {
   "cell_type": "markdown",
   "id": "eaa863ba",
   "metadata": {},
   "source": [
    "**Robust Recourse:**\n",
    "$$\n",
    "x_r = \\arg\\min_{x' \\in X} \\; \\max_{\\theta' \\in \\Theta_\\alpha} \\; l(f(x',\\theta'), 1) + \\lambda \\, c(x, x')\n",
    "$$\n",
    "\n",
    "**Simplifying Log Loss:**\n",
    "$$\n",
    "\\begin{aligned}\n",
    "l(f(x',\\theta'), 1) &= -(1 \\cdot \\log(f(x',\\theta')) + (1 - 1)\\cdot \\log(1 - f(x',\\theta'))) \\\\\n",
    "                    &= -\\log(f(x',\\theta')) \\\\\n",
    "                    &= -\\log\\left(\\frac{1}{1 + e^{-x' \\cdot \\theta'}}\\right)\n",
    "\\end{aligned}\n",
    "$$\n",
    "\n",
    "**Maximizing Log Loss:**\n",
    "\n",
    "$\\theta'$ wants to maximize the log loss. The sigmoid function must evaluate to the smallest possible value because:\n",
    "\n",
    "$$\n",
    "\\lim_{z \\to 0^+} -\\log(z) = \\infty\n",
    "$$\n",
    "\n",
    "We need to find:\n",
    "\n",
    "$$\n",
    "\\lim_{\\substack{x' \\to ?  \\\\ \\theta' \\to ? }} \\frac{1}{1 + e^{-x' \\theta'}} = 0\n",
    "$$\n",
    "\n",
    "As $x' \\to \\infty$ and $\\theta' \\to -\\infty$, we get:\n",
    "\n",
    "$$\n",
    "\\lim_{\\substack{x' \\to \\infty \\\\ \\theta' \\to -\\infty}} \\frac{1}{1 + e^{-x' \\theta'}}= 0\n",
    "$$\n",
    "\n",
    "As $x' \\to -\\infty$ and $\\theta' \\to \\infty$, we get:\n",
    "\n",
    "$$\n",
    "\\lim_{\\substack{x' \\to -\\infty \\\\ \\theta' \\to \\infty}} \\frac{1}{1 + e^{-x' \\theta'}} = 0\n",
    "$$\n",
    "\n",
    "**Minimizing Log Loss:**\n",
    "\n",
    "$x'$ wants to minimize the log loss. The sigmoid function must evaluate to the largest possible value because:\n",
    "\n",
    "$$\n",
    "\\lim_{z \\to \\infty} -\\log(z) = 0 \n",
    "$$\n",
    "\n",
    "We need to find:\n",
    "\n",
    "$$\n",
    "\\lim_{\\substack{x' \\to ?  \\\\ \\theta' \\to ? }} \\frac{1}{1 + e^{-x' \\theta'}} = \\infty \n",
    "$$\n",
    "\n",
    "As $x' \\to \\infty$ and $\\theta' \\to \\infty$, we get:\n",
    "\n",
    "$$\n",
    "\\lim_{\\substack{x' \\to \\infty \\\\ \\theta' \\to \\infty}} \\frac{1}{1 + e^{-x' \\theta'}} = \\infty \n",
    "$$\n",
    "\n",
    "As $x' \\to -\\infty$ and $\\theta' \\to -\\infty$, we get:\n",
    "\n",
    "$$\n",
    "\\lim_{\\substack{x' \\to -\\infty \\\\ \\theta' \\to -\\infty}} \\frac{1}{1 + e^{-x' \\theta'}} = \\infty \n",
    "$$\n",
    "\n",
    "**Takeaway**\n",
    "\n",
    "We can model $\\arg\\min_{x' \\in X} \\; \\max_{\\theta' \\in \\Theta_\\alpha} l(f(x',\\theta'), 1)$ using the Minimax algorithm. $x'$ is Player 1, and $\\theta'$ is Player 2, or the adversary. $\\theta$' moves in a way that maximizes log loss after considering what the $x'$ player has chosen. If the $x'$ chooses a positive value, $\\theta'$ will choose the smallest negative number, but if $x'$ chooses a negative value, $\\theta'$ will choose the greatest positive number in response. However, $\\theta'$ is bounded by $\\alpha'$   \n"
   ]
  }
 ],
 "metadata": {
  "kernelspec": {
   "display_name": "Python 3",
   "language": "python",
   "name": "python3"
  },
  "language_info": {
   "codemirror_mode": {
    "name": "ipython",
    "version": 3
   },
   "file_extension": ".py",
   "mimetype": "text/x-python",
   "name": "python",
   "nbconvert_exporter": "python",
   "pygments_lexer": "ipython3",
   "version": "3.12.10"
  }
 },
 "nbformat": 4,
 "nbformat_minor": 5
}
