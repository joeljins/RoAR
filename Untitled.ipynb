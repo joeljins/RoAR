{
 "cells": [
  {
   "cell_type": "markdown",
   "id": "809dfe43",
   "metadata": {},
   "source": [
    "| Parameters | |\n",
    "|-|-|\n",
    "|x| set of features\\\n",
    " x' : set of features\n",
    " θ : weights of a model\\\n",
    " ℓ : loss\\\n",
    " c : cost\n",
    " α : alpha\\\n",
    "\n",
    "Minimax Algorithm:\n",
    "Player 1 : x' \n",
    "δ"
   ]
  }
 ],
 "metadata": {
  "kernelspec": {
   "display_name": "Python 3 (ipykernel)",
   "language": "python",
   "name": "python3"
  },
  "language_info": {
   "codemirror_mode": {
    "name": "ipython",
    "version": 3
   },
   "file_extension": ".py",
   "mimetype": "text/x-python",
   "name": "python",
   "nbconvert_exporter": "python",
   "pygments_lexer": "ipython3",
   "version": "3.12.10"
  }
 },
 "nbformat": 4,
 "nbformat_minor": 5
}
