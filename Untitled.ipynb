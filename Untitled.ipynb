{
 "cells": [
  {
   "cell_type": "markdown",
   "id": "809dfe43",
   "metadata": {},
   "source": [
    "| Parameters | |\n",
    "|-|-|\n",
    "|x| set of features |\n",
    "|x'| features changed to achieve a positive classification |\n",
    "|θ| weights of a model |\n",
    "|ℓ| loss |\n",
    "|c| cost |\n",
    "|α| alpha |"
   ]
  },
  {
   "cell_type": "code",
   "execution_count": 12,
   "id": "5a48fbe2",
   "metadata": {},
   "outputs": [
    {
     "data": {
      "application/vnd.jupyter.widget-view+json": {
       "model_id": "33dba0ec30e14942b294cf7c9f8bf51b",
       "version_major": 2,
       "version_minor": 0
      },
      "text/plain": [
       "interactive(children=(FloatSlider(value=1.0, description='θ', max=5.0, min=-5.0), Output()), _dom_classes=('wi…"
      ]
     },
     "metadata": {},
     "output_type": "display_data"
    },
    {
     "name": "stderr",
     "output_type": "stream",
     "text": [
      "C:\\Users\\joelj\\AppData\\Local\\Temp\\ipykernel_21636\\3894698572.py:21: RuntimeWarning: invalid value encountered in log\n",
      "  y = -np.log(x)\n"
     ]
    },
    {
     "data": {
      "text/plain": [
       "[<matplotlib.lines.Line2D at 0x1ef0256f320>]"
      ]
     },
     "execution_count": 12,
     "metadata": {},
     "output_type": "execute_result"
    },
    {
     "data": {
      "image/png": "[encoded data removed]",
      "text/plain": [
       "<Figure size 640x480 with 1 Axes>"
      ]
     },
     "metadata": {},
     "output_type": "display_data"
    }
   ],
   "source": [
    "import numpy as np\n",
    "import matplotlib.pyplot as plt\n",
    "import ipywidgets as widgets\n",
    "from ipywidgets import interact\n",
    "\n",
    "def plot_logistic_function(θ):\n",
    "    x = np.linspace(-10, 10, 400)\n",
    "    y = 1 / (1 + np.exp(-θ * x))  # 'a' will scale the curve\n",
    "    plt.plot(x, y, label=f'y = 1 / (1 + e^(-{θ} * x))')\n",
    "    plt.title(f'Sigmoid')\n",
    "    plt.xlabel('x')\n",
    "    plt.ylabel('y')\n",
    "    plt.grid(True)\n",
    "    plt.legend()\n",
    "    plt.show()\n",
    "\n",
    "# Create an interactive slider\n",
    "interact(plot_logistic_function, θ=widgets.FloatSlider(value=1.0, min=-5.0, max=5.0, step=0.1))\n",
    "\n",
    "x = np.linspace(-10, 10, 400)\n",
    "y = -np.log(x) \n",
    "plt.plot(x, y, label=f'y = 1 / (1 + e^(x))')\n",
    "\n"
   ]
  },
  {
   "cell_type": "markdown",
   "id": "eaa863ba",
   "metadata": {},
   "source": [
    "$$\n",
    "\\lim_{x \\to -\\infty} -\\log(x) = \\infty\n",
    "$$\n",
    "\n",
    "The max of $-\\log(x)$ is when $x$ is as small as possible.\n",
    "\n",
    "Therefore, \n",
    "$$\n",
    "\\theta = \\frac{1}{1 + e^{-x'\\theta'}}\n",
    "$$\n",
    "\n",
    "Therefore, if $x$ is positive, $\\theta$ would be negative, and if $x$ is negative, $\\theta$ would be positive.\n"
   ]
  }
 ],
 "metadata": {
  "kernelspec": {
   "display_name": "Python 3",
   "language": "python",
   "name": "python3"
  },
  "language_info": {
   "codemirror_mode": {
    "name": "ipython",
    "version": 3
   },
   "file_extension": ".py",
   "mimetype": "text/x-python",
   "name": "python",
   "nbconvert_exporter": "python",
   "pygments_lexer": "ipython3",
   "version": "3.12.10"
  }
 },
 "nbformat": 4,
 "nbformat_minor": 5
}
