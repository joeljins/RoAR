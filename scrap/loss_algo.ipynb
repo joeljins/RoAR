{
 "cells": [
  {
   "cell_type": "markdown",
   "id": "b01b5298",
   "metadata": {},
   "source": [
    "L1 Loss\n",
    "\n",
    "$ℓ(x,y) = \\sum\\{l_1, ... , l_N\\}, l_n = |x_n - y_n|$\n",
    "\n",
    "$$\n",
    "x =\n",
    "\\begin{bmatrix}\n",
    "0.9 & 0.7\n",
    "\\end{bmatrix} \\\\\n",
    "\\theta =\n",
    "\\begin{bmatrix}\n",
    "0.5 & 0.1\n",
    "\\end{bmatrix} \\\\\n",
    "\\alpha = 0.5 \\\\\n",
    "\\text{If } \\\\\n",
    "\\theta ' = \n",
    "\\begin{bmatrix}\n",
    "0.5 - 0.5 & 0.1 \\\\\n",
    "\\end{bmatrix} \\\\\n",
    "\\text{then} \\\\\n",
    "x\\theta ' = \n",
    "0.9(0) + 0.7(0.1) = 0.7 \\\\\n",
    "\\text{else if} \\\\\n",
    "\\theta ' = \n",
    "\\begin{bmatrix}\n",
    "0.5 & 0.1 - 0.5 \\\\\n",
    "\\end{bmatrix} \\\\\n",
    "\\text{then} \\\\\n",
    "x\\theta ' = \n",
    "0.9(0.5) + 0.7(-0.4) = 0.45 - 0.28 = 0.17 \\\\\n",
    "\n",
    "$$\n",
    "\n",
    "\n",
    "We want to minimixe $x\\theta$. Therefore, $L_1$ will find $x_i$, the lagest feature in $x$, and modify $\\theta _i$ in a way that minimizes it. This will minimize the dot product of $x\\theta$.\n",
    "\n"
   ]
  }
 ],
 "metadata": {
  "language_info": {
   "name": "python"
  }
 },
 "nbformat": 4,
 "nbformat_minor": 5
}
