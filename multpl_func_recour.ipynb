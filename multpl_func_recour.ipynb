{
 "cells": [
  {
   "cell_type": "markdown",
   "id": "bd09ad40",
   "metadata": {},
   "source": [
    "## Recourse with Multiple Functions ##\n",
    "\n",
    "**Problem**\n",
    "\n",
    "- $n$ academic institutions\n",
    "- admission decision functions $f_1, ... , f_n$, where each $f_i, i \\in [n]$ is a mapping $f_i : X \\rightarrow Y$ from the space of all applicants $X \\subset \\mathbb{R}^d$ to admission decisions $Y = [0,1]$ as labels\n",
    "- cost function $c : X \\times X \\rightarrow \\mathbb{R}^{\\geq d}$\n",
    "- For each admission function $f_i$ and applicant $x$, a suggestion to improve the admissive probability for $x$, or recourse, can be derived by\n",
    "$$\n",
    "x_r \\in \\text{arg min } ℓ(f_i(x), 1) + \\lambda c(x_0, x)\n",
    "$$\n",
    "- where $ℓ : Y \\times Y \\rightarrow \\mathbb{R}^{\\ge 0}$ is a loss function measuring the difference between post-recourse label $f_i(x_r)$ and 1.\n",
    "- $\\lambda \\ge 0$ is a constant balancing deviation from the desired label and the recourse cost\n",
    "\n",
    "**Question 1**\n",
    "\n",
    "Assume \n",
    "$\\lambda \\geq 0 $, $\\theta \\in \\mathbb{R}^d$, and $x_0 \\in \\mathbb{R}^d$ are given.\n",
    "\n",
    "Let\n",
    "$$\n",
    "f(x) = \\frac{1}{1 + e^{-\\theta x}} \\in [0,1],\n",
    "$$\n",
    "$$\n",
    "\\ell(f(x), 1) = |1 - f(x)| = 1 - f(x),\n",
    "$$\n",
    "$$\n",
    "\\text{c}(x_0, x) = \\|x_0 - x\\|_1.\n",
    "$$\n",
    "\n",
    "$d = 1$, so that $\\text{cost}(x_0, x) = |x_0 - x|$.\n",
    "\n",
    "To make $f$ closer to 1, we want to make $\\theta x$ larger.\n",
    "\n",
    "If $d = 1$ and $\\theta \\ge 0$, let $\\sigma = x - x_0$ for some $\\sigma \\ge 0$. \n",
    "\n",
    "When $d = 1$, there are two cases to consider:\n",
    "\n",
    "When $d = 1$:\n",
    "\n",
    "- $1 - \\frac{1}{1 + e^{-\\theta x}} + \\lambda (x - x_0)$ for $x \\ge x_0$\n",
    "    - \n",
    "- $1 - \\frac{1}{1 + e^{-\\theta x}} + \\lambda (x_0 - x)$ for $x < x_0$\n",
    "\n"
   ]
  }
 ],
 "metadata": {
  "language_info": {
   "name": "python"
  }
 },
 "nbformat": 4,
 "nbformat_minor": 5
}
