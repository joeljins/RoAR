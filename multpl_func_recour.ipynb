{
 "cells": [
  {
   "cell_type": "markdown",
   "id": "146fa66c",
   "metadata": {},
   "source": [
    "## Recourse with Multiple Functions ##\n",
    "\n",
    "**Problem**\n",
    "\n",
    "- $n$ academic institutions\n",
    "- admission decision functions $f_1, ... , f_n$, where each $f_i, i \\in [n]$ is a mapping $f_i : X \\rightarrow Y$ from the space of all applicants $X \\subset \\mathbb{R}^d$ to admission decisions $Y = [0,1]$ as labels\n",
    "- cost function $c : X \\times X \\rightarrow \\mathbb{R}^{\\geq d}$\n",
    "- For each admission function $f_i$ and applicant $x$, a suggestion to improve the admissive probability for $x$, or recourse, can be derived by\n",
    "$$\n",
    "x_r \\in \\text{arg min } ℓ(f_i(x), 1) + \\lambda c(x_0, x)\n",
    "$$\n",
    "- where $ℓ : Y \\times Y \\rightarrow \\mathbb{R}^{\\ge 0}$ is a loss function measuring the difference between post-recourse label $f_i(x_r)$ and 1.\n",
    "- $\\lambda \\ge 0$ is a constant balancing deviation from the desired label and the recourse cost\n",
    "\n",
    "**Question 1**\n",
    "\n",
    "Assume \n",
    "$\\lambda \\geq 0 $, $\\theta \\in \\mathbb{R}^d$, and $x_0 \\in \\mathbb{R}^d$ are given.\n",
    "\n",
    "Let\n",
    "$$\n",
    "f(x) = \\frac{1}{1 + e^{-\\theta x}} \\in [0,1],\n",
    "$$\n",
    "$$\n",
    "\\ell(f(x), 1) = |1 - f(x)| = 1 - f(x),\n",
    "$$\n",
    "$$\n",
    "\\text{c}(x_0, x) = \\|x_0 - x\\|_1.\n",
    "$$\n",
    "\n",
    "$d = 1$, so that $\\text{cost}(x_0, x) = |x_0 - x|$.\n",
    "\n",
    "To make $f$ closer to 1, we want to make $\\theta x$ larger.\n",
    "\n",
    "If $d = 1$ and $\\theta \\ge 0$, let $\\sigma = x - x_0$ for some $\\sigma \\ge 0$. \n",
    "\n",
    "When $d = 1$, there are two cases to consider:\n",
    "\n",
    "- $1 - \\frac{1}{1 + e^{-\\theta x}} + \\lambda (x - x_0)$ for $x \\ge x_0$\n",
    "    - if $x = x_0$, then: $1 - \\frac{1}{1 + e^{-\\theta x_0}}$\n",
    "    - if $\\theta \\ge 0$\n",
    "        - As $x \\rightarrow \\inf$, then $\\frac{1}{1 + e^{-\\theta x}} = 0$ and $1 - 0 + \\lambda (x - x_0)$\n",
    "        - if $x = x_0 + \\delta$, then: $\\frac{1}{1 + e^{-\\theta (x_0 + \\delta)}} + \\lambda \\delta$\n",
    "            - if $\\delta = 0$, then $\\frac{1}{1 + e^{-\\theta (x_0 + \\delta)}}$\n",
    "    - if $\\theta < 0$\n",
    "        - $x = x_0 + \\delta$, then $\\frac{1}{1 + e^{-\\theta (x_0 + \\delta)}} + \\lambda \\delta$\n",
    "            - Derived with respect to $\\delta$, $\\frac{e^{\\theta (x_0+\\delta)}}{(1+e^{\\theta (x_0+\\delta)})^2}$\n",
    "- $1 - \\frac{1}{1 + e^{-\\theta x}} + \\lambda (x_0 - x)$ for $x < x_0$\n",
    "\n"
   ]
  },
  {
   "cell_type": "markdown",
   "id": "913ac1aa",
   "metadata": {},
   "source": [
    "original formlation with one function\n",
    "closed form solition \n",
    "l squared loss f log regression c lp norm\n",
    "\n",
    "f with prob of getting at least one school\n",
    "\n",
    "probability\n"
   ]
  },
  {
   "cell_type": "code",
   "execution_count": null,
   "id": "48e6f76a",
   "metadata": {},
   "outputs": [
    {
     "data": {
      "application/vnd.jupyter.widget-view+json": {
       "model_id": "4dc739511d674da9913d0995fa2f31fe",
       "version_major": 2,
       "version_minor": 0
      },
      "text/plain": [
       "interactive(children=(FloatSlider(value=1.0, description='theta', max=5.0, min=0.1), FloatSlider(value=1.0, de…"
      ]
     },
     "metadata": {},
     "output_type": "display_data"
    },
    {
     "data": {
      "application/vnd.jupyter.widget-view+json": {
       "model_id": "cf39a0ee4b384fe7beb9faa5751ad3e9",
       "version_major": 2,
       "version_minor": 0
      },
      "text/plain": [
       "interactive(children=(FloatSlider(value=1.0, description='θ₁', max=5.0, min=-5.0), FloatSlider(value=1.0, desc…"
      ]
     },
     "metadata": {},
     "output_type": "display_data"
    }
   ],
   "source": [
    "import numpy as np\n",
    "import matplotlib.pyplot as plt\n",
    "from ipywidgets import interact, FloatSlider\n",
    "\n",
    "def plot_function(theta=1.0, l=1.0, x_0=0.0):\n",
    "    x = np.linspace(-10, 10, 500)\n",
    "    y = 1 - (1 / (1 + np.exp(-theta * x))) + l * np.abs(x_0 - x)\n",
    "    \n",
    "    plt.figure(figsize=(8, 4))\n",
    "    plt.plot(x, y, label=f'f(x) = 1 - sigmoid({theta}·x) + {l}·|x - {x_0}|')\n",
    "    plt.title('Interactive Plot')\n",
    "    plt.xlabel('x')\n",
    "    plt.ylabel('f(x)')\n",
    "    plt.grid(True)\n",
    "    plt.legend()\n",
    "    plt.ylim(-5, 15)\n",
    "    plt.show()\n",
    "\n",
    "# Sliders\n",
    "interact(plot_function,\n",
    "         theta=FloatSlider(min=0.1, max=5, step=0.1, value=1, description='theta'),\n",
    "         l=FloatSlider(min=0, max=2, step=0.1, value=1, description='l'),\n",
    "         x_0=FloatSlider(min=-10, max=10, step=0.1, value=0, description='x₀'));\n",
    "\n",
    "\n",
    "def plot_updated_function(theta1=1.0, theta2=1.0, x_z=0.0):\n",
    "    x = np.linspace(-10, 10, 500)\n",
    "    \n",
    "    sigmoid1 = 1 - 1 / (1 + np.exp(-theta1 * x))\n",
    "    sigmoid2 = 1 - 1 / (1 + np.exp(-theta2 * x))\n",
    "    \n",
    "    product = sigmoid1 * sigmoid2\n",
    "    l1_distance = np.abs(x_z - x)\n",
    "    \n",
    "    y = product + l1_distance\n",
    "\n",
    "    plt.figure(figsize=(8, 4))\n",
    "    plt.plot(x, y, label=r'$f(x) = (1 - \\frac{1}{1 + e^{-\\theta_1 x}})(1 - \\frac{1}{1 + e^{-\\theta_2 x}}) + |x_z - x|$')\n",
    "    plt.title('Interactive Plot of Updated Function')\n",
    "    plt.xlabel('x')\n",
    "    plt.ylabel('f(x)')\n",
    "    plt.grid(True)\n",
    "    plt.legend()\n",
    "    plt.ylim(0, 10)\n",
    "    plt.show()\n",
    "\n",
    "# Interactive sliders\n",
    "interact(plot_updated_function,\n",
    "         theta1=FloatSlider(min=-5, max=5, step=0.1, value=1.0, description='θ₁'),\n",
    "         theta2=FloatSlider(min=-5, max=5, step=0.1, value=1.0, description='θ₂'),\n",
    "         x_z=FloatSlider(min=-5, max=10, step=0.1, value=0.0, description='x_z'));\n"
   ]
  }
 ],
 "metadata": {
  "kernelspec": {
   "display_name": "Python 3",
   "language": "python",
   "name": "python3"
  },
  "language_info": {
   "codemirror_mode": {
    "name": "ipython",
    "version": 3
   },
   "file_extension": ".py",
   "mimetype": "text/x-python",
   "name": "python",
   "nbconvert_exporter": "python",
   "pygments_lexer": "ipython3",
   "version": "3.12.10"
  }
 },
 "nbformat": 4,
 "nbformat_minor": 5
}
