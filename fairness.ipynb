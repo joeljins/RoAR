{
 "cells": [
  {
   "cell_type": "markdown",
   "id": "b46650f7",
   "metadata": {},
   "source": [
    "Characterization of the Optimal Policy and the Optimal Fair Policy in the Single-Step Setting\n",
    "\n",
    "\"Proposition 1. Under Assumption 1, the optimal policy in\n",
    "the single-step setting is a group-agnostic threshold policy\n",
    "that selects all the individuals in category 1, i.e., individuals\n",
    "with score at least −U−/(U+ −U−).\"\n",
    "\n",
    "Definition 2. For any score x ∈ X, we say x is in one of\n",
    "the following categories:\n",
    "- We say x is in category 1, denoted as x ∈ C1, if\n",
    "E [∆(x)] ≥0 and E [u(x)] ≥0.\n",
    "- We say x is in category 3, denoted as x ∈ C3, if\n",
    "E [∆(x)] ≥0 and E [u(x)] < 0.\n",
    "- We say x is in category 4, denoted as x ∈ C4, if\n",
    "E [∆(x)] < 0 and E [u(x)] < 0. \\\n",
    "Note that by Assumption 2, we do not have category 2 with\n",
    "E [∆(x)] < 0 and E [u(x)] ≥0.\n",
    "\n",
    "Assumption 2. U+/U− > C+/C−. \\\n",
    "Assumption 2 implies that if E[u(x)] ≥0 then E[∆(x)] ≥\n",
    "0. The implications of this assumption become clear when\n",
    "we categorize the scores in Definition 2."
   ]
  },
  {
   "cell_type": "code",
   "execution_count": null,
   "id": "423e0ca0",
   "metadata": {},
   "outputs": [],
   "source": [
    "import numpy as np\n",
    "from scipy.stats import norm\n",
    "\n",
    "# p : X -> [0,1]\n",
    "# Sigmoid function is monotonic\n",
    "def p(x):\n",
    "    return 1 / (1 + np.exp(-x))\n",
    "\n",
    "\n",
    "def expected(x, plus, minus):\n",
    "    return p(x) * plus + (1-p(x)) * minus\n",
    "\n",
    "def opt_step(X, u_plus, u_minus):\n",
    "    return [x for x in X if expected(x, u_plus, u_minus) > 0]"
   ]
  },
  {
   "cell_type": "code",
   "execution_count": null,
   "id": "84eb1c91",
   "metadata": {},
   "outputs": [],
   "source": [
    "import numpy as np\n",
    "from scipy.stats import norm\n",
    "\n",
    "# p : X -> [0,1]\n",
    "# Sigmoid function is monotonic\n",
    "def p(x):\n",
    "    return 1 / (1 + np.exp(-x))\n",
    "\n",
    "\n",
    "def expected(x, plus, minus):\n",
    "    return p(x) * plus + (1-p(x)) * minus\n",
    "\n",
    "def fair_opt_step(A, B, u_plus, u_minus, c_plus, c_minus, alpha):\n",
    "    a_threshholds = np.sort(A)\n",
    "    b_threshholds = np.sort(B)\n",
    "    max_util = None\n",
    "    opt_a, opt_b = None, None\n",
    "\n",
    "    w_a = len(A) / (len(A) + len(B))\n",
    "    w_b = len(B) / (len(A) + len(B))\n",
    "\n",
    "    for i in a_threshholds:\n",
    "        a = [sample + expected(sample, c_plus, c_minus) if sample > i else sample for sample in A]\n",
    "        for j in b_threshholds:\n",
    "            b = [sample + expected(sample, c_plus, c_minus) if sample > j else sample for sample in B]\n",
    "            if (np.abs(np.mean(a) - np.mean(b))) < alpha:\n",
    "                util = w_a * expected(np.mean(a), u_plus, u_minus) + w_b * expected(np.mean(b), u_plus, u_minus)\n",
    "                max_util = max(max_util, util)\n",
    "                if max_util == util:\n",
    "                    opt_a, opt_b = i, j\n",
    "            else:\n",
    "                continue\n",
    "    return (opt_a, opt_b, max_util)\n",
    "\n",
    "\n"
   ]
  }
 ],
 "metadata": {
  "kernelspec": {
   "display_name": "Python 3",
   "language": "python",
   "name": "python3"
  },
  "language_info": {
   "codemirror_mode": {
    "name": "ipython",
    "version": 3
   },
   "file_extension": ".py",
   "mimetype": "text/x-python",
   "name": "python",
   "nbconvert_exporter": "python",
   "pygments_lexer": "ipython3",
   "version": "3.12.10"
  }
 },
 "nbformat": 4,
 "nbformat_minor": 5
}
