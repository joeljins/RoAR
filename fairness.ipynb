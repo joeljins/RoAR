{
 "cells": [
  {
   "cell_type": "markdown",
   "id": "61fc0a20",
   "metadata": {},
   "source": [
    "sinmulation for one step \n",
    "extend for multiple steps\n",
    "instead of distrbution, \n",
    "[x_1a, ..., XNa]\n",
    "b also\n",
    "p(x) = X\n",
    "monotone function\n",
    "c+, c-. u+, u-. a, b\n",
    "c = cost\n",
    "u = utility\n",
    "a = vector\n",
    "b = vector"
   ]
  },
  {
   "cell_type": "code",
   "execution_count": 4,
   "id": "84eb1c91",
   "metadata": {},
   "outputs": [
    {
     "name": "stdout",
     "output_type": "stream",
     "text": [
      "9\n"
     ]
    }
   ],
   "source": [
    "import numpy as np\n",
    "\n",
    "c_plus = 9\n",
    "print(c_plus)"
   ]
  }
 ],
 "metadata": {
  "kernelspec": {
   "display_name": "Python 3",
   "language": "python",
   "name": "python3"
  },
  "language_info": {
   "codemirror_mode": {
    "name": "ipython",
    "version": 3
   },
   "file_extension": ".py",
   "mimetype": "text/x-python",
   "name": "python",
   "nbconvert_exporter": "python",
   "pygments_lexer": "ipython3",
   "version": "3.11.0"
  }
 },
 "nbformat": 4,
 "nbformat_minor": 5
}
