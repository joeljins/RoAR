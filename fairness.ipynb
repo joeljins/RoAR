{
 "cells": [
  {
   "cell_type": "markdown",
   "id": "61fc0a20",
   "metadata": {},
   "source": [
    "sinmulation for one step \n",
    "extend for multiple steps\n",
    "instead of distrbution, \n",
    "[x_1a, ..., XNa]\n",
    "b also\n",
    "p(x) = X\n",
    "monotone function\n",
    "c+, c-. u+, u-. a, b\n",
    "c = cost\n",
    "u = utility\n",
    "a = vector\n",
    "b = vector"
   ]
  },
  {
   "cell_type": "code",
   "execution_count": null,
   "id": "84eb1c91",
   "metadata": {},
   "outputs": [
    {
     "ename": "TypeError",
     "evalue": "cannot unpack non-iterable int object",
     "output_type": "error",
     "traceback": [
      "\u001b[31m---------------------------------------------------------------------------\u001b[39m",
      "\u001b[31mTypeError\u001b[39m                                 Traceback (most recent call last)",
      "\u001b[36mCell\u001b[39m\u001b[36m \u001b[39m\u001b[32mIn[9]\u001b[39m\u001b[32m, line 3\u001b[39m\n\u001b[32m      1\u001b[39m \u001b[38;5;28;01mimport\u001b[39;00m\u001b[38;5;250m \u001b[39m\u001b[34;01mnumpy\u001b[39;00m\u001b[38;5;250m \u001b[39m\u001b[38;5;28;01mas\u001b[39;00m\u001b[38;5;250m \u001b[39m\u001b[34;01mnp\u001b[39;00m\n\u001b[32m----> \u001b[39m\u001b[32m3\u001b[39m c_minus, u_minus = np.random.randint(-\u001b[32m20\u001b[39m, -\u001b[32m10\u001b[39m)\n\u001b[32m      4\u001b[39m c_plus, u_plus = np.random.randint(\u001b[32m1\u001b[39m, \u001b[32m10\u001b[39m)\n\u001b[32m      5\u001b[39m A = np.array(np.random.randint(\u001b[32m1\u001b[39m, \u001b[32m10\u001b[39m), dtype=np.float64)\n",
      "\u001b[31mTypeError\u001b[39m: cannot unpack non-iterable int object"
     ]
    }
   ],
   "source": [
    "import numpy as np\n",
    "\n",
    "def p(x):\n",
    "    return 1 / (1 + np.exp(-x))\n",
    "\n",
    "def select_positive_utility_features(A, B):\n",
    "    # Generate utility and cost coefficients\n",
    "    c_minus, u_minus = np.random.randint(-20, -10), np.random.randint(-20, -10)\n",
    "    c_plus, u_plus = np.random.randint(1, 10), np.random.randint(1, 10)\n",
    "\n",
    "    A, B = np.array(A, dtype=np.float64), np.array(B, dtype=np.float64)\n",
    "\n",
    "    # Compute expected utility\n",
    "    A_util = u_plus * p(A) + u_minus * (1 - p(A))\n",
    "    B_util = u_plus * p(B) + u_minus * (1 - p(B))\n",
    "\n",
    "    # Select features with positive utility\n",
    "    A_positive = A[A_util > 0]\n",
    "    B_positive = B[B_util > 0]\n",
    "\n",
    "    # Combine and compute means of selected features\n",
    "    positive_means = np.concatenate([A_positive, B_positive])\n",
    "    \n",
    "    return positive_means\n",
    "\n",
    "# Example usage:\n",
    "A = np.random.randint(1, 10, size=5)\n",
    "B = np.random.randint(1, 10, size=5)\n",
    "\n",
    "selected_features = select_positive_utility_features(A, B)\n",
    "print(\"Features with positive utility:\", selected_features)\n",
    "\n"
   ]
  }
 ],
 "metadata": {
  "kernelspec": {
   "display_name": "Python 3",
   "language": "python",
   "name": "python3"
  },
  "language_info": {
   "codemirror_mode": {
    "name": "ipython",
    "version": 3
   },
   "file_extension": ".py",
   "mimetype": "text/x-python",
   "name": "python",
   "nbconvert_exporter": "python",
   "pygments_lexer": "ipython3",
   "version": "3.11.0"
  }
 },
 "nbformat": 4,
 "nbformat_minor": 5
}
