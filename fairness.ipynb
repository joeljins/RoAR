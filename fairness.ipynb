{
 "cells": [
  {
   "cell_type": "markdown",
   "id": "61fc0a20",
   "metadata": {},
   "source": [
    "sinmulation for one step \n",
    "extend for multiple steps\n",
    "instead of distrbution, \n",
    "[x_1a, ..., XNa]\n",
    "b also\n",
    "p(x) = X\n",
    "monotone function\n",
    "c+, c-. u+, u-. a, b\n",
    "c = cost\n",
    "u = utility\n",
    "a = vector\n",
    "b = vector"
   ]
  },
  {
   "cell_type": "markdown",
   "id": "86c01691",
   "metadata": {},
   "source": [
    "| Concept            | Meaning                                                            |\n",
    "| ------------------ | ------------------------------------------------------------------ |\n",
    "| $x \\in X$          | Individual score (e.g., credit score)                              |\n",
    "| $g \\in \\{A,B\\}$    | Group membership (e.g., demographic group)                         |\n",
    "| $D_g(x)$           | Score distribution for group $g$                                   |\n",
    "| $w_g$              | Fraction of population in group $g$                                |\n",
    "| $\\pi_g(x)$         | Probability of selecting an individual in group $g$ with score $x$ |\n",
    "| $p(x)$             | Probability individual with score $x$ succeeds                     |\n",
    "| $U_+, U_-$         | Profit on success / cost on failure                                |\n",
    "| $\\mathbb{E}[u(x)]$ | Expected utility for selecting score $x$                           |\n",
    "| $\\mathrm{OPT}(I)$  | Maximize total expected utility over all policies                  |\n",
    "\n",
    "$\\mathrm{OPT}(I) := \\max_{\\pi} \\mathbb{E} \\left[ \\sum_{g \\in \\{A,B\\}} w_g \\sum_{x \\in X} \\pi_g(x) D_g(x) u(x) \\right] \n",
    "= \\max_{\\pi} \\sum_{g \\in \\{A,B\\}} w_g \\sum_{x \\in X} \\pi_g(x) D_g(x) \\mathbb{E}[u(x)]$\n"
   ]
  },
  {
   "cell_type": "markdown",
   "id": "b46650f7",
   "metadata": {},
   "source": [
    "Characterization of the Optimal Policy and the Optimal Fair Policy in the Single-Step Setting\n",
    "\n",
    "\"Proposition 1. Under Assumption 1, the optimal policy in\n",
    "the single-step setting is a group-agnostic threshold policy\n",
    "that selects all the individuals in category 1, i.e., individuals\n",
    "with score at least −U−/(U+ −U−).\"\n",
    "\n",
    "Definition 2. For any score x ∈ X, we say x is in one of\n",
    "the following categories:\n",
    "- We say x is in category 1, denoted as x ∈ C1, if\n",
    "E [∆(x)] ≥0 and E [u(x)] ≥0.\n",
    "- We say x is in category 3, denoted as x ∈ C3, if\n",
    "E [∆(x)] ≥0 and E [u(x)] < 0.\n",
    "- We say x is in category 4, denoted as x ∈ C4, if\n",
    "E [∆(x)] < 0 and E [u(x)] < 0. \\\n",
    "Note that by Assumption 2, we do not have category 2 with\n",
    "E [∆(x)] < 0 and E [u(x)] ≥0.\n",
    "\n",
    "Assumption 2. U+/U− > C+/C−. \\\n",
    "Assumption 2 implies that if E[u(x)] ≥0 then E[∆(x)] ≥\n",
    "0. The implications of this assumption become clear when\n",
    "we categorize the scores in Definition 2."
   ]
  },
  {
   "cell_type": "code",
   "execution_count": null,
   "id": "84eb1c91",
   "metadata": {},
   "outputs": [
    {
     "ename": "ModuleNotFoundError",
     "evalue": "No module named 'scipy'",
     "output_type": "error",
     "traceback": [
      "\u001b[31m---------------------------------------------------------------------------\u001b[39m",
      "\u001b[31mModuleNotFoundError\u001b[39m                       Traceback (most recent call last)",
      "\u001b[36mCell\u001b[39m\u001b[36m \u001b[39m\u001b[32mIn[2]\u001b[39m\u001b[32m, line 2\u001b[39m\n\u001b[32m      1\u001b[39m \u001b[38;5;28;01mimport\u001b[39;00m\u001b[38;5;250m \u001b[39m\u001b[34;01mnumpy\u001b[39;00m\u001b[38;5;250m \u001b[39m\u001b[38;5;28;01mas\u001b[39;00m\u001b[38;5;250m \u001b[39m\u001b[34;01mnp\u001b[39;00m\n\u001b[32m----> \u001b[39m\u001b[32m2\u001b[39m \u001b[38;5;28;01mfrom\u001b[39;00m\u001b[38;5;250m \u001b[39m\u001b[34;01mscipy\u001b[39;00m\u001b[34;01m.\u001b[39;00m\u001b[34;01mstats\u001b[39;00m\u001b[38;5;250m \u001b[39m\u001b[38;5;28;01mimport\u001b[39;00m norm\n\u001b[32m      4\u001b[39m \u001b[38;5;66;03m# p : X -> [0,1]\u001b[39;00m\n\u001b[32m      5\u001b[39m \u001b[38;5;66;03m# Sigmoid function is monotonic\u001b[39;00m\n\u001b[32m      6\u001b[39m \u001b[38;5;28;01mdef\u001b[39;00m\u001b[38;5;250m \u001b[39m\u001b[34mp\u001b[39m(x):\n",
      "\u001b[31mModuleNotFoundError\u001b[39m: No module named 'scipy'"
     ]
    }
   ],
   "source": [
    "import numpy as np\n",
    "from scipy.stats import norm\n",
    "\n",
    "# p : X -> [0,1]\n",
    "# Sigmoid function is monotonic\n",
    "def p(x):\n",
    "    return 1 / (1 + np.exp(-x))\n",
    "\n",
    "def threshold(X, x_s):\n",
    "    return [x for x in X if x >= x_s]\n",
    "\n",
    "\n",
    "def expected(x, plus, minus):\n",
    "    return p(x) * plus + (1-p(x)) * minus\n",
    "\n",
    "def opt_step(X, u_plus, u_minus):\n",
    "    positive = []\n",
    "    for x in X:\n",
    "        if expected(x, u_plus, u_minus) > 0:\n",
    "            positive.append(x)\n",
    "    return positive\n",
    "\n",
    "def fair_opt_step(A, B, u_plus, u_minus, alpha):\n",
    "    a_threshholds = np.sort(A)\n",
    "    b_threshholds = np.sort(B)\n",
    "    max_util = 0\n",
    "    best_a, best_b = None, None\n",
    "\n",
    "    a_pop = len(A) / (len(A) + len(B))\n",
    "    b_pop = len(B) / (len(A) + len(B))\n",
    "\n",
    "    for i in a_threshholds:\n",
    "        a = threshold(A, i)\n",
    "        for j in b_threshholds:\n",
    "            b = threshold(B, j)\n",
    "            if (np.abs(np.mean(a) - np.mean(b))) < alpha:\n",
    "                util = a_pop * expected(np.mean(a), u_plus, u_minus) + b_pop * expected(np.mean(b), u_plus, u_minus)\n",
    "                max_util = max(max_util, util)\n",
    "                if max_util == util:\n",
    "                    best_a, best_b = a, b\n",
    "            else:\n",
    "                \n",
    "                continue\n",
    "    return (best_a, best_b, max_util)\n",
    "\n",
    "\n"
   ]
  },
  {
   "cell_type": "code",
   "execution_count": null,
   "id": "d75fa22e",
   "metadata": {},
   "outputs": [],
   "source": []
  }
 ],
 "metadata": {
  "kernelspec": {
   "display_name": "Python 3",
   "language": "python",
   "name": "python3"
  },
  "language_info": {
   "codemirror_mode": {
    "name": "ipython",
    "version": 3
   },
   "file_extension": ".py",
   "mimetype": "text/x-python",
   "name": "python",
   "nbconvert_exporter": "python",
   "pygments_lexer": "ipython3",
   "version": "3.11.0"
  }
 },
 "nbformat": 4,
 "nbformat_minor": 5
}
