{
 "cells": [
  {
   "cell_type": "markdown",
   "id": "61fc0a20",
   "metadata": {},
   "source": [
    "sinmulation for one step \n",
    "extend for multiple steps\n",
    "instead of distrbution, \n",
    "[x_1a, ..., XNa]\n",
    "b also\n",
    "p(x) = X\n",
    "monotone function\n",
    "c+, c-. u+, u-. a, b\n",
    "c = cost\n",
    "u = utility\n",
    "a = vector\n",
    "b = vector"
   ]
  },
  {
   "cell_type": "markdown",
   "id": "86c01691",
   "metadata": {},
   "source": [
    "| Concept            | Meaning                                                            |\n",
    "| ------------------ | ------------------------------------------------------------------ |\n",
    "| $x \\in X$          | Individual score (e.g., credit score)                              |\n",
    "| $g \\in \\{A,B\\}$    | Group membership (e.g., demographic group)                         |\n",
    "| $D_g(x)$           | Score distribution for group $g$                                   |\n",
    "| $w_g$              | Fraction of population in group $g$                                |\n",
    "| $\\pi_g(x)$         | Probability of selecting an individual in group $g$ with score $x$ |\n",
    "| $p(x)$             | Probability individual with score $x$ succeeds                     |\n",
    "| $U_+, U_-$         | Profit on success / cost on failure                                |\n",
    "| $\\mathbb{E}[u(x)]$ | Expected utility for selecting score $x$                           |\n",
    "| $\\mathrm{OPT}(I)$  | Maximize total expected utility over all policies                  |\n",
    "\n",
    "$\\mathrm{OPT}(I) := \\max_{\\pi} \\mathbb{E} \\left[ \\sum_{g \\in \\{A,B\\}} w_g \\sum_{x \\in X} \\pi_g(x) D_g(x) u(x) \\right] \n",
    "= \\max_{\\pi} \\sum_{g \\in \\{A,B\\}} w_g \\sum_{x \\in X} \\pi_g(x) D_g(x) \\mathbb{E}[u(x)]$\n"
   ]
  },
  {
   "cell_type": "code",
   "execution_count": 1,
   "id": "84eb1c91",
   "metadata": {},
   "outputs": [],
   "source": [
    "import numpy as np\n",
    "from scipy.stats import norm\n",
    "\n",
    "# p : X -> [0,1]\n",
    "# Sigmoid function is monotonic\n",
    "def p(x):\n",
    "    return 1 / (1 + np.exp(-x))\n",
    "\n",
    "def threshold(x, x_s, w):\n",
    "    if x == x_s:\n",
    "        return w \n",
    "    elif x < x_s:\n",
    "        return 0\n",
    "    else:\n",
    "        return 1\n",
    "\n",
    "def utility(x, u_plus, u_minus):\n",
    "    return p(x) * u_plus + (1-p(x)) * u_minus\n",
    "\n",
    "def opt_sing_step(X, u_plus, u_minus):\n",
    "    positive = []\n",
    "    for x in X:\n",
    "        if utility(x, u_plus, u_minus) > 0:\n",
    "            positive.append(x)\n",
    "    return positive\n",
    "\n"
   ]
  }
 ],
 "metadata": {
  "kernelspec": {
   "display_name": "Python 3",
   "language": "python",
   "name": "python3"
  },
  "language_info": {
   "codemirror_mode": {
    "name": "ipython",
    "version": 3
   },
   "file_extension": ".py",
   "mimetype": "text/x-python",
   "name": "python",
   "nbconvert_exporter": "python",
   "pygments_lexer": "ipython3",
   "version": "3.12.10"
  }
 },
 "nbformat": 4,
 "nbformat_minor": 5
}
