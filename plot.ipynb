{
 "cells": [
  {
   "cell_type": "code",
   "execution_count": 13,
   "id": "47b20b37",
   "metadata": {},
   "outputs": [
    {
     "data": {
      "application/vnd.jupyter.widget-view+json": {
       "model_id": "f61485ed20ae45469912675ecd135fab",
       "version_major": 2,
       "version_minor": 0
      },
      "text/plain": [
       "interactive(children=(FloatSlider(value=0.0, description='x₀', max=20.0, min=-20.0), FloatSlider(value=1.0, de…"
      ]
     },
     "metadata": {},
     "output_type": "display_data"
    },
    {
     "data": {
      "application/vnd.jupyter.widget-view+json": {
       "model_id": "076922e51bc944faad0e9c914f876300",
       "version_major": 2,
       "version_minor": 0
      },
      "text/plain": [
       "interactive(children=(FloatSlider(value=0.0, description='$x_z$', max=10.0, min=-20.0), FloatSlider(value=1.0,…"
      ]
     },
     "metadata": {},
     "output_type": "display_data"
    },
    {
     "data": {
      "text/plain": [
       "<function __main__.plot_f(x_z=0.0, theta_1=1.0, theta_2=1.0, lamb=0.5)>"
      ]
     },
     "execution_count": 13,
     "metadata": {},
     "output_type": "execute_result"
    }
   ],
   "source": [
    "import numpy as np\n",
    "import matplotlib.pyplot as plt\n",
    "from ipywidgets import interact, FloatSlider\n",
    "\n",
    "def g(x, x_0, theta, lamb):\n",
    "    return 1 - (1 / (1 + np.exp(-theta * x))) + lamb * np.abs(x_0 - x)\n",
    "\n",
    "x = np.linspace(-100, 100, 500)\n",
    "\n",
    "def plot_g(x_0=0.0, theta=1.0, lamb=0.5):\n",
    "    y = g(x, x_0, theta, lamb)\n",
    "    plt.figure(figsize=(8, 4))\n",
    "    plt.plot(x, y, lw=2)\n",
    "    plt.title(\"g(x, x₀, θ, λ)\")\n",
    "    plt.xlabel(\"x\")\n",
    "    plt.ylabel(\"g(x)\")\n",
    "    plt.grid(True)\n",
    "    plt.show()\n",
    "\n",
    "interact(\n",
    "    plot_g,\n",
    "    x_0=FloatSlider(min=-20, max=20, step=0.1, value=0.0, description='x₀'),\n",
    "    theta=FloatSlider(min=-20, max=20, step=0.1, value=1.0, description='θ'),\n",
    "    lamb=FloatSlider(min=-0, max=10, step=0.1, value=0.5, description='λ')\n",
    ")\n",
    "\n",
    "def f(x, x_z, theta_1, theta_2, lamb):\n",
    "    term1 = 1 - 1/(1 + np.exp(-theta_1 * x))\n",
    "    term2 = 1 - 1/(1 + np.exp(-theta_2 * x))\n",
    "    return term1 * term2 + lamb * np.abs(x_z - x)\n",
    "\n",
    "x = np.linspace(-100, 100, 500)\n",
    "\n",
    "def plot_f(x_z=0.0, theta_1=1.0, theta_2=1.0, lamb=0.5):\n",
    "    y = f(x, x_z, theta_1, theta_2, lamb)\n",
    "    plt.figure(figsize=(8, 4))\n",
    "    plt.plot(x, y, lw=2)\n",
    "    plt.title(r\"$f(x, x_z, \\theta _1, \\theta _2, \\lambda)$\")\n",
    "    plt.xlabel(\"x\")\n",
    "    plt.ylabel(\"f(x)\")\n",
    "    plt.grid(True)\n",
    "    plt.show()\n",
    "\n",
    "interact(\n",
    "    plot_f,\n",
    "    x_z=FloatSlider(min=-20, max=10, step=0.1, value=0.0, description=r'$x_z$'),\n",
    "    theta_1=FloatSlider(min=-20, max=10, step=0.1, value=1.0, description=r'$\\theta_1$'),\n",
    "    theta_2=FloatSlider(min=-20, max=10, step=0.1, value=1.0, description=r'$\\theta_2$'),\n",
    "    lamb=FloatSlider(min=0, max=2, step=0.1, value=0.5, description=r'$\\lambda$')\n",
    ")\n"
   ]
  },
  {
   "cell_type": "code",
   "execution_count": null,
   "id": "0d883d63",
   "metadata": {},
   "outputs": [
    {
     "data": {
      "application/vnd.jupyter.widget-view+json": {
       "model_id": "99213162a9644c6da87e4650d1264d1e",
       "version_major": 2,
       "version_minor": 0
      },
      "text/plain": [
       "VBox(children=(FloatSlider(value=0.0, description='x₀', max=10.0, min=-10.0, step=0.01), FloatSlider(value=1.0…"
      ]
     },
     "metadata": {},
     "output_type": "display_data"
    }
   ],
   "source": [
    "import numpy as np\n",
    "import matplotlib.pyplot as plt\n",
    "from ipywidgets import FloatSlider, Button, HBox, VBox, Output\n",
    "import IPython.display as display\n",
    "\n",
    "# Your function\n",
    "def g(x, x_0, theta, lamb):\n",
    "    return 1 - (1 / (1 + np.exp(-theta * x))) + lamb * np.abs(x_0 - x)\n",
    "\n",
    "# Define domain x\n",
    "x = np.linspace(-10, 10, 500)\n",
    "\n",
    "# Loss function: sum of g over x (arbitrary choice)\n",
    "def loss(x_0, theta, lamb):\n",
    "    return np.sum(g(x, x_0, theta, lamb))\n",
    "\n",
    "# Numerical gradient of loss w.r.t. x_0 using finite differences\n",
    "def grad_loss_x0(x_0, theta, lamb, eps=1e-5):\n",
    "    return (loss(x_0 + eps, theta, lamb) - loss(x_0 - eps, theta, lamb)) / (2 * eps)\n",
    "\n",
    "# Initial parameter values\n",
    "x0_init = 0.0\n",
    "theta_init = 1.0\n",
    "lamb_init = 0.5\n",
    "\n",
    "# Widgets\n",
    "x0_slider = FloatSlider(min=-10, max=10, step=0.01, value=x0_init, description=\"x₀\")\n",
    "theta_slider = FloatSlider(min=-5, max=5, step=0.1, value=theta_init, description=\"θ\")\n",
    "lamb_slider = FloatSlider(min=-2, max=2, step=0.1, value=lamb_init, description=\"λ\")\n",
    "\n",
    "step_button = Button(description=\"Run 1 GD Step\")\n",
    "reset_button = Button(description=\"Reset\")\n",
    "out = Output()\n",
    "\n",
    "# Variable to keep track of current x_0 during gradient descent\n",
    "current_x0 = x0_init\n",
    "\n",
    "def plot(x_0, theta, lamb):\n",
    "    y = g(x, x_0, theta, lamb)\n",
    "    plt.figure(figsize=(8, 4))\n",
    "    plt.plot(x, y, label='g(x, x₀, θ, λ)')\n",
    "    plt.axvline(x=x_0, color='red', linestyle='--', label=f\"x₀ = {x_0:.3f}\")\n",
    "    plt.title(\"Function g(x, x₀, θ, λ) with current x₀\")\n",
    "    plt.xlabel(\"x\")\n",
    "    plt.ylabel(\"g(x)\")\n",
    "    plt.legend()\n",
    "    plt.grid(True)\n",
    "    plt.show()\n",
    "\n",
    "def on_step_clicked(b):\n",
    "    global current_x0\n",
    "    lr = 0.1  # fixed learning rate for demo; you can add a slider if you want\n",
    "    theta = theta_slider.value\n",
    "    lamb = lamb_slider.value\n",
    "    \n",
    "    grad = grad_loss_x0(current_x0, theta, lamb)\n",
    "    current_x0 = current_x0 - lr * grad\n",
    "    # Update slider and plot\n",
    "    x0_slider.value = current_x0\n",
    "    \n",
    "    with out:\n",
    "        out.clear_output(wait=True)\n",
    "        plot(current_x0, theta, lamb)\n",
    "\n",
    "def on_reset_clicked(b):\n",
    "    global current_x0\n",
    "    current_x0 = x0_slider.value\n",
    "    with out:\n",
    "        out.clear_output(wait=True)\n",
    "        plot(current_x0, theta_slider.value, lamb_slider.value)\n",
    "\n",
    "# Connect button clicks to handlers\n",
    "step_button.on_click(on_step_clicked)\n",
    "reset_button.on_click(on_reset_clicked)\n",
    "\n",
    "# When sliders change (except x0, which is updated by GD), update plot\n",
    "def on_param_change(change):\n",
    "    if change['name'] == 'value':\n",
    "        with out:\n",
    "            out.clear_output(wait=True)\n",
    "            plot(current_x0, theta_slider.value, lamb_slider.value)\n",
    "\n",
    "theta_slider.observe(on_param_change)\n",
    "lamb_slider.observe(on_param_change)\n",
    "\n",
    "# Initial plot\n",
    "with out:\n",
    "    plot(current_x0, theta_slider.value, lamb_slider.value)\n",
    "\n",
    "# Layout\n",
    "ui = VBox([x0_slider, theta_slider, lamb_slider, HBox([step_button, reset_button]), out])\n",
    "display.display(ui)\n"
   ]
  }
 ],
 "metadata": {
  "kernelspec": {
   "display_name": "Python 3",
   "language": "python",
   "name": "python3"
  },
  "language_info": {
   "codemirror_mode": {
    "name": "ipython",
    "version": 3
   },
   "file_extension": ".py",
   "mimetype": "text/x-python",
   "name": "python",
   "nbconvert_exporter": "python",
   "pygments_lexer": "ipython3",
   "version": "3.11.0"
  }
 },
 "nbformat": 4,
 "nbformat_minor": 5
}
