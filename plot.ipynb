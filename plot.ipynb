{
 "cells": [
  {
   "cell_type": "code",
   "execution_count": 1,
   "id": "47b20b37",
   "metadata": {},
   "outputs": [
    {
     "data": {
      "application/vnd.jupyter.widget-view+json": {
       "model_id": "f2ba18b5cdf040f1bb0a6c2931efdbb3",
       "version_major": 2,
       "version_minor": 0
      },
      "text/plain": [
       "interactive(children=(FloatSlider(value=0.0, description='x₀', max=20.0, min=-20.0), FloatSlider(value=1.0, de…"
      ]
     },
     "metadata": {},
     "output_type": "display_data"
    },
    {
     "data": {
      "text/plain": [
       "<function __main__.plot_f(x_0=0.0, theta=1.0, l=0.5)>"
      ]
     },
     "execution_count": 1,
     "metadata": {},
     "output_type": "execute_result"
    }
   ],
   "source": [
    "import numpy as np\n",
    "import matplotlib.pyplot as plt\n",
    "from ipywidgets import interact, FloatSlider\n",
    "\n",
    "def f(x, x_0, theta, l ):\n",
    "    return 1 - (1 / (1 + np.exp(-theta * x))) +  l * np.abs(x_0 - x)\n",
    "\n",
    "x = np.linspace(-100, 100, 500)\n",
    "\n",
    "def plot_f(x_0=0.0, theta=1.0, l=0.5):\n",
    "    y = f(x, x_0, theta, l)\n",
    "    plt.figure(figsize=(8, 4))\n",
    "    plt.plot(x, y, lw=2, label=f'f(x) = 1 - sigmoid({theta:.2f}x) + {l}|x - {x_0}|')\n",
    "    plt.title(\"f(x, x₀, θ, λ)\")\n",
    "    plt.xlabel(\"x\")\n",
    "    plt.ylabel(\"f(x)\")\n",
    "    plt.grid(True)\n",
    "    plt.legend()\n",
    "    plt.show()\n",
    "\n",
    "\n",
    "interact(\n",
    "    plot_f,\n",
    "    x_0=FloatSlider(min=-20, max=20, step=0.1, value=0.0, description='x₀'),\n",
    "    theta=FloatSlider(min=-7, max=7, step=0.1, value=1.0, description='θ'),\n",
    "    l=FloatSlider(min=0, max=10, step=0.1, value=0.5, description='λ') \n",
    "    \n",
    ")\n"
   ]
  },
  {
   "cell_type": "code",
   "execution_count": null,
   "id": "372a4598",
   "metadata": {},
   "outputs": [
    {
     "data": {
      "application/vnd.jupyter.widget-view+json": {
       "model_id": "9d6ad90ead55402db9ee8ac27be3f4c4",
       "version_major": 2,
       "version_minor": 0
      },
      "text/plain": [
       "interactive(children=(FloatSlider(value=0.0, description='x₀', max=10.0, min=-20.0), FloatSlider(value=1.0, de…"
      ]
     },
     "metadata": {},
     "output_type": "display_data"
    },
    {
     "data": {
      "text/plain": [
       "<function __main__.plot_f(x_0=0.0, theta_1=1.0, theta_2=1.0, l=0.5)>"
      ]
     },
     "execution_count": 2,
     "metadata": {},
     "output_type": "execute_result"
    }
   ],
   "source": [
    "import numpy as np\n",
    "import matplotlib.pyplot as plt\n",
    "from ipywidgets import interact, FloatSlider\n",
    "\n",
    "def f(x, x_0, theta_1, theta_2, lamb):\n",
    "    term1 = 1 - 1/(1 + np.exp(-theta_1 * x))\n",
    "    term2 = 1 - 1/(1 + np.exp(-theta_2 * x))\n",
    "    return term1 * term2 + lamb * np.abs(x_0 - x)\n",
    "\n",
    "\n",
    "x = np.linspace(-100, 100, 500)\n",
    "\n",
    "def plot_f(x_0=0.0, theta_1=1.0, theta_2=1.0, l=0.5):\n",
    "    y = f(x, x_0, theta_1, theta_2, l)\n",
    "    plt.figure(figsize=(8, 4))\n",
    "    plt.plot(\n",
    "        x, y, lw=2,\n",
    "        label=rf'$f(x) = (1 - \\sigma({theta_1:.2f}x))(1 - \\sigma({theta_2:.2f}x)) + {l:.2f}|x - {x_0:.2f}|$'\n",
    "    )\n",
    "    plt.title(r\"$f(x, x_0, \\theta_1, \\theta_2, \\lambda)$\")\n",
    "    plt.xlabel(\"x\")\n",
    "    plt.ylabel(\"f(x)\")\n",
    "    plt.grid(True)\n",
    "    plt.legend()\n",
    "    plt.show()\n",
    "\n",
    "interact(\n",
    "    plot_f,\n",
    "    x_0=FloatSlider(min=-20, max=10, step=0.1, value=0.0, description='x₀'),\n",
    "    theta_1=FloatSlider(min=-7, max=7, step=0.1, value=1.0, description='θ₁'),\n",
    "    theta_2=FloatSlider(min=-7, max=7, step=0.1, value=1.0, description='θ₂'),\n",
    "    l=FloatSlider(min=0, max=2, step=0.1, value=0.5, description='λ')\n",
    ")"
   ]
  },
  {
   "cell_type": "code",
   "execution_count": 4,
   "id": "0d883d63",
   "metadata": {},
   "outputs": [
    {
     "data": {
      "application/vnd.jupyter.widget-view+json": {
       "model_id": "cd12e76a90924420bc5fca3bb8604504",
       "version_major": 2,
       "version_minor": 0
      },
      "text/plain": [
       "interactive(children=(FloatSlider(value=0.0, description='Initial x', max=10.0, min=-10.0), FloatSlider(value=…"
      ]
     },
     "metadata": {},
     "output_type": "display_data"
    },
    {
     "data": {
      "text/plain": [
       "<function __main__.plot_gradient_descent(x=0.0, x_0=1.0, theta=1.0, l=1.0, learning_rate=0.1, steps=20)>"
      ]
     },
     "execution_count": 4,
     "metadata": {},
     "output_type": "execute_result"
    }
   ],
   "source": [
    "import numpy as np\n",
    "import matplotlib.pyplot as plt\n",
    "from ipywidgets import interact, FloatSlider, IntSlider\n",
    "\n",
    "# Function and its gradient\n",
    "def f(x, x_0, theta, l):\n",
    "    return 1 - (1 / (1 + np.exp(-theta * x))) + l * np.abs(x_0 - x)\n",
    "\n",
    "def sigmoid(x):\n",
    "    return 1 / (1 + np.exp(-x))\n",
    "\n",
    "def grad_f(x, x_0, theta, l):\n",
    "    sig = sigmoid(theta * x)\n",
    "    grad_sigmoid = -theta * sig * (1 - sig)\n",
    "    grad_abs = l * np.sign(x - x_0)\n",
    "    return grad_sigmoid + grad_abs\n",
    "\n",
    "# Plotting function with sliders\n",
    "def plot_gradient_descent(x=0.0, x_0=1.0, theta=1.0, l=1.0, learning_rate=0.1, steps=20):\n",
    "    x_vals = []\n",
    "    for _ in range(steps):\n",
    "        x_vals.append(x)\n",
    "        x = x - learning_rate * grad_f(x, x_0, theta, l)\n",
    "\n",
    "    x_range = np.linspace(-10, 10, 400)\n",
    "    y_range = f(x_range, x_0, theta, l)\n",
    "\n",
    "    plt.figure(figsize=(10, 6))\n",
    "    plt.plot(x_range, y_range, label=r\"$f(x) = 1 - \\sigma(\\theta x) + \\lambda |x - x_0|$\", color='blue')\n",
    "    plt.scatter(x_vals, [f(xi, x_0, theta, l) for xi in x_vals], color='red', zorder=5)\n",
    "    plt.title(\"Gradient Descent on Custom Function\")\n",
    "    plt.xlabel(\"x\")\n",
    "    plt.ylabel(\"f(x)\")\n",
    "    plt.grid(True)\n",
    "\n",
    "    # Arrows showing steps\n",
    "    for i in range(len(x_vals)-1):\n",
    "        plt.annotate(\"\",\n",
    "                     xy=(x_vals[i+1], f(x_vals[i+1], x_0, theta, l)),\n",
    "                     xytext=(x_vals[i], f(x_vals[i], x_0, theta, l)),\n",
    "                     arrowprops=dict(arrowstyle='->', color='green', lw=1.5))\n",
    "\n",
    "    plt.legend()\n",
    "    plt.show()\n",
    "\n",
    "# Create interactive sliders\n",
    "interact(\n",
    "    plot_gradient_descent,\n",
    "    x=FloatSlider(min=-10, max=10, step=0.1, value=0.0, description=\"Initial x\"),\n",
    "    x_0=FloatSlider(min=-10, max=10, step=0.1, value=1.0, description=\"x₀\"),\n",
    "    theta=FloatSlider(min=-10, max=10, step=0.1, value=1.0, description=\"θ\"),\n",
    "    l=FloatSlider(min=0, max=10, step=0.1, value=1.0, description=\"λ\"),\n",
    "    learning_rate=FloatSlider(min=0.01, max=1.0, step=0.01, value=0.1, description=\"α (lr)\"),\n",
    "    steps=IntSlider(min=1, max=50, step=1, value=20, description=\"Steps\")\n",
    ")\n",
    "\n"
   ]
  }
 ],
 "metadata": {
  "kernelspec": {
   "display_name": "Python 3",
   "language": "python",
   "name": "python3"
  },
  "language_info": {
   "codemirror_mode": {
    "name": "ipython",
    "version": 3
   },
   "file_extension": ".py",
   "mimetype": "text/x-python",
   "name": "python",
   "nbconvert_exporter": "python",
   "pygments_lexer": "ipython3",
   "version": "3.12.10"
  }
 },
 "nbformat": 4,
 "nbformat_minor": 5
}
