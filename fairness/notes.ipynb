{
 "cells": [
  {
   "cell_type": "markdown",
   "id": "e4835a87",
   "metadata": {},
   "source": [
    "# Meeting Recaps\n",
    "\n",
    "### 7/3\n",
    "Make sure correct parameters of u+, u-, c+, c- are being chosen\n",
    "\n",
    "Approach:\n",
    "Fix alpha value\n",
    "Fix Fair Threshold B\n",
    "Track utility of A vs Threshold of A\n",
    "\n",
    "### 7/8\n",
    "Fix threshold of B\n",
    "X = threshold of A\n",
    "Y  = mean(A) - mean(B)\n",
    "\n"
   ]
  }
 ],
 "metadata": {
  "language_info": {
   "name": "python"
  }
 },
 "nbformat": 4,
 "nbformat_minor": 5
}
