{
 "cells": [
  {
   "cell_type": "markdown",
   "id": "e4835a87",
   "metadata": {},
   "source": [
    "# Meeting Recaps\n",
    "\n",
    "### 7/3\n",
    "Make sure correct parameters of u+, u-, c+, c- are being chosen\n",
    "\n",
    "Approach:\n",
    "Fix alpha value\n",
    "Fix Fair Threshold B\n",
    "Track utility of A vs Threshold of A\n",
    "\n",
    "### 7/8\n",
    "Fix threshold of B\n",
    "X = threshold of A\n",
    "Y  = mean(A) - mean(B)\n",
    "\n",
    "### 7/10\n",
    "categorize regions on the graph by what category they could belong to based on the paper\n",
    "plot price of fairness as a function of alpha\n",
    "\n",
    "\n"
   ]
  }
 ],
 "metadata": {
  "kernelspec": {
   "display_name": "Python 3",
   "language": "python",
   "name": "python3"
  },
  "language_info": {
   "codemirror_mode": {
    "name": "ipython",
    "version": 3
   },
   "file_extension": ".py",
   "mimetype": "text/x-python",
   "name": "python",
   "nbconvert_exporter": "python",
   "pygments_lexer": "ipython3",
   "version": "3.12.10"
  }
 },
 "nbformat": 4,
 "nbformat_minor": 5
}
