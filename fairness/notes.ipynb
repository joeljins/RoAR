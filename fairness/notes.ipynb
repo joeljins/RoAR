{
 "cells": [
  {
   "cell_type": "markdown",
   "id": "e4835a87",
   "metadata": {},
   "source": [
    "# Meeting Recaps\n",
    "\n",
    "### 7/3/2025\n",
    "Make sure correct parameters of u+, u-, c+, c- are being chosen\n",
    "\n",
    "Approach:\n",
    "Fix alpha = 0.545\n",
    "Fix Fair Threshold B\n",
    "Track utility of A and Threshold of A\n",
    "\n"
   ]
  },
  {
   "cell_type": "markdown",
   "id": "673e6f2c",
   "metadata": {},
   "source": [
    "Fair Threshold of B doesn't change\n"
   ]
  }
 ],
 "metadata": {
  "language_info": {
   "name": "python"
  }
 },
 "nbformat": 4,
 "nbformat_minor": 5
}
