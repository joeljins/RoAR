{
 "cells": [
  {
   "cell_type": "code",
   "execution_count": 1,
   "id": "6b4ebf27",
   "metadata": {},
   "outputs": [],
   "source": [
    "from tqdm import tqdm\n",
    "import numpy as np\n",
    "from scipy.stats import norm\n",
    "import matplotlib.pyplot as plt\n",
    "from scipy.stats import gaussian_kde\n",
    "import itertools\n",
    "import ipywidgets as widgets\n",
    "from IPython.display import display"
   ]
  },
  {
   "cell_type": "code",
   "execution_count": 7,
   "id": "a14b291e",
   "metadata": {},
   "outputs": [],
   "source": [
    "np.random.seed(1)\n",
    "\n",
    "# Distribution parameters\n",
    "mean_a, std_a = 0.5, 1\n",
    "mean_b, std_b = 0.0, 1\n",
    "\n",
    "# Domain of alpha values to test\n",
    "# Testing num values of (alpha_min - alpha_max) / num\n",
    "alpha_min, alpha_max = 0.1, 1\n",
    "alphas = np.linspace(alpha_min, alpha_max, num=100)\n",
    "\n",
    "# Sample size of each distribution\n",
    "sample_size = 150\n",
    "\n",
    "# Generate samples from normal distributions\n",
    "np.random.seed(1)\n",
    "a = np.random.normal(mean_a, std_a, sample_size)\n",
    "b = np.random.normal(mean_b, std_b, sample_size)\n",
    "\n",
    "#Step Parameters\n",
    "# U+ / U- > C+ / C-\n",
    "u_plus = 1\n",
    "u_minus = -1.1\n",
    "c_plus = 1\n",
    "c_minus = -c_plus\n",
    "range = (-3, 3)\n",
    "interval = 0.1"
   ]
  },
  {
   "cell_type": "code",
   "execution_count": 8,
   "id": "941359c3",
   "metadata": {},
   "outputs": [
    {
     "name": "stderr",
     "output_type": "stream",
     "text": [
      "100%|██████████| 100/100 [00:01<00:00, 54.31it/s]\n"
     ]
    }
   ],
   "source": [
    "from utils import opt_threshold, alt_fair_opt_step\n",
    "\n",
    "# Store results\n",
    "x = []\n",
    "fair_mean_A = []\n",
    "fair_mean_B = []\n",
    "fair_threshold_A = []\n",
    "fair_threshold_B = []\n",
    "total_util = []\n",
    "\n",
    "\n",
    "y6 = opt_threshold((-3, 3), u_plus=1, u_minus=-1)\n",
    "\n",
    "# Run fair optimization over a range of alpha values\n",
    "for alpha in tqdm(alphas):\n",
    "    results = alt_fair_opt_step(a, b, u_plus, u_minus, c_plus, c_minus, alpha, range, interval)\n",
    "    if results[0] is not None and results[1] is not None:\n",
    "        A, B, thresh_A, thresh_B, max_util = results\n",
    "        x.append(alpha)\n",
    "        \n",
    "        fair_mean_A.append(np.mean(A))\n",
    "        fair_mean_B.append(np.mean(B))\n",
    "        fair_threshold_A.append(thresh_A)\n",
    "        fair_threshold_B.append(thresh_B)\n",
    "        total_util.append(max_util)  # Scale utility for better visualization"
   ]
  },
  {
   "cell_type": "code",
   "execution_count": 9,
   "id": "0149f2a2",
   "metadata": {},
   "outputs": [
    {
     "data": {
      "application/vnd.jupyter.widget-view+json": {
       "model_id": "b70e9967f5f843b28486acda7f6eabce",
       "version_major": 2,
       "version_minor": 0
      },
      "text/plain": [
       "HBox(children=(Checkbox(value=True, description='Show Means'), Checkbox(value=True, description='Show Fair Thr…"
      ]
     },
     "metadata": {},
     "output_type": "display_data"
    },
    {
     "data": {
      "application/vnd.jupyter.widget-view+json": {
       "model_id": "6ef5dddb44204b3789f1c5b472ed962a",
       "version_major": 2,
       "version_minor": 0
      },
      "text/plain": [
       "Output()"
      ]
     },
     "metadata": {},
     "output_type": "display_data"
    }
   ],
   "source": [
    "def plot_fairness(show_means=True, show_fair_thresholds=True, show_opt_thresholds=True, show_utility=True):\n",
    "    plt.figure(figsize=(10, 6))\n",
    "\n",
    "    if show_means:\n",
    "        plt.plot(0, mean_a, 'ro', label='Initial μ(A)')\n",
    "        plt.plot(0, mean_b, 'bo', label='Initial μ(B)')\n",
    "        plt.plot(x, fair_mean_A, label=\"Fair μ(A)'\", color='red')\n",
    "        plt.plot(x, fair_mean_B, label=\"Fair μ(B)'\", color='blue') \n",
    "\n",
    "    if show_fair_thresholds:\n",
    "        plt.scatter(x, fair_threshold_A, label=\"Fair Threshold (A)\", color='orange')\n",
    "        plt.scatter(x, fair_threshold_B, label=\"Fair Threshold (B)\", color='purple')\n",
    "    \n",
    "    if show_opt_thresholds:\n",
    "        plt.axhline(y6, color='purple', linestyle='--', label='Optimal Threshold')\n",
    "\n",
    "    if show_utility:\n",
    "        plt.plot(x, total_util, label='Total Utility', color='green')\n",
    "\n",
    "    plt.title(\"Fair vs. Optimal Means under Varying Fairness Constraint α\")\n",
    "    plt.xlabel(\"α (Fairness Threshold)\")\n",
    "    plt.ylabel(\"Metric Value\")\n",
    "    plt.legend()\n",
    "    plt.grid(True)\n",
    "    plt.tight_layout()\n",
    "    plt.show()\n",
    "\n",
    "# Toggle widgets\n",
    "means_toggle = widgets.Checkbox(value=True, description='Show Means')\n",
    "fair_thresholds_toggle = widgets.Checkbox(value=True, description='Show Fair Thresholds')\n",
    "opt_thresholds_toggle = widgets.Checkbox(value=True, description='Show Optimal Threshold')\n",
    "utility_toggle = widgets.Checkbox(value=True, description='Show Utility')\n",
    "\n",
    "ui = widgets.HBox([means_toggle, fair_thresholds_toggle, opt_thresholds_toggle, utility_toggle])\n",
    "out = widgets.interactive_output(plot_fairness, {\n",
    "    'show_means': means_toggle,\n",
    "    'show_fair_thresholds': fair_thresholds_toggle,\n",
    "    'show_opt_thresholds': opt_thresholds_toggle,\n",
    "    'show_utility': utility_toggle,\n",
    "})\n",
    "\n",
    "display(ui, out)"
   ]
  },
  {
   "cell_type": "code",
   "execution_count": 8,
   "id": "0afcd570",
   "metadata": {
    "tags": [
     "hi"
    ]
   },
   "outputs": [
    {
     "name": "stdout",
     "output_type": "stream",
     "text": [
      "-4.440892098500626e-16\n",
      "73.69532793297168\n",
      "73.69532793297168\n"
     ]
    }
   ],
   "source": [
    "print(y6)\n",
    "results = alt_fair_opt_step(pop_A=a, pop_B=b, u_plus=1, u_minus=-1, c_plus=1, c_minus=-1, alpha=0.5, range_param=(-3, 3), size=0.01)\n",
    "from utils import alt_fair_step\n",
    "l = alt_fair_step(a, b, 1, -1, 1, -1, 0.5, (-3, 3), 0.01)\n",
    "\n",
    "print(np.sum(results[0] + results[1]))\n",
    "print(np.sum(l[0] + l[1]))\n"
   ]
  },
  {
   "cell_type": "code",
   "execution_count": 10,
   "id": "7e0a6d73",
   "metadata": {},
   "outputs": [
    {
     "name": "stdout",
     "output_type": "stream",
     "text": [
      "-6.394884621840902e-14\n"
     ]
    },
    {
     "data": {
      "text/plain": [
       "[<matplotlib.lines.Line2D at 0x160e9a6f530>]"
      ]
     },
     "execution_count": 10,
     "metadata": {},
     "output_type": "execute_result"
    },
    {
     "data": {
      "image/png": "[encoded data removed]",
      "text/plain": [
       "<Figure size 640x480 with 1 Axes>"
      ]
     },
     "metadata": {},
     "output_type": "display_data"
    }
   ],
   "source": [
    "from utils import opt_step, alt_fair_opt_step, expected\n",
    "\n",
    "# Store results\n",
    "thresholds = np.arange(-3, 3, 0.01)\n",
    "x = []\n",
    "\n",
    "\n",
    "max_util = -np.inf\n",
    "for i in thresholds:\n",
    "    B = np.where(b > i, b + expected(b, c_plus, c_minus), b)\n",
    "    util = np.sum(expected(B, u_plus, u_minus))\n",
    "    if  util > max_util:\n",
    "        max_util = util\n",
    "        fair = i\n",
    "print(fair)\n",
    "total_util = []\n",
    "\n",
    "delta_A = expected(a, c_plus, c_minus)\n",
    "delta_B = expected(b, c_plus, c_minus)\n",
    "B = np.where(b > fair, b + delta_B, b)\n",
    "util_B = np.sum(expected(B, u_plus, u_minus))\n",
    "\n",
    "for threshold in thresholds:\n",
    "    alpha = 0.5\n",
    "    A = np.where(a > threshold, a + delta_A, a)\n",
    "    if np.abs(np.mean(A) - np.mean(B)) < alpha:\n",
    "        continue\n",
    "    utility = np.sum(expected(A, u_plus, u_minus)) + util_B\n",
    "    total_util.append(utility)\n",
    "    x.append(threshold)\n",
    "\n",
    "plt.plot(x, total_util, label='Total Utility', color='green')\n"
   ]
  }
 ],
 "metadata": {
  "kernelspec": {
   "display_name": "Python 3",
   "language": "python",
   "name": "python3"
  },
  "language_info": {
   "codemirror_mode": {
    "name": "ipython",
    "version": 3
   },
   "file_extension": ".py",
   "mimetype": "text/x-python",
   "name": "python",
   "nbconvert_exporter": "python",
   "pygments_lexer": "ipython3",
   "version": "3.12.10"
  }
 },
 "nbformat": 4,
 "nbformat_minor": 5
}
