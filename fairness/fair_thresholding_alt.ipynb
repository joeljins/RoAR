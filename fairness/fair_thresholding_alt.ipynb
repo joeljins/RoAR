{
 "cells": [
  {
   "cell_type": "code",
   "execution_count": 1,
   "id": "6b4ebf27",
   "metadata": {},
   "outputs": [],
   "source": [
    "from tqdm import tqdm\n",
    "import numpy as np\n",
    "from scipy.stats import norm\n",
    "import matplotlib.pyplot as plt\n",
    "from scipy.stats import gaussian_kde\n",
    "import itertools\n",
    "import ipywidgets as widgets\n",
    "from IPython.display import display"
   ]
  },
  {
   "cell_type": "code",
   "execution_count": 12,
   "id": "a14b291e",
   "metadata": {},
   "outputs": [],
   "source": [
    "np.random.seed(1)\n",
    "\n",
    "# Distribution parameters\n",
    "mean_a, std_a = 0.5, 1\n",
    "mean_b, std_b = 0, 1\n",
    "\n",
    "# Domain of alpha values to test\n",
    "# Testing num values of (alpha_min - alpha_max) / num\n",
    "alpha_min, alpha_max = 0.4, 0.7\n",
    "alphas = np.linspace(alpha_min, alpha_max, num=100)\n",
    "\n",
    "# Sample size of each distribution\n",
    "sample_size = 75\n",
    "\n",
    "# Generate samples from normal distributions\n",
    "np.random.seed(1)\n",
    "a = np.random.normal(mean_a, std_a, sample_size)\n",
    "b = np.random.normal(mean_b, std_b, sample_size)"
   ]
  },
  {
   "cell_type": "code",
   "execution_count": 13,
   "id": "941359c3",
   "metadata": {},
   "outputs": [
    {
     "name": "stderr",
     "output_type": "stream",
     "text": [
      "100%|██████████| 100/100 [03:12<00:00,  1.93s/it]\n"
     ]
    }
   ],
   "source": [
    "from utils import opt_threshold, alt_fair_opt_step\n",
    "\n",
    "# Store results\n",
    "x = []\n",
    "fair_mean_A = []\n",
    "fair_mean_B = []\n",
    "fair_threshold_A = []\n",
    "fair_threshold_B = []\n",
    "total_util = []\n",
    "\n",
    "\n",
    "y6 = opt_threshold((-3, 3), u_plus=1, u_minus=-1)\n",
    "\n",
    "# Run fair optimization over a range of alpha values\n",
    "for alpha in tqdm(alphas):\n",
    "    results = alt_fair_opt_step(pop_A=a, pop_B=b, u_plus=1, u_minus=-1, c_plus=1, c_minus=-1, alpha=alpha, range_param=(-3, 3), size=0.01)\n",
    "    if results[0] is not None and results[1] is not None:\n",
    "        A, B, thresh_A, thresh_B, max_util = results\n",
    "        x.append(alpha)\n",
    "        \n",
    "        fair_mean_A.append(np.mean(A))\n",
    "        fair_mean_B.append(np.mean(B))\n",
    "        fair_threshold_A.append(thresh_A)\n",
    "        fair_threshold_B.append(thresh_B)\n",
    "        total_util.append(max_util * 0.1)  # Scale utility for better visualization"
   ]
  },
  {
   "cell_type": "code",
   "execution_count": 14,
   "id": "0149f2a2",
   "metadata": {},
   "outputs": [
    {
     "data": {
      "application/vnd.jupyter.widget-view+json": {
       "model_id": "79decef852ec436f8a85e1612ca231b3",
       "version_major": 2,
       "version_minor": 0
      },
      "text/plain": [
       "HBox(children=(Checkbox(value=True, description='Show Means'), Checkbox(value=True, description='Show Threshol…"
      ]
     },
     "metadata": {},
     "output_type": "display_data"
    },
    {
     "data": {
      "application/vnd.jupyter.widget-view+json": {
       "model_id": "9528147380a449caab3653d6d0c53979",
       "version_major": 2,
       "version_minor": 0
      },
      "text/plain": [
       "Output()"
      ]
     },
     "metadata": {},
     "output_type": "display_data"
    }
   ],
   "source": [
    "def plot_fairness(show_means=True, show_thresholds=True, show_utility=True):\n",
    "    plt.figure(figsize=(10, 6))\n",
    "\n",
    "    if show_means:\n",
    "        plt.plot(0, mean_a, 'ro', label='Initial μ(A)')\n",
    "        plt.plot(0, mean_b, 'bo', label='Initial μ(B)')\n",
    "        plt.plot(x, fair_mean_A, label=\"Fair μ(A)'\", color='red')\n",
    "        plt.plot(x, fair_mean_B, label=\"Fair μ(B)'\", color='blue') \n",
    "\n",
    "    if show_thresholds:\n",
    "        plt.plot(x, fair_threshold_A, label=\"Fair Threshold (A)\", color='orange')\n",
    "        plt.plot(x, fair_threshold_B, label=\"Fair Threshold (B)\", color='purple')\n",
    "        plt.axhline(y6, color='purple', linestyle='--', label='Optimal Threshold')\n",
    "\n",
    "    if show_utility:\n",
    "        plt.plot(x, total_util, label='Total Utility', color='green')\n",
    "\n",
    "    plt.title(\"Fair vs. Optimal Means under Varying Fairness Constraint α\")\n",
    "    plt.xlabel(\"α (Fairness Threshold)\")\n",
    "    plt.ylabel(\"Metric Value\")\n",
    "    plt.legend()\n",
    "    plt.grid(True)\n",
    "    plt.tight_layout()\n",
    "    plt.show()\n",
    "\n",
    "# Toggle widgets\n",
    "means_toggle = widgets.Checkbox(value=True, description='Show Means')\n",
    "thresholds_toggle = widgets.Checkbox(value=True, description='Show Thresholds')\n",
    "utility_toggle = widgets.Checkbox(value=True, description='Show Utility')\n",
    "\n",
    "ui = widgets.HBox([means_toggle, thresholds_toggle, utility_toggle])\n",
    "out = widgets.interactive_output(plot_fairness, {\n",
    "    'show_means': means_toggle,\n",
    "    'show_thresholds': thresholds_toggle,\n",
    "    'show_utility': utility_toggle\n",
    "})\n",
    "\n",
    "display(ui, out)"
   ]
  },
  {
   "cell_type": "code",
   "execution_count": 17,
   "id": "0afcd570",
   "metadata": {},
   "outputs": [
    {
     "name": "stdout",
     "output_type": "stream",
     "text": [
      "-4.440892098500626e-16\n",
      "[ True  True  True  True  True  True  True  True  True  True  True  True\n",
      "  True  True  True  True  True  True  True  True  True  True  True  True\n",
      "  True  True  True  True  True  True  True  True  True  True  True  True\n",
      "  True  True  True  True  True  True  True  True  True  True  True  True\n",
      "  True  True  True  True  True  True  True  True  True  True  True  True\n",
      "  True  True  True  True  True  True  True  True  True  True  True  True\n",
      "  True  True  True]\n",
      "[ True  True  True  True  True  True  True  True  True  True  True  True\n",
      "  True  True  True  True  True  True  True  True  True  True  True  True\n",
      "  True  True  True  True  True  True  True  True  True  True  True  True\n",
      "  True  True  True  True  True  True  True  True  True  True  True  True\n",
      "  True  True  True  True  True  True  True  True  True  True  True  True\n",
      "  True  True  True  True  True  True  True  True  True  True  True  True\n",
      "  True  True  True]\n"
     ]
    }
   ],
   "source": [
    "print(y6)\n",
    "results = alt_fair_opt_step(pop_A=a, pop_B=b, u_plus=1, u_minus=-1, c_plus=1, c_minus=-1, alpha=0.5, range_param=(-3, 3), size=0.1)\n",
    "from utils import alt_fair_step\n",
    "l = alt_fair_step(a, b, 1, -1, 1, -1,0.5, (-3, 3), 0.1)\n",
    "\n",
    "print(results[0] == l[0])\n",
    "print(results[1] == l[1])"
   ]
  }
 ],
 "metadata": {
  "kernelspec": {
   "display_name": "Python 3",
   "language": "python",
   "name": "python3"
  },
  "language_info": {
   "codemirror_mode": {
    "name": "ipython",
    "version": 3
   },
   "file_extension": ".py",
   "mimetype": "text/x-python",
   "name": "python",
   "nbconvert_exporter": "python",
   "pygments_lexer": "ipython3",
   "version": "3.12.10"
  }
 },
 "nbformat": 4,
 "nbformat_minor": 5
}
