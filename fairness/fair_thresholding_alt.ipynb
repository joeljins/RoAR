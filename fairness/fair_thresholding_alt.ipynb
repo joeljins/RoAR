{
 "cells": [
  {
   "cell_type": "code",
   "execution_count": 123,
   "id": "6b4ebf27",
   "metadata": {},
   "outputs": [],
   "source": [
    "from tqdm import tqdm\n",
    "import numpy as np\n",
    "from scipy.stats import norm\n",
    "import matplotlib.pyplot as plt\n",
    "from scipy.stats import gaussian_kde\n",
    "import itertools\n",
    "import ipywidgets as widgets\n",
    "from IPython.display import display"
   ]
  },
  {
   "cell_type": "code",
   "execution_count": 124,
   "id": "a14b291e",
   "metadata": {},
   "outputs": [],
   "source": [
    "np.random.seed(1)\n",
    "\n",
    "# Distribution parameters\n",
    "mean_a, std_a = 0.5, 1\n",
    "mean_b, std_b = 0.0, 1\n",
    "\n",
    "# Domain of alpha values to test\n",
    "# Testing num values of (alpha_min - alpha_max) / num\n",
    "alpha_min, alpha_max = 0, 1\n",
    "alphas = np.linspace(alpha_min, alpha_max, num=101)\n",
    "\n",
    "# Sample size of each distribution\n",
    "sample_size = 75\n",
    "\n",
    "# Generate samples from normal distributions\n",
    "a = np.random.normal(mean_a, std_a, sample_size)\n",
    "b = np.random.normal(mean_b, std_b, sample_size)\n",
    "\n",
    "#Step Parameters\n",
    "# U+ / U- > C+ / C-\n",
    "u_plus = 1\n",
    "u_minus = -1.1\n",
    "c_plus = 1\n",
    "c_minus = -c_plus\n",
    "range = (-3, 3)\n",
    "interval = 0.1\n",
    "\n",
    "# 5:38 for interval = 0.01"
   ]
  },
  {
   "cell_type": "code",
   "execution_count": null,
   "id": "941359c3",
   "metadata": {},
   "outputs": [
    {
     "name": "stderr",
     "output_type": "stream",
     "text": [
      "100%|██████████| 101/101 [00:03<00:00, 27.56it/s]\n"
     ]
    }
   ],
   "source": [
    "from utils import opt_threshold, alt_fair_opt_step\n",
    "\n",
    "# Store results\n",
    "x1 = []\n",
    "fair_mean_A = []\n",
    "fair_mean_B = []\n",
    "fair_threshold_A = []\n",
    "fair_threshold_B = []\n",
    "total_util = []\n",
    "\n",
    "\n",
    "y6 = opt_threshold((-3, 3), u_plus=1, u_minus=-1.1)\n",
    "\n",
    "# Run fair optimization over a range of alpha values\n",
    "for alpha in tqdm(alphas):\n",
    "    results = alt_fair_opt_step(a, b, u_plus, u_minus, c_plus, c_minus, alpha, range, interval)\n",
    "    if results[0] is not None and results[1] is not None:\n",
    "        A, B, thresh_A, thresh_B, max_util = results\n",
    "        x1.append(alpha)\n",
    "        \n",
    "        fair_mean_A.append(np.mean(A))\n",
    "        fair_mean_B.append(np.mean(B))\n",
    "        fair_threshold_A.append(thresh_A)\n",
    "        fair_threshold_B.append(thresh_B)\n",
    "        total_util.append(max_util)"
   ]
  },
  {
   "cell_type": "code",
   "execution_count": null,
   "id": "0149f2a2",
   "metadata": {},
   "outputs": [
    {
     "data": {
      "application/vnd.jupyter.widget-view+json": {
       "model_id": "a0be7a6acd7c44aaa89743649ee5c50e",
       "version_major": 2,
       "version_minor": 0
      },
      "text/plain": [
       "HBox(children=(Checkbox(value=False, description='Show Means'), Checkbox(value=True, description='Show Fair Th…"
      ]
     },
     "metadata": {},
     "output_type": "display_data"
    },
    {
     "data": {
      "application/vnd.jupyter.widget-view+json": {
       "model_id": "b3542813dead40228a64def96a90e255",
       "version_major": 2,
       "version_minor": 0
      },
      "text/plain": [
       "Output()"
      ]
     },
     "metadata": {},
     "output_type": "display_data"
    }
   ],
   "source": [
    "def plot_fairness(show_means=True, show_fair_thresholds=True, show_opt_thresholds=True, show_utility=True):\n",
    "    plt.figure(figsize=(10, 6))\n",
    "\n",
    "    if show_means:\n",
    "        plt.plot(0, mean_a, 'ro', label='Initial μ(A)')\n",
    "        plt.plot(0, mean_b, 'bo', label='Initial μ(B)')\n",
    "        plt.plot(x1, fair_mean_A, label=\"Fair μ(A)'\", color='red')\n",
    "        plt.plot(x1, fair_mean_B, label=\"Fair μ(B)'\", color='blue') \n",
    "\n",
    "    if show_fair_thresholds:\n",
    "        plt.scatter(x1, fair_threshold_A, label=\"Fair Threshold (A)\", color='orange')\n",
    "        plt.plot(x1, fair_threshold_B, label=\"Fair Threshold (B)\", color='purple')\n",
    "    \n",
    "    if show_opt_thresholds:\n",
    "        plt.axhline(y6, color='purple', linestyle='--', label='Optimal Threshold')\n",
    "\n",
    "    if show_utility:\n",
    "        plt.plot(x1, total_util, label='Total Utility', color='green')\n",
    "\n",
    "    plt.title(\"Fair vs. Optimal Means under Varying Fairness Constraint α\")\n",
    "    plt.xlabel(\"α (Fairness Threshold)\")\n",
    "    plt.ylabel(\"Metric Value\")\n",
    "    plt.legend()\n",
    "    plt.grid(True)\n",
    "    plt.tight_layout()\n",
    "    plt.show()\n",
    "\n",
    "# Toggle widgets\n",
    "means_toggle = widgets.Checkbox(value=False, description='Show Means')\n",
    "fair_thresholds_toggle = widgets.Checkbox(value=True, description='Show Fair Thresholds')\n",
    "opt_thresholds_toggle = widgets.Checkbox(value=False, description='Show Optimal Threshold')\n",
    "utility_toggle = widgets.Checkbox(value=False, description='Show Utility')\n",
    "\n",
    "ui = widgets.HBox([means_toggle, fair_thresholds_toggle, opt_thresholds_toggle, utility_toggle])\n",
    "out = widgets.interactive_output(plot_fairness, {\n",
    "    'show_means': means_toggle,\n",
    "    'show_fair_thresholds': fair_thresholds_toggle,\n",
    "    'show_opt_thresholds': opt_thresholds_toggle,\n",
    "    'show_utility': utility_toggle,\n",
    "})\n",
    "\n",
    "display(ui, out)"
   ]
  },
  {
   "cell_type": "code",
   "execution_count": 132,
   "id": "0afcd570",
   "metadata": {},
   "outputs": [
    {
     "name": "stdout",
     "output_type": "stream",
     "text": [
      "[0.   0.01 0.02 0.03 0.04 0.05 0.06 0.07 0.08 0.09 0.1  0.11 0.12 0.13\n",
      " 0.14 0.15 0.16 0.17 0.18 0.19 0.2  0.21 0.22 0.23 0.24 0.25 0.26 0.27\n",
      " 0.28 0.29 0.3  0.31 0.32 0.33 0.34 0.35 0.36 0.37 0.38 0.39 0.4  0.41\n",
      " 0.42 0.43 0.44 0.45 0.46 0.47 0.48 0.49 0.5  0.51 0.52 0.53 0.54 0.55\n",
      " 0.56 0.57 0.58 0.59 0.6  0.61 0.62 0.63 0.64 0.65 0.66 0.67 0.68 0.69\n",
      " 0.7  0.71 0.72 0.73 0.74 0.75 0.76 0.77 0.78 0.79 0.8  0.81 0.82 0.83\n",
      " 0.84 0.85 0.86 0.87 0.88 0.89 0.9  0.91 0.92 0.93 0.94 0.95 0.96 0.97\n",
      " 0.98 0.99 1.  ]\n",
      "[-3.00000000e+00 -2.90000000e+00 -2.80000000e+00 -2.70000000e+00\n",
      " -2.60000000e+00 -2.50000000e+00 -2.40000000e+00 -2.30000000e+00\n",
      " -2.20000000e+00 -2.10000000e+00 -2.00000000e+00 -1.90000000e+00\n",
      " -1.80000000e+00 -1.70000000e+00 -1.60000000e+00 -1.50000000e+00\n",
      " -1.40000000e+00 -1.30000000e+00 -1.20000000e+00 -1.10000000e+00\n",
      " -1.00000000e+00 -9.00000000e-01 -8.00000000e-01 -7.00000000e-01\n",
      " -6.00000000e-01 -5.00000000e-01 -4.00000000e-01 -3.00000000e-01\n",
      " -2.00000000e-01 -1.00000000e-01  2.66453526e-15  1.00000000e-01\n",
      "  2.00000000e-01  3.00000000e-01  4.00000000e-01  5.00000000e-01\n",
      "  6.00000000e-01  7.00000000e-01  8.00000000e-01  9.00000000e-01\n",
      "  1.00000000e+00  1.10000000e+00  1.20000000e+00  1.30000000e+00\n",
      "  1.40000000e+00  1.50000000e+00  1.60000000e+00  1.70000000e+00\n",
      "  1.80000000e+00  1.90000000e+00  2.00000000e+00  2.10000000e+00\n",
      "  2.20000000e+00  2.30000000e+00  2.40000000e+00  2.50000000e+00\n",
      "  2.60000000e+00  2.70000000e+00  2.80000000e+00  2.90000000e+00]\n"
     ]
    }
   ],
   "source": [
    "''''\n",
    "print(y6)\n",
    "results = alt_fair_opt_step(pop_A=a, pop_B=b, u_plus=1, u_minus=-1, c_plus=1, c_minus=-1, alpha=0.5, range_param=(-3, 3), size=0.01)\n",
    "from utils import alt_fair_step\n",
    "l = alt_fair_step(a, b, 1, -1, 1, -1, 0.5, (-3, 3), 0.01)\n",
    "\n",
    "print(np.sum(results[0] + results[1]))\n",
    "print(np.sum(l[0] + l[1]))\n",
    "'''\n",
    "print(alphas)\n",
    "print(np.arange(range[0], range[1], interval))"
   ]
  },
  {
   "cell_type": "code",
   "execution_count": 143,
   "id": "7e0a6d73",
   "metadata": {},
   "outputs": [
    {
     "name": "stdout",
     "output_type": "stream",
     "text": [
      "2.6645352591003757e-15, 2.6645352591003757e-15\n",
      "0.0\n"
     ]
    },
    {
     "name": "stderr",
     "output_type": "stream",
     "text": [
      "  0%|          | 0/60 [00:00<?, ?it/s]"
     ]
    },
    {
     "name": "stderr",
     "output_type": "stream",
     "text": [
      "100%|██████████| 60/60 [00:00<00:00, 35635.55it/s]"
     ]
    },
    {
     "name": "stdout",
     "output_type": "stream",
     "text": [
      "[np.float64(22.682458105029497), np.float64(22.682458105029497), np.float64(22.682458105029497), np.float64(22.682458105029497), np.float64(22.682458105029497), np.float64(22.682458105029497), np.float64(22.682458105029497), np.float64(22.682458105029497), np.float64(22.682458105029497), np.float64(22.682458105029497), np.float64(22.682458105029497), np.float64(22.682458105029497), np.float64(22.82331039721486), np.float64(22.82331039721486), np.float64(22.82331039721486), np.float64(22.465470267525866), np.float64(22.29620257757966), np.float64(21.44242438992606), np.float64(21.270442691991583), np.float64(21.099328169563414), np.float64(20.42964718930956), np.float64(19.93302959208824), np.float64(19.93302959208824), np.float64(19.475100291124626), np.float64(19.33063344112856), np.float64(19.33063344112856), np.float64(19.202151777136677), np.float64(19.078194240318474), np.float64(18.738880564705056), np.float64(18.63237046479156), np.float64(18.63237046479156), np.float64(18.63237046479156), np.float64(18.63237046479156), np.float64(18.475225975412584), np.float64(18.475225975412584), np.float64(18.475225975412584)]\n"
     ]
    },
    {
     "name": "stderr",
     "output_type": "stream",
     "text": [
      "\n"
     ]
    },
    {
     "data": {
      "image/png": "[encoded data removed]",
      "text/plain": [
       "<Figure size 640x480 with 1 Axes>"
      ]
     },
     "metadata": {},
     "output_type": "display_data"
    }
   ],
   "source": [
    "from utils import opt_step, alt_fair_opt_step, expected\n",
    "\n",
    "# Create a range of thresholds\n",
    "thresholds = np.arange(range[0], range[1], interval)\n",
    "\n",
    "# Store x and y\n",
    "x1 = []\n",
    "total_util = []\n",
    "above = []\n",
    "below = []\n",
    "unfair = []\n",
    "\n",
    "max_util = -np.inf\n",
    "for i in thresholds:\n",
    "    B = np.where(b > i, b + expected(b, c_plus, c_minus), b)\n",
    "    util = np.sum(expected(B, u_plus, u_minus))\n",
    "    if  util > max_util:\n",
    "        max_util = util\n",
    "        opt_thresh = i\n",
    "\n",
    "print(f\"{opt_thresh}, {fair_threshold_B[-1]}\")\n",
    "print(opt_thresh - fair_threshold_B[-1])\n",
    "opt_thresh = fair_threshold_B[-1]\n",
    "\n",
    "delta_A = expected(a, c_plus, c_minus)\n",
    "delta_B = expected(b, c_plus, c_minus)\n",
    "B = np.where(b > opt_thresh, b + delta_B, b)\n",
    "util_B = np.sum(expected(B, u_plus, u_minus))\n",
    "\n",
    "for threshold in tqdm(thresholds):\n",
    "    alpha = 0.56 # Fixed alpha value for this run\n",
    "    A = np.where(a > threshold, a + delta_A, a)\n",
    "    if np.abs(np.mean(A) - np.mean(B)) > alpha:\n",
    "        unfair.append(threshold)\n",
    "        continue\n",
    "    utility = np.sum(expected(A, u_plus, u_minus)) + util_B\n",
    "    above.append(len(np.where(A > threshold)[0]))\n",
    "    below.append(len(np.where(A <= threshold)[0]))\n",
    "    total_util.append(utility)\n",
    "    x1.append(threshold)\n",
    "\n",
    "plt.plot(x1, total_util, label='Total Utility', color='green')\n",
    "plt.plot(x1, above, label='Above Threshold', color='blue')\n",
    "plt.plot(x1, below, label='Below Threshold', color='red')\n",
    "\n",
    "plt.legend()\n",
    "plt.xlabel('Threshold')\n",
    "\n",
    "print(total_util)\n"
   ]
  }
 ],
 "metadata": {
  "kernelspec": {
   "display_name": "Python 3",
   "language": "python",
   "name": "python3"
  },
  "language_info": {
   "codemirror_mode": {
    "name": "ipython",
    "version": 3
   },
   "file_extension": ".py",
   "mimetype": "text/x-python",
   "name": "python",
   "nbconvert_exporter": "python",
   "pygments_lexer": "ipython3",
   "version": "3.11.0"
  }
 },
 "nbformat": 4,
 "nbformat_minor": 5
}
