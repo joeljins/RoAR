{
 "cells": [
  {
   "cell_type": "code",
   "execution_count": 28,
   "id": "6b4ebf27",
   "metadata": {},
   "outputs": [],
   "source": [
    "from tqdm import tqdm\n",
    "import numpy as np\n",
    "from scipy.stats import norm\n",
    "import matplotlib.pyplot as plt\n",
    "from scipy.stats import gaussian_kde\n",
    "import itertools\n",
    "import ipywidgets as widgets\n",
    "from IPython.display import display"
   ]
  },
  {
   "cell_type": "code",
   "execution_count": 29,
   "id": "a14b291e",
   "metadata": {},
   "outputs": [
    {
     "name": "stdout",
     "output_type": "stream",
     "text": [
      "Alphas: [0.01 0.02 0.03 0.04 0.05 0.06 0.07 0.08 0.09 0.1  0.11 0.12 0.13 0.14\n",
      " 0.15 0.16 0.17 0.18 0.19 0.2  0.21 0.22 0.23 0.24 0.25 0.26 0.27 0.28\n",
      " 0.29 0.3  0.31 0.32 0.33 0.34 0.35 0.36 0.37 0.38 0.39 0.4  0.41 0.42\n",
      " 0.43 0.44 0.45 0.46 0.47 0.48 0.49 0.5  0.51 0.52 0.53 0.54 0.55 0.56\n",
      " 0.57 0.58 0.59 0.6  0.61 0.62 0.63 0.64 0.65 0.66 0.67 0.68 0.69 0.7\n",
      " 0.71 0.72 0.73 0.74 0.75 0.76 0.77 0.78 0.79 0.8  0.81 0.82 0.83 0.84\n",
      " 0.85 0.86 0.87 0.88 0.89 0.9  0.91 0.92 0.93 0.94 0.95 0.96 0.97 0.98\n",
      " 0.99 1.  ]\n"
     ]
    }
   ],
   "source": [
    "np.random.seed(1)\n",
    "\n",
    "# Distribution parameters\n",
    "mean_a, std_a = 0.5, 1\n",
    "mean_b, std_b = 0.0, 1\n",
    "\n",
    "# Domain of alpha values to test\n",
    "# Testing num values of (alpha_min - alpha_max) / num\n",
    "alpha_min, alpha_max = 0.01, 1\n",
    "alphas = np.linspace(alpha_min, alpha_max, num=100)\n",
    "print(\"Alphas:\", alphas)\n",
    "\n",
    "# Sample size of each distribution\n",
    "n = 75 \n",
    "\n",
    "# Generate samples from normal distributions\n",
    "a = np.random.normal(mean_a, std_a, n)\n",
    "b = np.random.normal(mean_b, std_b, n)\n",
    "\n",
    "#Step Parameters\n",
    "# U+ / U- > C+ / C-\n",
    "u_plus = 1\n",
    "u_minus = -1.1\n",
    "c_plus = 1\n",
    "c_minus = -c_plus\n",
    "range = (-3, 3)\n",
    "interval = 0.1"
   ]
  },
  {
   "cell_type": "code",
   "execution_count": null,
   "id": "941359c3",
   "metadata": {},
   "outputs": [
    {
     "name": "stderr",
     "output_type": "stream",
     "text": [
      "100%|██████████| 100/100 [00:00<00:00, 133.22it/s]\n"
     ]
    }
   ],
   "source": [
    "from utils import opt_threshold, alt_fair_opt_step\n",
    "\n",
    "# Store results\n",
    "x_alphas = []\n",
    "y_mean_A = []\n",
    "y_mean_B = []\n",
    "y_thresh_A = []\n",
    "y_thresh_B = []\n",
    "y_util = []\n",
    "\n",
    "y6 = opt_threshold((-3, 3), u_plus=1, u_minus=-1)\n",
    "\n",
    "for alpha in tqdm(alphas):\n",
    "    results = alt_fair_opt_step(a, b, u_plus, u_minus, c_plus, c_minus, alpha, range, interval)\n",
    "    if results[0] is not None and results[1] is not None:\n",
    "        A, B, thresh_A, thresh_B, max_util = results\n",
    "        x_alphas.append(alpha)\n",
    "        \n",
    "        y_mean_A.append(np.mean(A))\n",
    "        y_mean_B.append(np.mean(B))\n",
    "        y_thresh_A.append(thresh_A)\n",
    "        y_thresh_B.append(thresh_B)\n",
    "        y_util.append(max_util) "
   ]
  },
  {
   "cell_type": "code",
   "execution_count": null,
   "id": "0149f2a2",
   "metadata": {},
   "outputs": [
    {
     "data": {
      "application/vnd.jupyter.widget-view+json": {
       "model_id": "ca2b95d147894df3ab04d21f58224026",
       "version_major": 2,
       "version_minor": 0
      },
      "text/plain": [
       "HBox(children=(Checkbox(value=True, description='Show Means'), Checkbox(value=True, description='Show Fair Thr…"
      ]
     },
     "metadata": {},
     "output_type": "display_data"
    },
    {
     "data": {
      "application/vnd.jupyter.widget-view+json": {
       "model_id": "e5ea2c1526b04a15a56a0a0f29ba7b59",
       "version_major": 2,
       "version_minor": 0
      },
      "text/plain": [
       "Output()"
      ]
     },
     "metadata": {},
     "output_type": "display_data"
    }
   ],
   "source": [
    "def plot_fairness(show_means=True, show_fair_thresholds=True, show_opt_thresholds=True, show_utility=True):\n",
    "    plt.figure(figsize=(10, 6))\n",
    "\n",
    "    if show_means:\n",
    "        plt.plot(0, mean_a, 'ro', label='Initial μ(A)')\n",
    "        plt.plot(0, mean_b, 'bo', label='Initial μ(B)')\n",
    "        plt.plot(x_alphas, y_mean_A, label=\"Fair μ(A)'\", color='red')\n",
    "        plt.plot(x_alphas, y_mean_B, label=\"Fair μ(B)'\", color='blue') \n",
    "\n",
    "    if show_fair_thresholds:\n",
    "        plt.scatter(x_alphas, y_thresh_A, label=\"Fair Threshold (A)\", color='orange')\n",
    "        plt.scatter(x_alphas, y_thresh_B, label=\"Fair Threshold (B)\", color='purple')\n",
    "    \n",
    "    if show_opt_thresholds:\n",
    "        plt.axhline(y6, color='purple', linestyle='--', label='Optimal Threshold')\n",
    "\n",
    "    if show_utility:\n",
    "        plt.plot(x_alphas, y_util, label='Total Utility', color='green')\n",
    "\n",
    "    plt.title(\"Fair vs. Optimal Means under Varying Fairness Constraint α\")\n",
    "    plt.xlabel(\"α (Fairness Threshold)\")\n",
    "    plt.ylabel(\"Metric Value\")\n",
    "    plt.legend()\n",
    "    plt.grid(True)\n",
    "    plt.tight_layout()\n",
    "    plt.show()\n",
    "\n",
    "# Toggle widgets\n",
    "means_toggle = widgets.Checkbox(value=True, description='Show Means')\n",
    "fair_thresholds_toggle = widgets.Checkbox(value=True, description='Show Fair Thresholds')\n",
    "opt_thresholds_toggle = widgets.Checkbox(value=True, description='Show Optimal Threshold')\n",
    "utility_toggle = widgets.Checkbox(value=True, description='Show Utility')\n",
    "\n",
    "ui = widgets.HBox([means_toggle, fair_thresholds_toggle, opt_thresholds_toggle, utility_toggle])\n",
    "out = widgets.interactive_output(plot_fairness, {\n",
    "    'show_means': means_toggle,\n",
    "    'show_fair_thresholds': fair_thresholds_toggle,\n",
    "    'show_opt_thresholds': opt_thresholds_toggle,\n",
    "    'show_utility': utility_toggle,\n",
    "})\n",
    "\n",
    "display(ui, out)"
   ]
  },
  {
   "cell_type": "code",
   "execution_count": 8,
   "id": "0afcd570",
   "metadata": {
    "tags": [
     "hi"
    ]
   },
   "outputs": [
    {
     "name": "stdout",
     "output_type": "stream",
     "text": [
      "-4.440892098500626e-16\n",
      "73.69532793297168\n",
      "73.69532793297168\n"
     ]
    }
   ],
   "source": [
    "print(y6)\n",
    "results = alt_fair_opt_step(pop_A=a, pop_B=b, u_plus=1, u_minus=-1, c_plus=1, c_minus=-1, alpha=0.5, range_param=(-3, 3), size=0.01)\n",
    "from utils import alt_fair_step\n",
    "l = alt_fair_step(a, b, 1, -1, 1, -1, 0.5, (-3, 3), 0.01)\n",
    "\n",
    "print(np.sum(results[0] + results[1]))\n",
    "print(np.sum(l[0] + l[1]))\n"
   ]
  },
  {
   "cell_type": "code",
   "execution_count": 51,
   "id": "7e0a6d73",
   "metadata": {},
   "outputs": [
    {
     "data": {
      "text/plain": [
       "Text(0.5, 1.0, 'Threshold A with Fixed Threshold B vs Total Utility')"
      ]
     },
     "execution_count": 51,
     "metadata": {},
     "output_type": "execute_result"
    },
    {
     "data": {
      "image/png": "[encoded data removed]",
      "text/plain": [
       "<Figure size 640x480 with 1 Axes>"
      ]
     },
     "metadata": {},
     "output_type": "display_data"
    }
   ],
   "source": [
    "### Experiment where alpha and the threshold of B is fixed while we vary the threshold of A\n",
    "\n",
    "x_thresh_A = []\n",
    "thresh_B = y_thresh_B[-1]\n",
    "y_means_diff = []\n",
    "\n",
    "from utils import expected\n",
    "delta_A = expected(a, c_plus, c_minus)\n",
    "delta_B = expected(b, c_plus, c_minus)\n",
    "\n",
    "B = np.where(b > thresh_B, b + delta_B, b)\n",
    "util_B = np.sum(expected(B, u_plus, u_minus))\n",
    "util_A = []\n",
    "\n",
    "thresholds = np.arange(range[0], range[1], interval)\n",
    "for threshold in thresholds:\n",
    "    alpha = 0.57\n",
    "    A = np.where(a > threshold, a + delta_A, a)\n",
    "    diff = np.abs(np.mean(A) - np.mean(B))\n",
    "    y_means_diff.append(diff)\n",
    "    utility = np.sum(expected(A, u_plus, u_minus))\n",
    "    util_A.append(utility)\n",
    "    x_thresh_A.append(threshold)\n",
    "\n",
    "y_means_diff = np.array(y_means_diff)\n",
    "x_thresh_A = np.array(x_thresh_A)\n",
    "\n",
    "index = np.where(y_means_diff < alpha)[0]\n",
    "x_util_thresh_A = x_thresh_A[index]\n",
    "total_util = np.array(util_A) + util_B\n",
    "total_util = total_util[index]\n",
    "\n",
    "plt.plot(x_util_thresh_A, total_util, label='Total Utility', color='green')\n",
    "plt.legend()\n",
    "plt.xlabel(\"Threshold A\")\n",
    "plt.ylabel(\"Total Utility\")\n",
    "plt.title(\"Threshold A with Fixed Threshold B vs Total Utility\")\n"
   ]
  },
  {
   "cell_type": "code",
   "execution_count": 52,
   "id": "004e3a86",
   "metadata": {},
   "outputs": [
    {
     "data": {
      "text/plain": [
       "[<matplotlib.lines.Line2D at 0x160efd04500>]"
      ]
     },
     "execution_count": 52,
     "metadata": {},
     "output_type": "execute_result"
    },
    {
     "data": {
      "image/png": "[encoded data removed]",
      "text/plain": [
       "<Figure size 640x480 with 1 Axes>"
      ]
     },
     "metadata": {},
     "output_type": "display_data"
    }
   ],
   "source": [
    "### Experiment where the threshold of B is fixed while we track the difference in means of A and B\n",
    "plt.plot(x_thresh_A, y_means_diff, label='Mean Difference', color='orange')\n",
    "\n"
   ]
  }
 ],
 "metadata": {
  "kernelspec": {
   "display_name": "Python 3",
   "language": "python",
   "name": "python3"
  },
  "language_info": {
   "codemirror_mode": {
    "name": "ipython",
    "version": 3
   },
   "file_extension": ".py",
   "mimetype": "text/x-python",
   "name": "python",
   "nbconvert_exporter": "python",
   "pygments_lexer": "ipython3",
   "version": "3.12.10"
  }
 },
 "nbformat": 4,
 "nbformat_minor": 5
}
