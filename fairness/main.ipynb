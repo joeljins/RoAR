{
 "cells": [
  {
   "cell_type": "code",
   "execution_count": 1,
   "id": "6b4ebf27",
   "metadata": {},
   "outputs": [],
   "source": [
    "# Import necessary modules/libraries\n",
    "from tqdm import tqdm\n",
    "import numpy as np\n",
    "import matplotlib.pyplot as plt\n",
    "import ipywidgets as widgets\n",
    "from IPython.display import display\n",
    "import plotly.express as px\n",
    "import plotly.graph_objects as go"
   ]
  },
  {
   "cell_type": "code",
   "execution_count": 2,
   "id": "a14b291e",
   "metadata": {},
   "outputs": [
    {
     "name": "stdout",
     "output_type": "stream",
     "text": [
      "Assumption 1: U+ / U- > C+ / C- is False\n"
     ]
    }
   ],
   "source": [
    "# Set experiment parameters\n",
    "np.random.seed(1)\n",
    "\n",
    "# Distribution parameters\n",
    "mean_a, std_a = 0.5, 1\n",
    "mean_b, std_b = 0.0, 1\n",
    "\n",
    "# Domain of alpha values to test\n",
    "alpha_min, alpha_max = 0.01, 1\n",
    "alphas = np.linspace(alpha_min, alpha_max, num=100)\n",
    "\n",
    "# Sample size of each distribution\n",
    "n = 75\n",
    "\n",
    "# Generate samples from normal distributions\n",
    "a = np.random.normal(mean_a, std_a, n)\n",
    "b = np.random.normal(mean_b, std_b, n)\n",
    "a.sort(), b.sort()\n",
    "w_a = len(a) / (len(a) + len(b))\n",
    "w_b = 1 - w_a\n",
    "\n",
    "#Step Parameters\n",
    "# U+ / U- > C+ / C-\n",
    "u_plus = 1\n",
    "u_minus = -1.1\n",
    "c_plus = 1\n",
    "c_minus = -1\n",
    "print( \"Assumption 1: U+ / U- > C+ / C- is\", (u_plus // u_minus) > (c_plus // c_minus) )\n",
    "domain = (-3, 3)\n",
    "interval = 0.1"
   ]
  },
  {
   "cell_type": "code",
   "execution_count": 3,
   "id": "941359c3",
   "metadata": {},
   "outputs": [
    {
     "name": "stderr",
     "output_type": "stream",
     "text": [
      "100%|██████████| 100/100 [00:00<00:00, 127.59it/s]\n"
     ]
    }
   ],
   "source": [
    "# Single step optimization\n",
    "from utils import opt_threshold, alt_fair_opt_step, opt_step, expected\n",
    "\n",
    "x_alphas = []\n",
    "y_mean_A, y_mean_B = [], []\n",
    "y_thresh_A, y_thresh_B = [], []\n",
    "y_util = []\n",
    "y_pof = [] # Price of fairness\n",
    "\n",
    "y_cat_1, y_cat_3, y_cat_4 = [], [], []\n",
    "y_samples_1, y_samples_3, y_samples_4 = [], [], []\n",
    "\n",
    "y_opt_util = []\n",
    "\n",
    "B_temp = None\n",
    "\n",
    "opt_util_A, opt_util_B = opt_step(a, u_plus, u_minus, c_plus, c_minus)[0], opt_step(b, u_plus, u_minus, c_plus, c_minus)[0]\n",
    "opt_util_A, opt_util_B  = expected(opt_util_A, 1, -1.1), expected(opt_util_B, 1, -1.1)\n",
    "opt_util_A, opt_util_B = np.sum(opt_util_A), np.sum(opt_util_B)\n",
    "y_opt = w_a * opt_util_A + w_b * opt_util_B\n",
    "\n",
    "for alpha in tqdm(alphas):\n",
    "    results = alt_fair_opt_step(a, b, u_plus, u_minus, c_plus, c_minus, alpha, domain, interval)\n",
    "    if results[0] is not None and results[1] is not None:\n",
    "        A, B, thresh_A, thresh_B, max_util = results\n",
    "        x_alphas.append(alpha)\n",
    "        \n",
    "        y_mean_A.append(np.mean(A))\n",
    "        y_mean_B.append(np.mean(B))\n",
    "        y_thresh_A.append(thresh_A)\n",
    "        y_thresh_B.append(thresh_B)\n",
    "        y_util.append(max_util)\n",
    "        pof = 1 - (max_util/y_opt)\n",
    "        y_pof.append(pof)\n",
    "\n",
    "        delta_A = expected(a, c_plus, c_minus)\n",
    "        condition1 = (delta_A >= 0) & (expected(a, u_plus, u_minus) >= 0) & (a > thresh_A)\n",
    "        condition2 = (delta_A >= 0) & (expected(a, u_plus, u_minus) < 0) & (a > thresh_A)\n",
    "        condition3 = (delta_A < 0) & (expected(a, u_plus, u_minus) < 0) & (a > thresh_A)\n",
    "\n",
    "        cat1 = a[condition1]\n",
    "        cat3 = a[condition2]\n",
    "        cat4 = a[condition3]\n",
    "\n",
    "        cat1 = [np.arange(0,len(cat1)), a[condition1]]\n",
    "        cat3 = [np.arange(0,len(cat3)), a[condition2]]\n",
    "        cat4 = [np.arange(0,len(cat4)), a[condition3]]\n",
    "\n",
    "        y_cat_1.append(len(cat1[1]))\n",
    "        y_cat_3.append(len(cat3[1]))\n",
    "        y_cat_4.append(len(cat4[1]))\n",
    "\n",
    "        y_samples_1.append(cat1)\n",
    "        y_samples_3.append(cat3)\n",
    "        y_samples_4.append(cat4)\n",
    "\n",
    "        B_temp = B"
   ]
  },
  {
   "cell_type": "code",
   "execution_count": 4,
   "id": "004a0231",
   "metadata": {},
   "outputs": [
    {
     "data": {
      "application/vnd.plotly.v1+json": {
       "config": {
        "plotlyServerURL": "https://plot.ly"
       },
       "data": [
        {
         "mode": "markers",
         "name": "Fair Threshold (A)",
         "type": "scatter",
         "x": [
          0.39,
          0.4,
          0.41000000000000003,
          0.42000000000000004,
          0.43,
          0.44,
          0.45,
          0.46,
          0.47000000000000003,
          0.48000000000000004,
          0.49,
          0.5,
          0.51,
          0.52,
          0.53,
          0.54,
          0.55,
          0.56,
          0.5700000000000001,
          0.5800000000000001,
          0.59,
          0.6,
          0.61,
          0.62,
          0.63,
          0.64,
          0.65,
          0.66,
          0.67,
          0.68,
          0.6900000000000001,
          0.7000000000000001,
          0.7100000000000001,
          0.72,
          0.73,
          0.74,
          0.75,
          0.76,
          0.77,
          0.78,
          0.79,
          0.8,
          0.81,
          0.8200000000000001,
          0.8300000000000001,
          0.8400000000000001,
          0.85,
          0.86,
          0.87,
          0.88,
          0.89,
          0.9,
          0.91,
          0.92,
          0.93,
          0.9400000000000001,
          0.9500000000000001,
          0.9600000000000001,
          0.97,
          0.98,
          0.99,
          1
         ],
         "y": [
          2.800000000000005,
          2.800000000000005,
          2.5000000000000053,
          2.400000000000005,
          2.400000000000005,
          2.100000000000005,
          2.100000000000005,
          2.100000000000005,
          2.0000000000000044,
          2.0000000000000044,
          2.0000000000000044,
          1.8000000000000043,
          1.600000000000004,
          1.600000000000004,
          1.5000000000000036,
          1.5000000000000036,
          -3,
          -2.4999999999999996,
          1.1000000000000032,
          1.0000000000000036,
          0.8000000000000034,
          0.5000000000000031,
          0.30000000000000293,
          2.6645352591003757e-15,
          2.6645352591003757e-15,
          2.6645352591003757e-15,
          2.6645352591003757e-15,
          2.6645352591003757e-15,
          2.6645352591003757e-15,
          2.6645352591003757e-15,
          2.6645352591003757e-15,
          2.6645352591003757e-15,
          2.6645352591003757e-15,
          2.6645352591003757e-15,
          2.6645352591003757e-15,
          2.6645352591003757e-15,
          2.6645352591003757e-15,
          2.6645352591003757e-15,
          2.6645352591003757e-15,
          2.6645352591003757e-15,
          2.6645352591003757e-15,
          2.6645352591003757e-15,
          2.6645352591003757e-15,
          2.6645352591003757e-15,
          2.6645352591003757e-15,
          2.6645352591003757e-15,
          2.6645352591003757e-15,
          2.6645352591003757e-15,
          2.6645352591003757e-15,
          2.6645352591003757e-15,
          2.6645352591003757e-15,
          2.6645352591003757e-15,
          2.6645352591003757e-15,
          2.6645352591003757e-15,
          2.6645352591003757e-15,
          2.6645352591003757e-15,
          2.6645352591003757e-15,
          2.6645352591003757e-15,
          2.6645352591003757e-15,
          2.6645352591003757e-15,
          2.6645352591003757e-15,
          2.6645352591003757e-15
         ]
        },
        {
         "mode": "markers",
         "name": "Fair Threshold (B)",
         "type": "scatter",
         "x": [
          0.39,
          0.4,
          0.41000000000000003,
          0.42000000000000004,
          0.43,
          0.44,
          0.45,
          0.46,
          0.47000000000000003,
          0.48000000000000004,
          0.49,
          0.5,
          0.51,
          0.52,
          0.53,
          0.54,
          0.55,
          0.56,
          0.5700000000000001,
          0.5800000000000001,
          0.59,
          0.6,
          0.61,
          0.62,
          0.63,
          0.64,
          0.65,
          0.66,
          0.67,
          0.68,
          0.6900000000000001,
          0.7000000000000001,
          0.7100000000000001,
          0.72,
          0.73,
          0.74,
          0.75,
          0.76,
          0.77,
          0.78,
          0.79,
          0.8,
          0.81,
          0.8200000000000001,
          0.8300000000000001,
          0.8400000000000001,
          0.85,
          0.86,
          0.87,
          0.88,
          0.89,
          0.9,
          0.91,
          0.92,
          0.93,
          0.9400000000000001,
          0.9500000000000001,
          0.9600000000000001,
          0.97,
          0.98,
          0.99,
          1
         ],
         "y": [
          2.6645352591003757e-15,
          2.6645352591003757e-15,
          2.6645352591003757e-15,
          2.6645352591003757e-15,
          2.6645352591003757e-15,
          2.6645352591003757e-15,
          2.6645352591003757e-15,
          2.6645352591003757e-15,
          2.6645352591003757e-15,
          2.6645352591003757e-15,
          2.6645352591003757e-15,
          2.6645352591003757e-15,
          2.6645352591003757e-15,
          2.6645352591003757e-15,
          2.6645352591003757e-15,
          2.6645352591003757e-15,
          2.6645352591003757e-15,
          2.6645352591003757e-15,
          2.6645352591003757e-15,
          2.6645352591003757e-15,
          2.6645352591003757e-15,
          2.6645352591003757e-15,
          2.6645352591003757e-15,
          2.6645352591003757e-15,
          2.6645352591003757e-15,
          2.6645352591003757e-15,
          2.6645352591003757e-15,
          2.6645352591003757e-15,
          2.6645352591003757e-15,
          2.6645352591003757e-15,
          2.6645352591003757e-15,
          2.6645352591003757e-15,
          2.6645352591003757e-15,
          2.6645352591003757e-15,
          2.6645352591003757e-15,
          2.6645352591003757e-15,
          2.6645352591003757e-15,
          2.6645352591003757e-15,
          2.6645352591003757e-15,
          2.6645352591003757e-15,
          2.6645352591003757e-15,
          2.6645352591003757e-15,
          2.6645352591003757e-15,
          2.6645352591003757e-15,
          2.6645352591003757e-15,
          2.6645352591003757e-15,
          2.6645352591003757e-15,
          2.6645352591003757e-15,
          2.6645352591003757e-15,
          2.6645352591003757e-15,
          2.6645352591003757e-15,
          2.6645352591003757e-15,
          2.6645352591003757e-15,
          2.6645352591003757e-15,
          2.6645352591003757e-15,
          2.6645352591003757e-15,
          2.6645352591003757e-15,
          2.6645352591003757e-15,
          2.6645352591003757e-15,
          2.6645352591003757e-15,
          2.6645352591003757e-15,
          2.6645352591003757e-15
         ]
        },
        {
         "mode": "markers",
         "name": "Utility",
         "type": "scatter",
         "x": [
          0.39,
          0.4,
          0.41000000000000003,
          0.42000000000000004,
          0.43,
          0.44,
          0.45,
          0.46,
          0.47000000000000003,
          0.48000000000000004,
          0.49,
          0.5,
          0.51,
          0.52,
          0.53,
          0.54,
          0.55,
          0.56,
          0.5700000000000001,
          0.5800000000000001,
          0.59,
          0.6,
          0.61,
          0.62,
          0.63,
          0.64,
          0.65,
          0.66,
          0.67,
          0.68,
          0.6900000000000001,
          0.7000000000000001,
          0.7100000000000001,
          0.72,
          0.73,
          0.74,
          0.75,
          0.76,
          0.77,
          0.78,
          0.79,
          0.8,
          0.81,
          0.8200000000000001,
          0.8300000000000001,
          0.8400000000000001,
          0.85,
          0.86,
          0.87,
          0.88,
          0.89,
          0.9,
          0.91,
          0.92,
          0.93,
          0.9400000000000001,
          0.9500000000000001,
          0.9600000000000001,
          0.97,
          0.98,
          0.99,
          1
         ],
         "y": [
          9.539097120159237,
          9.539097120159237,
          9.665316720564281,
          9.737550145562313,
          9.737550145562313,
          9.96651479604412,
          9.96651479604412,
          9.96651479604412,
          10.21482359465478,
          10.21482359465478,
          10.21482359465478,
          10.549664084781707,
          10.72121219496303,
          10.72121219496303,
          10.978174850693065,
          10.978174850693065,
          11.341229052514748,
          11.411655198607432,
          11.54844251403684,
          11.696789774317955,
          11.960751391727795,
          12.115451124817069,
          12.31928679220353,
          12.409599806061319,
          12.409599806061319,
          12.409599806061319,
          12.409599806061319,
          12.409599806061319,
          12.409599806061319,
          12.409599806061319,
          12.409599806061319,
          12.409599806061319,
          12.409599806061319,
          12.409599806061319,
          12.409599806061319,
          12.409599806061319,
          12.409599806061319,
          12.409599806061319,
          12.409599806061319,
          12.409599806061319,
          12.409599806061319,
          12.409599806061319,
          12.409599806061319,
          12.409599806061319,
          12.409599806061319,
          12.409599806061319,
          12.409599806061319,
          12.409599806061319,
          12.409599806061319,
          12.409599806061319,
          12.409599806061319,
          12.409599806061319,
          12.409599806061319,
          12.409599806061319,
          12.409599806061319,
          12.409599806061319,
          12.409599806061319,
          12.409599806061319,
          12.409599806061319,
          12.409599806061319,
          12.409599806061319,
          12.409599806061319
         ],
         "yaxis": "y2"
        }
       ],
       "layout": {
        "height": 600,
        "legend": {
         "x": 0,
         "xanchor": "right",
         "yanchor": "top"
        },
        "showlegend": true,
        "template": {
         "data": {
          "bar": [
           {
            "error_x": {
             "color": "#2a3f5f"
            },
            "error_y": {
             "color": "#2a3f5f"
            },
            "marker": {
             "line": {
              "color": "#E5ECF6",
              "width": 0.5
             },
             "pattern": {
              "fillmode": "overlay",
              "size": 10,
              "solidity": 0.2
             }
            },
            "type": "bar"
           }
          ],
          "barpolar": [
           {
            "marker": {
             "line": {
              "color": "#E5ECF6",
              "width": 0.5
             },
             "pattern": {
              "fillmode": "overlay",
              "size": 10,
              "solidity": 0.2
             }
            },
            "type": "barpolar"
           }
          ],
          "carpet": [
           {
            "aaxis": {
             "endlinecolor": "#2a3f5f",
             "gridcolor": "white",
             "linecolor": "white",
             "minorgridcolor": "white",
             "startlinecolor": "#2a3f5f"
            },
            "baxis": {
             "endlinecolor": "#2a3f5f",
             "gridcolor": "white",
             "linecolor": "white",
             "minorgridcolor": "white",
             "startlinecolor": "#2a3f5f"
            },
            "type": "carpet"
           }
          ],
          "choropleth": [
           {
            "colorbar": {
             "outlinewidth": 0,
             "ticks": ""
            },
            "type": "choropleth"
           }
          ],
          "contour": [
           {
            "colorbar": {
             "outlinewidth": 0,
             "ticks": ""
            },
            "colorscale": [
             [
              0,
              "#0d0887"
             ],
             [
              0.1111111111111111,
              "#46039f"
             ],
             [
              0.2222222222222222,
              "#7201a8"
             ],
             [
              0.3333333333333333,
              "#9c179e"
             ],
             [
              0.4444444444444444,
              "#bd3786"
             ],
             [
              0.5555555555555556,
              "#d8576b"
             ],
             [
              0.6666666666666666,
              "#ed7953"
             ],
             [
              0.7777777777777778,
              "#fb9f3a"
             ],
             [
              0.8888888888888888,
              "#fdca26"
             ],
             [
              1,
              "#f0f921"
             ]
            ],
            "type": "contour"
           }
          ],
          "contourcarpet": [
           {
            "colorbar": {
             "outlinewidth": 0,
             "ticks": ""
            },
            "type": "contourcarpet"
           }
          ],
          "heatmap": [
           {
            "colorbar": {
             "outlinewidth": 0,
             "ticks": ""
            },
            "colorscale": [
             [
              0,
              "#0d0887"
             ],
             [
              0.1111111111111111,
              "#46039f"
             ],
             [
              0.2222222222222222,
              "#7201a8"
             ],
             [
              0.3333333333333333,
              "#9c179e"
             ],
             [
              0.4444444444444444,
              "#bd3786"
             ],
             [
              0.5555555555555556,
              "#d8576b"
             ],
             [
              0.6666666666666666,
              "#ed7953"
             ],
             [
              0.7777777777777778,
              "#fb9f3a"
             ],
             [
              0.8888888888888888,
              "#fdca26"
             ],
             [
              1,
              "#f0f921"
             ]
            ],
            "type": "heatmap"
           }
          ],
          "histogram": [
           {
            "marker": {
             "pattern": {
              "fillmode": "overlay",
              "size": 10,
              "solidity": 0.2
             }
            },
            "type": "histogram"
           }
          ],
          "histogram2d": [
           {
            "colorbar": {
             "outlinewidth": 0,
             "ticks": ""
            },
            "colorscale": [
             [
              0,
              "#0d0887"
             ],
             [
              0.1111111111111111,
              "#46039f"
             ],
             [
              0.2222222222222222,
              "#7201a8"
             ],
             [
              0.3333333333333333,
              "#9c179e"
             ],
             [
              0.4444444444444444,
              "#bd3786"
             ],
             [
              0.5555555555555556,
              "#d8576b"
             ],
             [
              0.6666666666666666,
              "#ed7953"
             ],
             [
              0.7777777777777778,
              "#fb9f3a"
             ],
             [
              0.8888888888888888,
              "#fdca26"
             ],
             [
              1,
              "#f0f921"
             ]
            ],
            "type": "histogram2d"
           }
          ],
          "histogram2dcontour": [
           {
            "colorbar": {
             "outlinewidth": 0,
             "ticks": ""
            },
            "colorscale": [
             [
              0,
              "#0d0887"
             ],
             [
              0.1111111111111111,
              "#46039f"
             ],
             [
              0.2222222222222222,
              "#7201a8"
             ],
             [
              0.3333333333333333,
              "#9c179e"
             ],
             [
              0.4444444444444444,
              "#bd3786"
             ],
             [
              0.5555555555555556,
              "#d8576b"
             ],
             [
              0.6666666666666666,
              "#ed7953"
             ],
             [
              0.7777777777777778,
              "#fb9f3a"
             ],
             [
              0.8888888888888888,
              "#fdca26"
             ],
             [
              1,
              "#f0f921"
             ]
            ],
            "type": "histogram2dcontour"
           }
          ],
          "mesh3d": [
           {
            "colorbar": {
             "outlinewidth": 0,
             "ticks": ""
            },
            "type": "mesh3d"
           }
          ],
          "parcoords": [
           {
            "line": {
             "colorbar": {
              "outlinewidth": 0,
              "ticks": ""
             }
            },
            "type": "parcoords"
           }
          ],
          "pie": [
           {
            "automargin": true,
            "type": "pie"
           }
          ],
          "scatter": [
           {
            "fillpattern": {
             "fillmode": "overlay",
             "size": 10,
             "solidity": 0.2
            },
            "type": "scatter"
           }
          ],
          "scatter3d": [
           {
            "line": {
             "colorbar": {
              "outlinewidth": 0,
              "ticks": ""
             }
            },
            "marker": {
             "colorbar": {
              "outlinewidth": 0,
              "ticks": ""
             }
            },
            "type": "scatter3d"
           }
          ],
          "scattercarpet": [
           {
            "marker": {
             "colorbar": {
              "outlinewidth": 0,
              "ticks": ""
             }
            },
            "type": "scattercarpet"
           }
          ],
          "scattergeo": [
           {
            "marker": {
             "colorbar": {
              "outlinewidth": 0,
              "ticks": ""
             }
            },
            "type": "scattergeo"
           }
          ],
          "scattergl": [
           {
            "marker": {
             "colorbar": {
              "outlinewidth": 0,
              "ticks": ""
             }
            },
            "type": "scattergl"
           }
          ],
          "scattermap": [
           {
            "marker": {
             "colorbar": {
              "outlinewidth": 0,
              "ticks": ""
             }
            },
            "type": "scattermap"
           }
          ],
          "scattermapbox": [
           {
            "marker": {
             "colorbar": {
              "outlinewidth": 0,
              "ticks": ""
             }
            },
            "type": "scattermapbox"
           }
          ],
          "scatterpolar": [
           {
            "marker": {
             "colorbar": {
              "outlinewidth": 0,
              "ticks": ""
             }
            },
            "type": "scatterpolar"
           }
          ],
          "scatterpolargl": [
           {
            "marker": {
             "colorbar": {
              "outlinewidth": 0,
              "ticks": ""
             }
            },
            "type": "scatterpolargl"
           }
          ],
          "scatterternary": [
           {
            "marker": {
             "colorbar": {
              "outlinewidth": 0,
              "ticks": ""
             }
            },
            "type": "scatterternary"
           }
          ],
          "surface": [
           {
            "colorbar": {
             "outlinewidth": 0,
             "ticks": ""
            },
            "colorscale": [
             [
              0,
              "#0d0887"
             ],
             [
              0.1111111111111111,
              "#46039f"
             ],
             [
              0.2222222222222222,
              "#7201a8"
             ],
             [
              0.3333333333333333,
              "#9c179e"
             ],
             [
              0.4444444444444444,
              "#bd3786"
             ],
             [
              0.5555555555555556,
              "#d8576b"
             ],
             [
              0.6666666666666666,
              "#ed7953"
             ],
             [
              0.7777777777777778,
              "#fb9f3a"
             ],
             [
              0.8888888888888888,
              "#fdca26"
             ],
             [
              1,
              "#f0f921"
             ]
            ],
            "type": "surface"
           }
          ],
          "table": [
           {
            "cells": {
             "fill": {
              "color": "#EBF0F8"
             },
             "line": {
              "color": "white"
             }
            },
            "header": {
             "fill": {
              "color": "#C8D4E3"
             },
             "line": {
              "color": "white"
             }
            },
            "type": "table"
           }
          ]
         },
         "layout": {
          "annotationdefaults": {
           "arrowcolor": "#2a3f5f",
           "arrowhead": 0,
           "arrowwidth": 1
          },
          "autotypenumbers": "strict",
          "coloraxis": {
           "colorbar": {
            "outlinewidth": 0,
            "ticks": ""
           }
          },
          "colorscale": {
           "diverging": [
            [
             0,
             "#8e0152"
            ],
            [
             0.1,
             "#c51b7d"
            ],
            [
             0.2,
             "#de77ae"
            ],
            [
             0.3,
             "#f1b6da"
            ],
            [
             0.4,
             "#fde0ef"
            ],
            [
             0.5,
             "#f7f7f7"
            ],
            [
             0.6,
             "#e6f5d0"
            ],
            [
             0.7,
             "#b8e186"
            ],
            [
             0.8,
             "#7fbc41"
            ],
            [
             0.9,
             "#4d9221"
            ],
            [
             1,
             "#276419"
            ]
           ],
           "sequential": [
            [
             0,
             "#0d0887"
            ],
            [
             0.1111111111111111,
             "#46039f"
            ],
            [
             0.2222222222222222,
             "#7201a8"
            ],
            [
             0.3333333333333333,
             "#9c179e"
            ],
            [
             0.4444444444444444,
             "#bd3786"
            ],
            [
             0.5555555555555556,
             "#d8576b"
            ],
            [
             0.6666666666666666,
             "#ed7953"
            ],
            [
             0.7777777777777778,
             "#fb9f3a"
            ],
            [
             0.8888888888888888,
             "#fdca26"
            ],
            [
             1,
             "#f0f921"
            ]
           ],
           "sequentialminus": [
            [
             0,
             "#0d0887"
            ],
            [
             0.1111111111111111,
             "#46039f"
            ],
            [
             0.2222222222222222,
             "#7201a8"
            ],
            [
             0.3333333333333333,
             "#9c179e"
            ],
            [
             0.4444444444444444,
             "#bd3786"
            ],
            [
             0.5555555555555556,
             "#d8576b"
            ],
            [
             0.6666666666666666,
             "#ed7953"
            ],
            [
             0.7777777777777778,
             "#fb9f3a"
            ],
            [
             0.8888888888888888,
             "#fdca26"
            ],
            [
             1,
             "#f0f921"
            ]
           ]
          },
          "colorway": [
           "#636efa",
           "#EF553B",
           "#00cc96",
           "#ab63fa",
           "#FFA15A",
           "#19d3f3",
           "#FF6692",
           "#B6E880",
           "#FF97FF",
           "#FECB52"
          ],
          "font": {
           "color": "#2a3f5f"
          },
          "geo": {
           "bgcolor": "white",
           "lakecolor": "white",
           "landcolor": "#E5ECF6",
           "showlakes": true,
           "showland": true,
           "subunitcolor": "white"
          },
          "hoverlabel": {
           "align": "left"
          },
          "hovermode": "closest",
          "mapbox": {
           "style": "light"
          },
          "paper_bgcolor": "white",
          "plot_bgcolor": "#E5ECF6",
          "polar": {
           "angularaxis": {
            "gridcolor": "white",
            "linecolor": "white",
            "ticks": ""
           },
           "bgcolor": "#E5ECF6",
           "radialaxis": {
            "gridcolor": "white",
            "linecolor": "white",
            "ticks": ""
           }
          },
          "scene": {
           "xaxis": {
            "backgroundcolor": "#E5ECF6",
            "gridcolor": "white",
            "gridwidth": 2,
            "linecolor": "white",
            "showbackground": true,
            "ticks": "",
            "zerolinecolor": "white"
           },
           "yaxis": {
            "backgroundcolor": "#E5ECF6",
            "gridcolor": "white",
            "gridwidth": 2,
            "linecolor": "white",
            "showbackground": true,
            "ticks": "",
            "zerolinecolor": "white"
           },
           "zaxis": {
            "backgroundcolor": "#E5ECF6",
            "gridcolor": "white",
            "gridwidth": 2,
            "linecolor": "white",
            "showbackground": true,
            "ticks": "",
            "zerolinecolor": "white"
           }
          },
          "shapedefaults": {
           "line": {
            "color": "#2a3f5f"
           }
          },
          "ternary": {
           "aaxis": {
            "gridcolor": "white",
            "linecolor": "white",
            "ticks": ""
           },
           "baxis": {
            "gridcolor": "white",
            "linecolor": "white",
            "ticks": ""
           },
           "bgcolor": "#E5ECF6",
           "caxis": {
            "gridcolor": "white",
            "linecolor": "white",
            "ticks": ""
           }
          },
          "title": {
           "x": 0.05
          },
          "xaxis": {
           "automargin": true,
           "gridcolor": "white",
           "linecolor": "white",
           "ticks": "",
           "title": {
            "standoff": 15
           },
           "zerolinecolor": "white",
           "zerolinewidth": 2
          },
          "yaxis": {
           "automargin": true,
           "gridcolor": "white",
           "linecolor": "white",
           "ticks": "",
           "title": {
            "standoff": 15
           },
           "zerolinecolor": "white",
           "zerolinewidth": 2
          }
         }
        },
        "title": {
         "text": "Single Step Thresholding Policy"
        },
        "xaxis": {
         "title": {
          "text": "Alpha"
         }
        },
        "yaxis": {
         "title": {
          "text": "Threshold"
         }
        },
        "yaxis2": {
         "overlaying": "y",
         "side": "right",
         "title": {
          "text": "Utility"
         }
        }
       }
      }
     },
     "metadata": {},
     "output_type": "display_data"
    }
   ],
   "source": [
    "def plot_graphs():\n",
    "    \n",
    "    # Traces\n",
    "    thresholds_A = go.Scatter(x=x_alphas, y=y_thresh_A, mode='markers', name=\"Fair Threshold (A)\")\n",
    "    thresholds_B = go.Scatter(x=x_alphas, y=y_thresh_B, mode='markers', name=\"Fair Threshold (B)\") \n",
    "    utilities = go.Scatter(x=x_alphas, y=y_util, mode='markers', name='Utility', yaxis='y2')\n",
    "\n",
    "    # Create figure\n",
    "    fig = go.Figure(data=[thresholds_A, thresholds_B, utilities])\n",
    "\n",
    "    # Add toggle buttons\n",
    "    fig.update_layout(\n",
    "        height = 600,\n",
    "        title='Single Step Thresholding Policy',\n",
    "        xaxis=dict(title=\"Alpha\"),\n",
    "        yaxis=dict(title=\"Threshold\"),\n",
    "        yaxis2=dict(\n",
    "            title=\"Utility\",\n",
    "            overlaying=\"y\",\n",
    "            side=\"right\"\n",
    "        ),\n",
    "        legend=dict(\n",
    "            x=0,          # Right edge of the plotting area\n",
    "            #y=1,          # Top of the plotting area\n",
    "            xanchor='right',   # Legend's left edge aligns at x=1\n",
    "            yanchor='top'     # Legend's top edge aligns at y=1\n",
    "        ),\n",
    "        showlegend=True,\n",
    "    )\n",
    "\n",
    "    fig.show()\n",
    "plot_graphs()\n"
   ]
  },
  {
   "cell_type": "code",
   "execution_count": 5,
   "id": "f6be216e",
   "metadata": {},
   "outputs": [],
   "source": [
    "# Experiment #1\n",
    "from experiment_1 import experiment_1\n"
   ]
  },
  {
   "cell_type": "code",
   "execution_count": 12,
   "id": "1cbd9d59",
   "metadata": {},
   "outputs": [
    {
     "data": {
      "application/vnd.plotly.v1+json": {
       "config": {
        "plotlyServerURL": "https://plot.ly"
       },
       "data": [
        {
         "mode": "markers",
         "name": "Total Utility",
         "type": "scatter",
         "x": [
          -3,
          -2.9,
          -2.8,
          -2.6999999999999997,
          -2.5999999999999996,
          -2.4999999999999996,
          -2.3999999999999995,
          -2.2999999999999994,
          -2.1999999999999993,
          -2.099999999999999,
          -1.9999999999999991,
          -1.899999999999999,
          -1.799999999999999,
          -1.6999999999999988,
          -1.5999999999999988,
          -1.4999999999999987,
          -1.3999999999999986,
          -1.2999999999999985,
          -1.1999999999999984,
          -1.0999999999999983,
          -0.9999999999999982,
          -0.8999999999999981,
          -0.799999999999998,
          -0.699999999999998,
          -0.5999999999999979,
          -0.4999999999999978,
          -0.3999999999999977,
          -0.2999999999999976,
          -0.1999999999999975,
          -0.09999999999999742,
          2.6645352591003757e-15,
          0.10000000000000275,
          0.20000000000000284,
          0.30000000000000293,
          0.400000000000003,
          0.5000000000000031,
          0.6000000000000032,
          0.7000000000000033,
          0.8000000000000034,
          0.9000000000000035,
          1.0000000000000036,
          1.1000000000000032,
          1.2000000000000037,
          1.3000000000000043,
          1.400000000000004,
          1.5000000000000036,
          1.600000000000004,
          1.7000000000000046,
          1.8000000000000043,
          1.900000000000004,
          2.0000000000000044,
          2.100000000000005,
          2.2000000000000046,
          2.3000000000000043,
          2.400000000000005,
          2.5000000000000053,
          2.600000000000005,
          2.7000000000000046,
          2.800000000000005,
          2.9000000000000057
         ],
         "y": [
          11.341229052514748,
          11.341229052514748,
          11.341229052514748,
          11.341229052514748,
          11.341229052514748,
          11.341229052514748,
          11.341229052514748,
          11.341229052514748,
          11.341229052514748,
          11.341229052514748,
          11.341229052514748,
          11.341229052514748,
          11.411655198607432,
          11.411655198607432,
          11.411655198607432,
          11.490433906755731,
          11.490433906755731,
          11.490433906755731,
          11.490433906755731,
          11.490433906755731,
          11.490433906755731,
          11.57411736941386,
          11.656485210808482,
          11.656485210808482,
          11.86092456759883,
          11.992181986683795,
          12.044493927129976,
          12.181072687926877,
          12.278147583713643,
          12.405317530418555,
          12.409599806061319,
          12.409599806061319,
          12.31928679220353,
          12.194978008697026,
          12.069170020567283,
          11.960751391727795,
          11.835893907831837,
          11.62388207182474,
          11.470393753326922,
          11.232735133762931,
          11.148101288789828,
          10.72121219496303,
          10.635221345995792,
          10.549664084781707,
          10.21482359465478,
          9.96651479604412,
          9.96651479604412,
          9.737550145562313,
          9.665316720564281,
          9.665316720564281,
          9.601075888568339,
          9.539097120159237,
          9.369440282352528,
          9.31618523239578,
          9.31618523239578,
          9.31618523239578,
          9.31618523239578,
          9.237612987706292,
          9.237612987706292,
          9.237612987706292
         ],
         "yaxis": "y2"
        },
        {
         "name": "Mean Diff",
         "type": "scatter",
         "x": [
          -3,
          -2.9,
          -2.8,
          -2.6999999999999997,
          -2.5999999999999996,
          -2.4999999999999996,
          -2.3999999999999995,
          -2.2999999999999994,
          -2.1999999999999993,
          -2.099999999999999,
          -1.9999999999999991,
          -1.899999999999999,
          -1.799999999999999,
          -1.6999999999999988,
          -1.5999999999999988,
          -1.4999999999999987,
          -1.3999999999999986,
          -1.2999999999999985,
          -1.1999999999999984,
          -1.0999999999999983,
          -0.9999999999999982,
          -0.8999999999999981,
          -0.799999999999998,
          -0.699999999999998,
          -0.5999999999999979,
          -0.4999999999999978,
          -0.3999999999999977,
          -0.2999999999999976,
          -0.1999999999999975,
          -0.09999999999999742,
          2.6645352591003757e-15,
          0.10000000000000275,
          0.20000000000000284,
          0.30000000000000293,
          0.400000000000003,
          0.5000000000000031,
          0.6000000000000032,
          0.7000000000000033,
          0.8000000000000034,
          0.9000000000000035,
          1.0000000000000036,
          1.1000000000000032,
          1.2000000000000037,
          1.3000000000000043,
          1.400000000000004,
          1.5000000000000036,
          1.600000000000004,
          1.7000000000000046,
          1.8000000000000043,
          1.900000000000004,
          2.0000000000000044,
          2.100000000000005,
          2.2000000000000046,
          2.3000000000000043,
          2.400000000000005,
          2.5000000000000053,
          2.600000000000005,
          2.7000000000000046,
          2.800000000000005,
          2.9000000000000057
         ],
         "y": [
          0.542398780767205,
          0.542398780767205,
          0.542398780767205,
          0.542398780767205,
          0.542398780767205,
          0.542398780767205,
          0.542398780767205,
          0.542398780767205,
          0.542398780767205,
          0.542398780767205,
          0.542398780767205,
          0.542398780767205,
          0.5519544110726797,
          0.5519544110726797,
          0.5519544110726797,
          0.5606577055513615,
          0.5606577055513615,
          0.5606577055513615,
          0.5606577055513615,
          0.5606577055513615,
          0.5606577055513615,
          0.566522502283827,
          0.5721286080620305,
          0.5721286080620305,
          0.5841479951173119,
          0.5917501102150688,
          0.5946101238476587,
          0.6019307303812369,
          0.6069885590474049,
          0.613523012595858,
          0.6137405842274035,
          0.6137405842274035,
          0.6091142957050115,
          0.6026430118248904,
          0.595955507104678,
          0.5899816155500552,
          0.5828709430917332,
          0.5701857707068767,
          0.5605149286416371,
          0.5451188695051878,
          0.5390176660597961,
          0.5071003773796938,
          0.5003411892849039,
          0.49298333249653264,
          0.4613259906253964,
          0.4370105547605924,
          0.4370105547605924,
          0.4100437612736297,
          0.4006487160707591,
          0.4006487160707591,
          0.39060175877574294,
          0.38039210367646253,
          0.348674821341398,
          0.3378960995272355,
          0.3378960995272355,
          0.3378960995272355,
          0.3378960995272355,
          0.3147748169960802,
          0.3147748169960802,
          0.3147748169960802
         ]
        },
        {
         "mode": "lines",
         "name": "Alpha Line",
         "type": "scatter",
         "x": [
          -3,
          -2.9,
          -2.8,
          -2.6999999999999997,
          -2.5999999999999996,
          -2.4999999999999996,
          -2.3999999999999995,
          -2.2999999999999994,
          -2.1999999999999993,
          -2.099999999999999,
          -1.9999999999999991,
          -1.899999999999999,
          -1.799999999999999,
          -1.6999999999999988,
          -1.5999999999999988,
          -1.4999999999999987,
          -1.3999999999999986,
          -1.2999999999999985,
          -1.1999999999999984,
          -1.0999999999999983,
          -0.9999999999999982,
          -0.8999999999999981,
          -0.799999999999998,
          -0.699999999999998,
          -0.5999999999999979,
          -0.4999999999999978,
          -0.3999999999999977,
          -0.2999999999999976,
          -0.1999999999999975,
          -0.09999999999999742,
          2.6645352591003757e-15,
          0.10000000000000275,
          0.20000000000000284,
          0.30000000000000293,
          0.400000000000003,
          0.5000000000000031,
          0.6000000000000032,
          0.7000000000000033,
          0.8000000000000034,
          0.9000000000000035,
          1.0000000000000036,
          1.1000000000000032,
          1.2000000000000037,
          1.3000000000000043,
          1.400000000000004,
          1.5000000000000036,
          1.600000000000004,
          1.7000000000000046,
          1.8000000000000043,
          1.900000000000004,
          2.0000000000000044,
          2.100000000000005,
          2.2000000000000046,
          2.3000000000000043,
          2.400000000000005,
          2.5000000000000053,
          2.600000000000005,
          2.7000000000000046,
          2.800000000000005,
          2.9000000000000057
         ],
         "y": [
          0.55,
          0.55,
          0.55,
          0.55,
          0.55,
          0.55,
          0.55,
          0.55,
          0.55,
          0.55,
          0.55,
          0.55,
          0.55,
          0.55,
          0.55,
          0.55,
          0.55,
          0.55,
          0.55,
          0.55,
          0.55,
          0.55,
          0.55,
          0.55,
          0.55,
          0.55,
          0.55,
          0.55,
          0.55,
          0.55,
          0.55,
          0.55,
          0.55,
          0.55,
          0.55,
          0.55,
          0.55,
          0.55,
          0.55,
          0.55,
          0.55,
          0.55,
          0.55,
          0.55,
          0.55,
          0.55,
          0.55,
          0.55,
          0.55,
          0.55,
          0.55,
          0.55,
          0.55,
          0.55,
          0.55,
          0.55,
          0.55,
          0.55,
          0.55,
          0.55
         ]
        }
       ],
       "layout": {
        "height": 600,
        "legend": {
         "x": 0,
         "xanchor": "right",
         "yanchor": "top"
        },
        "showlegend": true,
        "template": {
         "data": {
          "bar": [
           {
            "error_x": {
             "color": "#2a3f5f"
            },
            "error_y": {
             "color": "#2a3f5f"
            },
            "marker": {
             "line": {
              "color": "#E5ECF6",
              "width": 0.5
             },
             "pattern": {
              "fillmode": "overlay",
              "size": 10,
              "solidity": 0.2
             }
            },
            "type": "bar"
           }
          ],
          "barpolar": [
           {
            "marker": {
             "line": {
              "color": "#E5ECF6",
              "width": 0.5
             },
             "pattern": {
              "fillmode": "overlay",
              "size": 10,
              "solidity": 0.2
             }
            },
            "type": "barpolar"
           }
          ],
          "carpet": [
           {
            "aaxis": {
             "endlinecolor": "#2a3f5f",
             "gridcolor": "white",
             "linecolor": "white",
             "minorgridcolor": "white",
             "startlinecolor": "#2a3f5f"
            },
            "baxis": {
             "endlinecolor": "#2a3f5f",
             "gridcolor": "white",
             "linecolor": "white",
             "minorgridcolor": "white",
             "startlinecolor": "#2a3f5f"
            },
            "type": "carpet"
           }
          ],
          "choropleth": [
           {
            "colorbar": {
             "outlinewidth": 0,
             "ticks": ""
            },
            "type": "choropleth"
           }
          ],
          "contour": [
           {
            "colorbar": {
             "outlinewidth": 0,
             "ticks": ""
            },
            "colorscale": [
             [
              0,
              "#0d0887"
             ],
             [
              0.1111111111111111,
              "#46039f"
             ],
             [
              0.2222222222222222,
              "#7201a8"
             ],
             [
              0.3333333333333333,
              "#9c179e"
             ],
             [
              0.4444444444444444,
              "#bd3786"
             ],
             [
              0.5555555555555556,
              "#d8576b"
             ],
             [
              0.6666666666666666,
              "#ed7953"
             ],
             [
              0.7777777777777778,
              "#fb9f3a"
             ],
             [
              0.8888888888888888,
              "#fdca26"
             ],
             [
              1,
              "#f0f921"
             ]
            ],
            "type": "contour"
           }
          ],
          "contourcarpet": [
           {
            "colorbar": {
             "outlinewidth": 0,
             "ticks": ""
            },
            "type": "contourcarpet"
           }
          ],
          "heatmap": [
           {
            "colorbar": {
             "outlinewidth": 0,
             "ticks": ""
            },
            "colorscale": [
             [
              0,
              "#0d0887"
             ],
             [
              0.1111111111111111,
              "#46039f"
             ],
             [
              0.2222222222222222,
              "#7201a8"
             ],
             [
              0.3333333333333333,
              "#9c179e"
             ],
             [
              0.4444444444444444,
              "#bd3786"
             ],
             [
              0.5555555555555556,
              "#d8576b"
             ],
             [
              0.6666666666666666,
              "#ed7953"
             ],
             [
              0.7777777777777778,
              "#fb9f3a"
             ],
             [
              0.8888888888888888,
              "#fdca26"
             ],
             [
              1,
              "#f0f921"
             ]
            ],
            "type": "heatmap"
           }
          ],
          "histogram": [
           {
            "marker": {
             "pattern": {
              "fillmode": "overlay",
              "size": 10,
              "solidity": 0.2
             }
            },
            "type": "histogram"
           }
          ],
          "histogram2d": [
           {
            "colorbar": {
             "outlinewidth": 0,
             "ticks": ""
            },
            "colorscale": [
             [
              0,
              "#0d0887"
             ],
             [
              0.1111111111111111,
              "#46039f"
             ],
             [
              0.2222222222222222,
              "#7201a8"
             ],
             [
              0.3333333333333333,
              "#9c179e"
             ],
             [
              0.4444444444444444,
              "#bd3786"
             ],
             [
              0.5555555555555556,
              "#d8576b"
             ],
             [
              0.6666666666666666,
              "#ed7953"
             ],
             [
              0.7777777777777778,
              "#fb9f3a"
             ],
             [
              0.8888888888888888,
              "#fdca26"
             ],
             [
              1,
              "#f0f921"
             ]
            ],
            "type": "histogram2d"
           }
          ],
          "histogram2dcontour": [
           {
            "colorbar": {
             "outlinewidth": 0,
             "ticks": ""
            },
            "colorscale": [
             [
              0,
              "#0d0887"
             ],
             [
              0.1111111111111111,
              "#46039f"
             ],
             [
              0.2222222222222222,
              "#7201a8"
             ],
             [
              0.3333333333333333,
              "#9c179e"
             ],
             [
              0.4444444444444444,
              "#bd3786"
             ],
             [
              0.5555555555555556,
              "#d8576b"
             ],
             [
              0.6666666666666666,
              "#ed7953"
             ],
             [
              0.7777777777777778,
              "#fb9f3a"
             ],
             [
              0.8888888888888888,
              "#fdca26"
             ],
             [
              1,
              "#f0f921"
             ]
            ],
            "type": "histogram2dcontour"
           }
          ],
          "mesh3d": [
           {
            "colorbar": {
             "outlinewidth": 0,
             "ticks": ""
            },
            "type": "mesh3d"
           }
          ],
          "parcoords": [
           {
            "line": {
             "colorbar": {
              "outlinewidth": 0,
              "ticks": ""
             }
            },
            "type": "parcoords"
           }
          ],
          "pie": [
           {
            "automargin": true,
            "type": "pie"
           }
          ],
          "scatter": [
           {
            "fillpattern": {
             "fillmode": "overlay",
             "size": 10,
             "solidity": 0.2
            },
            "type": "scatter"
           }
          ],
          "scatter3d": [
           {
            "line": {
             "colorbar": {
              "outlinewidth": 0,
              "ticks": ""
             }
            },
            "marker": {
             "colorbar": {
              "outlinewidth": 0,
              "ticks": ""
             }
            },
            "type": "scatter3d"
           }
          ],
          "scattercarpet": [
           {
            "marker": {
             "colorbar": {
              "outlinewidth": 0,
              "ticks": ""
             }
            },
            "type": "scattercarpet"
           }
          ],
          "scattergeo": [
           {
            "marker": {
             "colorbar": {
              "outlinewidth": 0,
              "ticks": ""
             }
            },
            "type": "scattergeo"
           }
          ],
          "scattergl": [
           {
            "marker": {
             "colorbar": {
              "outlinewidth": 0,
              "ticks": ""
             }
            },
            "type": "scattergl"
           }
          ],
          "scattermap": [
           {
            "marker": {
             "colorbar": {
              "outlinewidth": 0,
              "ticks": ""
             }
            },
            "type": "scattermap"
           }
          ],
          "scattermapbox": [
           {
            "marker": {
             "colorbar": {
              "outlinewidth": 0,
              "ticks": ""
             }
            },
            "type": "scattermapbox"
           }
          ],
          "scatterpolar": [
           {
            "marker": {
             "colorbar": {
              "outlinewidth": 0,
              "ticks": ""
             }
            },
            "type": "scatterpolar"
           }
          ],
          "scatterpolargl": [
           {
            "marker": {
             "colorbar": {
              "outlinewidth": 0,
              "ticks": ""
             }
            },
            "type": "scatterpolargl"
           }
          ],
          "scatterternary": [
           {
            "marker": {
             "colorbar": {
              "outlinewidth": 0,
              "ticks": ""
             }
            },
            "type": "scatterternary"
           }
          ],
          "surface": [
           {
            "colorbar": {
             "outlinewidth": 0,
             "ticks": ""
            },
            "colorscale": [
             [
              0,
              "#0d0887"
             ],
             [
              0.1111111111111111,
              "#46039f"
             ],
             [
              0.2222222222222222,
              "#7201a8"
             ],
             [
              0.3333333333333333,
              "#9c179e"
             ],
             [
              0.4444444444444444,
              "#bd3786"
             ],
             [
              0.5555555555555556,
              "#d8576b"
             ],
             [
              0.6666666666666666,
              "#ed7953"
             ],
             [
              0.7777777777777778,
              "#fb9f3a"
             ],
             [
              0.8888888888888888,
              "#fdca26"
             ],
             [
              1,
              "#f0f921"
             ]
            ],
            "type": "surface"
           }
          ],
          "table": [
           {
            "cells": {
             "fill": {
              "color": "#EBF0F8"
             },
             "line": {
              "color": "white"
             }
            },
            "header": {
             "fill": {
              "color": "#C8D4E3"
             },
             "line": {
              "color": "white"
             }
            },
            "type": "table"
           }
          ]
         },
         "layout": {
          "annotationdefaults": {
           "arrowcolor": "#2a3f5f",
           "arrowhead": 0,
           "arrowwidth": 1
          },
          "autotypenumbers": "strict",
          "coloraxis": {
           "colorbar": {
            "outlinewidth": 0,
            "ticks": ""
           }
          },
          "colorscale": {
           "diverging": [
            [
             0,
             "#8e0152"
            ],
            [
             0.1,
             "#c51b7d"
            ],
            [
             0.2,
             "#de77ae"
            ],
            [
             0.3,
             "#f1b6da"
            ],
            [
             0.4,
             "#fde0ef"
            ],
            [
             0.5,
             "#f7f7f7"
            ],
            [
             0.6,
             "#e6f5d0"
            ],
            [
             0.7,
             "#b8e186"
            ],
            [
             0.8,
             "#7fbc41"
            ],
            [
             0.9,
             "#4d9221"
            ],
            [
             1,
             "#276419"
            ]
           ],
           "sequential": [
            [
             0,
             "#0d0887"
            ],
            [
             0.1111111111111111,
             "#46039f"
            ],
            [
             0.2222222222222222,
             "#7201a8"
            ],
            [
             0.3333333333333333,
             "#9c179e"
            ],
            [
             0.4444444444444444,
             "#bd3786"
            ],
            [
             0.5555555555555556,
             "#d8576b"
            ],
            [
             0.6666666666666666,
             "#ed7953"
            ],
            [
             0.7777777777777778,
             "#fb9f3a"
            ],
            [
             0.8888888888888888,
             "#fdca26"
            ],
            [
             1,
             "#f0f921"
            ]
           ],
           "sequentialminus": [
            [
             0,
             "#0d0887"
            ],
            [
             0.1111111111111111,
             "#46039f"
            ],
            [
             0.2222222222222222,
             "#7201a8"
            ],
            [
             0.3333333333333333,
             "#9c179e"
            ],
            [
             0.4444444444444444,
             "#bd3786"
            ],
            [
             0.5555555555555556,
             "#d8576b"
            ],
            [
             0.6666666666666666,
             "#ed7953"
            ],
            [
             0.7777777777777778,
             "#fb9f3a"
            ],
            [
             0.8888888888888888,
             "#fdca26"
            ],
            [
             1,
             "#f0f921"
            ]
           ]
          },
          "colorway": [
           "#636efa",
           "#EF553B",
           "#00cc96",
           "#ab63fa",
           "#FFA15A",
           "#19d3f3",
           "#FF6692",
           "#B6E880",
           "#FF97FF",
           "#FECB52"
          ],
          "font": {
           "color": "#2a3f5f"
          },
          "geo": {
           "bgcolor": "white",
           "lakecolor": "white",
           "landcolor": "#E5ECF6",
           "showlakes": true,
           "showland": true,
           "subunitcolor": "white"
          },
          "hoverlabel": {
           "align": "left"
          },
          "hovermode": "closest",
          "mapbox": {
           "style": "light"
          },
          "paper_bgcolor": "white",
          "plot_bgcolor": "#E5ECF6",
          "polar": {
           "angularaxis": {
            "gridcolor": "white",
            "linecolor": "white",
            "ticks": ""
           },
           "bgcolor": "#E5ECF6",
           "radialaxis": {
            "gridcolor": "white",
            "linecolor": "white",
            "ticks": ""
           }
          },
          "scene": {
           "xaxis": {
            "backgroundcolor": "#E5ECF6",
            "gridcolor": "white",
            "gridwidth": 2,
            "linecolor": "white",
            "showbackground": true,
            "ticks": "",
            "zerolinecolor": "white"
           },
           "yaxis": {
            "backgroundcolor": "#E5ECF6",
            "gridcolor": "white",
            "gridwidth": 2,
            "linecolor": "white",
            "showbackground": true,
            "ticks": "",
            "zerolinecolor": "white"
           },
           "zaxis": {
            "backgroundcolor": "#E5ECF6",
            "gridcolor": "white",
            "gridwidth": 2,
            "linecolor": "white",
            "showbackground": true,
            "ticks": "",
            "zerolinecolor": "white"
           }
          },
          "shapedefaults": {
           "line": {
            "color": "#2a3f5f"
           }
          },
          "ternary": {
           "aaxis": {
            "gridcolor": "white",
            "linecolor": "white",
            "ticks": ""
           },
           "baxis": {
            "gridcolor": "white",
            "linecolor": "white",
            "ticks": ""
           },
           "bgcolor": "#E5ECF6",
           "caxis": {
            "gridcolor": "white",
            "linecolor": "white",
            "ticks": ""
           }
          },
          "title": {
           "x": 0.05
          },
          "xaxis": {
           "automargin": true,
           "gridcolor": "white",
           "linecolor": "white",
           "ticks": "",
           "title": {
            "standoff": 15
           },
           "zerolinecolor": "white",
           "zerolinewidth": 2
          },
          "yaxis": {
           "automargin": true,
           "gridcolor": "white",
           "linecolor": "white",
           "ticks": "",
           "title": {
            "standoff": 15
           },
           "zerolinecolor": "white",
           "zerolinewidth": 2
          }
         }
        },
        "title": {
         "text": "Threshold A with Fixed Threshold B vs Mean Difference"
        },
        "xaxis": {
         "title": {
          "text": "Threshold A"
         }
        },
        "yaxis": {
         "title": {
          "text": "| mean(A) - mean(B) |"
         }
        },
        "yaxis2": {
         "overlaying": "y",
         "side": "right",
         "title": {
          "text": "Utility"
         }
        }
       }
      }
     },
     "metadata": {},
     "output_type": "display_data"
    }
   ],
   "source": [
    "#Experiment #2\n",
    "from experiment_2 import experiment_2\n",
    "test_alpha = 0.55\n",
    "experiment_2(a, b, u_plus, u_minus, c_plus, c_minus, test_alpha, domain, interval, w_a, w_b)"
   ]
  },
  {
   "cell_type": "code",
   "execution_count": 7,
   "id": "e5d53711",
   "metadata": {},
   "outputs": [
    {
     "name": "stdout",
     "output_type": "stream",
     "text": [
      "Threshold 3.0: 7.087693573488043\n",
      "7.087693573488043 + 0.0\n",
      "Cat 1 Util: []\n",
      "Total: 0\n",
      "C1:    0\n",
      "C2:    0\n",
      "C3:    0\n",
      "C4:    0\n",
      "\n",
      "Threshold 2.9: 7.087693573488043\n",
      "7.087693573488043 + 0.0\n",
      "Cat 1 Util: []\n",
      "Total: 0\n",
      "C1:    0\n",
      "C2:    0\n",
      "C3:    0\n",
      "C4:    0\n",
      "\n",
      "Threshold 2.8: 7.087693573488043\n",
      "7.087693573488043 + 0.0\n",
      "Cat 1 Util: []\n",
      "Total: 0\n",
      "C1:    0\n",
      "C2:    0\n",
      "C3:    0\n",
      "C4:    0\n",
      "\n",
      "Threshold 2.7: 7.087693573488043\n",
      "7.087693573488043 + 0.0\n",
      "Cat 1 Util: []\n",
      "Total: 0\n",
      "C1:    0\n",
      "C2:    0\n",
      "C3:    0\n",
      "C4:    0\n",
      "\n",
      "Threshold 2.6: 7.16626581817753\n",
      "6.227293073823803 + 0.9389727443537272\n",
      "Cat 1 Util: [0.46806669 0.47090605]\n",
      "Total: 2\n",
      "C1:    2\n",
      "C2:    0\n",
      "C3:    0\n",
      "C4:    0\n",
      "\n",
      "Threshold 2.5: 7.16626581817753\n",
      "6.227293073823803 + 0.9389727443537272\n",
      "Cat 1 Util: [0.46806669 0.47090605]\n",
      "Total: 2\n",
      "C1:    2\n",
      "C2:    0\n",
      "C3:    0\n",
      "C4:    0\n",
      "\n",
      "Threshold 2.4: 7.16626581817753\n",
      "6.227293073823803 + 0.9389727443537272\n",
      "Cat 1 Util: [0.46806669 0.47090605]\n",
      "Total: 2\n",
      "C1:    2\n",
      "C2:    0\n",
      "C3:    0\n",
      "C4:    0\n",
      "\n",
      "Threshold 2.3: 7.16626581817753\n",
      "6.227293073823803 + 0.9389727443537272\n",
      "Cat 1 Util: [0.46806669 0.47090605]\n",
      "Total: 2\n",
      "C1:    2\n",
      "C2:    0\n",
      "C3:    0\n",
      "C4:    0\n",
      "\n",
      "Threshold 2.2: 7.219520868134278\n",
      "5.827880902391155 + 1.3916399657431229\n",
      "Cat 1 Util: [0.45266722 0.46806669 0.47090605]\n",
      "Total: 3\n",
      "C1:    3\n",
      "C2:    0\n",
      "C3:    0\n",
      "C4:    0\n",
      "\n",
      "Threshold 2.1: 7.3891777059409876\n",
      "4.654012910447984 + 2.735164795493002\n",
      "Cat 1 Util: [0.44579865 0.44792359 0.44980259 0.45266722 0.46806669 0.47090605]\n",
      "Total: 6\n",
      "C1:    6\n",
      "C2:    0\n",
      "C3:    0\n",
      "C4:    0\n",
      "\n",
      "Threshold 2.0: 7.451156474350089\n",
      "4.277007740913818 + 3.17414873343627\n",
      "Cat 1 Util: [0.43898394 0.44579865 0.44792359 0.44980259 0.45266722 0.46806669\n",
      " 0.47090605]\n",
      "Total: 7\n",
      "C1:    7\n",
      "C2:    0\n",
      "C3:    0\n",
      "C4:    0\n",
      "\n",
      "Threshold 1.9: 7.51539730634603\n",
      "3.9064087974225594 + 3.60898850892347\n",
      "Cat 1 Util: [0.43483978 0.43898394 0.44579865 0.44792359 0.44980259 0.45266722\n",
      " 0.46806669 0.47090605]\n",
      "Total: 8\n",
      "C1:    8\n",
      "C2:    0\n",
      "C3:    0\n",
      "C4:    0\n",
      "\n",
      "Threshold 1.8: 7.51539730634603\n",
      "3.9064087974225594 + 3.60898850892347\n",
      "Cat 1 Util: [0.43483978 0.43898394 0.44579865 0.44792359 0.44980259 0.45266722\n",
      " 0.46806669 0.47090605]\n",
      "Total: 8\n",
      "C1:    8\n",
      "C2:    0\n",
      "C3:    0\n",
      "C4:    0\n",
      "\n",
      "Threshold 1.7: 7.587630731344063\n",
      "3.561478892559531 + 4.026151838784532\n",
      "Cat 1 Util: [0.41716333 0.43483978 0.43898394 0.44579865 0.44792359 0.44980259\n",
      " 0.45266722 0.46806669 0.47090605]\n",
      "Total: 9\n",
      "C1:    9\n",
      "C2:    0\n",
      "C3:    0\n",
      "C4:    0\n",
      "\n",
      "Threshold 1.6: 7.816595381825869\n",
      "2.574661399010374 + 5.241933982815495\n",
      "Cat 1 Util: [0.40470412 0.40493999 0.40613804 0.41716333 0.43483978 0.43898394\n",
      " 0.44579865 0.44792359 0.44980259 0.45266722 0.46806669 0.47090605]\n",
      "Total: 12\n",
      "C1:    12\n",
      "C2:    0\n",
      "C3:    0\n",
      "C4:    0\n",
      "\n",
      "Threshold 1.5: 7.816595381825869\n",
      "2.574661399010374 + 5.241933982815495\n",
      "Cat 1 Util: [0.40470412 0.40493999 0.40613804 0.41716333 0.43483978 0.43898394\n",
      " 0.44579865 0.44792359 0.44980259 0.45266722 0.46806669 0.47090605]\n",
      "Total: 12\n",
      "C1:    12\n",
      "C2:    0\n",
      "C3:    0\n",
      "C4:    0\n",
      "\n",
      "Threshold 1.4: 8.06490418043653\n",
      "1.692241111833715 + 6.372663068602816\n",
      "Cat 1 Util: [0.37544149 0.37554769 0.37973991 0.40470412 0.40493999 0.40613804\n",
      " 0.41716333 0.43483978 0.43898394 0.44579865 0.44792359 0.44980259\n",
      " 0.45266722 0.46806669 0.47090605]\n",
      "Total: 15\n",
      "C1:    15\n",
      "C2:    0\n",
      "C3:    0\n",
      "C4:    0\n",
      "\n",
      "Threshold 1.3: 8.399744670563457\n",
      "0.5457332756577271 + 7.85401139490573\n",
      "Cat 1 Util: [0.36616968 0.37020975 0.3718205  0.37314839 0.37544149 0.37554769\n",
      " 0.37973991 0.40470412 0.40493999 0.40613804 0.41716333 0.43483978\n",
      " 0.43898394 0.44579865 0.44792359 0.44980259 0.45266722 0.46806669\n",
      " 0.47090605]\n",
      "Total: 19\n",
      "C1:    19\n",
      "C2:    0\n",
      "C3:    0\n",
      "C4:    0\n",
      "\n",
      "Threshold 1.2: 8.485301931777542\n",
      "0.2810176646156035 + 8.204284267161938\n",
      "Cat 1 Util: [0.35027287 0.36616968 0.37020975 0.3718205  0.37314839 0.37544149\n",
      " 0.37554769 0.37973991 0.40470412 0.40493999 0.40613804 0.41716333\n",
      " 0.43483978 0.43898394 0.44579865 0.44792359 0.44980259 0.45266722\n",
      " 0.46806669 0.47090605]\n",
      "Total: 20\n",
      "C1:    20\n",
      "C2:    0\n",
      "C3:    0\n",
      "C4:    0\n",
      "\n",
      "Threshold 1.1: 8.57129278074478\n",
      "0.03987463338325964 + 8.531418147361519\n",
      "Cat 1 Util: [0.32713388 0.35027287 0.36616968 0.37020975 0.3718205  0.37314839\n",
      " 0.37544149 0.37554769 0.37973991 0.40470412 0.40493999 0.40613804\n",
      " 0.41716333 0.43483978 0.43898394 0.44579865 0.44792359 0.44980259\n",
      " 0.45266722 0.46806669 0.47090605]\n",
      "Total: 21\n",
      "C1:    21\n",
      "C2:    0\n",
      "C3:    0\n",
      "C4:    0\n",
      "\n",
      "Threshold 1.0: 8.998181874571578\n",
      "-1.0918686083957683 + 10.090050482967346\n",
      "Cat 1 Util: [0.30300575 0.30531962 0.30912959 0.32019851 0.32097886 0.32713388\n",
      " 0.35027287 0.36616968 0.37020975 0.3718205  0.37314839 0.37544149\n",
      " 0.37554769 0.37973991 0.40470412 0.40493999 0.40613804 0.41716333\n",
      " 0.43483978 0.43898394 0.44579865 0.44792359 0.44980259 0.45266722\n",
      " 0.46806669 0.47090605]\n",
      "Total: 26\n",
      "C1:    26\n",
      "C2:    0\n",
      "C3:    0\n",
      "C4:    0\n",
      "\n",
      "Threshold 0.9: 9.082815719544682\n",
      "-1.3071034940580655 + 10.389919213602747\n",
      "Cat 1 Util: [0.29986873 0.30300575 0.30531962 0.30912959 0.32019851 0.32097886\n",
      " 0.32713388 0.35027287 0.36616968 0.37020975 0.3718205  0.37314839\n",
      " 0.37544149 0.37554769 0.37973991 0.40470412 0.40493999 0.40613804\n",
      " 0.41716333 0.43483978 0.43898394 0.44579865 0.44792359 0.44980259\n",
      " 0.45266722 0.46806669 0.47090605]\n",
      "Total: 27\n",
      "C1:    27\n",
      "C2:    0\n",
      "C3:    0\n",
      "C4:    0\n",
      "\n",
      "Violation at threshold 0.8\n",
      "Threshold 0.8: 9.320474339108673\n",
      "-1.8383233225557607 + 11.158797661664432\n",
      "Cat 1 Util: [0.25323147 0.25737159 0.2582754  0.29986873 0.30300575 0.30531962\n",
      " 0.30912959 0.32019851 0.32097886 0.32713388 0.35027287 0.36616968\n",
      " 0.37020975 0.3718205  0.37314839 0.37544149 0.37554769 0.37973991\n",
      " 0.40470412 0.40493999 0.40613804 0.41716333 0.43483978 0.43898394\n",
      " 0.44579865 0.44792359 0.44980259 0.45266722 0.46806669 0.47090605]\n",
      "Total: 30\n",
      "C1:    30\n",
      "C2:    0\n",
      "C3:    0\n",
      "C4:    0\n",
      "\n",
      "Violation at threshold 0.7\n",
      "Threshold 0.7: 9.47396265760649\n",
      "-2.1691127288745737 + 11.643075386481064\n",
      "Cat 1 Util: [0.23500175 0.24927597 0.25323147 0.25737159 0.2582754  0.29986873\n",
      " 0.30300575 0.30531962 0.30912959 0.32019851 0.32097886 0.32713388\n",
      " 0.35027287 0.36616968 0.37020975 0.3718205  0.37314839 0.37544149\n",
      " 0.37554769 0.37973991 0.40470412 0.40493999 0.40613804 0.41716333\n",
      " 0.43483978 0.43898394 0.44579865 0.44792359 0.44980259 0.45266722\n",
      " 0.46806669 0.47090605]\n",
      "Total: 32\n",
      "C1:    32\n",
      "C2:    0\n",
      "C3:    0\n",
      "C4:    0\n",
      "\n",
      "Violation at threshold 0.6\n",
      "Threshold 0.6: 9.685974493613587\n",
      "-2.5935913915282884 + 12.279565885141873\n",
      "Cat 1 Util: [0.20093718 0.21316654 0.22238678 0.23500175 0.24927597 0.25323147\n",
      " 0.25737159 0.2582754  0.29986873 0.30300575 0.30531962 0.30912959\n",
      " 0.32019851 0.32097886 0.32713388 0.35027287 0.36616968 0.37020975\n",
      " 0.3718205  0.37314839 0.37544149 0.37554769 0.37973991 0.40470412\n",
      " 0.40493999 0.40613804 0.41716333 0.43483978 0.43898394 0.44579865\n",
      " 0.44792359 0.44980259 0.45266722 0.46806669 0.47090605]\n",
      "Total: 35\n",
      "C1:    35\n",
      "C2:    0\n",
      "C3:    0\n",
      "C4:    0\n",
      "\n",
      "Violation at threshold 0.5\n",
      "Threshold 0.5: 9.810831977509546\n",
      "-2.823574119574724 + 12.634406097084268\n",
      "Cat 1 Util: [0.17601383 0.17882638 0.20093718 0.21316654 0.22238678 0.23500175\n",
      " 0.24927597 0.25323147 0.25737159 0.2582754  0.29986873 0.30300575\n",
      " 0.30531962 0.30912959 0.32019851 0.32097886 0.32713388 0.35027287\n",
      " 0.36616968 0.37020975 0.3718205  0.37314839 0.37544149 0.37554769\n",
      " 0.37973991 0.40470412 0.40493999 0.40613804 0.41716333 0.43483978\n",
      " 0.43898394 0.44579865 0.44792359 0.44980259 0.45266722 0.46806669\n",
      " 0.47090605]\n",
      "Total: 37\n",
      "C1:    37\n",
      "C2:    0\n",
      "C3:    0\n",
      "C4:    0\n",
      "\n",
      "Violation at threshold 0.4\n",
      "Threshold 0.4: 9.919250606349033\n",
      "-3.008796099538001 + 12.92804670588703\n",
      "Cat 1 Util: [0.1359499  0.15769071 0.17601383 0.17882638 0.20093718 0.21316654\n",
      " 0.22238678 0.23500175 0.24927597 0.25323147 0.25737159 0.2582754\n",
      " 0.29986873 0.30300575 0.30531962 0.30912959 0.32019851 0.32097886\n",
      " 0.32713388 0.35027287 0.36616968 0.37020975 0.3718205  0.37314839\n",
      " 0.37544149 0.37554769 0.37973991 0.40470412 0.40493999 0.40613804\n",
      " 0.41716333 0.43483978 0.43898394 0.44579865 0.44792359 0.44980259\n",
      " 0.45266722 0.46806669 0.47090605]\n",
      "Total: 39\n",
      "C1:    39\n",
      "C2:    0\n",
      "C3:    0\n",
      "C4:    0\n",
      "\n",
      "Violation at threshold 0.3\n",
      "Threshold 0.3: 10.045058594478776\n",
      "-3.197116597896355 + 13.242175192375132\n",
      "Cat 1 Util: [0.0939236  0.10108916 0.11911572 0.1359499  0.15769071 0.17601383\n",
      " 0.17882638 0.20093718 0.21316654 0.22238678 0.23500175 0.24927597\n",
      " 0.25323147 0.25737159 0.2582754  0.29986873 0.30300575 0.30531962\n",
      " 0.30912959 0.32019851 0.32097886 0.32713388 0.35027287 0.36616968\n",
      " 0.37020975 0.3718205  0.37314839 0.37544149 0.37554769 0.37973991\n",
      " 0.40470412 0.40493999 0.40613804 0.41716333 0.43483978 0.43898394\n",
      " 0.44579865 0.44792359 0.44980259 0.45266722 0.46806669 0.47090605]\n",
      "Total: 42\n",
      "C1:    42\n",
      "C2:    0\n",
      "C3:    0\n",
      "C4:    0\n",
      "\n",
      "Violation at threshold 0.2\n",
      "Threshold 0.2: 10.16936737798528\n",
      "-3.3519234006761316 + 13.521290778661411\n",
      "Cat 1 Util: [0.05381115 0.06534988 0.07237409 0.08758048 0.0939236  0.10108916\n",
      " 0.11911572 0.1359499  0.15769071 0.17601383 0.17882638 0.20093718\n",
      " 0.21316654 0.22238678 0.23500175 0.24927597 0.25323147 0.25737159\n",
      " 0.2582754  0.29986873 0.30300575 0.30531962 0.30912959 0.32019851\n",
      " 0.32097886 0.32713388 0.35027287 0.36616968 0.37020975 0.3718205\n",
      " 0.37314839 0.37544149 0.37554769 0.37973991 0.40470412 0.40493999\n",
      " 0.40613804 0.41716333 0.43483978 0.43898394 0.44579865 0.44792359\n",
      " 0.44980259 0.45266722 0.46806669 0.47090605]\n",
      "Total: 46\n",
      "C1:    46\n",
      "C2:    0\n",
      "C3:    0\n",
      "C4:    0\n",
      "\n",
      "Violation at threshold 0.1\n",
      "Threshold 0.1: 10.25968039184307\n",
      "-3.4090835112453157 + 13.668763903088387\n",
      "Cat 1 Util: [0.01556029 0.02052197 0.03290489 0.03403328 0.0444527  0.05381115\n",
      " 0.06534988 0.07237409 0.08758048 0.0939236  0.10108916 0.11911572\n",
      " 0.1359499  0.15769071 0.17601383 0.17882638 0.20093718 0.21316654\n",
      " 0.22238678 0.23500175 0.24927597 0.25323147 0.25737159 0.2582754\n",
      " 0.29986873 0.30300575 0.30531962 0.30912959 0.32019851 0.32097886\n",
      " 0.32713388 0.35027287 0.36616968 0.37020975 0.3718205  0.37314839\n",
      " 0.37544149 0.37554769 0.37973991 0.40470412 0.40493999 0.40613804\n",
      " 0.41716333 0.43483978 0.43898394 0.44579865 0.44792359 0.44980259\n",
      " 0.45266722 0.46806669 0.47090605]\n",
      "Total: 51\n",
      "C1:    51\n",
      "C2:    0\n",
      "C3:    0\n",
      "C4:    0\n",
      "\n",
      "Violation at threshold -0.0\n",
      "Threshold -0.0: 10.25968039184307\n",
      "-3.4090835112453157 + 13.668763903088387\n",
      "Cat 1 Util: [0.01556029 0.02052197 0.03290489 0.03403328 0.0444527  0.05381115\n",
      " 0.06534988 0.07237409 0.08758048 0.0939236  0.10108916 0.11911572\n",
      " 0.1359499  0.15769071 0.17601383 0.17882638 0.20093718 0.21316654\n",
      " 0.22238678 0.23500175 0.24927597 0.25323147 0.25737159 0.2582754\n",
      " 0.29986873 0.30300575 0.30531962 0.30912959 0.32019851 0.32097886\n",
      " 0.32713388 0.35027287 0.36616968 0.37020975 0.3718205  0.37314839\n",
      " 0.37544149 0.37554769 0.37973991 0.40470412 0.40493999 0.40613804\n",
      " 0.41716333 0.43483978 0.43898394 0.44579865 0.44792359 0.44980259\n",
      " 0.45266722 0.46806669 0.47090605]\n",
      "Total: 51\n",
      "C1:    51\n",
      "C2:    0\n",
      "C3:    0\n",
      "C4:    0\n",
      "\n",
      "Violation at threshold -0.1\n",
      "Threshold -0.1: 10.255398116200306\n",
      "-3.350516628253205 + 13.60591474445351\n",
      "Cat 1 Util: [0.01556029 0.02052197 0.03290489 0.03403328 0.0444527  0.05381115\n",
      " 0.06534988 0.07237409 0.08758048 0.0939236  0.10108916 0.11911572\n",
      " 0.1359499  0.15769071 0.17601383 0.17882638 0.20093718 0.21316654\n",
      " 0.22238678 0.23500175 0.24927597 0.25323147 0.25737159 0.2582754\n",
      " 0.29986873 0.30300575 0.30531962 0.30912959 0.32019851 0.32097886\n",
      " 0.32713388 0.35027287 0.36616968 0.37020975 0.3718205  0.37314839\n",
      " 0.37544149 0.37554769 0.37973991 0.40470412 0.40493999 0.40613804\n",
      " 0.41716333 0.43483978 0.43898394 0.44579865 0.44792359 0.44980259\n",
      " 0.45266722 0.46806669 0.47090605]\n",
      "Total: 53\n",
      "C1:    51\n",
      "C2:    0\n",
      "C3:    0\n",
      "C4:    2\n",
      "\n",
      "Violation at threshold -0.2\n",
      "Threshold -0.2: 10.128228169495394\n",
      "-2.943222519782866 + 13.07145068927826\n",
      "Cat 1 Util: [0.01556029 0.02052197 0.03290489 0.03403328 0.0444527  0.05381115\n",
      " 0.06534988 0.07237409 0.08758048 0.0939236  0.10108916 0.11911572\n",
      " 0.1359499  0.15769071 0.17601383 0.17882638 0.20093718 0.21316654\n",
      " 0.22238678 0.23500175 0.24927597 0.25323147 0.25737159 0.2582754\n",
      " 0.29986873 0.30300575 0.30531962 0.30912959 0.32019851 0.32097886\n",
      " 0.32713388 0.35027287 0.36616968 0.37020975 0.3718205  0.37314839\n",
      " 0.37544149 0.37554769 0.37973991 0.40470412 0.40493999 0.40613804\n",
      " 0.41716333 0.43483978 0.43898394 0.44579865 0.44792359 0.44980259\n",
      " 0.45266722 0.46806669 0.47090605]\n",
      "Total: 59\n",
      "C1:    51\n",
      "C2:    0\n",
      "C3:    0\n",
      "C4:    8\n",
      "\n",
      "Violation at threshold -0.3\n",
      "Threshold -0.3: 10.031153273708627\n",
      "-2.6690705160525012 + 12.700223789761129\n",
      "Cat 1 Util: [0.01556029 0.02052197 0.03290489 0.03403328 0.0444527  0.05381115\n",
      " 0.06534988 0.07237409 0.08758048 0.0939236  0.10108916 0.11911572\n",
      " 0.1359499  0.15769071 0.17601383 0.17882638 0.20093718 0.21316654\n",
      " 0.22238678 0.23500175 0.24927597 0.25323147 0.25737159 0.2582754\n",
      " 0.29986873 0.30300575 0.30531962 0.30912959 0.32019851 0.32097886\n",
      " 0.32713388 0.35027287 0.36616968 0.37020975 0.3718205  0.37314839\n",
      " 0.37544149 0.37554769 0.37973991 0.40470412 0.40493999 0.40613804\n",
      " 0.41716333 0.43483978 0.43898394 0.44579865 0.44792359 0.44980259\n",
      " 0.45266722 0.46806669 0.47090605]\n",
      "Total: 62\n",
      "C1:    51\n",
      "C2:    0\n",
      "C3:    0\n",
      "C4:    11\n",
      "\n",
      "Violation at threshold -0.4\n",
      "Threshold -0.4: 9.894574512911726\n",
      "-2.305821633792861 + 12.200396146704588\n",
      "Cat 1 Util: [0.01556029 0.02052197 0.03290489 0.03403328 0.0444527  0.05381115\n",
      " 0.06534988 0.07237409 0.08758048 0.0939236  0.10108916 0.11911572\n",
      " 0.1359499  0.15769071 0.17601383 0.17882638 0.20093718 0.21316654\n",
      " 0.22238678 0.23500175 0.24927597 0.25323147 0.25737159 0.2582754\n",
      " 0.29986873 0.30300575 0.30531962 0.30912959 0.32019851 0.32097886\n",
      " 0.32713388 0.35027287 0.36616968 0.37020975 0.3718205  0.37314839\n",
      " 0.37544149 0.37554769 0.37973991 0.40470412 0.40493999 0.40613804\n",
      " 0.41716333 0.43483978 0.43898394 0.44579865 0.44792359 0.44980259\n",
      " 0.45266722 0.46806669 0.47090605]\n",
      "Total: 65\n",
      "C1:    51\n",
      "C2:    0\n",
      "C3:    0\n",
      "C4:    14\n",
      "\n",
      "Violation at threshold -0.5\n",
      "Threshold -0.5: 9.842262572465545\n",
      "-2.1682085970096296 + 12.010471169475174\n",
      "Cat 1 Util: [0.01556029 0.02052197 0.03290489 0.03403328 0.0444527  0.05381115\n",
      " 0.06534988 0.07237409 0.08758048 0.0939236  0.10108916 0.11911572\n",
      " 0.1359499  0.15769071 0.17601383 0.17882638 0.20093718 0.21316654\n",
      " 0.22238678 0.23500175 0.24927597 0.25323147 0.25737159 0.2582754\n",
      " 0.29986873 0.30300575 0.30531962 0.30912959 0.32019851 0.32097886\n",
      " 0.32713388 0.35027287 0.36616968 0.37020975 0.3718205  0.37314839\n",
      " 0.37544149 0.37554769 0.37973991 0.40470412 0.40493999 0.40613804\n",
      " 0.41716333 0.43483978 0.43898394 0.44579865 0.44792359 0.44980259\n",
      " 0.45266722 0.46806669 0.47090605]\n",
      "Total: 66\n",
      "C1:    51\n",
      "C2:    0\n",
      "C3:    0\n",
      "C4:    15\n",
      "\n",
      "Violation at threshold -0.6\n",
      "Threshold -0.6: 9.711005153380581\n",
      "-1.818875315035457 + 11.529880468416039\n",
      "Cat 1 Util: [0.01556029 0.02052197 0.03290489 0.03403328 0.0444527  0.05381115\n",
      " 0.06534988 0.07237409 0.08758048 0.0939236  0.10108916 0.11911572\n",
      " 0.1359499  0.15769071 0.17601383 0.17882638 0.20093718 0.21316654\n",
      " 0.22238678 0.23500175 0.24927597 0.25323147 0.25737159 0.2582754\n",
      " 0.29986873 0.30300575 0.30531962 0.30912959 0.32019851 0.32097886\n",
      " 0.32713388 0.35027287 0.36616968 0.37020975 0.3718205  0.37314839\n",
      " 0.37544149 0.37554769 0.37973991 0.40470412 0.40493999 0.40613804\n",
      " 0.41716333 0.43483978 0.43898394 0.44579865 0.44792359 0.44980259\n",
      " 0.45266722 0.46806669 0.47090605]\n",
      "Total: 68\n",
      "C1:    51\n",
      "C2:    0\n",
      "C3:    0\n",
      "C4:    17\n",
      "\n",
      "Violation at threshold -0.7\n",
      "Threshold -0.7: 9.506565796590232\n",
      "-1.2706119497337556 + 10.777177746323988\n",
      "Cat 1 Util: [0.01556029 0.02052197 0.03290489 0.03403328 0.0444527  0.05381115\n",
      " 0.06534988 0.07237409 0.08758048 0.0939236  0.10108916 0.11911572\n",
      " 0.1359499  0.15769071 0.17601383 0.17882638 0.20093718 0.21316654\n",
      " 0.22238678 0.23500175 0.24927597 0.25323147 0.25737159 0.2582754\n",
      " 0.29986873 0.30300575 0.30531962 0.30912959 0.32019851 0.32097886\n",
      " 0.32713388 0.35027287 0.36616968 0.37020975 0.3718205  0.37314839\n",
      " 0.37544149 0.37554769 0.37973991 0.40470412 0.40493999 0.40613804\n",
      " 0.41716333 0.43483978 0.43898394 0.44579865 0.44792359 0.44980259\n",
      " 0.45266722 0.46806669 0.47090605]\n",
      "Total: 71\n",
      "C1:    51\n",
      "C2:    0\n",
      "C3:    0\n",
      "C4:    20\n",
      "\n",
      "Violation at threshold -0.8\n",
      "Threshold -0.8: 9.506565796590232\n",
      "-1.2706119497337556 + 10.777177746323988\n",
      "Cat 1 Util: [0.01556029 0.02052197 0.03290489 0.03403328 0.0444527  0.05381115\n",
      " 0.06534988 0.07237409 0.08758048 0.0939236  0.10108916 0.11911572\n",
      " 0.1359499  0.15769071 0.17601383 0.17882638 0.20093718 0.21316654\n",
      " 0.22238678 0.23500175 0.24927597 0.25323147 0.25737159 0.2582754\n",
      " 0.29986873 0.30300575 0.30531962 0.30912959 0.32019851 0.32097886\n",
      " 0.32713388 0.35027287 0.36616968 0.37020975 0.3718205  0.37314839\n",
      " 0.37544149 0.37554769 0.37973991 0.40470412 0.40493999 0.40613804\n",
      " 0.41716333 0.43483978 0.43898394 0.44579865 0.44792359 0.44980259\n",
      " 0.45266722 0.46806669 0.47090605]\n",
      "Total: 71\n",
      "C1:    51\n",
      "C2:    0\n",
      "C3:    0\n",
      "C4:    20\n",
      "\n",
      "Violation at threshold -0.9\n",
      "Threshold -0.9: 9.424197955195611\n",
      "-1.0248715347169823 + 10.449069489912594\n",
      "Cat 1 Util: [0.01556029 0.02052197 0.03290489 0.03403328 0.0444527  0.05381115\n",
      " 0.06534988 0.07237409 0.08758048 0.0939236  0.10108916 0.11911572\n",
      " 0.1359499  0.15769071 0.17601383 0.17882638 0.20093718 0.21316654\n",
      " 0.22238678 0.23500175 0.24927597 0.25323147 0.25737159 0.2582754\n",
      " 0.29986873 0.30300575 0.30531962 0.30912959 0.32019851 0.32097886\n",
      " 0.32713388 0.35027287 0.36616968 0.37020975 0.3718205  0.37314839\n",
      " 0.37544149 0.37554769 0.37973991 0.40470412 0.40493999 0.40613804\n",
      " 0.41716333 0.43483978 0.43898394 0.44579865 0.44792359 0.44980259\n",
      " 0.45266722 0.46806669 0.47090605]\n",
      "Total: 72\n",
      "C1:    51\n",
      "C2:    0\n",
      "C3:    0\n",
      "C4:    21\n",
      "\n",
      "Violation at threshold -1.0\n",
      "Threshold -1.0: 9.340514492537482\n",
      "-0.7689451633761619 + 10.109459655913643\n",
      "Cat 1 Util: [0.01556029 0.02052197 0.03290489 0.03403328 0.0444527  0.05381115\n",
      " 0.06534988 0.07237409 0.08758048 0.0939236  0.10108916 0.11911572\n",
      " 0.1359499  0.15769071 0.17601383 0.17882638 0.20093718 0.21316654\n",
      " 0.22238678 0.23500175 0.24927597 0.25323147 0.25737159 0.2582754\n",
      " 0.29986873 0.30300575 0.30531962 0.30912959 0.32019851 0.32097886\n",
      " 0.32713388 0.35027287 0.36616968 0.37020975 0.3718205  0.37314839\n",
      " 0.37544149 0.37554769 0.37973991 0.40470412 0.40493999 0.40613804\n",
      " 0.41716333 0.43483978 0.43898394 0.44579865 0.44792359 0.44980259\n",
      " 0.45266722 0.46806669 0.47090605]\n",
      "Total: 73\n",
      "C1:    51\n",
      "C2:    0\n",
      "C3:    0\n",
      "C4:    22\n",
      "\n",
      "Violation at threshold -1.1\n",
      "Threshold -1.1: 9.340514492537482\n",
      "-0.7689451633761619 + 10.109459655913643\n",
      "Cat 1 Util: [0.01556029 0.02052197 0.03290489 0.03403328 0.0444527  0.05381115\n",
      " 0.06534988 0.07237409 0.08758048 0.0939236  0.10108916 0.11911572\n",
      " 0.1359499  0.15769071 0.17601383 0.17882638 0.20093718 0.21316654\n",
      " 0.22238678 0.23500175 0.24927597 0.25323147 0.25737159 0.2582754\n",
      " 0.29986873 0.30300575 0.30531962 0.30912959 0.32019851 0.32097886\n",
      " 0.32713388 0.35027287 0.36616968 0.37020975 0.3718205  0.37314839\n",
      " 0.37544149 0.37554769 0.37973991 0.40470412 0.40493999 0.40613804\n",
      " 0.41716333 0.43483978 0.43898394 0.44579865 0.44792359 0.44980259\n",
      " 0.45266722 0.46806669 0.47090605]\n",
      "Total: 73\n",
      "C1:    51\n",
      "C2:    0\n",
      "C3:    0\n",
      "C4:    22\n",
      "\n",
      "Violation at threshold -1.2\n",
      "Threshold -1.2: 9.340514492537482\n",
      "-0.7689451633761619 + 10.109459655913643\n",
      "Cat 1 Util: [0.01556029 0.02052197 0.03290489 0.03403328 0.0444527  0.05381115\n",
      " 0.06534988 0.07237409 0.08758048 0.0939236  0.10108916 0.11911572\n",
      " 0.1359499  0.15769071 0.17601383 0.17882638 0.20093718 0.21316654\n",
      " 0.22238678 0.23500175 0.24927597 0.25323147 0.25737159 0.2582754\n",
      " 0.29986873 0.30300575 0.30531962 0.30912959 0.32019851 0.32097886\n",
      " 0.32713388 0.35027287 0.36616968 0.37020975 0.3718205  0.37314839\n",
      " 0.37544149 0.37554769 0.37973991 0.40470412 0.40493999 0.40613804\n",
      " 0.41716333 0.43483978 0.43898394 0.44579865 0.44792359 0.44980259\n",
      " 0.45266722 0.46806669 0.47090605]\n",
      "Total: 73\n",
      "C1:    51\n",
      "C2:    0\n",
      "C3:    0\n",
      "C4:    22\n",
      "\n",
      "Violation at threshold -1.3\n",
      "Threshold -1.3: 9.340514492537482\n",
      "-0.7689451633761619 + 10.109459655913643\n",
      "Cat 1 Util: [0.01556029 0.02052197 0.03290489 0.03403328 0.0444527  0.05381115\n",
      " 0.06534988 0.07237409 0.08758048 0.0939236  0.10108916 0.11911572\n",
      " 0.1359499  0.15769071 0.17601383 0.17882638 0.20093718 0.21316654\n",
      " 0.22238678 0.23500175 0.24927597 0.25323147 0.25737159 0.2582754\n",
      " 0.29986873 0.30300575 0.30531962 0.30912959 0.32019851 0.32097886\n",
      " 0.32713388 0.35027287 0.36616968 0.37020975 0.3718205  0.37314839\n",
      " 0.37544149 0.37554769 0.37973991 0.40470412 0.40493999 0.40613804\n",
      " 0.41716333 0.43483978 0.43898394 0.44579865 0.44792359 0.44980259\n",
      " 0.45266722 0.46806669 0.47090605]\n",
      "Total: 73\n",
      "C1:    51\n",
      "C2:    0\n",
      "C3:    0\n",
      "C4:    22\n",
      "\n",
      "Violation at threshold -1.4\n",
      "Threshold -1.4: 9.340514492537482\n",
      "-0.7689451633761619 + 10.109459655913643\n",
      "Cat 1 Util: [0.01556029 0.02052197 0.03290489 0.03403328 0.0444527  0.05381115\n",
      " 0.06534988 0.07237409 0.08758048 0.0939236  0.10108916 0.11911572\n",
      " 0.1359499  0.15769071 0.17601383 0.17882638 0.20093718 0.21316654\n",
      " 0.22238678 0.23500175 0.24927597 0.25323147 0.25737159 0.2582754\n",
      " 0.29986873 0.30300575 0.30531962 0.30912959 0.32019851 0.32097886\n",
      " 0.32713388 0.35027287 0.36616968 0.37020975 0.3718205  0.37314839\n",
      " 0.37544149 0.37554769 0.37973991 0.40470412 0.40493999 0.40613804\n",
      " 0.41716333 0.43483978 0.43898394 0.44579865 0.44792359 0.44980259\n",
      " 0.45266722 0.46806669 0.47090605]\n",
      "Total: 73\n",
      "C1:    51\n",
      "C2:    0\n",
      "C3:    0\n",
      "C4:    22\n",
      "\n",
      "Violation at threshold -1.5\n",
      "Threshold -1.5: 9.340514492537482\n",
      "-0.7689451633761619 + 10.109459655913643\n",
      "Cat 1 Util: [0.01556029 0.02052197 0.03290489 0.03403328 0.0444527  0.05381115\n",
      " 0.06534988 0.07237409 0.08758048 0.0939236  0.10108916 0.11911572\n",
      " 0.1359499  0.15769071 0.17601383 0.17882638 0.20093718 0.21316654\n",
      " 0.22238678 0.23500175 0.24927597 0.25323147 0.25737159 0.2582754\n",
      " 0.29986873 0.30300575 0.30531962 0.30912959 0.32019851 0.32097886\n",
      " 0.32713388 0.35027287 0.36616968 0.37020975 0.3718205  0.37314839\n",
      " 0.37544149 0.37554769 0.37973991 0.40470412 0.40493999 0.40613804\n",
      " 0.41716333 0.43483978 0.43898394 0.44579865 0.44792359 0.44980259\n",
      " 0.45266722 0.46806669 0.47090605]\n",
      "Total: 73\n",
      "C1:    51\n",
      "C2:    0\n",
      "C3:    0\n",
      "C4:    22\n",
      "\n",
      "Violation at threshold -1.6\n",
      "Threshold -1.6: 9.261735784389183\n",
      "-0.40125294327806194 + 9.662988727667246\n",
      "Cat 1 Util: [0.01556029 0.02052197 0.03290489 0.03403328 0.0444527  0.05381115\n",
      " 0.06534988 0.07237409 0.08758048 0.0939236  0.10108916 0.11911572\n",
      " 0.1359499  0.15769071 0.17601383 0.17882638 0.20093718 0.21316654\n",
      " 0.22238678 0.23500175 0.24927597 0.25323147 0.25737159 0.2582754\n",
      " 0.29986873 0.30300575 0.30531962 0.30912959 0.32019851 0.32097886\n",
      " 0.32713388 0.35027287 0.36616968 0.37020975 0.3718205  0.37314839\n",
      " 0.37544149 0.37554769 0.37973991 0.40470412 0.40493999 0.40613804\n",
      " 0.41716333 0.43483978 0.43898394 0.44579865 0.44792359 0.44980259\n",
      " 0.45266722 0.46806669 0.47090605]\n",
      "Total: 74\n",
      "C1:    51\n",
      "C2:    0\n",
      "C3:    0\n",
      "C4:    23\n",
      "\n",
      "Violation at threshold -1.7\n",
      "Threshold -1.7: 9.261735784389183\n",
      "-0.40125294327806194 + 9.662988727667246\n",
      "Cat 1 Util: [0.01556029 0.02052197 0.03290489 0.03403328 0.0444527  0.05381115\n",
      " 0.06534988 0.07237409 0.08758048 0.0939236  0.10108916 0.11911572\n",
      " 0.1359499  0.15769071 0.17601383 0.17882638 0.20093718 0.21316654\n",
      " 0.22238678 0.23500175 0.24927597 0.25323147 0.25737159 0.2582754\n",
      " 0.29986873 0.30300575 0.30531962 0.30912959 0.32019851 0.32097886\n",
      " 0.32713388 0.35027287 0.36616968 0.37020975 0.3718205  0.37314839\n",
      " 0.37544149 0.37554769 0.37973991 0.40470412 0.40493999 0.40613804\n",
      " 0.41716333 0.43483978 0.43898394 0.44579865 0.44792359 0.44980259\n",
      " 0.45266722 0.46806669 0.47090605]\n",
      "Total: 74\n",
      "C1:    51\n",
      "C2:    0\n",
      "C3:    0\n",
      "C4:    23\n",
      "\n",
      "Violation at threshold -1.8\n",
      "Threshold -1.8: 9.261735784389183\n",
      "-0.40125294327806194 + 9.662988727667246\n",
      "Cat 1 Util: [0.01556029 0.02052197 0.03290489 0.03403328 0.0444527  0.05381115\n",
      " 0.06534988 0.07237409 0.08758048 0.0939236  0.10108916 0.11911572\n",
      " 0.1359499  0.15769071 0.17601383 0.17882638 0.20093718 0.21316654\n",
      " 0.22238678 0.23500175 0.24927597 0.25323147 0.25737159 0.2582754\n",
      " 0.29986873 0.30300575 0.30531962 0.30912959 0.32019851 0.32097886\n",
      " 0.32713388 0.35027287 0.36616968 0.37020975 0.3718205  0.37314839\n",
      " 0.37544149 0.37554769 0.37973991 0.40470412 0.40493999 0.40613804\n",
      " 0.41716333 0.43483978 0.43898394 0.44579865 0.44792359 0.44980259\n",
      " 0.45266722 0.46806669 0.47090605]\n",
      "Total: 74\n",
      "C1:    51\n",
      "C2:    0\n",
      "C3:    0\n",
      "C4:    23\n",
      "\n",
      "Threshold -1.9: 9.191309638296499\n",
      "0.0 + 9.1913096382965\n",
      "Cat 1 Util: [0.01556029 0.02052197 0.03290489 0.03403328 0.0444527  0.05381115\n",
      " 0.06534988 0.07237409 0.08758048 0.0939236  0.10108916 0.11911572\n",
      " 0.1359499  0.15769071 0.17601383 0.17882638 0.20093718 0.21316654\n",
      " 0.22238678 0.23500175 0.24927597 0.25323147 0.25737159 0.2582754\n",
      " 0.29986873 0.30300575 0.30531962 0.30912959 0.32019851 0.32097886\n",
      " 0.32713388 0.35027287 0.36616968 0.37020975 0.3718205  0.37314839\n",
      " 0.37544149 0.37554769 0.37973991 0.40470412 0.40493999 0.40613804\n",
      " 0.41716333 0.43483978 0.43898394 0.44579865 0.44792359 0.44980259\n",
      " 0.45266722 0.46806669 0.47090605]\n",
      "Total: 75\n",
      "C1:    51\n",
      "C2:    0\n",
      "C3:    0\n",
      "C4:    24\n",
      "\n",
      "Threshold -2.0: 9.191309638296499\n",
      "0.0 + 9.1913096382965\n",
      "Cat 1 Util: [0.01556029 0.02052197 0.03290489 0.03403328 0.0444527  0.05381115\n",
      " 0.06534988 0.07237409 0.08758048 0.0939236  0.10108916 0.11911572\n",
      " 0.1359499  0.15769071 0.17601383 0.17882638 0.20093718 0.21316654\n",
      " 0.22238678 0.23500175 0.24927597 0.25323147 0.25737159 0.2582754\n",
      " 0.29986873 0.30300575 0.30531962 0.30912959 0.32019851 0.32097886\n",
      " 0.32713388 0.35027287 0.36616968 0.37020975 0.3718205  0.37314839\n",
      " 0.37544149 0.37554769 0.37973991 0.40470412 0.40493999 0.40613804\n",
      " 0.41716333 0.43483978 0.43898394 0.44579865 0.44792359 0.44980259\n",
      " 0.45266722 0.46806669 0.47090605]\n",
      "Total: 75\n",
      "C1:    51\n",
      "C2:    0\n",
      "C3:    0\n",
      "C4:    24\n",
      "\n",
      "Threshold -2.1: 9.191309638296499\n",
      "0.0 + 9.1913096382965\n",
      "Cat 1 Util: [0.01556029 0.02052197 0.03290489 0.03403328 0.0444527  0.05381115\n",
      " 0.06534988 0.07237409 0.08758048 0.0939236  0.10108916 0.11911572\n",
      " 0.1359499  0.15769071 0.17601383 0.17882638 0.20093718 0.21316654\n",
      " 0.22238678 0.23500175 0.24927597 0.25323147 0.25737159 0.2582754\n",
      " 0.29986873 0.30300575 0.30531962 0.30912959 0.32019851 0.32097886\n",
      " 0.32713388 0.35027287 0.36616968 0.37020975 0.3718205  0.37314839\n",
      " 0.37544149 0.37554769 0.37973991 0.40470412 0.40493999 0.40613804\n",
      " 0.41716333 0.43483978 0.43898394 0.44579865 0.44792359 0.44980259\n",
      " 0.45266722 0.46806669 0.47090605]\n",
      "Total: 75\n",
      "C1:    51\n",
      "C2:    0\n",
      "C3:    0\n",
      "C4:    24\n",
      "\n",
      "Threshold -2.2: 9.191309638296499\n",
      "0.0 + 9.1913096382965\n",
      "Cat 1 Util: [0.01556029 0.02052197 0.03290489 0.03403328 0.0444527  0.05381115\n",
      " 0.06534988 0.07237409 0.08758048 0.0939236  0.10108916 0.11911572\n",
      " 0.1359499  0.15769071 0.17601383 0.17882638 0.20093718 0.21316654\n",
      " 0.22238678 0.23500175 0.24927597 0.25323147 0.25737159 0.2582754\n",
      " 0.29986873 0.30300575 0.30531962 0.30912959 0.32019851 0.32097886\n",
      " 0.32713388 0.35027287 0.36616968 0.37020975 0.3718205  0.37314839\n",
      " 0.37544149 0.37554769 0.37973991 0.40470412 0.40493999 0.40613804\n",
      " 0.41716333 0.43483978 0.43898394 0.44579865 0.44792359 0.44980259\n",
      " 0.45266722 0.46806669 0.47090605]\n",
      "Total: 75\n",
      "C1:    51\n",
      "C2:    0\n",
      "C3:    0\n",
      "C4:    24\n",
      "\n",
      "Threshold -2.3: 9.191309638296499\n",
      "0.0 + 9.1913096382965\n",
      "Cat 1 Util: [0.01556029 0.02052197 0.03290489 0.03403328 0.0444527  0.05381115\n",
      " 0.06534988 0.07237409 0.08758048 0.0939236  0.10108916 0.11911572\n",
      " 0.1359499  0.15769071 0.17601383 0.17882638 0.20093718 0.21316654\n",
      " 0.22238678 0.23500175 0.24927597 0.25323147 0.25737159 0.2582754\n",
      " 0.29986873 0.30300575 0.30531962 0.30912959 0.32019851 0.32097886\n",
      " 0.32713388 0.35027287 0.36616968 0.37020975 0.3718205  0.37314839\n",
      " 0.37544149 0.37554769 0.37973991 0.40470412 0.40493999 0.40613804\n",
      " 0.41716333 0.43483978 0.43898394 0.44579865 0.44792359 0.44980259\n",
      " 0.45266722 0.46806669 0.47090605]\n",
      "Total: 75\n",
      "C1:    51\n",
      "C2:    0\n",
      "C3:    0\n",
      "C4:    24\n",
      "\n",
      "Threshold -2.4: 9.191309638296499\n",
      "0.0 + 9.1913096382965\n",
      "Cat 1 Util: [0.01556029 0.02052197 0.03290489 0.03403328 0.0444527  0.05381115\n",
      " 0.06534988 0.07237409 0.08758048 0.0939236  0.10108916 0.11911572\n",
      " 0.1359499  0.15769071 0.17601383 0.17882638 0.20093718 0.21316654\n",
      " 0.22238678 0.23500175 0.24927597 0.25323147 0.25737159 0.2582754\n",
      " 0.29986873 0.30300575 0.30531962 0.30912959 0.32019851 0.32097886\n",
      " 0.32713388 0.35027287 0.36616968 0.37020975 0.3718205  0.37314839\n",
      " 0.37544149 0.37554769 0.37973991 0.40470412 0.40493999 0.40613804\n",
      " 0.41716333 0.43483978 0.43898394 0.44579865 0.44792359 0.44980259\n",
      " 0.45266722 0.46806669 0.47090605]\n",
      "Total: 75\n",
      "C1:    51\n",
      "C2:    0\n",
      "C3:    0\n",
      "C4:    24\n",
      "\n",
      "Threshold -2.5: 9.191309638296499\n",
      "0.0 + 9.1913096382965\n",
      "Cat 1 Util: [0.01556029 0.02052197 0.03290489 0.03403328 0.0444527  0.05381115\n",
      " 0.06534988 0.07237409 0.08758048 0.0939236  0.10108916 0.11911572\n",
      " 0.1359499  0.15769071 0.17601383 0.17882638 0.20093718 0.21316654\n",
      " 0.22238678 0.23500175 0.24927597 0.25323147 0.25737159 0.2582754\n",
      " 0.29986873 0.30300575 0.30531962 0.30912959 0.32019851 0.32097886\n",
      " 0.32713388 0.35027287 0.36616968 0.37020975 0.3718205  0.37314839\n",
      " 0.37544149 0.37554769 0.37973991 0.40470412 0.40493999 0.40613804\n",
      " 0.41716333 0.43483978 0.43898394 0.44579865 0.44792359 0.44980259\n",
      " 0.45266722 0.46806669 0.47090605]\n",
      "Total: 75\n",
      "C1:    51\n",
      "C2:    0\n",
      "C3:    0\n",
      "C4:    24\n",
      "\n",
      "Threshold -2.6: 9.191309638296499\n",
      "0.0 + 9.1913096382965\n",
      "Cat 1 Util: [0.01556029 0.02052197 0.03290489 0.03403328 0.0444527  0.05381115\n",
      " 0.06534988 0.07237409 0.08758048 0.0939236  0.10108916 0.11911572\n",
      " 0.1359499  0.15769071 0.17601383 0.17882638 0.20093718 0.21316654\n",
      " 0.22238678 0.23500175 0.24927597 0.25323147 0.25737159 0.2582754\n",
      " 0.29986873 0.30300575 0.30531962 0.30912959 0.32019851 0.32097886\n",
      " 0.32713388 0.35027287 0.36616968 0.37020975 0.3718205  0.37314839\n",
      " 0.37544149 0.37554769 0.37973991 0.40470412 0.40493999 0.40613804\n",
      " 0.41716333 0.43483978 0.43898394 0.44579865 0.44792359 0.44980259\n",
      " 0.45266722 0.46806669 0.47090605]\n",
      "Total: 75\n",
      "C1:    51\n",
      "C2:    0\n",
      "C3:    0\n",
      "C4:    24\n",
      "\n",
      "Threshold -2.7: 9.191309638296499\n",
      "0.0 + 9.1913096382965\n",
      "Cat 1 Util: [0.01556029 0.02052197 0.03290489 0.03403328 0.0444527  0.05381115\n",
      " 0.06534988 0.07237409 0.08758048 0.0939236  0.10108916 0.11911572\n",
      " 0.1359499  0.15769071 0.17601383 0.17882638 0.20093718 0.21316654\n",
      " 0.22238678 0.23500175 0.24927597 0.25323147 0.25737159 0.2582754\n",
      " 0.29986873 0.30300575 0.30531962 0.30912959 0.32019851 0.32097886\n",
      " 0.32713388 0.35027287 0.36616968 0.37020975 0.3718205  0.37314839\n",
      " 0.37544149 0.37554769 0.37973991 0.40470412 0.40493999 0.40613804\n",
      " 0.41716333 0.43483978 0.43898394 0.44579865 0.44792359 0.44980259\n",
      " 0.45266722 0.46806669 0.47090605]\n",
      "Total: 75\n",
      "C1:    51\n",
      "C2:    0\n",
      "C3:    0\n",
      "C4:    24\n",
      "\n",
      "Threshold -2.8: 9.191309638296499\n",
      "0.0 + 9.1913096382965\n",
      "Cat 1 Util: [0.01556029 0.02052197 0.03290489 0.03403328 0.0444527  0.05381115\n",
      " 0.06534988 0.07237409 0.08758048 0.0939236  0.10108916 0.11911572\n",
      " 0.1359499  0.15769071 0.17601383 0.17882638 0.20093718 0.21316654\n",
      " 0.22238678 0.23500175 0.24927597 0.25323147 0.25737159 0.2582754\n",
      " 0.29986873 0.30300575 0.30531962 0.30912959 0.32019851 0.32097886\n",
      " 0.32713388 0.35027287 0.36616968 0.37020975 0.3718205  0.37314839\n",
      " 0.37544149 0.37554769 0.37973991 0.40470412 0.40493999 0.40613804\n",
      " 0.41716333 0.43483978 0.43898394 0.44579865 0.44792359 0.44980259\n",
      " 0.45266722 0.46806669 0.47090605]\n",
      "Total: 75\n",
      "C1:    51\n",
      "C2:    0\n",
      "C3:    0\n",
      "C4:    24\n",
      "\n",
      "Threshold -2.9: 9.191309638296499\n",
      "0.0 + 9.1913096382965\n",
      "Cat 1 Util: [0.01556029 0.02052197 0.03290489 0.03403328 0.0444527  0.05381115\n",
      " 0.06534988 0.07237409 0.08758048 0.0939236  0.10108916 0.11911572\n",
      " 0.1359499  0.15769071 0.17601383 0.17882638 0.20093718 0.21316654\n",
      " 0.22238678 0.23500175 0.24927597 0.25323147 0.25737159 0.2582754\n",
      " 0.29986873 0.30300575 0.30531962 0.30912959 0.32019851 0.32097886\n",
      " 0.32713388 0.35027287 0.36616968 0.37020975 0.3718205  0.37314839\n",
      " 0.37544149 0.37554769 0.37973991 0.40470412 0.40493999 0.40613804\n",
      " 0.41716333 0.43483978 0.43898394 0.44579865 0.44792359 0.44980259\n",
      " 0.45266722 0.46806669 0.47090605]\n",
      "Total: 75\n",
      "C1:    51\n",
      "C2:    0\n",
      "C3:    0\n",
      "C4:    24\n",
      "\n",
      "Greatest utility: 9.191309638296499\n",
      "[0.25323147 0.25737159 0.2582754  0.29986873 0.30300575 0.30531962\n",
      " 0.30912959 0.32019851 0.32097886 0.32713388 0.35027287 0.36616968\n",
      " 0.37020975 0.3718205  0.37314839 0.37544149 0.37554769 0.37973991\n",
      " 0.40470412 0.40493999 0.40613804 0.41716333 0.43483978 0.43898394\n",
      " 0.44579865 0.44792359 0.44980259 0.45266722 0.46806669 0.47090605]\n",
      "Difference between 0.8 and 0.9: [np.float64(0.2532314678917486), np.float64(0.25737158514920544), np.float64(0.2582753950207313)]\n"
     ]
    }
   ],
   "source": [
    "#Experiment #3\n",
    "from experiment_3 import experiment_3\n",
    "test_alpha = 0.55\n",
    "data = experiment_3(a, b, u_plus, u_minus, c_plus, c_minus, test_alpha, domain, interval, w_a, w_b)\n",
    "print(data[0.8])\n",
    "diff = list(set(data[0.8]) - set(data[0.9]))\n",
    "print(f'Difference between 0.8 and 0.9: {diff}')"
   ]
  },
  {
   "cell_type": "code",
   "execution_count": 8,
   "id": "8ef0f432",
   "metadata": {},
   "outputs": [
    {
     "name": "stdout",
     "output_type": "stream",
     "text": [
      "11.158797661664432\n",
      "10.389919213602747\n",
      "30\n",
      "27\n"
     ]
    }
   ],
   "source": [
    "print(np.sum(data[0.8]))\n",
    "print(np.sum(data[0.9]))\n",
    "print(len(data[0.8]))\n",
    "print(len(data[0.9]))\n"
   ]
  },
  {
   "cell_type": "code",
   "execution_count": 9,
   "id": "0149f2a2",
   "metadata": {},
   "outputs": [
    {
     "data": {
      "application/vnd.jupyter.widget-view+json": {
       "model_id": "30a91faacffe4b18aa5df1d4836f51dd",
       "version_major": 2,
       "version_minor": 0
      },
      "text/plain": [
       "HBox(children=(Button(description='-', style=ButtonStyle()), Button(description='+', style=ButtonStyle())))"
      ]
     },
     "metadata": {},
     "output_type": "display_data"
    },
    {
     "data": {
      "application/vnd.jupyter.widget-view+json": {
       "model_id": "0c7533d17933400e9d06cd91541faf54",
       "version_major": 2,
       "version_minor": 0
      },
      "text/plain": [
       "HBox(children=(Checkbox(value=False, description='Show Means'), Checkbox(value=False, description='Show Fair T…"
      ]
     },
     "metadata": {},
     "output_type": "display_data"
    },
    {
     "data": {
      "application/vnd.jupyter.widget-view+json": {
       "model_id": "0f44bf1ab7004a7882b4c5732bfc0e5f",
       "version_major": 2,
       "version_minor": 0
      },
      "text/plain": [
       "Output()"
      ]
     },
     "metadata": {},
     "output_type": "display_data"
    }
   ],
   "source": [
    "# Plots\n",
    "def plot_fairness(show_means=False, show_fair_thresholds=False, show_pof=False, show_utility=False, show_categories=False, show_plot2=False, alpha_idx=0):\n",
    "    fig = plt.figure(figsize=(15, 6))\n",
    "\n",
    "    if show_plot2: \n",
    "        ax1 = plt.subplot(1, 2, 1)\n",
    "        ax2 = plt.subplot(1, 2, 2) \n",
    "        #plt.gcf().set_size_inches(12, 10)\n",
    "        if alpha_idx < len(x_alphas):\n",
    "            current_alpha = x_alphas[alpha_idx]\n",
    "            util_cat1 = np.sum(expected(expected(y_samples_1[alpha_idx][1], c_plus, c_minus), u_plus, u_minus))\n",
    "            util_cat4 = np.sum(expected(expected(y_samples_4[alpha_idx][1], c_plus, c_minus), u_plus, u_minus))\n",
    "            if alpha_idx < len(y_samples_1):\n",
    "                ax2.scatter(y_samples_1[alpha_idx][0], y_samples_1[alpha_idx][1], color='green', s=100, marker='D', \n",
    "                            label=f'Sample 1 (α={current_alpha:.2f})', zorder=5)\n",
    "            if alpha_idx < len(y_samples_3):\n",
    "                ax2.scatter(y_samples_3[alpha_idx][0], y_samples_3[alpha_idx][1], color='red', s=100, marker='D', \n",
    "                            label=f'Sample 3 (α={current_alpha:.2f})', zorder=5)\n",
    "            if alpha_idx < len(y_samples_4):\n",
    "                ax2.scatter(y_samples_4[alpha_idx][0], y_samples_4[alpha_idx][1], color='purple', s=100, marker='D', \n",
    "                            label=f'Sample 4 (α={current_alpha:.2f})', zorder=5)\n",
    "        #ax2.annotate(f'Category 1 Util: {util_cat1:.2f}; Category 4 Util: {util_cat4:.2f}; sum of Util: {util_cat1 + util_cat4:.2f}', xy=(0.5, 0.9), xycoords='axes fraction', fontsize=12)\n",
    "        ax2.legend()\n",
    "        ax2.set_title(f'Sample Distribution for α={current_alpha:.2f}')\n",
    "    else:\n",
    "        ax1 = plt.subplot(1, 1, 1) \n",
    "\n",
    "    if show_means:\n",
    "        ax1.plot(0, mean_a, 'ro', label='Initial μ(A)')\n",
    "        ax1.plot(0, mean_b, 'bo', label='Initial μ(B)')\n",
    "        ax1.plot(x_alphas, y_mean_A, label=\"Fair μ(A)'\", color='red')\n",
    "        ax1.plot(x_alphas, y_mean_B, label=\"Fair μ(B)'\", color='blue') \n",
    "    \n",
    "    if show_fair_thresholds:\n",
    "        ax1.scatter(x_alphas, y_thresh_A, label=\"Fair Threshold (A)\", color='orange')\n",
    "        ax1.scatter(x_alphas, y_thresh_B, label=\"Fair Threshold (B)\", color='yellow', alpha=0.4)\n",
    "    \n",
    "    if show_pof:\n",
    "        ax1.scatter(x_alphas, y_pof, label='Price of Fairness', color='blue')\n",
    "    \n",
    "    if show_categories:\n",
    "        ax1.plot(x_alphas, y_cat_1, label='# of Category 1', color='red', linestyle='--', marker='o')\n",
    "        ax1.plot(x_alphas, y_cat_3, label='# of Category 2', color='darkgreen', linestyle='--', marker='^')\n",
    "        ax1.plot(x_alphas, y_cat_4, label='# of Category 4', color='darkred', linestyle='--', marker='s')\n",
    "    \n",
    "    if show_utility:\n",
    "        ax1b = ax1.twinx()\n",
    "        ax1b.scatter(x_alphas, y_util, label='Total Utility', color='green', linewidth=2)\n",
    "        ax1b.set_ylabel('Total Utility')\n",
    "        ax1b.tick_params(axis='y', labelcolor='green')\n",
    "        #ax1b.scatter(x_alphas, y_opt_util, label='Optimal Utility', color='black', linestyle='--', marker='^')\n",
    "        \n",
    "        # Combine legends from both axes\n",
    "        lines1, labels1 = ax1.get_legend_handles_labels()\n",
    "        lines2, labels2 = ax1b.get_legend_handles_labels()\n",
    "        ax1.legend(lines1 + lines2, labels1 + labels2, loc='best')\n",
    "    else:\n",
    "        ax1.legend()\n",
    "\n",
    "    ax1.set_xlabel(\"α (Fairness Threshold)\")\n",
    "    ax1.set_ylabel(\"Metric Value\")\n",
    "    ax1.grid(True) \n",
    "    ax1.set_title(\"Fair vs. Optimal Means under Varying Fairness Constraint α\") \n",
    "\n",
    "    #plt.title(\"Fair vs. Optimal Means under Varying Fairness Constraint α\")\n",
    "    plt.tight_layout()\n",
    "    plt.show()\n",
    "\n",
    "# Toggle widgets\n",
    "means_toggle = widgets.Checkbox(value=False, description='Show Means')\n",
    "fair_thresholds_toggle = widgets.Checkbox(value=False, description='Show Fair Thresholds')\n",
    "pof_toggle = widgets.Checkbox(value=False, description='Show PoF')\n",
    "utility_toggle = widgets.Checkbox(value=False, description='Show Utility')\n",
    "categories_toggle = widgets.Checkbox(value=False, description='Show Categories')\n",
    "plots_toggle = widgets.Checkbox(value=False, description='Show Plots')\n",
    "\n",
    "alpha_slider = widgets.IntSlider(\n",
    "    value=0,\n",
    "    min=0,\n",
    "    max=len(alphas),\n",
    "    step=1,\n",
    "    description='α Index:',\n",
    "    continuous_update=False,\n",
    "    readout_format='d'\n",
    ")\n",
    "\n",
    "plus_button = widgets.Button(description='+')\n",
    "minus_button = widgets.Button(description='-')\n",
    "\n",
    "# Button click event handlers\n",
    "def increase_value(b):\n",
    "    if alpha_slider.value < alpha_slider.max:\n",
    "        alpha_slider.value += alpha_slider.step\n",
    "\n",
    "def decrease_value(b):\n",
    "    if alpha_slider.value > alpha_slider.min:\n",
    "        alpha_slider.value -= alpha_slider.step\n",
    "\n",
    "plus_button.on_click(increase_value)\n",
    "minus_button.on_click(decrease_value)\n",
    "\n",
    "# Display everything together\n",
    "display(widgets.HBox([minus_button, plus_button]))\n",
    "\n",
    "ui = widgets.HBox([means_toggle, fair_thresholds_toggle, pof_toggle, utility_toggle, categories_toggle, plots_toggle, alpha_slider])\n",
    "out = widgets.interactive_output(plot_fairness, {\n",
    "    'show_means': means_toggle,\n",
    "    'show_fair_thresholds': fair_thresholds_toggle,\n",
    "    'show_pof': pof_toggle,\n",
    "    'show_utility': utility_toggle,\n",
    "    'show_categories': categories_toggle,\n",
    "    'show_plot2': plots_toggle,\n",
    "    'alpha_idx': alpha_slider,\n",
    "})\n",
    "\n",
    "display(ui, out)"
   ]
  },
  {
   "cell_type": "code",
   "execution_count": 10,
   "id": "7e0a6d73",
   "metadata": {},
   "outputs": [
    {
     "ename": "ValueError",
     "evalue": "x and y must be the same size",
     "output_type": "error",
     "traceback": [
      "\u001b[31m---------------------------------------------------------------------------\u001b[39m",
      "\u001b[31mValueError\u001b[39m                                Traceback (most recent call last)",
      "\u001b[36mCell\u001b[39m\u001b[36m \u001b[39m\u001b[32mIn[10]\u001b[39m\u001b[32m, line 58\u001b[39m\n\u001b[32m     55\u001b[39m total_util = w_a * np.array(util_A) + w_b * util_B\n\u001b[32m     56\u001b[39m total_util = total_util[index]\n\u001b[32m---> \u001b[39m\u001b[32m58\u001b[39m \u001b[43mplt\u001b[49m\u001b[43m.\u001b[49m\u001b[43mscatter\u001b[49m\u001b[43m(\u001b[49m\u001b[43mx_util_thresh_A\u001b[49m\u001b[43m,\u001b[49m\u001b[43m \u001b[49m\u001b[43mtotal_util\u001b[49m\u001b[43m,\u001b[49m\u001b[43m \u001b[49m\u001b[43mlabel\u001b[49m\u001b[43m=\u001b[49m\u001b[33;43m'\u001b[39;49m\u001b[33;43mTotal Utility\u001b[39;49m\u001b[33;43m'\u001b[39;49m\u001b[43m,\u001b[49m\u001b[43m \u001b[49m\u001b[43mcolor\u001b[49m\u001b[43m=\u001b[49m\u001b[33;43m'\u001b[39;49m\u001b[33;43mgreen\u001b[39;49m\u001b[33;43m'\u001b[39;49m\u001b[43m)\u001b[49m\n\u001b[32m     59\u001b[39m plt.legend()\n\u001b[32m     60\u001b[39m plt.xlabel(\u001b[33m\"\u001b[39m\u001b[33mThreshold A\u001b[39m\u001b[33m\"\u001b[39m)\n",
      "\u001b[36mFile \u001b[39m\u001b[32m~\\AppData\\Local\\Packages\\PythonSoftwareFoundation.Python.3.12_qbz5n2kfra8p0\\LocalCache\\local-packages\\Python312\\site-packages\\matplotlib\\pyplot.py:3903\u001b[39m, in \u001b[36mscatter\u001b[39m\u001b[34m(x, y, s, c, marker, cmap, norm, vmin, vmax, alpha, linewidths, edgecolors, plotnonfinite, data, **kwargs)\u001b[39m\n\u001b[32m   3884\u001b[39m \u001b[38;5;129m@_copy_docstring_and_deprecators\u001b[39m(Axes.scatter)\n\u001b[32m   3885\u001b[39m \u001b[38;5;28;01mdef\u001b[39;00m\u001b[38;5;250m \u001b[39m\u001b[34mscatter\u001b[39m(\n\u001b[32m   3886\u001b[39m     x: \u001b[38;5;28mfloat\u001b[39m | ArrayLike,\n\u001b[32m   (...)\u001b[39m\u001b[32m   3901\u001b[39m     **kwargs,\n\u001b[32m   3902\u001b[39m ) -> PathCollection:\n\u001b[32m-> \u001b[39m\u001b[32m3903\u001b[39m     __ret = \u001b[43mgca\u001b[49m\u001b[43m(\u001b[49m\u001b[43m)\u001b[49m\u001b[43m.\u001b[49m\u001b[43mscatter\u001b[49m\u001b[43m(\u001b[49m\n\u001b[32m   3904\u001b[39m \u001b[43m        \u001b[49m\u001b[43mx\u001b[49m\u001b[43m,\u001b[49m\n\u001b[32m   3905\u001b[39m \u001b[43m        \u001b[49m\u001b[43my\u001b[49m\u001b[43m,\u001b[49m\n\u001b[32m   3906\u001b[39m \u001b[43m        \u001b[49m\u001b[43ms\u001b[49m\u001b[43m=\u001b[49m\u001b[43ms\u001b[49m\u001b[43m,\u001b[49m\n\u001b[32m   3907\u001b[39m \u001b[43m        \u001b[49m\u001b[43mc\u001b[49m\u001b[43m=\u001b[49m\u001b[43mc\u001b[49m\u001b[43m,\u001b[49m\n\u001b[32m   3908\u001b[39m \u001b[43m        \u001b[49m\u001b[43mmarker\u001b[49m\u001b[43m=\u001b[49m\u001b[43mmarker\u001b[49m\u001b[43m,\u001b[49m\n\u001b[32m   3909\u001b[39m \u001b[43m        \u001b[49m\u001b[43mcmap\u001b[49m\u001b[43m=\u001b[49m\u001b[43mcmap\u001b[49m\u001b[43m,\u001b[49m\n\u001b[32m   3910\u001b[39m \u001b[43m        \u001b[49m\u001b[43mnorm\u001b[49m\u001b[43m=\u001b[49m\u001b[43mnorm\u001b[49m\u001b[43m,\u001b[49m\n\u001b[32m   3911\u001b[39m \u001b[43m        \u001b[49m\u001b[43mvmin\u001b[49m\u001b[43m=\u001b[49m\u001b[43mvmin\u001b[49m\u001b[43m,\u001b[49m\n\u001b[32m   3912\u001b[39m \u001b[43m        \u001b[49m\u001b[43mvmax\u001b[49m\u001b[43m=\u001b[49m\u001b[43mvmax\u001b[49m\u001b[43m,\u001b[49m\n\u001b[32m   3913\u001b[39m \u001b[43m        \u001b[49m\u001b[43malpha\u001b[49m\u001b[43m=\u001b[49m\u001b[43malpha\u001b[49m\u001b[43m,\u001b[49m\n\u001b[32m   3914\u001b[39m \u001b[43m        \u001b[49m\u001b[43mlinewidths\u001b[49m\u001b[43m=\u001b[49m\u001b[43mlinewidths\u001b[49m\u001b[43m,\u001b[49m\n\u001b[32m   3915\u001b[39m \u001b[43m        \u001b[49m\u001b[43medgecolors\u001b[49m\u001b[43m=\u001b[49m\u001b[43medgecolors\u001b[49m\u001b[43m,\u001b[49m\n\u001b[32m   3916\u001b[39m \u001b[43m        \u001b[49m\u001b[43mplotnonfinite\u001b[49m\u001b[43m=\u001b[49m\u001b[43mplotnonfinite\u001b[49m\u001b[43m,\u001b[49m\n\u001b[32m   3917\u001b[39m \u001b[43m        \u001b[49m\u001b[43m*\u001b[49m\u001b[43m*\u001b[49m\u001b[43m(\u001b[49m\u001b[43m{\u001b[49m\u001b[33;43m\"\u001b[39;49m\u001b[33;43mdata\u001b[39;49m\u001b[33;43m\"\u001b[39;49m\u001b[43m:\u001b[49m\u001b[43m \u001b[49m\u001b[43mdata\u001b[49m\u001b[43m}\u001b[49m\u001b[43m \u001b[49m\u001b[38;5;28;43;01mif\u001b[39;49;00m\u001b[43m \u001b[49m\u001b[43mdata\u001b[49m\u001b[43m \u001b[49m\u001b[38;5;129;43;01mis\u001b[39;49;00m\u001b[43m \u001b[49m\u001b[38;5;129;43;01mnot\u001b[39;49;00m\u001b[43m \u001b[49m\u001b[38;5;28;43;01mNone\u001b[39;49;00m\u001b[43m \u001b[49m\u001b[38;5;28;43;01melse\u001b[39;49;00m\u001b[43m \u001b[49m\u001b[43m{\u001b[49m\u001b[43m}\u001b[49m\u001b[43m)\u001b[49m\u001b[43m,\u001b[49m\n\u001b[32m   3918\u001b[39m \u001b[43m        \u001b[49m\u001b[43m*\u001b[49m\u001b[43m*\u001b[49m\u001b[43mkwargs\u001b[49m\u001b[43m,\u001b[49m\n\u001b[32m   3919\u001b[39m \u001b[43m    \u001b[49m\u001b[43m)\u001b[49m\n\u001b[32m   3920\u001b[39m     sci(__ret)\n\u001b[32m   3921\u001b[39m     \u001b[38;5;28;01mreturn\u001b[39;00m __ret\n",
      "\u001b[36mFile \u001b[39m\u001b[32m~\\AppData\\Local\\Packages\\PythonSoftwareFoundation.Python.3.12_qbz5n2kfra8p0\\LocalCache\\local-packages\\Python312\\site-packages\\matplotlib\\__init__.py:1476\u001b[39m, in \u001b[36m_preprocess_data.<locals>.inner\u001b[39m\u001b[34m(ax, data, *args, **kwargs)\u001b[39m\n\u001b[32m   1473\u001b[39m \u001b[38;5;129m@functools\u001b[39m.wraps(func)\n\u001b[32m   1474\u001b[39m \u001b[38;5;28;01mdef\u001b[39;00m\u001b[38;5;250m \u001b[39m\u001b[34minner\u001b[39m(ax, *args, data=\u001b[38;5;28;01mNone\u001b[39;00m, **kwargs):\n\u001b[32m   1475\u001b[39m     \u001b[38;5;28;01mif\u001b[39;00m data \u001b[38;5;129;01mis\u001b[39;00m \u001b[38;5;28;01mNone\u001b[39;00m:\n\u001b[32m-> \u001b[39m\u001b[32m1476\u001b[39m         \u001b[38;5;28;01mreturn\u001b[39;00m \u001b[43mfunc\u001b[49m\u001b[43m(\u001b[49m\n\u001b[32m   1477\u001b[39m \u001b[43m            \u001b[49m\u001b[43max\u001b[49m\u001b[43m,\u001b[49m\n\u001b[32m   1478\u001b[39m \u001b[43m            \u001b[49m\u001b[43m*\u001b[49m\u001b[38;5;28;43mmap\u001b[39;49m\u001b[43m(\u001b[49m\u001b[43msanitize_sequence\u001b[49m\u001b[43m,\u001b[49m\u001b[43m \u001b[49m\u001b[43margs\u001b[49m\u001b[43m)\u001b[49m\u001b[43m,\u001b[49m\n\u001b[32m   1479\u001b[39m \u001b[43m            \u001b[49m\u001b[43m*\u001b[49m\u001b[43m*\u001b[49m\u001b[43m{\u001b[49m\u001b[43mk\u001b[49m\u001b[43m:\u001b[49m\u001b[43m \u001b[49m\u001b[43msanitize_sequence\u001b[49m\u001b[43m(\u001b[49m\u001b[43mv\u001b[49m\u001b[43m)\u001b[49m\u001b[43m \u001b[49m\u001b[38;5;28;43;01mfor\u001b[39;49;00m\u001b[43m \u001b[49m\u001b[43mk\u001b[49m\u001b[43m,\u001b[49m\u001b[43m \u001b[49m\u001b[43mv\u001b[49m\u001b[43m \u001b[49m\u001b[38;5;129;43;01min\u001b[39;49;00m\u001b[43m \u001b[49m\u001b[43mkwargs\u001b[49m\u001b[43m.\u001b[49m\u001b[43mitems\u001b[49m\u001b[43m(\u001b[49m\u001b[43m)\u001b[49m\u001b[43m}\u001b[49m\u001b[43m)\u001b[49m\n\u001b[32m   1481\u001b[39m     bound = new_sig.bind(ax, *args, **kwargs)\n\u001b[32m   1482\u001b[39m     auto_label = (bound.arguments.get(label_namer)\n\u001b[32m   1483\u001b[39m                   \u001b[38;5;129;01mor\u001b[39;00m bound.kwargs.get(label_namer))\n",
      "\u001b[36mFile \u001b[39m\u001b[32m~\\AppData\\Local\\Packages\\PythonSoftwareFoundation.Python.3.12_qbz5n2kfra8p0\\LocalCache\\local-packages\\Python312\\site-packages\\matplotlib\\axes\\_axes.py:4787\u001b[39m, in \u001b[36mAxes.scatter\u001b[39m\u001b[34m(self, x, y, s, c, marker, cmap, norm, vmin, vmax, alpha, linewidths, edgecolors, plotnonfinite, **kwargs)\u001b[39m\n\u001b[32m   4785\u001b[39m y = np.ma.ravel(y)\n\u001b[32m   4786\u001b[39m \u001b[38;5;28;01mif\u001b[39;00m x.size != y.size:\n\u001b[32m-> \u001b[39m\u001b[32m4787\u001b[39m     \u001b[38;5;28;01mraise\u001b[39;00m \u001b[38;5;167;01mValueError\u001b[39;00m(\u001b[33m\"\u001b[39m\u001b[33mx and y must be the same size\u001b[39m\u001b[33m\"\u001b[39m)\n\u001b[32m   4789\u001b[39m \u001b[38;5;28;01mif\u001b[39;00m s \u001b[38;5;129;01mis\u001b[39;00m \u001b[38;5;28;01mNone\u001b[39;00m:\n\u001b[32m   4790\u001b[39m     s = (\u001b[32m20\u001b[39m \u001b[38;5;28;01mif\u001b[39;00m mpl.rcParams[\u001b[33m'\u001b[39m\u001b[33m_internal.classic_mode\u001b[39m\u001b[33m'\u001b[39m] \u001b[38;5;28;01melse\u001b[39;00m\n\u001b[32m   4791\u001b[39m          mpl.rcParams[\u001b[33m'\u001b[39m\u001b[33mlines.markersize\u001b[39m\u001b[33m'\u001b[39m] ** \u001b[32m2.0\u001b[39m)\n",
      "\u001b[31mValueError\u001b[39m: x and y must be the same size"
     ]
    },
    {
     "data": {
      "image/png": "[encoded data removed]",
      "text/plain": [
       "<Figure size 640x480 with 1 Axes>"
      ]
     },
     "metadata": {},
     "output_type": "display_data"
    }
   ],
   "source": [
    "### Experiment where alpha and the threshold of B is fixed while we vary the threshold of A\n",
    "\n",
    "x_thresh_A = []\n",
    "thresh_B = y_thresh_B[-1]\n",
    "y_means_diff = []\n",
    "\n",
    "from utils import expected\n",
    "delta_A = expected(a, c_plus, c_minus)\n",
    "delta_B = expected(b, c_plus, c_minus)\n",
    "\n",
    "B = np.where(b > thresh_B, b + delta_B, b)\n",
    "util_B = np.sum(expected(B, u_plus, u_minus))\n",
    "util_A = []\n",
    "max_A = None\n",
    "max_util = None\n",
    "\n",
    "c1 = []\n",
    "c3 = []\n",
    "c4 = []\n",
    "\n",
    "all_utilities = []\n",
    "thresholds = np.arange(domain[0], domain[1], interval)\n",
    "for threshold in thresholds:\n",
    "    alpha = 0.54\n",
    "    A = np.where(a > threshold, a + delta_A, a)\n",
    "    diff = np.abs(np.mean(A) - np.mean(B))\n",
    "    y_means_diff.append(diff)\n",
    "    utility = np.sum(expected(A, u_plus, u_minus))\n",
    "    if max_util is None or utility > max_util:\n",
    "        condition1 = (delta_A >= 0) & (expected(a, u_plus, u_minus) >= 0)\n",
    "        condition2 = (delta_A >= 0) & (expected(a, u_plus, u_minus) < 0)\n",
    "        condition3 = (delta_A < 0) & (expected(a, u_plus, u_minus) < 0)\n",
    "\n",
    "        c1_indices = np.where(condition1)[0]\n",
    "        c3_indices = np.where(condition2)[0]\n",
    "        c4_indices = np.where(condition3)[0]\n",
    "\n",
    "        c1 = [c1_indices, a[c1_indices] + expected(a, u_plus, u_minus)[c1_indices]]\n",
    "        c3 = [c3_indices, a[c3_indices] + expected(a, u_plus, u_minus)[c3_indices]]\n",
    "        c4 = [c4_indices, a[c4_indices] + expected(a, u_plus, u_minus)[c4_indices]]\n",
    "\n",
    "        max_util = utility\n",
    "        max_A = A\n",
    "    util_A.append(utility)\n",
    "    x_thresh_A.append(threshold)\n",
    "\n",
    "y_means_diff = np.array(y_means_diff)\n",
    "x_thresh_A = np.array(x_thresh_A)\n",
    "\n",
    "index = np.where(y_means_diff < alpha)[0]\n",
    "x_util_thresh_A = x_thresh_A\n",
    "x_util_thresh_A = x_thresh_A\n",
    "w_a = len(a) / ( len(a) + len(b) )\n",
    "w_b = 1 - w_a\n",
    "total_util = w_a * np.array(util_A) + w_b * util_B\n",
    "total_util = total_util[index]\n",
    "\n",
    "plt.scatter(x_util_thresh_A, total_util, label='Total Utility', color='green')\n",
    "plt.legend()\n",
    "plt.xlabel(\"Threshold A\")\n",
    "plt.ylabel(\"Total Utility\")\n",
    "plt.title(\"Threshold A with Fixed Threshold B vs Total Utility\")\n"
   ]
  },
  {
   "cell_type": "code",
   "execution_count": null,
   "id": "004e3a86",
   "metadata": {},
   "outputs": [],
   "source": [
    "### Experiment where the threshold of B is fixed while we track utility and difference in means\n",
    "\n",
    "plt.plot(x_thresh_A, y_means_diff, label='Mean', color='red')\n",
    "plt.axhline(y=alpha, label='Alpha', color='black', linestyle='--')\n",
    "plt.fill_between(x_thresh_A, y_means_diff, alpha, where=(y_means_diff > alpha), color='lightblue', alpha=1, label='Violates Fairness Constraint')\n",
    "plt.xlabel(\"Threshold A\")\n",
    "plt.ylabel(\"Mean Difference |A - B|\")\n",
    "plt.title(\"Threshold A with Fixed Threshold B vs Mean Difference\")\n",
    "plt.legend()\n",
    "\n",
    "ax2 = plt.gca().twinx()\n",
    "ax2.scatter(x_util_thresh_A, total_util, label='Utility at Threshold', color='green')\n",
    "ax2.set_ylabel('Utility')\n",
    "ax2.legend()"
   ]
  },
  {
   "cell_type": "code",
   "execution_count": null,
   "id": "21288952",
   "metadata": {},
   "outputs": [],
   "source": [
    "### Experiment where the threshold of B is fixed while we track utility and difference in means\n",
    "\n",
    "plt.plot(x_thresh_A, y_means_diff, label='Mean', color='red')\n",
    "plt.axhline(y=alpha, label='Alpha', color='black', linestyle='--')\n",
    "plt.fill_between(x_thresh_A, y_means_diff, alpha, where=(y_means_diff > alpha), color='lightblue', alpha=1, label='Violates Fairness Constraint')\n",
    "plt.xlabel(\"Threshold A\")\n",
    "plt.ylabel(\"Mean Difference |A - B|\")\n",
    "plt.title(\"Threshold A with Fixed Threshold B vs Mean Difference\")\n",
    "plt.legend()\n",
    "\n",
    "ax2 = plt.gca().twinx()\n",
    "ax2.scatter(x_util_thresh_A, total_util, label='Utility at Threshold', color='green')\n",
    "ax2.set_ylabel('Utility')\n",
    "ax2.legend()"
   ]
  },
  {
   "cell_type": "code",
   "execution_count": null,
   "id": "76c0bfa0",
   "metadata": {},
   "outputs": [],
   "source": [
    "a = np.array(a)\n",
    "indices = np.arange(len(a))\n",
    "plt.scatter(c1[0], c1[1], color='red', marker='x', label='Category 1')\n",
    "plt.scatter(c3[0], c3[1], color='blue', marker='x', label='Category 3')\n",
    "plt.scatter(c4[0], c4[1], color='green', marker='x', label='Category 4')\n",
    "\n",
    "\n",
    "plt.scatter(indices, a, color='black', alpha=0.5, marker='o', label='A before policy')\n",
    "#plt.scatter(indices, max_A, color='red', marker='x', label='A after policy')\n",
    "#plt.axhline(y=-1.5, color='black', linestyle='--')\n",
    "#plt.axhline(y=0.8, color='black', linestyle='--')\n",
    "plt.legend()\n",
    "plt.xlabel(\"Index\")\n",
    "plt.ylabel(\"Value\")\n",
    "plt.title(\"Distribution of A Before and After Policy\")"
   ]
  },
  {
   "cell_type": "code",
   "execution_count": null,
   "id": "bbca75c5",
   "metadata": {},
   "outputs": [],
   "source": [
    "# Define conditions\n",
    "condition1 = (delta_A >= 0) & (expected(a, u_plus, u_minus) >= 0)\n",
    "condition2 = (delta_A >= 0) & (expected(a, u_plus, u_minus) < 0)\n",
    "condition3 = (delta_A < 0) & (expected(a, u_plus, u_minus) < 0)\n",
    "\n",
    "# Get indices\n",
    "cat1_ind = np.where(condition1)[0]\n",
    "cat3_ind = np.where(condition2)[0]\n",
    "cat4_ind = np.where(condition3)[0]\n",
    "\n",
    "# Compute categories\n",
    "cat1 = [cat1_ind, a[cat1_ind] + expected(a, u_plus, u_minus)[cat1_ind]]\n",
    "cat3 = [cat3_ind, a[cat3_ind] + expected(a, u_plus, u_minus)[cat3_ind]]\n",
    "cat4 = [cat4_ind, a[cat4_ind] + expected(a, u_plus, u_minus)[cat4_ind]]\n",
    "\n",
    "# Plot\n",
    "plt.scatter(cat1[0], cat1[1], color='red', marker='x', label='Category 1')\n",
    "plt.scatter(cat3[0], cat3[1], color='blue', marker='x', label='Category 3')\n",
    "plt.scatter(cat4[0], cat4[1], color='green', marker='x', label='Category 4')\n",
    "\n",
    "# Draw line at smallest cat1 value\n",
    "if len(cat1[1]) > 0:  # Check if cat1 has any points\n",
    "    min_cat1_value = np.min(cat1[1])\n",
    "    plt.axhline(y=min_cat1_value, color='red', linestyle='--', alpha=0.7, \n",
    "                label=f'Min Cat1 = {min_cat1_value:.3f}')\n",
    "\n",
    "plt.legend()\n",
    "plt.show()"
   ]
  },
  {
   "cell_type": "code",
   "execution_count": null,
   "id": "3a70036f",
   "metadata": {},
   "outputs": [],
   "source": [
    "### Experiment where alpha and the threshold of B is fixed while we vary the threshold of A\n",
    "\n",
    "x_thresh_A = []\n",
    "thresh_B = y_thresh_B[-1]\n",
    "y_means_diff = []\n",
    "\n",
    "from utils import expected\n",
    "delta_A = expected(a, c_plus, c_minus)\n",
    "delta_B = expected(b, c_plus, c_minus)\n",
    "\n",
    "B = np.where(b > thresh_B, b + delta_B, b)\n",
    "util_B = np.sum(expected(B, u_plus, u_minus))\n",
    "\n",
    "\n",
    "all_utilities = []\n",
    "thresholds = np.arange(domain[0], domain[1], interval)\n",
    "\n",
    "temp_list = [0.39, 1]\n",
    "for alpha in temp_list:\n",
    "    utility = []\n",
    "    for threshold in thresholds:\n",
    "        A = np.where(a > threshold, a + delta_A, a)\n",
    "        util_A = np.sum(expected(A, u_plus, u_minus))\n",
    "        utility.append(util_A + util_B)\n",
    "    x_thresh_A.append(threshold)\n",
    "    all_utilities.append(utility)\n",
    "print(all_utilities[0]==all_utilities[1])\n",
    "\n",
    "base = all_utilities[0]\n",
    "temp_list = np.arange(0.39, 1, 0.1)\n",
    "all_utilities = []\n",
    "for alpha in temp_list:\n",
    "    utility = []\n",
    "    for threshold in thresholds:\n",
    "        A = np.where(a > threshold, a + delta_A, a)\n",
    "        util_A = np.sum(expected(A, u_plus, u_minus))\n",
    "        utility.append(util_A + util_B)\n",
    "    x_thresh_A.append(threshold)\n",
    "    all_utilities.append(utility)\n",
    "\n",
    "for i in all_utilities:\n",
    "    if i != base:\n",
    "        print(\"Not equal\")\n",
    "        break\n",
    "\n",
    "\n",
    "\n"
   ]
  }
 ],
 "metadata": {
  "kernelspec": {
   "display_name": "Python 3",
   "language": "python",
   "name": "python3"
  },
  "language_info": {
   "codemirror_mode": {
    "name": "ipython",
    "version": 3
   },
   "file_extension": ".py",
   "mimetype": "text/x-python",
   "name": "python",
   "nbconvert_exporter": "python",
   "pygments_lexer": "ipython3",
   "version": "3.12.10"
  }
 },
 "nbformat": 4,
 "nbformat_minor": 5
}
