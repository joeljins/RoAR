{
 "cells": [
  {
   "cell_type": "code",
   "execution_count": 1,
   "id": "056cecf0",
   "metadata": {},
   "outputs": [],
   "source": [
    "# Import necessary modules/libraries\n",
    "from tqdm import tqdm\n",
    "import numpy as np\n",
    "import pandas as pd\n",
    "import matplotlib.pyplot as plt\n",
    "import plotly.graph_objects as go\n",
    "\n",
    "# Import custom utility functions\n",
    "from utils import expected, opt_step"
   ]
  },
  {
   "cell_type": "code",
   "execution_count": 2,
   "id": "a5c0bf57",
   "metadata": {},
   "outputs": [],
   "source": [
    "def fair_opt_step(A, B, u_plus, u_minus, c_plus, c_minus, alpha):\n",
    "    '''\n",
    "    Vectorized thresholding(sample-based) policy\n",
    "    '''\n",
    "    A = np.asarray(A)\n",
    "    B = np.asarray(B)\n",
    "    np.random.seed(1)\n",
    "\n",
    "    w_a = len(A) / (len(A) + len(B))\n",
    "    w_b = 1 - w_a\n",
    "\n",
    "    mean_A, mean_B, util_A, util_B = change(A, B, c_plus, c_minus, u_plus, u_minus)\n",
    "\n",
    "    fairness_diff = np.abs(mean_A - mean_B)\n",
    "    total_util = w_a * util_A + w_b * util_B\n",
    "\n",
    "    # Apply fairness constraint\n",
    "    total_util_masked = np.where(fairness_diff <= alpha, total_util, -np.inf)\n",
    "\n",
    "    # Find best pair (max utility under fairness constraint)\n",
    "\n",
    "    flat_idx = np.argmax(total_util_masked)\n",
    "    i, j = np.unravel_index(flat_idx, total_util.shape)\n",
    "\n",
    "    \n",
    "    '''\n",
    "    k, l = np.unravel_index(np.argmax(total_util), total_util.shape)\n",
    "    bench = -np.inf\n",
    "    best_idx = None\n",
    "    epsilon = 1.08\n",
    "\n",
    "    for i in reversed(range(total_util_masked.shape[0])):\n",
    "        val = total_util_masked[i, l]\n",
    "        if val > bench * epsilon:\n",
    "            bench = val\n",
    "            best_idx = (i, l)\n",
    "\n",
    "\n",
    "    if best_idx is not None:\n",
    "        i, j = best_idx\n",
    "    else:\n",
    "        flat_idx = np.argmax(total_util_masked)\n",
    "        i, j = np.unravel_index(flat_idx, total_util.shape)\n",
    "    '''\n",
    "\n",
    "    opt_A = A[i]\n",
    "    opt_B = B[j]\n",
    "    updated_samples = (mean_A[i, j], mean_B[i, j])\n",
    "    max_util = total_util_masked[i, j]\n",
    "\n",
    "    return (opt_A, opt_B, max_util, updated_samples)\n",
    "\n",
    "def change(A, B, c_plus, c_minus, u_plus, u_minus, prob=0.4):\n",
    "    A = np.asarray(A)\n",
    "    B = np.asarray(B)\n",
    "\n",
    "    delta_A = expected(A, c_plus, c_minus)\n",
    "    delta_B = expected(B, c_plus, c_minus)\n",
    "\n",
    "    A_matrix = A[:, None]  # shape (n, 1)\n",
    "    B_matrix = B[:, None]  # shape (m, 1)\n",
    "\n",
    "    delta_A_matrix = delta_A[:, None]\n",
    "    delta_B_matrix = delta_B[:, None]\n",
    "\n",
    "    # Add small jitter to break ties\n",
    "    #jitter_A = np.random.choice([1e-8, -1e-8], size=A.shape, p=[0.4, 0.6])\n",
    "    #jitter_B = np.random.choice([1e-8, -1e-8], size=B.shape, p=[0.4, 0.6])\n",
    "\n",
    "    A_matrix_adj = np.where(A_matrix > A_matrix.T, A_matrix + delta_A_matrix, A_matrix)\n",
    "    B_matrix_adj = np.where(B_matrix > B_matrix.T, B_matrix + delta_B_matrix, B_matrix)\n",
    "\n",
    "    # Break ties\n",
    "    #A_matrix_adj = np.where(A_matrix + delta_A_matrix == A_matrix.T, A_matrix + jitter_A[:, None], A_matrix_adj)\n",
    "    #B_matrix_adj = np.where(B_matrix + delta_B_matrix == B_matrix.T, B_matrix + jitter_B[:, None], B_matrix_adj)\n",
    "\n",
    "    mean_A = np.mean(A_matrix_adj, axis=0)\n",
    "    mean_B = np.mean(B_matrix_adj, axis=0)\n",
    "\n",
    "    util_A = np.sum(expected(A_matrix_adj, u_plus, u_minus), axis=0)\n",
    "    util_B = np.sum(expected(B_matrix_adj, u_plus, u_minus), axis=0)\n",
    "\n",
    "    # Convert to meshgrids for threshold pairs\n",
    "    mean_A_grid, mean_B_grid = np.meshgrid(mean_A, mean_B, indexing='ij')\n",
    "    util_A_grid, util_B_grid = np.meshgrid(util_A, util_B, indexing='ij')\n",
    "\n",
    "    return mean_A_grid, mean_B_grid, util_A_grid, util_B_grid\n"
   ]
  },
  {
   "cell_type": "code",
   "execution_count": 3,
   "id": "d7bd9193",
   "metadata": {},
   "outputs": [
    {
     "name": "stdout",
     "output_type": "stream",
     "text": [
      "Assumption 2: U+ / U- > C+ / C- is True\n"
     ]
    }
   ],
   "source": [
    "# Set experiment parameters\n",
    "np.random.seed(1)\n",
    "\n",
    "# Distribution parameters\n",
    "mean_a, std_a = 0.5, 1\n",
    "mean_b, std_b = 0.0, 1\n",
    "\n",
    "# Domain of alpha values to test\n",
    "alpha_min, alpha_max = 0.01, 1\n",
    "alphas = np.linspace(alpha_min, alpha_max, num=100)\n",
    "\n",
    "# Sample size of each distribution\n",
    "n = 100\n",
    "\n",
    "# Generate samples from normal distributions\n",
    "a = np.random.normal(mean_a, std_a, n)\n",
    "b = np.random.normal(mean_b, std_b, n)\n",
    "a.sort(), b.sort()\n",
    "w_a = len(a) / (len(a) + len(b))\n",
    "w_b = 1 - w_a\n",
    "\n",
    "#Step Parameters\n",
    "\n",
    "# U+ / U- > C+ / C-\n",
    "u_plus = 1\n",
    "u_minus = -1.1\n",
    "c_plus = 1\n",
    "c_minus = -0.405509\n",
    "# -0.4056\n",
    "# -0.40551\n",
    "print( \"Assumption 2: U+ / U- > C+ / C- is\", (u_plus / u_minus) > (c_plus / c_minus) )"
   ]
  },
  {
   "cell_type": "code",
   "execution_count": 4,
   "id": "e6c1aebf",
   "metadata": {},
   "outputs": [
    {
     "name": "stderr",
     "output_type": "stream",
     "text": [
      "100%|██████████| 100/100 [00:00<00:00, 1410.32it/s]\n"
     ]
    }
   ],
   "source": [
    "# Single step optimization\n",
    "\n",
    "x_alphas = []\n",
    "y_mean_A, y_mean_B = [], []\n",
    "y_thresh_A, y_thresh_B = [], []\n",
    "y_util = []\n",
    "y_pof = [] # Price of fairness\n",
    "\n",
    "\n",
    "y_opt_util = []\n",
    "\n",
    "B_temp = None\n",
    "\n",
    "opt_util_A, opt_util_B = opt_step(a, u_plus, u_minus, c_plus, c_minus)[0], opt_step(b, u_plus, u_minus, c_plus, c_minus)[0]\n",
    "opt_util_A, opt_util_B  = expected(opt_util_A, 1, -1.1), expected(opt_util_B, 1, -1.1)\n",
    "opt_util_A, opt_util_B = np.sum(opt_util_A), np.sum(opt_util_B)\n",
    "y_opt = w_a * opt_util_A + w_b * opt_util_B\n",
    "\n",
    "for alpha in tqdm(alphas):\n",
    "    results = fair_opt_step(a, b, u_plus, u_minus, c_plus, c_minus, alpha)\n",
    "    thresh_A, thresh_B, max_util, (A, B) = results\n",
    "    temp_A = np.where(a>thresh_A, a+expected(a, c_plus, c_minus), a)\n",
    "    temp_B = np.where(b>thresh_B, b+expected(b, c_plus, c_minus), b)\n",
    "    #if np.mean(temp_A) != A or np.mean(temp_B) != B:\n",
    "        #print(f'{np.mean(temp_A)} vs {A}')\n",
    "        #print(f'{np.mean(temp_B)} vs {B}')\n",
    "        #break\n",
    "    if np.abs(A-B) > alpha:\n",
    "        continue\n",
    "    else:\n",
    "        x_alphas.append(alpha)\n",
    "        y_mean_A.append(A)\n",
    "        y_mean_B.append(B)\n",
    "        y_thresh_A.append(thresh_A)\n",
    "        y_thresh_B.append(thresh_B)\n",
    "        y_util.append(max_util)\n",
    "        pof = 1 - (max_util/y_opt)\n",
    "        y_pof.append(pof)"
   ]
  },
  {
   "cell_type": "code",
   "execution_count": 5,
   "id": "405ad8ae",
   "metadata": {},
   "outputs": [
    {
     "data": {
      "application/vnd.plotly.v1+json": {
       "config": {
        "plotlyServerURL": "https://plot.ly"
       },
       "data": [
        {
         "mode": "markers",
         "name": "Fair Threshold (A)",
         "type": "scatter",
         "x": [
          0.05,
          0.060000000000000005,
          0.06999999999999999,
          0.08,
          0.09,
          0.09999999999999999,
          0.11,
          0.12,
          0.13,
          0.14,
          0.15000000000000002,
          0.16,
          0.17,
          0.18000000000000002,
          0.19,
          0.2,
          0.21000000000000002,
          0.22,
          0.23,
          0.24000000000000002,
          0.25,
          0.26,
          0.27,
          0.28,
          0.29000000000000004,
          0.3,
          0.31,
          0.32,
          0.33,
          0.34,
          0.35000000000000003,
          0.36000000000000004,
          0.37,
          0.38,
          0.39,
          0.4,
          0.41000000000000003,
          0.42000000000000004,
          0.43,
          0.44,
          0.45,
          0.46,
          0.47000000000000003,
          0.48000000000000004,
          0.49,
          0.5,
          0.51,
          0.52,
          0.53,
          0.54,
          0.55,
          0.56,
          0.5700000000000001,
          0.5800000000000001,
          0.59,
          0.6,
          0.61,
          0.62,
          0.63,
          0.64,
          0.65,
          0.66,
          0.67,
          0.68,
          0.6900000000000001,
          0.7000000000000001,
          0.7100000000000001,
          0.72,
          0.73,
          0.74,
          0.75,
          0.76,
          0.77,
          0.78,
          0.79,
          0.8,
          0.81,
          0.8200000000000001,
          0.8300000000000001,
          0.8400000000000001,
          0.85,
          0.86,
          0.87,
          0.88,
          0.89,
          0.9,
          0.91,
          0.92,
          0.93,
          0.9400000000000001,
          0.9500000000000001,
          0.9600000000000001,
          0.97,
          0.98,
          0.99,
          1
         ],
         "y": [
          2.6855754065331614,
          2.600255136478842,
          2.2448117642164798,
          2.1598021771098708,
          2.1243453636632417,
          2.019816816422199,
          1.962107937044974,
          1.7528681552332879,
          1.6447237098396141,
          1.6337694423354374,
          1.631629387451427,
          1.6294839079119197,
          1.4015907205927955,
          1.400855949264412,
          1.376168921116225,
          1.3654076293246784,
          1.338983413874505,
          1.2620111803120246,
          1.2420441605773356,
          1.117203109707419,
          1.0866231911821975,
          1.030355466738186,
          1.0024943389018683,
          0.988518146537497,
          0.9100516472082563,
          0.8775637863209194,
          0.8156349472416052,
          0.7855873252542588,
          0.7300947353643834,
          0.690915484667466,
          0.6851564174839438,
          0.6600370694478305,
          0.6201589524816291,
          0.5773400683485594,
          0.543596856834247,
          0.4244282869789443,
          0.32757179244956425,
          0.2992419310700025,
          0.2506296245225899,
          0.19379598737162818,
          0.1561463244289244,
          0.1247150499098858,
          -0.004465862946451238,
          -0.13699564656935337,
          -0.1837278591743331,
          -0.2612069008951028,
          -1.8015386968802827,
          -0.9441138054295894,
          -0.9441138054295894,
          -0.9441138054295894,
          -0.9441138054295894,
          -0.9441138054295894,
          -0.9441138054295894,
          -0.9441138054295894,
          -0.9441138054295894,
          -0.9441138054295894,
          -0.9441138054295894,
          -0.9441138054295894,
          -0.9441138054295894,
          -0.9441138054295894,
          -0.9441138054295894,
          -0.9441138054295894,
          -0.9441138054295894,
          -0.9441138054295894,
          -0.9441138054295894,
          -0.9441138054295894,
          -0.9441138054295894,
          -0.9441138054295894,
          -0.9441138054295894,
          -0.9441138054295894,
          -0.9441138054295894,
          -0.9441138054295894,
          -0.9441138054295894,
          -0.9441138054295894,
          -0.9441138054295894,
          -0.9441138054295894,
          -0.9441138054295894,
          -0.9441138054295894,
          -0.9441138054295894,
          -0.9441138054295894,
          -0.9441138054295894,
          -0.9441138054295894,
          -0.9441138054295894,
          -0.9441138054295894,
          -0.9441138054295894,
          -0.9441138054295894,
          -0.9441138054295894,
          -0.9441138054295894,
          -0.9441138054295894,
          -0.9441138054295894,
          -0.9441138054295894,
          -0.9441138054295894,
          -0.9441138054295894,
          -0.9441138054295894,
          -0.9441138054295894,
          -0.9441138054295894
         ]
        },
        {
         "mode": "markers",
         "name": "Fair Threshold (B)",
         "type": "scatter",
         "x": [
          0.05,
          0.060000000000000005,
          0.06999999999999999,
          0.08,
          0.09,
          0.09999999999999999,
          0.11,
          0.12,
          0.13,
          0.14,
          0.15000000000000002,
          0.16,
          0.17,
          0.18000000000000002,
          0.19,
          0.2,
          0.21000000000000002,
          0.22,
          0.23,
          0.24000000000000002,
          0.25,
          0.26,
          0.27,
          0.28,
          0.29000000000000004,
          0.3,
          0.31,
          0.32,
          0.33,
          0.34,
          0.35000000000000003,
          0.36000000000000004,
          0.37,
          0.38,
          0.39,
          0.4,
          0.41000000000000003,
          0.42000000000000004,
          0.43,
          0.44,
          0.45,
          0.46,
          0.47000000000000003,
          0.48000000000000004,
          0.49,
          0.5,
          0.51,
          0.52,
          0.53,
          0.54,
          0.55,
          0.56,
          0.5700000000000001,
          0.5800000000000001,
          0.59,
          0.6,
          0.61,
          0.62,
          0.63,
          0.64,
          0.65,
          0.66,
          0.67,
          0.68,
          0.6900000000000001,
          0.7000000000000001,
          0.7100000000000001,
          0.72,
          0.73,
          0.74,
          0.75,
          0.76,
          0.77,
          0.78,
          0.79,
          0.8,
          0.81,
          0.8200000000000001,
          0.8300000000000001,
          0.8400000000000001,
          0.85,
          0.86,
          0.87,
          0.88,
          0.89,
          0.9,
          0.91,
          0.92,
          0.93,
          0.9400000000000001,
          0.9500000000000001,
          0.9600000000000001,
          0.97,
          0.98,
          0.99,
          1
         ],
         "y": [
          -0.9537006018079346,
          -0.9537006018079346,
          -0.9537006018079346,
          -0.9537006018079346,
          -0.9537006018079346,
          -0.9537006018079346,
          -0.9537006018079346,
          -0.9537006018079346,
          -0.9537006018079346,
          -0.9537006018079346,
          -0.9537006018079346,
          -0.9537006018079346,
          -0.9537006018079346,
          -0.9537006018079346,
          -0.9537006018079346,
          -0.9537006018079346,
          -0.9537006018079346,
          -0.9537006018079346,
          -0.9537006018079346,
          -0.9537006018079346,
          -0.9537006018079346,
          -0.9537006018079346,
          -0.9537006018079346,
          -0.9537006018079346,
          -0.9537006018079346,
          -0.9537006018079346,
          -0.9537006018079346,
          -0.9537006018079346,
          -0.9537006018079346,
          -0.9537006018079346,
          -0.9537006018079346,
          -0.9537006018079346,
          -0.9537006018079346,
          -0.9537006018079346,
          -0.9537006018079346,
          -0.9537006018079346,
          -0.9537006018079346,
          -0.9537006018079346,
          -0.9537006018079346,
          -0.9537006018079346,
          -0.9537006018079346,
          -0.9537006018079346,
          -0.9537006018079346,
          -0.9537006018079346,
          -0.9537006018079346,
          -0.9537006018079346,
          -0.9537006018079346,
          -0.9537006018079346,
          -0.9537006018079346,
          -0.9537006018079346,
          -0.9537006018079346,
          -0.9537006018079346,
          -0.9537006018079346,
          -0.9537006018079346,
          -0.9537006018079346,
          -0.9537006018079346,
          -0.9537006018079346,
          -0.9537006018079346,
          -0.9537006018079346,
          -0.9537006018079346,
          -0.9537006018079346,
          -0.9537006018079346,
          -0.9537006018079346,
          -0.9537006018079346,
          -0.9537006018079346,
          -0.9537006018079346,
          -0.9537006018079346,
          -0.9537006018079346,
          -0.9537006018079346,
          -0.9537006018079346,
          -0.9537006018079346,
          -0.9537006018079346,
          -0.9537006018079346,
          -0.9537006018079346,
          -0.9537006018079346,
          -0.9537006018079346,
          -0.9537006018079346,
          -0.9537006018079346,
          -0.9537006018079346,
          -0.9537006018079346,
          -0.9537006018079346,
          -0.9537006018079346,
          -0.9537006018079346,
          -0.9537006018079346,
          -0.9537006018079346,
          -0.9537006018079346,
          -0.9537006018079346,
          -0.9537006018079346,
          -0.9537006018079346,
          -0.9537006018079346,
          -0.9537006018079346,
          -0.9537006018079346,
          -0.9537006018079346,
          -0.9537006018079346,
          -0.9537006018079346,
          -0.9537006018079346
         ]
        },
        {
         "mode": "markers",
         "name": "Utility",
         "type": "scatter",
         "x": [
          0.05,
          0.060000000000000005,
          0.06999999999999999,
          0.08,
          0.09,
          0.09999999999999999,
          0.11,
          0.12,
          0.13,
          0.14,
          0.15000000000000002,
          0.16,
          0.17,
          0.18000000000000002,
          0.19,
          0.2,
          0.21000000000000002,
          0.22,
          0.23,
          0.24000000000000002,
          0.25,
          0.26,
          0.27,
          0.28,
          0.29000000000000004,
          0.3,
          0.31,
          0.32,
          0.33,
          0.34,
          0.35000000000000003,
          0.36000000000000004,
          0.37,
          0.38,
          0.39,
          0.4,
          0.41000000000000003,
          0.42000000000000004,
          0.43,
          0.44,
          0.45,
          0.46,
          0.47000000000000003,
          0.48000000000000004,
          0.49,
          0.5,
          0.51,
          0.52,
          0.53,
          0.54,
          0.55,
          0.56,
          0.5700000000000001,
          0.5800000000000001,
          0.59,
          0.6,
          0.61,
          0.62,
          0.63,
          0.64,
          0.65,
          0.66,
          0.67,
          0.68,
          0.6900000000000001,
          0.7000000000000001,
          0.7100000000000001,
          0.72,
          0.73,
          0.74,
          0.75,
          0.76,
          0.77,
          0.78,
          0.79,
          0.8,
          0.81,
          0.8200000000000001,
          0.8300000000000001,
          0.8400000000000001,
          0.85,
          0.86,
          0.87,
          0.88,
          0.89,
          0.9,
          0.91,
          0.92,
          0.93,
          0.9400000000000001,
          0.9500000000000001,
          0.9600000000000001,
          0.97,
          0.98,
          0.99,
          1
         ],
         "y": [
          18.05807088402672,
          18.097052728045814,
          18.138945572902543,
          18.252741222594253,
          18.312214584805652,
          18.373274848675464,
          18.43913471056903,
          18.507712136403597,
          18.667723956116085,
          18.751680730221622,
          18.836167800267724,
          18.92075835745108,
          19.099449824229694,
          19.194757875363244,
          19.386125567811902,
          19.48254155883125,
          19.579420149967053,
          19.77587288732334,
          19.876970418667963,
          20.082293903728157,
          20.18842311536125,
          20.40258912591646,
          20.62002496385078,
          20.729183031179836,
          20.94928086708589,
          21.06011757469392,
          21.283082011013185,
          21.506618452735243,
          21.730233476286116,
          21.953561826971587,
          22.176531274838137,
          22.287983101620032,
          22.50977870259989,
          22.730938659784556,
          22.94979979449986,
          23.274864677095998,
          23.482605246979787,
          23.682292982930115,
          23.977078624001237,
          24.2607071777208,
          24.44420033454513,
          24.712260314468203,
          24.972171946193292,
          25.25881213587736,
          25.513663269081658,
          25.804919932167298,
          26.087911588088254,
          26.136056790386046,
          26.136056790386046,
          26.136056790386046,
          26.136056790386046,
          26.136056790386046,
          26.136056790386046,
          26.136056790386046,
          26.136056790386046,
          26.136056790386046,
          26.136056790386046,
          26.136056790386046,
          26.136056790386046,
          26.136056790386046,
          26.136056790386046,
          26.136056790386046,
          26.136056790386046,
          26.136056790386046,
          26.136056790386046,
          26.136056790386046,
          26.136056790386046,
          26.136056790386046,
          26.136056790386046,
          26.136056790386046,
          26.136056790386046,
          26.136056790386046,
          26.136056790386046,
          26.136056790386046,
          26.136056790386046,
          26.136056790386046,
          26.136056790386046,
          26.136056790386046,
          26.136056790386046,
          26.136056790386046,
          26.136056790386046,
          26.136056790386046,
          26.136056790386046,
          26.136056790386046,
          26.136056790386046,
          26.136056790386046,
          26.136056790386046,
          26.136056790386046,
          26.136056790386046,
          26.136056790386046,
          26.136056790386046,
          26.136056790386046,
          26.136056790386046,
          26.136056790386046,
          26.136056790386046,
          26.136056790386046
         ],
         "yaxis": "y2"
        }
       ],
       "layout": {
        "height": 600,
        "legend": {
         "x": 0,
         "xanchor": "right",
         "yanchor": "top"
        },
        "showlegend": true,
        "template": {
         "data": {
          "bar": [
           {
            "error_x": {
             "color": "#2a3f5f"
            },
            "error_y": {
             "color": "#2a3f5f"
            },
            "marker": {
             "line": {
              "color": "#E5ECF6",
              "width": 0.5
             },
             "pattern": {
              "fillmode": "overlay",
              "size": 10,
              "solidity": 0.2
             }
            },
            "type": "bar"
           }
          ],
          "barpolar": [
           {
            "marker": {
             "line": {
              "color": "#E5ECF6",
              "width": 0.5
             },
             "pattern": {
              "fillmode": "overlay",
              "size": 10,
              "solidity": 0.2
             }
            },
            "type": "barpolar"
           }
          ],
          "carpet": [
           {
            "aaxis": {
             "endlinecolor": "#2a3f5f",
             "gridcolor": "white",
             "linecolor": "white",
             "minorgridcolor": "white",
             "startlinecolor": "#2a3f5f"
            },
            "baxis": {
             "endlinecolor": "#2a3f5f",
             "gridcolor": "white",
             "linecolor": "white",
             "minorgridcolor": "white",
             "startlinecolor": "#2a3f5f"
            },
            "type": "carpet"
           }
          ],
          "choropleth": [
           {
            "colorbar": {
             "outlinewidth": 0,
             "ticks": ""
            },
            "type": "choropleth"
           }
          ],
          "contour": [
           {
            "colorbar": {
             "outlinewidth": 0,
             "ticks": ""
            },
            "colorscale": [
             [
              0,
              "#0d0887"
             ],
             [
              0.1111111111111111,
              "#46039f"
             ],
             [
              0.2222222222222222,
              "#7201a8"
             ],
             [
              0.3333333333333333,
              "#9c179e"
             ],
             [
              0.4444444444444444,
              "#bd3786"
             ],
             [
              0.5555555555555556,
              "#d8576b"
             ],
             [
              0.6666666666666666,
              "#ed7953"
             ],
             [
              0.7777777777777778,
              "#fb9f3a"
             ],
             [
              0.8888888888888888,
              "#fdca26"
             ],
             [
              1,
              "#f0f921"
             ]
            ],
            "type": "contour"
           }
          ],
          "contourcarpet": [
           {
            "colorbar": {
             "outlinewidth": 0,
             "ticks": ""
            },
            "type": "contourcarpet"
           }
          ],
          "heatmap": [
           {
            "colorbar": {
             "outlinewidth": 0,
             "ticks": ""
            },
            "colorscale": [
             [
              0,
              "#0d0887"
             ],
             [
              0.1111111111111111,
              "#46039f"
             ],
             [
              0.2222222222222222,
              "#7201a8"
             ],
             [
              0.3333333333333333,
              "#9c179e"
             ],
             [
              0.4444444444444444,
              "#bd3786"
             ],
             [
              0.5555555555555556,
              "#d8576b"
             ],
             [
              0.6666666666666666,
              "#ed7953"
             ],
             [
              0.7777777777777778,
              "#fb9f3a"
             ],
             [
              0.8888888888888888,
              "#fdca26"
             ],
             [
              1,
              "#f0f921"
             ]
            ],
            "type": "heatmap"
           }
          ],
          "histogram": [
           {
            "marker": {
             "pattern": {
              "fillmode": "overlay",
              "size": 10,
              "solidity": 0.2
             }
            },
            "type": "histogram"
           }
          ],
          "histogram2d": [
           {
            "colorbar": {
             "outlinewidth": 0,
             "ticks": ""
            },
            "colorscale": [
             [
              0,
              "#0d0887"
             ],
             [
              0.1111111111111111,
              "#46039f"
             ],
             [
              0.2222222222222222,
              "#7201a8"
             ],
             [
              0.3333333333333333,
              "#9c179e"
             ],
             [
              0.4444444444444444,
              "#bd3786"
             ],
             [
              0.5555555555555556,
              "#d8576b"
             ],
             [
              0.6666666666666666,
              "#ed7953"
             ],
             [
              0.7777777777777778,
              "#fb9f3a"
             ],
             [
              0.8888888888888888,
              "#fdca26"
             ],
             [
              1,
              "#f0f921"
             ]
            ],
            "type": "histogram2d"
           }
          ],
          "histogram2dcontour": [
           {
            "colorbar": {
             "outlinewidth": 0,
             "ticks": ""
            },
            "colorscale": [
             [
              0,
              "#0d0887"
             ],
             [
              0.1111111111111111,
              "#46039f"
             ],
             [
              0.2222222222222222,
              "#7201a8"
             ],
             [
              0.3333333333333333,
              "#9c179e"
             ],
             [
              0.4444444444444444,
              "#bd3786"
             ],
             [
              0.5555555555555556,
              "#d8576b"
             ],
             [
              0.6666666666666666,
              "#ed7953"
             ],
             [
              0.7777777777777778,
              "#fb9f3a"
             ],
             [
              0.8888888888888888,
              "#fdca26"
             ],
             [
              1,
              "#f0f921"
             ]
            ],
            "type": "histogram2dcontour"
           }
          ],
          "mesh3d": [
           {
            "colorbar": {
             "outlinewidth": 0,
             "ticks": ""
            },
            "type": "mesh3d"
           }
          ],
          "parcoords": [
           {
            "line": {
             "colorbar": {
              "outlinewidth": 0,
              "ticks": ""
             }
            },
            "type": "parcoords"
           }
          ],
          "pie": [
           {
            "automargin": true,
            "type": "pie"
           }
          ],
          "scatter": [
           {
            "fillpattern": {
             "fillmode": "overlay",
             "size": 10,
             "solidity": 0.2
            },
            "type": "scatter"
           }
          ],
          "scatter3d": [
           {
            "line": {
             "colorbar": {
              "outlinewidth": 0,
              "ticks": ""
             }
            },
            "marker": {
             "colorbar": {
              "outlinewidth": 0,
              "ticks": ""
             }
            },
            "type": "scatter3d"
           }
          ],
          "scattercarpet": [
           {
            "marker": {
             "colorbar": {
              "outlinewidth": 0,
              "ticks": ""
             }
            },
            "type": "scattercarpet"
           }
          ],
          "scattergeo": [
           {
            "marker": {
             "colorbar": {
              "outlinewidth": 0,
              "ticks": ""
             }
            },
            "type": "scattergeo"
           }
          ],
          "scattergl": [
           {
            "marker": {
             "colorbar": {
              "outlinewidth": 0,
              "ticks": ""
             }
            },
            "type": "scattergl"
           }
          ],
          "scattermap": [
           {
            "marker": {
             "colorbar": {
              "outlinewidth": 0,
              "ticks": ""
             }
            },
            "type": "scattermap"
           }
          ],
          "scattermapbox": [
           {
            "marker": {
             "colorbar": {
              "outlinewidth": 0,
              "ticks": ""
             }
            },
            "type": "scattermapbox"
           }
          ],
          "scatterpolar": [
           {
            "marker": {
             "colorbar": {
              "outlinewidth": 0,
              "ticks": ""
             }
            },
            "type": "scatterpolar"
           }
          ],
          "scatterpolargl": [
           {
            "marker": {
             "colorbar": {
              "outlinewidth": 0,
              "ticks": ""
             }
            },
            "type": "scatterpolargl"
           }
          ],
          "scatterternary": [
           {
            "marker": {
             "colorbar": {
              "outlinewidth": 0,
              "ticks": ""
             }
            },
            "type": "scatterternary"
           }
          ],
          "surface": [
           {
            "colorbar": {
             "outlinewidth": 0,
             "ticks": ""
            },
            "colorscale": [
             [
              0,
              "#0d0887"
             ],
             [
              0.1111111111111111,
              "#46039f"
             ],
             [
              0.2222222222222222,
              "#7201a8"
             ],
             [
              0.3333333333333333,
              "#9c179e"
             ],
             [
              0.4444444444444444,
              "#bd3786"
             ],
             [
              0.5555555555555556,
              "#d8576b"
             ],
             [
              0.6666666666666666,
              "#ed7953"
             ],
             [
              0.7777777777777778,
              "#fb9f3a"
             ],
             [
              0.8888888888888888,
              "#fdca26"
             ],
             [
              1,
              "#f0f921"
             ]
            ],
            "type": "surface"
           }
          ],
          "table": [
           {
            "cells": {
             "fill": {
              "color": "#EBF0F8"
             },
             "line": {
              "color": "white"
             }
            },
            "header": {
             "fill": {
              "color": "#C8D4E3"
             },
             "line": {
              "color": "white"
             }
            },
            "type": "table"
           }
          ]
         },
         "layout": {
          "annotationdefaults": {
           "arrowcolor": "#2a3f5f",
           "arrowhead": 0,
           "arrowwidth": 1
          },
          "autotypenumbers": "strict",
          "coloraxis": {
           "colorbar": {
            "outlinewidth": 0,
            "ticks": ""
           }
          },
          "colorscale": {
           "diverging": [
            [
             0,
             "#8e0152"
            ],
            [
             0.1,
             "#c51b7d"
            ],
            [
             0.2,
             "#de77ae"
            ],
            [
             0.3,
             "#f1b6da"
            ],
            [
             0.4,
             "#fde0ef"
            ],
            [
             0.5,
             "#f7f7f7"
            ],
            [
             0.6,
             "#e6f5d0"
            ],
            [
             0.7,
             "#b8e186"
            ],
            [
             0.8,
             "#7fbc41"
            ],
            [
             0.9,
             "#4d9221"
            ],
            [
             1,
             "#276419"
            ]
           ],
           "sequential": [
            [
             0,
             "#0d0887"
            ],
            [
             0.1111111111111111,
             "#46039f"
            ],
            [
             0.2222222222222222,
             "#7201a8"
            ],
            [
             0.3333333333333333,
             "#9c179e"
            ],
            [
             0.4444444444444444,
             "#bd3786"
            ],
            [
             0.5555555555555556,
             "#d8576b"
            ],
            [
             0.6666666666666666,
             "#ed7953"
            ],
            [
             0.7777777777777778,
             "#fb9f3a"
            ],
            [
             0.8888888888888888,
             "#fdca26"
            ],
            [
             1,
             "#f0f921"
            ]
           ],
           "sequentialminus": [
            [
             0,
             "#0d0887"
            ],
            [
             0.1111111111111111,
             "#46039f"
            ],
            [
             0.2222222222222222,
             "#7201a8"
            ],
            [
             0.3333333333333333,
             "#9c179e"
            ],
            [
             0.4444444444444444,
             "#bd3786"
            ],
            [
             0.5555555555555556,
             "#d8576b"
            ],
            [
             0.6666666666666666,
             "#ed7953"
            ],
            [
             0.7777777777777778,
             "#fb9f3a"
            ],
            [
             0.8888888888888888,
             "#fdca26"
            ],
            [
             1,
             "#f0f921"
            ]
           ]
          },
          "colorway": [
           "#636efa",
           "#EF553B",
           "#00cc96",
           "#ab63fa",
           "#FFA15A",
           "#19d3f3",
           "#FF6692",
           "#B6E880",
           "#FF97FF",
           "#FECB52"
          ],
          "font": {
           "color": "#2a3f5f"
          },
          "geo": {
           "bgcolor": "white",
           "lakecolor": "white",
           "landcolor": "#E5ECF6",
           "showlakes": true,
           "showland": true,
           "subunitcolor": "white"
          },
          "hoverlabel": {
           "align": "left"
          },
          "hovermode": "closest",
          "mapbox": {
           "style": "light"
          },
          "paper_bgcolor": "white",
          "plot_bgcolor": "#E5ECF6",
          "polar": {
           "angularaxis": {
            "gridcolor": "white",
            "linecolor": "white",
            "ticks": ""
           },
           "bgcolor": "#E5ECF6",
           "radialaxis": {
            "gridcolor": "white",
            "linecolor": "white",
            "ticks": ""
           }
          },
          "scene": {
           "xaxis": {
            "backgroundcolor": "#E5ECF6",
            "gridcolor": "white",
            "gridwidth": 2,
            "linecolor": "white",
            "showbackground": true,
            "ticks": "",
            "zerolinecolor": "white"
           },
           "yaxis": {
            "backgroundcolor": "#E5ECF6",
            "gridcolor": "white",
            "gridwidth": 2,
            "linecolor": "white",
            "showbackground": true,
            "ticks": "",
            "zerolinecolor": "white"
           },
           "zaxis": {
            "backgroundcolor": "#E5ECF6",
            "gridcolor": "white",
            "gridwidth": 2,
            "linecolor": "white",
            "showbackground": true,
            "ticks": "",
            "zerolinecolor": "white"
           }
          },
          "shapedefaults": {
           "line": {
            "color": "#2a3f5f"
           }
          },
          "ternary": {
           "aaxis": {
            "gridcolor": "white",
            "linecolor": "white",
            "ticks": ""
           },
           "baxis": {
            "gridcolor": "white",
            "linecolor": "white",
            "ticks": ""
           },
           "bgcolor": "#E5ECF6",
           "caxis": {
            "gridcolor": "white",
            "linecolor": "white",
            "ticks": ""
           }
          },
          "title": {
           "x": 0.05
          },
          "xaxis": {
           "automargin": true,
           "gridcolor": "white",
           "linecolor": "white",
           "ticks": "",
           "title": {
            "standoff": 15
           },
           "zerolinecolor": "white",
           "zerolinewidth": 2
          },
          "yaxis": {
           "automargin": true,
           "gridcolor": "white",
           "linecolor": "white",
           "ticks": "",
           "title": {
            "standoff": 15
           },
           "zerolinecolor": "white",
           "zerolinewidth": 2
          }
         }
        },
        "title": {
         "text": "Single Step Thresholding Policy"
        },
        "xaxis": {
         "title": {
          "text": "Alpha"
         }
        },
        "yaxis": {
         "title": {
          "text": "Threshold"
         }
        },
        "yaxis2": {
         "overlaying": "y",
         "side": "right",
         "title": {
          "text": "Utility"
         }
        }
       }
      }
     },
     "metadata": {},
     "output_type": "display_data"
    }
   ],
   "source": [
    "def plot_graphs():\n",
    "    \n",
    "    # Traces\n",
    "    thresholds_A = go.Scatter(x=x_alphas, y=y_thresh_A, mode='markers', name=\"Fair Threshold (A)\")\n",
    "    thresholds_B = go.Scatter(x=x_alphas, y=y_thresh_B, mode='markers', name=\"Fair Threshold (B)\") \n",
    "    utilities = go.Scatter(x=x_alphas, y=y_util, mode='markers', name='Utility', yaxis='y2')\n",
    "\n",
    "    # Create figure\n",
    "    fig = go.Figure(data=[thresholds_A, thresholds_B, utilities])\n",
    "\n",
    "    # Add toggle buttons\n",
    "    fig.update_layout(\n",
    "        height = 600,\n",
    "        title='Single Step Thresholding Policy',\n",
    "        xaxis=dict(title=\"Alpha\"),\n",
    "        yaxis=dict(title=\"Threshold\"),\n",
    "        yaxis2=dict(\n",
    "            title=\"Utility\",\n",
    "            overlaying=\"y\",\n",
    "            side=\"right\"\n",
    "        ),\n",
    "        legend=dict(\n",
    "            x=0,          # Right edge of the plotting area\n",
    "            #y=1,          # Top of the plotting area\n",
    "            xanchor='right',   # Legend's left edge aligns at x=1\n",
    "            yanchor='top'     # Legend's top edge aligns at y=1\n",
    "        ),\n",
    "        showlegend=True,\n",
    "    )\n",
    "\n",
    "    fig.show()\n",
    "plot_graphs()"
   ]
  },
  {
   "cell_type": "code",
   "execution_count": 6,
   "id": "ef082a83",
   "metadata": {},
   "outputs": [
    {
     "name": "stderr",
     "output_type": "stream",
     "text": [
      "100%|██████████| 100/100 [00:55<00:00,  1.80it/s]"
     ]
    },
    {
     "name": "stdout",
     "output_type": "stream",
     "text": [
      "True\n"
     ]
    },
    {
     "name": "stderr",
     "output_type": "stream",
     "text": [
      "\n"
     ]
    }
   ],
   "source": [
    "# Experiment 0: Check if vectorized algorithm is the same as the original\n",
    "from experiment_0 import experiment_0\n",
    "print( (x_alphas, y_thresh_A, y_thresh_B) == experiment_0(a, b, u_plus, u_minus, c_plus, c_minus, w_a, w_b, alphas, a, b) )"
   ]
  },
  {
   "cell_type": "code",
   "execution_count": 7,
   "id": "b5eded16",
   "metadata": {},
   "outputs": [
    {
     "name": "stderr",
     "output_type": "stream",
     "text": [
      "100%|██████████| 100/100 [00:00<?, ?it/s]\n"
     ]
    },
    {
     "data": {
      "application/vnd.plotly.v1+json": {
       "config": {
        "plotlyServerURL": "https://plot.ly"
       },
       "data": [
        {
         "mode": "lines",
         "name": "Alpha",
         "type": "scatter",
         "x": [
          -1.8015386968802827,
          -1.560140709497654,
          -1.522201215824003,
          -0.9441138054295894,
          -0.8964963354881377,
          -0.6425181980221402,
          -0.6173103486352778,
          -0.6006191772129212,
          -0.5998912673140309,
          -0.5729686221561705,
          -0.4357694342590688,
          -0.38762896408483627,
          -0.37785841792137176,
          -0.3452056414987196,
          -0.2612069008951028,
          -0.2543979409966528,
          -0.24715829375083764,
          -0.19166075172530905,
          -0.1871727001195994,
          -0.1837278591743331,
          -0.17124613083681905,
          -0.17066228628903057,
          -0.13873040745422238,
          -0.13699564656935337,
          -0.12000084394812927,
          -0.11175641365007538,
          -0.028171752263455696,
          -0.004465862946451238,
          0.10324647314402263,
          0.11594564533158436,
          0.1247150499098858,
          0.14775015350648135,
          0.1506572775871225,
          0.1561463244289244,
          0.17758279598649251,
          0.19379598737162818,
          0.20190716489728433,
          0.2321119203739841,
          0.2506296245225899,
          0.27767185738964073,
          0.2911057666252219,
          0.2992419310700025,
          0.3081644476383851,
          0.32757179244956425,
          0.37710977448135186,
          0.4244282869789443,
          0.48733540108109863,
          0.5422137467155929,
          0.543596856834247,
          0.550807754776029,
          0.5773400683485594,
          0.6190086458074588,
          0.6201589524816291,
          0.6218212709914369,
          0.6600370694478305,
          0.6851564174839438,
          0.6865613909882843,
          0.690915484667466,
          0.6982997201267698,
          0.7300947353643834,
          0.7344156978170922,
          0.7855873252542588,
          0.8001703199558274,
          0.8156349472416052,
          0.8190390960570986,
          0.8775637863209194,
          0.9100516472082563,
          0.923494354064113,
          0.988518146537497,
          1.0024943389018683,
          1.0129298204180088,
          1.030355466738186,
          1.0828152137158222,
          1.0866231911821975,
          1.117203109707419,
          1.1980320340722188,
          1.2420441605773356,
          1.2620111803120246,
          1.3279746426072463,
          1.338983413874505,
          1.3654076293246784,
          1.376168921116225,
          1.385141164270728,
          1.400855949264412,
          1.4015907205927955,
          1.4311020813035573,
          1.6294839079119197,
          1.631629387451427,
          1.6337694423354374,
          1.6447237098396141,
          1.698917879901507,
          1.7528681552332879,
          1.962107937044974,
          2.019816816422199,
          2.1243453636632417,
          2.1598021771098708,
          2.1924546010277464,
          2.2448117642164798,
          2.600255136478842,
          2.6855754065331614
         ],
         "y": [
          0.52,
          0.52,
          0.52,
          0.52,
          0.52,
          0.52,
          0.52,
          0.52,
          0.52,
          0.52,
          0.52,
          0.52,
          0.52,
          0.52,
          0.52,
          0.52,
          0.52,
          0.52,
          0.52,
          0.52,
          0.52,
          0.52,
          0.52,
          0.52,
          0.52,
          0.52,
          0.52,
          0.52,
          0.52,
          0.52,
          0.52,
          0.52,
          0.52,
          0.52,
          0.52,
          0.52,
          0.52,
          0.52,
          0.52,
          0.52,
          0.52,
          0.52,
          0.52,
          0.52,
          0.52,
          0.52,
          0.52,
          0.52,
          0.52,
          0.52,
          0.52,
          0.52,
          0.52,
          0.52,
          0.52,
          0.52,
          0.52,
          0.52,
          0.52,
          0.52,
          0.52,
          0.52,
          0.52,
          0.52,
          0.52,
          0.52,
          0.52,
          0.52,
          0.52,
          0.52,
          0.52,
          0.52,
          0.52,
          0.52,
          0.52,
          0.52,
          0.52,
          0.52,
          0.52,
          0.52,
          0.52,
          0.52,
          0.52,
          0.52,
          0.52,
          0.52,
          0.52,
          0.52,
          0.52,
          0.52,
          0.52,
          0.52,
          0.52,
          0.52,
          0.52,
          0.52,
          0.52,
          0.52,
          0.52,
          0.52
         ]
        },
        {
         "fill": "tonexty",
         "fillcolor": "rgba(0,0,255,0.2)",
         "mode": "markers",
         "name": "Mean Diff",
         "type": "scatter",
         "x": [
          -1.8015386968802827,
          -1.560140709497654,
          -1.522201215824003,
          -0.9441138054295894,
          -0.8964963354881377,
          -0.6425181980221402,
          -0.6173103486352778,
          -0.6006191772129212,
          -0.5998912673140309,
          -0.5729686221561705,
          -0.4357694342590688,
          -0.38762896408483627,
          -0.37785841792137176,
          -0.3452056414987196,
          -0.2612069008951028,
          -0.2543979409966528,
          -0.24715829375083764,
          -0.19166075172530905,
          -0.1871727001195994,
          -0.1837278591743331,
          -0.17124613083681905,
          -0.17066228628903057,
          -0.13873040745422238,
          -0.13699564656935337,
          -0.12000084394812927,
          -0.11175641365007538,
          -0.028171752263455696,
          -0.004465862946451238,
          0.10324647314402263,
          0.11594564533158436,
          0.1247150499098858,
          0.14775015350648135,
          0.1506572775871225,
          0.1561463244289244,
          0.17758279598649251,
          0.19379598737162818,
          0.20190716489728433,
          0.2321119203739841,
          0.2506296245225899,
          0.27767185738964073,
          0.2911057666252219,
          0.2992419310700025,
          0.3081644476383851,
          0.32757179244956425,
          0.37710977448135186,
          0.4244282869789443,
          0.48733540108109863,
          0.5422137467155929,
          0.543596856834247,
          0.550807754776029,
          0.5773400683485594,
          0.6190086458074588,
          0.6201589524816291,
          0.6218212709914369,
          0.6600370694478305,
          0.6851564174839438,
          0.6865613909882843,
          0.690915484667466,
          0.6982997201267698,
          0.7300947353643834,
          0.7344156978170922,
          0.7855873252542588,
          0.8001703199558274,
          0.8156349472416052,
          0.8190390960570986,
          0.8775637863209194,
          0.9100516472082563,
          0.923494354064113,
          0.988518146537497,
          1.0024943389018683,
          1.0129298204180088,
          1.030355466738186,
          1.0828152137158222,
          1.0866231911821975,
          1.117203109707419,
          1.1980320340722188,
          1.2420441605773356,
          1.2620111803120246,
          1.3279746426072463,
          1.338983413874505,
          1.3654076293246784,
          1.376168921116225,
          1.385141164270728,
          1.400855949264412,
          1.4015907205927955,
          1.4311020813035573,
          1.6294839079119197,
          1.631629387451427,
          1.6337694423354374,
          1.6447237098396141,
          1.698917879901507,
          1.7528681552332879,
          1.962107937044974,
          2.019816816422199,
          2.1243453636632417,
          2.1598021771098708,
          2.1924546010277464,
          2.2448117642164798,
          2.600255136478842,
          2.6855754065331614
         ],
         "y": [
          0.5092042027873563,
          0.5108189573071457,
          0.5123562521062305,
          0.5124749313277247,
          0.512457263375056,
          0.5116678798197899,
          0.5107981588010763,
          0.5098749071303116,
          0.5089493149788592,
          0.5079368125761613,
          0.5064717731639342,
          0.5048445559949496,
          0.5031842346631862,
          0.5014128500520855,
          0.49935303353075156,
          0.49726968506128066,
          0.4951612939436195,
          0.49286023722625016,
          0.49054355113307235,
          0.4882148641346925,
          0.48584266291435696,
          0.48346842511333565,
          0.4809826568846546,
          0.4784908219731131,
          0.4759395173722203,
          0.4733593407901867,
          0.4704858683722125,
          0.46752910537254255,
          0.46419418767998144,
          0.4608147818577808,
          0.45740467366385307,
          0.4539140006244128,
          0.4504131692546014,
          0.44689316365873166,
          0.4432983577746882,
          0.4396470710021896,
          0.4359675605430624,
          0.43218315915604366,
          0.42833462977937586,
          0.42439271993475247,
          0.42040454825691687,
          0.4163884017667553,
          0.4123416155964611,
          0.40822833087395627,
          0.4039462812398299,
          0.3995044732170132,
          0.3948527368604374,
          0.3900204105758144,
          0.3851835655841348,
          0.3803231890676736,
          0.37537662462077126,
          0.3702960038461368,
          0.3652117055291777,
          0.3601220950087819,
          0.3549111038776903,
          0.3496211250042296,
          0.3443267472803456,
          0.33901875024584605,
          0.33368770088804334,
          0.32825804986266527,
          0.3228150822458168,
          0.3172159690275629,
          0.31157289354382045,
          0.30588346349159456,
          0.30018386664725827,
          0.2943116059077272,
          0.2883452659090102,
          0.28234037507768306,
          0.2761521839451848,
          0.26992529094899254,
          0.2636696635084076,
          0.2573663657501226,
          0.2509219329350828,
          0.24446739525937922,
          0.2379324028719092,
          0.2311907310218777,
          0.22434020079559025,
          0.21744114540742632,
          0.21038561058973415,
          0.20330453352818323,
          0.19616281635546162,
          0.1889966737733617,
          0.1818102859962496,
          0.17458870069001653,
          0.16736547781243138,
          0.16007708451616032,
          0.15238072884731046,
          0.14468024380416256,
          0.13697564576114063,
          0.12925008724216003,
          0.12142309760899317,
          0.11349883488847756,
          0.10523097155069228,
          0.09687735575234191,
          0.08837777880185527,
          0.07983133924262564,
          0.07124289358578906,
          0.06258934214142586,
          0.05356085810049416,
          0.044457993133020235
         ]
        },
        {
         "marker": {
          "color": "green"
         },
         "mode": "markers",
         "name": "Total Utility",
         "type": "scatter",
         "x": [
          -1.8015386968802827,
          -1.560140709497654,
          -1.522201215824003,
          -0.9441138054295894,
          -0.8964963354881377,
          -0.6425181980221402,
          -0.6173103486352778,
          -0.6006191772129212,
          -0.5998912673140309,
          -0.5729686221561705,
          -0.4357694342590688,
          -0.38762896408483627,
          -0.37785841792137176,
          -0.3452056414987196,
          -0.2612069008951028,
          -0.2543979409966528,
          -0.24715829375083764,
          -0.19166075172530905,
          -0.1871727001195994,
          -0.1837278591743331,
          -0.17124613083681905,
          -0.17066228628903057,
          -0.13873040745422238,
          -0.13699564656935337,
          -0.12000084394812927,
          -0.11175641365007538,
          -0.028171752263455696,
          -0.004465862946451238,
          0.10324647314402263,
          0.11594564533158436,
          0.1247150499098858,
          0.14775015350648135,
          0.1506572775871225,
          0.1561463244289244,
          0.17758279598649251,
          0.19379598737162818,
          0.20190716489728433,
          0.2321119203739841,
          0.2506296245225899,
          0.27767185738964073,
          0.2911057666252219,
          0.2992419310700025,
          0.3081644476383851,
          0.32757179244956425,
          0.37710977448135186,
          0.4244282869789443,
          0.48733540108109863,
          0.5422137467155929,
          0.543596856834247,
          0.550807754776029,
          0.5773400683485594,
          0.6190086458074588,
          0.6201589524816291,
          0.6218212709914369,
          0.6600370694478305,
          0.6851564174839438,
          0.6865613909882843,
          0.690915484667466,
          0.6982997201267698,
          0.7300947353643834,
          0.7344156978170922,
          0.7855873252542588,
          0.8001703199558274,
          0.8156349472416052,
          0.8190390960570986,
          0.8775637863209194,
          0.9100516472082563,
          0.923494354064113,
          0.988518146537497,
          1.0024943389018683,
          1.0129298204180088,
          1.030355466738186,
          1.0828152137158222,
          1.0866231911821975,
          1.117203109707419,
          1.1980320340722188,
          1.2420441605773356,
          1.2620111803120246,
          1.3279746426072463,
          1.338983413874505,
          1.3654076293246784,
          1.376168921116225,
          1.385141164270728,
          1.400855949264412,
          1.4015907205927955,
          1.4311020813035573,
          1.6294839079119197,
          1.631629387451427,
          1.6337694423354374,
          1.6447237098396141,
          1.698917879901507,
          1.7528681552332879,
          1.962107937044974,
          2.019816816422199,
          2.1243453636632417,
          2.1598021771098708,
          2.1924546010277464,
          2.2448117642164798,
          2.600255136478842,
          2.6855754065331614
         ],
         "y": [
          26.08791158808826,
          26.11097310358346,
          26.13355077459861,
          26.13605679038605,
          26.135674854817957,
          26.116730713658683,
          26.095683901218493,
          26.073222841036646,
          26.050699719182276,
          26.025859351483618,
          25.98865343386273,
          25.94694659662879,
          25.90431970972938,
          25.85860658677312,
          25.8049199321673,
          25.750587736098247,
          25.695569689678635,
          25.635321639545033,
          25.574653497333514,
          25.51366326908166,
          25.45150879727194,
          25.389299978355595,
          25.324135815809136,
          25.258812135877363,
          25.19193201404346,
          25.124301171367698,
          25.04925129746983,
          24.972171946193292,
          24.88639447299859,
          24.799655191900598,
          24.712260314468203,
          24.623177640315326,
          24.533885560812067,
          24.44420033454513,
          24.353008226292417,
          24.260707177720803,
          24.16786150505095,
          24.07304873750278,
          23.977078624001244,
          23.879486585581965,
          23.78111947592714,
          23.682292982930115,
          23.5829714794858,
          23.482605246979787,
          23.379774149306574,
          23.274864677095998,
          23.16761666365438,
          23.058726531706476,
          22.94979979449986,
          22.840686009286124,
          22.730938659784556,
          22.620368557384737,
          22.50977870259989,
          22.399160582760068,
          22.287983101620036,
          22.17653127483814,
          22.065066261861062,
          21.95356182697159,
          21.841995508275538,
          21.730233476286124,
          21.618453615031566,
          21.506618452735246,
          21.39481908131573,
          21.283082011013192,
          21.17136198240695,
          21.06011757469392,
          20.94928086708589,
          20.83864158579412,
          20.729183031179836,
          20.62002496385078,
          20.511101546648177,
          20.402589125916464,
          20.29545232433628,
          20.188423115361253,
          20.08229390372816,
          19.978828970018338,
          19.876970418667966,
          19.775872887323345,
          19.67741733028695,
          19.579420149967056,
          19.482541558831258,
          19.38612556781191,
          19.290098235719892,
          19.19475787536325,
          19.099449824229694,
          19.005452625158725,
          18.920758357451085,
          18.836167800267724,
          18.751680730221622,
          18.667723956116085,
          18.586401822552972,
          18.507712136403597,
          18.43913471056903,
          18.373274848675464,
          18.312214584805652,
          18.252741222594253,
          18.19470908776647,
          18.138945572902543,
          18.097052728045817,
          18.05807088402672
         ],
         "yaxis": "y2"
        }
       ],
       "layout": {
        "height": 600,
        "legend": {
         "x": 0,
         "xanchor": "right",
         "yanchor": "top"
        },
        "showlegend": true,
        "template": {
         "data": {
          "bar": [
           {
            "error_x": {
             "color": "#2a3f5f"
            },
            "error_y": {
             "color": "#2a3f5f"
            },
            "marker": {
             "line": {
              "color": "#E5ECF6",
              "width": 0.5
             },
             "pattern": {
              "fillmode": "overlay",
              "size": 10,
              "solidity": 0.2
             }
            },
            "type": "bar"
           }
          ],
          "barpolar": [
           {
            "marker": {
             "line": {
              "color": "#E5ECF6",
              "width": 0.5
             },
             "pattern": {
              "fillmode": "overlay",
              "size": 10,
              "solidity": 0.2
             }
            },
            "type": "barpolar"
           }
          ],
          "carpet": [
           {
            "aaxis": {
             "endlinecolor": "#2a3f5f",
             "gridcolor": "white",
             "linecolor": "white",
             "minorgridcolor": "white",
             "startlinecolor": "#2a3f5f"
            },
            "baxis": {
             "endlinecolor": "#2a3f5f",
             "gridcolor": "white",
             "linecolor": "white",
             "minorgridcolor": "white",
             "startlinecolor": "#2a3f5f"
            },
            "type": "carpet"
           }
          ],
          "choropleth": [
           {
            "colorbar": {
             "outlinewidth": 0,
             "ticks": ""
            },
            "type": "choropleth"
           }
          ],
          "contour": [
           {
            "colorbar": {
             "outlinewidth": 0,
             "ticks": ""
            },
            "colorscale": [
             [
              0,
              "#0d0887"
             ],
             [
              0.1111111111111111,
              "#46039f"
             ],
             [
              0.2222222222222222,
              "#7201a8"
             ],
             [
              0.3333333333333333,
              "#9c179e"
             ],
             [
              0.4444444444444444,
              "#bd3786"
             ],
             [
              0.5555555555555556,
              "#d8576b"
             ],
             [
              0.6666666666666666,
              "#ed7953"
             ],
             [
              0.7777777777777778,
              "#fb9f3a"
             ],
             [
              0.8888888888888888,
              "#fdca26"
             ],
             [
              1,
              "#f0f921"
             ]
            ],
            "type": "contour"
           }
          ],
          "contourcarpet": [
           {
            "colorbar": {
             "outlinewidth": 0,
             "ticks": ""
            },
            "type": "contourcarpet"
           }
          ],
          "heatmap": [
           {
            "colorbar": {
             "outlinewidth": 0,
             "ticks": ""
            },
            "colorscale": [
             [
              0,
              "#0d0887"
             ],
             [
              0.1111111111111111,
              "#46039f"
             ],
             [
              0.2222222222222222,
              "#7201a8"
             ],
             [
              0.3333333333333333,
              "#9c179e"
             ],
             [
              0.4444444444444444,
              "#bd3786"
             ],
             [
              0.5555555555555556,
              "#d8576b"
             ],
             [
              0.6666666666666666,
              "#ed7953"
             ],
             [
              0.7777777777777778,
              "#fb9f3a"
             ],
             [
              0.8888888888888888,
              "#fdca26"
             ],
             [
              1,
              "#f0f921"
             ]
            ],
            "type": "heatmap"
           }
          ],
          "histogram": [
           {
            "marker": {
             "pattern": {
              "fillmode": "overlay",
              "size": 10,
              "solidity": 0.2
             }
            },
            "type": "histogram"
           }
          ],
          "histogram2d": [
           {
            "colorbar": {
             "outlinewidth": 0,
             "ticks": ""
            },
            "colorscale": [
             [
              0,
              "#0d0887"
             ],
             [
              0.1111111111111111,
              "#46039f"
             ],
             [
              0.2222222222222222,
              "#7201a8"
             ],
             [
              0.3333333333333333,
              "#9c179e"
             ],
             [
              0.4444444444444444,
              "#bd3786"
             ],
             [
              0.5555555555555556,
              "#d8576b"
             ],
             [
              0.6666666666666666,
              "#ed7953"
             ],
             [
              0.7777777777777778,
              "#fb9f3a"
             ],
             [
              0.8888888888888888,
              "#fdca26"
             ],
             [
              1,
              "#f0f921"
             ]
            ],
            "type": "histogram2d"
           }
          ],
          "histogram2dcontour": [
           {
            "colorbar": {
             "outlinewidth": 0,
             "ticks": ""
            },
            "colorscale": [
             [
              0,
              "#0d0887"
             ],
             [
              0.1111111111111111,
              "#46039f"
             ],
             [
              0.2222222222222222,
              "#7201a8"
             ],
             [
              0.3333333333333333,
              "#9c179e"
             ],
             [
              0.4444444444444444,
              "#bd3786"
             ],
             [
              0.5555555555555556,
              "#d8576b"
             ],
             [
              0.6666666666666666,
              "#ed7953"
             ],
             [
              0.7777777777777778,
              "#fb9f3a"
             ],
             [
              0.8888888888888888,
              "#fdca26"
             ],
             [
              1,
              "#f0f921"
             ]
            ],
            "type": "histogram2dcontour"
           }
          ],
          "mesh3d": [
           {
            "colorbar": {
             "outlinewidth": 0,
             "ticks": ""
            },
            "type": "mesh3d"
           }
          ],
          "parcoords": [
           {
            "line": {
             "colorbar": {
              "outlinewidth": 0,
              "ticks": ""
             }
            },
            "type": "parcoords"
           }
          ],
          "pie": [
           {
            "automargin": true,
            "type": "pie"
           }
          ],
          "scatter": [
           {
            "fillpattern": {
             "fillmode": "overlay",
             "size": 10,
             "solidity": 0.2
            },
            "type": "scatter"
           }
          ],
          "scatter3d": [
           {
            "line": {
             "colorbar": {
              "outlinewidth": 0,
              "ticks": ""
             }
            },
            "marker": {
             "colorbar": {
              "outlinewidth": 0,
              "ticks": ""
             }
            },
            "type": "scatter3d"
           }
          ],
          "scattercarpet": [
           {
            "marker": {
             "colorbar": {
              "outlinewidth": 0,
              "ticks": ""
             }
            },
            "type": "scattercarpet"
           }
          ],
          "scattergeo": [
           {
            "marker": {
             "colorbar": {
              "outlinewidth": 0,
              "ticks": ""
             }
            },
            "type": "scattergeo"
           }
          ],
          "scattergl": [
           {
            "marker": {
             "colorbar": {
              "outlinewidth": 0,
              "ticks": ""
             }
            },
            "type": "scattergl"
           }
          ],
          "scattermap": [
           {
            "marker": {
             "colorbar": {
              "outlinewidth": 0,
              "ticks": ""
             }
            },
            "type": "scattermap"
           }
          ],
          "scattermapbox": [
           {
            "marker": {
             "colorbar": {
              "outlinewidth": 0,
              "ticks": ""
             }
            },
            "type": "scattermapbox"
           }
          ],
          "scatterpolar": [
           {
            "marker": {
             "colorbar": {
              "outlinewidth": 0,
              "ticks": ""
             }
            },
            "type": "scatterpolar"
           }
          ],
          "scatterpolargl": [
           {
            "marker": {
             "colorbar": {
              "outlinewidth": 0,
              "ticks": ""
             }
            },
            "type": "scatterpolargl"
           }
          ],
          "scatterternary": [
           {
            "marker": {
             "colorbar": {
              "outlinewidth": 0,
              "ticks": ""
             }
            },
            "type": "scatterternary"
           }
          ],
          "surface": [
           {
            "colorbar": {
             "outlinewidth": 0,
             "ticks": ""
            },
            "colorscale": [
             [
              0,
              "#0d0887"
             ],
             [
              0.1111111111111111,
              "#46039f"
             ],
             [
              0.2222222222222222,
              "#7201a8"
             ],
             [
              0.3333333333333333,
              "#9c179e"
             ],
             [
              0.4444444444444444,
              "#bd3786"
             ],
             [
              0.5555555555555556,
              "#d8576b"
             ],
             [
              0.6666666666666666,
              "#ed7953"
             ],
             [
              0.7777777777777778,
              "#fb9f3a"
             ],
             [
              0.8888888888888888,
              "#fdca26"
             ],
             [
              1,
              "#f0f921"
             ]
            ],
            "type": "surface"
           }
          ],
          "table": [
           {
            "cells": {
             "fill": {
              "color": "#EBF0F8"
             },
             "line": {
              "color": "white"
             }
            },
            "header": {
             "fill": {
              "color": "#C8D4E3"
             },
             "line": {
              "color": "white"
             }
            },
            "type": "table"
           }
          ]
         },
         "layout": {
          "annotationdefaults": {
           "arrowcolor": "#2a3f5f",
           "arrowhead": 0,
           "arrowwidth": 1
          },
          "autotypenumbers": "strict",
          "coloraxis": {
           "colorbar": {
            "outlinewidth": 0,
            "ticks": ""
           }
          },
          "colorscale": {
           "diverging": [
            [
             0,
             "#8e0152"
            ],
            [
             0.1,
             "#c51b7d"
            ],
            [
             0.2,
             "#de77ae"
            ],
            [
             0.3,
             "#f1b6da"
            ],
            [
             0.4,
             "#fde0ef"
            ],
            [
             0.5,
             "#f7f7f7"
            ],
            [
             0.6,
             "#e6f5d0"
            ],
            [
             0.7,
             "#b8e186"
            ],
            [
             0.8,
             "#7fbc41"
            ],
            [
             0.9,
             "#4d9221"
            ],
            [
             1,
             "#276419"
            ]
           ],
           "sequential": [
            [
             0,
             "#0d0887"
            ],
            [
             0.1111111111111111,
             "#46039f"
            ],
            [
             0.2222222222222222,
             "#7201a8"
            ],
            [
             0.3333333333333333,
             "#9c179e"
            ],
            [
             0.4444444444444444,
             "#bd3786"
            ],
            [
             0.5555555555555556,
             "#d8576b"
            ],
            [
             0.6666666666666666,
             "#ed7953"
            ],
            [
             0.7777777777777778,
             "#fb9f3a"
            ],
            [
             0.8888888888888888,
             "#fdca26"
            ],
            [
             1,
             "#f0f921"
            ]
           ],
           "sequentialminus": [
            [
             0,
             "#0d0887"
            ],
            [
             0.1111111111111111,
             "#46039f"
            ],
            [
             0.2222222222222222,
             "#7201a8"
            ],
            [
             0.3333333333333333,
             "#9c179e"
            ],
            [
             0.4444444444444444,
             "#bd3786"
            ],
            [
             0.5555555555555556,
             "#d8576b"
            ],
            [
             0.6666666666666666,
             "#ed7953"
            ],
            [
             0.7777777777777778,
             "#fb9f3a"
            ],
            [
             0.8888888888888888,
             "#fdca26"
            ],
            [
             1,
             "#f0f921"
            ]
           ]
          },
          "colorway": [
           "#636efa",
           "#EF553B",
           "#00cc96",
           "#ab63fa",
           "#FFA15A",
           "#19d3f3",
           "#FF6692",
           "#B6E880",
           "#FF97FF",
           "#FECB52"
          ],
          "font": {
           "color": "#2a3f5f"
          },
          "geo": {
           "bgcolor": "white",
           "lakecolor": "white",
           "landcolor": "#E5ECF6",
           "showlakes": true,
           "showland": true,
           "subunitcolor": "white"
          },
          "hoverlabel": {
           "align": "left"
          },
          "hovermode": "closest",
          "mapbox": {
           "style": "light"
          },
          "paper_bgcolor": "white",
          "plot_bgcolor": "#E5ECF6",
          "polar": {
           "angularaxis": {
            "gridcolor": "white",
            "linecolor": "white",
            "ticks": ""
           },
           "bgcolor": "#E5ECF6",
           "radialaxis": {
            "gridcolor": "white",
            "linecolor": "white",
            "ticks": ""
           }
          },
          "scene": {
           "xaxis": {
            "backgroundcolor": "#E5ECF6",
            "gridcolor": "white",
            "gridwidth": 2,
            "linecolor": "white",
            "showbackground": true,
            "ticks": "",
            "zerolinecolor": "white"
           },
           "yaxis": {
            "backgroundcolor": "#E5ECF6",
            "gridcolor": "white",
            "gridwidth": 2,
            "linecolor": "white",
            "showbackground": true,
            "ticks": "",
            "zerolinecolor": "white"
           },
           "zaxis": {
            "backgroundcolor": "#E5ECF6",
            "gridcolor": "white",
            "gridwidth": 2,
            "linecolor": "white",
            "showbackground": true,
            "ticks": "",
            "zerolinecolor": "white"
           }
          },
          "shapedefaults": {
           "line": {
            "color": "#2a3f5f"
           }
          },
          "ternary": {
           "aaxis": {
            "gridcolor": "white",
            "linecolor": "white",
            "ticks": ""
           },
           "baxis": {
            "gridcolor": "white",
            "linecolor": "white",
            "ticks": ""
           },
           "bgcolor": "#E5ECF6",
           "caxis": {
            "gridcolor": "white",
            "linecolor": "white",
            "ticks": ""
           }
          },
          "title": {
           "x": 0.05
          },
          "xaxis": {
           "automargin": true,
           "gridcolor": "white",
           "linecolor": "white",
           "ticks": "",
           "title": {
            "standoff": 15
           },
           "zerolinecolor": "white",
           "zerolinewidth": 2
          },
          "yaxis": {
           "automargin": true,
           "gridcolor": "white",
           "linecolor": "white",
           "ticks": "",
           "title": {
            "standoff": 15
           },
           "zerolinecolor": "white",
           "zerolinewidth": 2
          }
         }
        },
        "title": {
         "text": "Threshold A with Fixed Threshold B vs Mean Difference"
        },
        "xaxis": {
         "title": {
          "text": "Threshold A (using samples)"
         }
        },
        "yaxis": {
         "title": {
          "text": "| mean(A) - mean(B) |"
         }
        },
        "yaxis2": {
         "overlaying": "y",
         "side": "right",
         "title": {
          "text": "Utility"
         }
        }
       }
      }
     },
     "metadata": {},
     "output_type": "display_data"
    },
    {
     "name": "stdout",
     "output_type": "stream",
     "text": [
      "[0.51]\n",
      " Test Alpha      Side Threshold Mean Difference   Utility\n",
      "       0.51  Negative -0.004466        0.467529 24.972172\n",
      "       0.51  Positive  0.103246        0.464194 24.886394\n",
      "       0.51 Δ Utility                            0.085777\n",
      "--------\n"
     ]
    }
   ],
   "source": [
    "# Experiment 2\n",
    "from experiment_2 import experiment_2\n",
    "test_alpha = 0.52\n",
    "ex2a, ex2b = experiment_2(a, b, u_plus, u_minus, c_plus, c_minus, test_alpha, w_a, w_b, thresh_B, a, alphas)\n",
    "ex2a.update_layout(\n",
    "    xaxis_title ='Threshold A (using samples)'\n",
    ")\n",
    "ex2a.show()\n",
    "#ex2b.show()\n",
    "\n",
    "trace1 = ex2a.data[1]\n",
    "trace2 = ex2a.data[2]\n",
    "mean_diffs = dict(zip(trace1.x, trace1.y))\n",
    "utilities = dict(zip(trace2.x, trace2.y))\n",
    "\n",
    "y_thresh_A = np.array(y_thresh_A)\n",
    "y_thresh_B = np.array(y_thresh_B)\n",
    "x_alphas = np.array(x_alphas)\n",
    "indices = np.where(y_thresh_A < y_thresh_B)[0]\n",
    "test_alphas  = x_alphas[indices]\n",
    "print(test_alphas)\n",
    "#test_alphas = np.arange(0.54, 0.63, 0.01)\n",
    "results = []\n",
    "\n",
    "for test_alpha in test_alphas:\n",
    "    # Filter mean_diffs under current threshold\n",
    "    filtered = {k: v for k, v in mean_diffs.items() if v < test_alpha}\n",
    "\n",
    "    # Find before and after keys\n",
    "    before_keys = [k for k in filtered if k < 0]\n",
    "    after_keys = [k for k in filtered if k > 0]\n",
    "\n",
    "    before = max(before_keys) if before_keys else None\n",
    "    after = min(after_keys) if after_keys else None\n",
    "\n",
    "    if before is not None and after is not None:\n",
    "        # Prepare data\n",
    "        utility_before = utilities[before]\n",
    "        utility_after = utilities[after]\n",
    "        utility_diff = np.abs(utility_after - utility_before)\n",
    "\n",
    "        # Build vertical block\n",
    "        block = pd.DataFrame([\n",
    "            {\n",
    "                'Test Alpha': round(test_alpha, 3),\n",
    "                'Side': 'Negative',\n",
    "                'Threshold': before,\n",
    "                'Mean Difference': mean_diffs[before],\n",
    "                'Utility': utility_before\n",
    "            },\n",
    "            {\n",
    "                'Test Alpha': round(test_alpha, 3),\n",
    "                'Side': 'Positive',\n",
    "                'Threshold': after,\n",
    "                'Mean Difference': mean_diffs[after],\n",
    "                'Utility': utility_after\n",
    "            },\n",
    "            {\n",
    "                'Test Alpha': round(test_alpha, 3),\n",
    "                'Side': 'Δ Utility',\n",
    "                'Threshold': '',\n",
    "                'Mean Difference': '',\n",
    "                'Utility': utility_diff\n",
    "            }\n",
    "        ])\n",
    "\n",
    "        print(block.to_string(index=False))\n",
    "        print(\"--------\")\n"
   ]
  },
  {
   "cell_type": "code",
   "execution_count": null,
   "id": "cefc38da",
   "metadata": {},
   "outputs": [],
   "source": []
  }
 ],
 "metadata": {
  "kernelspec": {
   "display_name": "Python 3",
   "language": "python",
   "name": "python3"
  },
  "language_info": {
   "codemirror_mode": {
    "name": "ipython",
    "version": 3
   },
   "file_extension": ".py",
   "mimetype": "text/x-python",
   "name": "python",
   "nbconvert_exporter": "python",
   "pygments_lexer": "ipython3",
   "version": "3.11.0"
  }
 },
 "nbformat": 4,
 "nbformat_minor": 5
}
