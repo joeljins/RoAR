{
 "cells": [
  {
   "cell_type": "code",
   "execution_count": 55,
   "id": "056cecf0",
   "metadata": {},
   "outputs": [],
   "source": [
    "# Import necessary modules/libraries\n",
    "from tqdm import tqdm\n",
    "import numpy as np\n",
    "import pandas as pd\n",
    "import matplotlib.pyplot as plt\n",
    "import plotly.graph_objects as go\n",
    "\n",
    "# Import custom utility functions\n",
    "from utils import p, expected, sampl_fair_opt_step, opt_step, fair_opt_step"
   ]
  },
  {
   "cell_type": "code",
   "execution_count": 56,
   "id": "d7bd9193",
   "metadata": {},
   "outputs": [],
   "source": [
    "# Set experiment parameters\n",
    "np.random.seed(1)\n",
    "\n",
    "# Distribution parameters\n",
    "mean_a, std_a = 0.5, 1\n",
    "mean_b, std_b = 0.0, 1\n",
    "\n",
    "# Domain of alpha values to test\n",
    "alpha_min, alpha_max = 0.01, 2\n",
    "alphas = np.linspace(alpha_min, alpha_max, num=100)\n",
    "\n",
    "# Sample size of each distribution\n",
    "n = 5\n",
    "\n",
    "# Generate samples from normal distributions\n",
    "a = np.random.normal(mean_a, std_a, n)\n",
    "b = np.random.normal(mean_b, std_b, n)\n",
    "a.sort(), b.sort()\n",
    "w_a = len(a) / (len(a) + len(b))\n",
    "w_b = 1 - w_a\n",
    "\n",
    "#Step Parameters\n",
    "\n",
    "# U+ / U- > C+ / C-\n",
    "u_plus = 1\n",
    "u_minus = -1.1\n",
    "c_plus = 1\n",
    "c_minus = -1\n",
    "# -0.4056\n",
    "# -0.40551"
   ]
  },
  {
   "cell_type": "code",
   "execution_count": null,
   "id": "ff11b688",
   "metadata": {},
   "outputs": [],
   "source": [
    "# Assumptions\n",
    "'''\n",
    "print(f' Assumption 1: {p.__doc__} ')\n",
    "print(f' Assumption 2: \\n U+ / U- > C+ / C- is {(u_plus / u_minus) > (c_plus / c_minus)}' )\n",
    "'''"
   ]
  },
  {
   "cell_type": "code",
   "execution_count": 57,
   "id": "e6c1aebf",
   "metadata": {},
   "outputs": [
    {
     "name": "stderr",
     "output_type": "stream",
     "text": [
      "100%|██████████| 100/100 [00:00<00:00, 1802.78it/s]\n"
     ]
    }
   ],
   "source": [
    "# Single step optimization\n",
    "\n",
    "x_alphas = []\n",
    "y_mean_A, y_mean_B = [], []\n",
    "y_thresh_A, y_thresh_B = [], []\n",
    "y_util = []\n",
    "y_pof = [] # Price of fairness\n",
    "\n",
    "\n",
    "y_opt_util = []\n",
    "\n",
    "B_temp = None\n",
    "\n",
    "opt_util_A, opt_util_B = opt_step(a, u_plus, u_minus, c_plus, c_minus)[0], opt_step(b, u_plus, u_minus, c_plus, c_minus)[0]\n",
    "opt_util_A, opt_util_B  = expected(opt_util_A, 1, -1.1), expected(opt_util_B, 1, -1.1)\n",
    "opt_util_A, opt_util_B = np.sum(opt_util_A), np.sum(opt_util_B)\n",
    "y_opt = w_a * opt_util_A + w_b * opt_util_B\n",
    "\n",
    "for alpha in tqdm(alphas):\n",
    "    results1 = sampl_fair_opt_step(a, b, u_plus, u_minus, c_plus, c_minus, alpha)\n",
    "    results = fair_opt_step(a, b, u_plus, u_minus, c_plus, c_minus, alpha)\n",
    "    if results != results1:\n",
    "        print('error')\n",
    "    thresh_A, thresh_B, max_util, (A, B) = results\n",
    "    if np.abs(A - B) > alpha:\n",
    "        continue\n",
    "    else:\n",
    "        x_alphas.append(alpha)\n",
    "        y_mean_A.append(A)\n",
    "        y_mean_B.append(B)\n",
    "        y_thresh_A.append(thresh_A)\n",
    "        y_thresh_B.append(thresh_B)\n",
    "        y_util.append(max_util)\n",
    "        pof = 1 - (max_util/y_opt)\n",
    "        y_pof.append(pof)"
   ]
  },
  {
   "cell_type": "code",
   "execution_count": null,
   "id": "405ad8ae",
   "metadata": {},
   "outputs": [],
   "source": [
    "def plot_graphs():\n",
    "    \n",
    "    # Traces\n",
    "    thresholds_A = go.Scatter(x=x_alphas, y=y_thresh_A, mode='markers', name=\"Fair Threshold (A)\")\n",
    "    thresholds_B = go.Scatter(x=x_alphas, y=y_thresh_B, mode='markers', name=\"Fair Threshold (B)\") \n",
    "    utilities = go.Scatter(x=x_alphas, y=y_util, mode='markers', name='Utility', yaxis='y2')\n",
    "\n",
    "    # Create figure\n",
    "    fig = go.Figure(data=[thresholds_A, thresholds_B, utilities])\n",
    "\n",
    "    # Add toggle buttons\n",
    "    fig.update_layout(\n",
    "        height = 600,\n",
    "        title='Single Step Thresholding Policy',\n",
    "        xaxis=dict(title=\"Alpha\"),\n",
    "        yaxis=dict(title=\"Threshold\"),\n",
    "        yaxis2=dict(\n",
    "            title=\"Utility\",\n",
    "            overlaying=\"y\",\n",
    "            side=\"right\"\n",
    "        ),\n",
    "        legend=dict(\n",
    "            x=0,          # Right edge of the plotting area\n",
    "            #y=1,          # Top of the plotting area\n",
    "            xanchor='right',   # Legend's left edge aligns at x=1\n",
    "            yanchor='top'     # Legend's top edge aligns at y=1\n",
    "        ),\n",
    "        showlegend=True,\n",
    "    )\n",
    "\n",
    "    fig.show()\n",
    "plot_graphs()"
   ]
  },
  {
   "cell_type": "code",
   "execution_count": null,
   "id": "ef082a83",
   "metadata": {},
   "outputs": [],
   "source": [
    "# Experiment 0: Check if vectorized algorithm is the same as the original\n",
    "from experiment_0 import experiment_0\n",
    "print( (x_alphas, y_thresh_A, y_thresh_B) == experiment_0(a, b, u_plus, u_minus, c_plus, c_minus, w_a, w_b, alphas, a, b) )"
   ]
  },
  {
   "cell_type": "code",
   "execution_count": null,
   "id": "b5eded16",
   "metadata": {},
   "outputs": [],
   "source": [
    "# Experiment 2\n",
    "from experiment_2 import experiment_2\n",
    "test_alpha = 0.52\n",
    "ex2a, ex2b = experiment_2(a, b, u_plus, u_minus, c_plus, c_minus, test_alpha, w_a, w_b, thresh_B, a, alphas)\n",
    "ex2a.update_layout(\n",
    "    xaxis_title ='Threshold A (using samples)'\n",
    ")\n",
    "ex2a.show()\n",
    "#ex2b.show()\n",
    "\n",
    "trace1 = ex2a.data[1]\n",
    "trace2 = ex2a.data[2]\n",
    "mean_diffs = dict(zip(trace1.x, trace1.y))\n",
    "utilities = dict(zip(trace2.x, trace2.y))\n",
    "\n",
    "y_thresh_A = np.array(y_thresh_A)\n",
    "y_thresh_B = np.array(y_thresh_B)\n",
    "x_alphas = np.array(x_alphas)\n",
    "indices = np.where(y_thresh_A < y_thresh_B)[0]\n",
    "test_alphas  = x_alphas[indices]\n",
    "print(test_alphas)\n",
    "#test_alphas = np.arange(0.54, 0.63, 0.01)\n",
    "results = []\n",
    "\n",
    "for test_alpha in test_alphas:\n",
    "    # Filter mean_diffs under current threshold\n",
    "    filtered = {k: v for k, v in mean_diffs.items() if v < test_alpha}\n",
    "\n",
    "    # Find before and after keys\n",
    "    before_keys = [k for k in filtered if k < 0]\n",
    "    after_keys = [k for k in filtered if k > 0]\n",
    "\n",
    "    before = max(before_keys) if before_keys else None\n",
    "    after = min(after_keys) if after_keys else None\n",
    "\n",
    "    if before is not None and after is not None:\n",
    "        # Prepare data\n",
    "        utility_before = utilities[before]\n",
    "        utility_after = utilities[after]\n",
    "        utility_diff = np.abs(utility_after - utility_before)\n",
    "\n",
    "        # Build vertical block\n",
    "        block = pd.DataFrame([\n",
    "            {\n",
    "                'Test Alpha': round(test_alpha, 3),\n",
    "                'Side': 'Negative',\n",
    "                'Threshold': before,\n",
    "                'Mean Difference': mean_diffs[before],\n",
    "                'Utility': utility_before\n",
    "            },\n",
    "            {\n",
    "                'Test Alpha': round(test_alpha, 3),\n",
    "                'Side': 'Positive',\n",
    "                'Threshold': after,\n",
    "                'Mean Difference': mean_diffs[after],\n",
    "                'Utility': utility_after\n",
    "            },\n",
    "            {\n",
    "                'Test Alpha': round(test_alpha, 3),\n",
    "                'Side': 'Δ Utility',\n",
    "                'Threshold': '',\n",
    "                'Mean Difference': '',\n",
    "                'Utility': utility_diff\n",
    "            }\n",
    "        ])\n",
    "\n",
    "        print(block.to_string(index=False))\n",
    "        print(\"--------\")\n"
   ]
  },
  {
   "cell_type": "code",
   "execution_count": null,
   "id": "d8834f6d",
   "metadata": {},
   "outputs": [],
   "source": [
    "import numpy as np\n",
    "import matplotlib.pyplot as plt\n",
    "\n",
    "def test(a, b, u_plus, u_minus, c_plus, c_minus, w_a, w_b):\n",
    "    a = np.asarray(a)\n",
    "    b = np.asarray(b)\n",
    "\n",
    "    delta_A = expected(a, c_plus, c_minus)\n",
    "    delta_B = expected(b, c_plus, c_minus)\n",
    "\n",
    "    N = a.shape[0]\n",
    "    A_matrix = np.repeat(a, N).reshape((N, N))\n",
    "    B_matrix = np.repeat(b, N).reshape((N, N))\n",
    "    delta_A_matrix = np.repeat(delta_A, N).reshape((N, N))\n",
    "    delta_B_matrix = np.repeat(delta_B, N).reshape((N, N))\n",
    "\n",
    "    A_matrix = np.where(A_matrix > A_matrix.T, A_matrix + delta_A_matrix, A_matrix)\n",
    "    B_matrix = np.where(B_matrix > B_matrix.T, B_matrix + delta_B_matrix, B_matrix)\n",
    "\n",
    "    columns = [(A_matrix[:, [i]], B_matrix[:, [i]]) for i in range(N)]\n",
    "    final = []\n",
    "    mean_diffs = []\n",
    "    utilities = []\n",
    "\n",
    "    for col_A_vec, col_B_vec in tqdm(columns):\n",
    "        n = col_A_vec.shape[0]\n",
    "\n",
    "        col_A_vec, col_B_vec = col_A_vec.T, col_B_vec.T\n",
    "\n",
    "        delta_col_A = expected(col_A_vec, c_plus, c_minus)\n",
    "        delta_col_B = expected(col_B_vec, c_plus, c_minus)\n",
    "\n",
    "        col_A_matrix = np.repeat(col_A_vec, n).reshape((n, n))\n",
    "        col_B_matrix = np.repeat(col_B_vec, n).reshape((n, n))\n",
    "\n",
    "        delta_col_A_matrix = np.repeat(delta_col_A, n).reshape((n, n))\n",
    "        delta_col_B_matrix = np.repeat(delta_col_B, n).reshape((n, n))\n",
    "\n",
    "        col_A_matrix = np.where(col_A_matrix > col_A_matrix.T, col_A_matrix + delta_col_A_matrix, col_A_matrix)\n",
    "        col_B_matrix = np.where(col_B_matrix > col_B_matrix.T, col_B_matrix + delta_col_B_matrix, col_B_matrix)\n",
    "\n",
    "        final.append((col_A_matrix, col_B_matrix))\n",
    "\n",
    "        # Compute utility from one matrix (e.g., col_A_matrix)\n",
    "        util = w_a * expected(col_A_vec, u_plus, u_minus) + w_b * expected(col_B_vec, u_plus, u_minus)\n",
    "        util = np.sum(util)\n",
    "        utilities.append(util)\n",
    "\n",
    "        # Compute mean absolute difference between vectors\n",
    "        diff = np.mean(np.abs(col_A_vec - col_B_vec))\n",
    "        mean_diffs.append(diff)\n",
    "\n",
    "    # === Plot ===\n",
    "    # === Plot Heatmap ===\n",
    "    import matplotlib.pyplot as plt\n",
    "\n",
    "    heatmap_data = utilities\n",
    "    print(heatmap_data.shape)\n",
    "\n",
    "    plt.figure(figsize=(7, 6))\n",
    "    im = plt.imshow(heatmap_data, cmap='viridis', origin='lower', aspect='auto')\n",
    "    plt.colorbar(im, label='Utility')\n",
    "    plt.title(\"Utility Heatmap\")\n",
    "    plt.xlabel(\"Column Index\")\n",
    "    plt.ylabel(\"Row Index\")\n",
    "    plt.tight_layout()\n",
    "    plt.show()\n",
    "\n",
    "    return final\n",
    "test(a, b, u_plus, u_minus, c_plus, c_minus, w_a, w_b)\n"
   ]
  },
  {
   "cell_type": "code",
   "execution_count": 70,
   "id": "7246ac21",
   "metadata": {},
   "outputs": [],
   "source": [
    "# Vectorized double step\n",
    "from utils import change\n",
    "\n",
    "def vectorize_double_step(a, b, u_plus, u_minus, c_plus, c_minus, alphas, w_a, w_b):\n",
    "    \n",
    "    a = np.asarray(a)\n",
    "    b = np.asarray(b)\n",
    "\n",
    "    _, _, _, _,  A_matrix, B_matrix = change(a, b, c_plus, c_minus, u_plus, u_minus)\n",
    "    '''\n",
    "    print(a)\n",
    "    print(A_matrix)\n",
    "    print(A_matrix.T)\n",
    "    print(A_matrix.T[0])\n",
    "    '''\n",
    "    A_matrix = A_matrix.T\n",
    "    B_matrix = B_matrix.T\n",
    "\n",
    "    mat_utils = []\n",
    "    mat_diffs = []\n",
    "    util = []\n",
    "    top_5 = []\n",
    "\n",
    "    # Iterate through each row of A_matrix and B_matrix\n",
    "    for row_a, row_b in tqdm(zip(A_matrix, B_matrix)):\n",
    "        mean_A, mean_B, util_A, util_B, _, _ = change(row_a, row_b, c_plus, c_minus, u_plus, u_minus)\n",
    "        \n",
    "        fairness_diff = np.abs(mean_A - mean_B)\n",
    "        total_util = w_a * util_A + w_b * util_B.T\n",
    "\n",
    "\n",
    "        mat_utils.append(total_util)\n",
    "        mat_diffs.append(fairness_diff)\n",
    "    \n",
    "    mat_utils = np.vstack(mat_utils) \n",
    "    mat_diffs = np.vstack(mat_diffs)\n",
    "\n",
    "    print(mat_utils.shape)\n",
    "\n",
    "    #print(mat_utils)\n",
    "\n",
    "    comp = []\n",
    "    for alpha in alphas:\n",
    "\n",
    "        temp = np.where(mat_diffs <= alpha, mat_utils, -np.inf)\n",
    "        max_util = np.max(temp)\n",
    "\n",
    "        valid_count = np.sum(np.isfinite(temp))\n",
    "        \n",
    "        finite_vals = temp[np.isfinite(temp)]\n",
    "        if finite_vals.size >= 5:\n",
    "            top5_vals = np.partition(finite_vals, -5)[-5:]\n",
    "            top5_vals_sorted = np.sort(top5_vals)[::-1]  # optional: sort in descending order\n",
    "        else:\n",
    "            top5_vals_sorted = np.sort(finite_vals)[::-1]  # sort whatever is available\n",
    "            util.append(max_util)\n",
    "\n",
    "        comp.append( (alpha, valid_count, top5_vals_sorted) )\n",
    "\n",
    "    plot1 = go.Scatter(x=alphas, y=util, mode='markers')\n",
    "    fig = go.Figure(plot1)\n",
    "    fig.update_layout(\n",
    "        title='Alphas vs Utility (Dual Step, n^2 complexity)',\n",
    "        xaxis_title='Alpha',\n",
    "        yaxis_title='Utility'\n",
    "        )\n",
    "    fig.show()\n",
    "    return comp"
   ]
  },
  {
   "cell_type": "code",
   "execution_count": 71,
   "id": "370b70e7",
   "metadata": {},
   "outputs": [
    {
     "name": "stderr",
     "output_type": "stream",
     "text": [
      "5it [00:00, 1863.14it/s]"
     ]
    },
    {
     "name": "stdout",
     "output_type": "stream",
     "text": [
      "(25, 5)\n"
     ]
    },
    {
     "name": "stderr",
     "output_type": "stream",
     "text": [
      "\n"
     ]
    },
    {
     "data": {
      "application/vnd.plotly.v1+json": {
       "config": {
        "plotlyServerURL": "https://plot.ly"
       },
       "data": [
        {
         "mode": "markers",
         "type": "scatter",
         "x": {
          "bdata": "exSuR+F6hD8odNeXzNKePwrv60UUtKk//xH2H2H/sT96LPYcuCS3P/VG9hkPSrw/uDB7C7O3wD/2PfuJXkrDPzNLewgK3cU/cFj7hrVvyD+uZXsFYQLLP+ty+4MMlc0/FMA9AdwT0D+zxn3AMV3RP1LNvX+HptI/8NP9Pt3v0z+P2j3+MjnVPy7hfb2IgtY/zOe9fN7L1z9r7v07NBXZPwr1PfuJXto/qPt9ut+n2z9HAr55NfHcP+YI/jiLOt4/hA8++OCD3z8SC79bm2bgP2EOXztGC+E/sBH/GvGv4T8AFZ/6m1TiP08YP9pG+eI/nhvfufGd4z/uHn+ZnELkPz0iH3lH5+Q/jCW/WPKL5T/cKF84nTDmPyss/xdI1eY/ei+f9/J55z/KMj/XnR7oPxk237ZIw+g/aDl/lvNn6T+4PB92ngzqPwdAv1VJseo/VkNfNfRV6z+mRv8Un/rrP/VJn/RJn+w/RE0/1PRD7T+UUN+zn+jtP+NTf5NKje4/Mlcfc/Ux7z+CWr9SoNbvP+muL5mlPfA/kLD/CPuP8D84ss94UOLwP+Czn+ilNPE/h7VvWPuG8T8vtz/IUNnxP9e4DzimK/I/frrfp/t98j8mvK8XUdDyP869f4emIvM/db9P9/t08z8dwR9nUcfzP8XC79amGfQ/bMS/Rvxr9D8Uxo+2Ub70P7zHXyanEPU/Y8kvlvxi9T8Ly/8FUrX1P7PMz3WnB/Y/Ws6f5fxZ9j8C0G9VUqz2P6rRP8Wn/vY/UdMPNf1Q9z/51N+kUqP3P6HWrxSo9fc/SNh/hP1H+D/w2U/0Upr4P5jbH2So7Pg/P93v0/0++T/n3r9DU5H5P4/gj7Oo4/k/NuJfI/41+j/e4y+TU4j6P4bl/wKp2vo/LefPcv4s+z/V6J/iU3/7P33qb1Kp0fs/JOw/wv4j/D/M7Q8yVHb8P3Tv36GpyPw/G/GvEf8a/T/D8n+BVG39P2v0T/Gpv/0/EvYfYf8R/j+69+/QVGT+P2L5v0Cqtv4/CfuPsP8I/z+x/F8gVVv/P1n+L5Cqrf8/AAAAAAAAAEA=",
          "dtype": "f8"
         },
         "y": [
          null,
          null,
          null,
          null,
          null,
          null,
          null,
          null,
          null,
          null,
          null,
          null,
          null,
          null,
          null,
          null,
          null,
          null,
          null,
          null,
          null,
          null,
          null,
          null,
          null,
          null,
          null,
          null,
          null,
          null,
          null,
          0.2740401273549223,
          0.2740401273549223
         ]
        }
       ],
       "layout": {
        "template": {
         "data": {
          "bar": [
           {
            "error_x": {
             "color": "#2a3f5f"
            },
            "error_y": {
             "color": "#2a3f5f"
            },
            "marker": {
             "line": {
              "color": "#E5ECF6",
              "width": 0.5
             },
             "pattern": {
              "fillmode": "overlay",
              "size": 10,
              "solidity": 0.2
             }
            },
            "type": "bar"
           }
          ],
          "barpolar": [
           {
            "marker": {
             "line": {
              "color": "#E5ECF6",
              "width": 0.5
             },
             "pattern": {
              "fillmode": "overlay",
              "size": 10,
              "solidity": 0.2
             }
            },
            "type": "barpolar"
           }
          ],
          "carpet": [
           {
            "aaxis": {
             "endlinecolor": "#2a3f5f",
             "gridcolor": "white",
             "linecolor": "white",
             "minorgridcolor": "white",
             "startlinecolor": "#2a3f5f"
            },
            "baxis": {
             "endlinecolor": "#2a3f5f",
             "gridcolor": "white",
             "linecolor": "white",
             "minorgridcolor": "white",
             "startlinecolor": "#2a3f5f"
            },
            "type": "carpet"
           }
          ],
          "choropleth": [
           {
            "colorbar": {
             "outlinewidth": 0,
             "ticks": ""
            },
            "type": "choropleth"
           }
          ],
          "contour": [
           {
            "colorbar": {
             "outlinewidth": 0,
             "ticks": ""
            },
            "colorscale": [
             [
              0,
              "#0d0887"
             ],
             [
              0.1111111111111111,
              "#46039f"
             ],
             [
              0.2222222222222222,
              "#7201a8"
             ],
             [
              0.3333333333333333,
              "#9c179e"
             ],
             [
              0.4444444444444444,
              "#bd3786"
             ],
             [
              0.5555555555555556,
              "#d8576b"
             ],
             [
              0.6666666666666666,
              "#ed7953"
             ],
             [
              0.7777777777777778,
              "#fb9f3a"
             ],
             [
              0.8888888888888888,
              "#fdca26"
             ],
             [
              1,
              "#f0f921"
             ]
            ],
            "type": "contour"
           }
          ],
          "contourcarpet": [
           {
            "colorbar": {
             "outlinewidth": 0,
             "ticks": ""
            },
            "type": "contourcarpet"
           }
          ],
          "heatmap": [
           {
            "colorbar": {
             "outlinewidth": 0,
             "ticks": ""
            },
            "colorscale": [
             [
              0,
              "#0d0887"
             ],
             [
              0.1111111111111111,
              "#46039f"
             ],
             [
              0.2222222222222222,
              "#7201a8"
             ],
             [
              0.3333333333333333,
              "#9c179e"
             ],
             [
              0.4444444444444444,
              "#bd3786"
             ],
             [
              0.5555555555555556,
              "#d8576b"
             ],
             [
              0.6666666666666666,
              "#ed7953"
             ],
             [
              0.7777777777777778,
              "#fb9f3a"
             ],
             [
              0.8888888888888888,
              "#fdca26"
             ],
             [
              1,
              "#f0f921"
             ]
            ],
            "type": "heatmap"
           }
          ],
          "histogram": [
           {
            "marker": {
             "pattern": {
              "fillmode": "overlay",
              "size": 10,
              "solidity": 0.2
             }
            },
            "type": "histogram"
           }
          ],
          "histogram2d": [
           {
            "colorbar": {
             "outlinewidth": 0,
             "ticks": ""
            },
            "colorscale": [
             [
              0,
              "#0d0887"
             ],
             [
              0.1111111111111111,
              "#46039f"
             ],
             [
              0.2222222222222222,
              "#7201a8"
             ],
             [
              0.3333333333333333,
              "#9c179e"
             ],
             [
              0.4444444444444444,
              "#bd3786"
             ],
             [
              0.5555555555555556,
              "#d8576b"
             ],
             [
              0.6666666666666666,
              "#ed7953"
             ],
             [
              0.7777777777777778,
              "#fb9f3a"
             ],
             [
              0.8888888888888888,
              "#fdca26"
             ],
             [
              1,
              "#f0f921"
             ]
            ],
            "type": "histogram2d"
           }
          ],
          "histogram2dcontour": [
           {
            "colorbar": {
             "outlinewidth": 0,
             "ticks": ""
            },
            "colorscale": [
             [
              0,
              "#0d0887"
             ],
             [
              0.1111111111111111,
              "#46039f"
             ],
             [
              0.2222222222222222,
              "#7201a8"
             ],
             [
              0.3333333333333333,
              "#9c179e"
             ],
             [
              0.4444444444444444,
              "#bd3786"
             ],
             [
              0.5555555555555556,
              "#d8576b"
             ],
             [
              0.6666666666666666,
              "#ed7953"
             ],
             [
              0.7777777777777778,
              "#fb9f3a"
             ],
             [
              0.8888888888888888,
              "#fdca26"
             ],
             [
              1,
              "#f0f921"
             ]
            ],
            "type": "histogram2dcontour"
           }
          ],
          "mesh3d": [
           {
            "colorbar": {
             "outlinewidth": 0,
             "ticks": ""
            },
            "type": "mesh3d"
           }
          ],
          "parcoords": [
           {
            "line": {
             "colorbar": {
              "outlinewidth": 0,
              "ticks": ""
             }
            },
            "type": "parcoords"
           }
          ],
          "pie": [
           {
            "automargin": true,
            "type": "pie"
           }
          ],
          "scatter": [
           {
            "fillpattern": {
             "fillmode": "overlay",
             "size": 10,
             "solidity": 0.2
            },
            "type": "scatter"
           }
          ],
          "scatter3d": [
           {
            "line": {
             "colorbar": {
              "outlinewidth": 0,
              "ticks": ""
             }
            },
            "marker": {
             "colorbar": {
              "outlinewidth": 0,
              "ticks": ""
             }
            },
            "type": "scatter3d"
           }
          ],
          "scattercarpet": [
           {
            "marker": {
             "colorbar": {
              "outlinewidth": 0,
              "ticks": ""
             }
            },
            "type": "scattercarpet"
           }
          ],
          "scattergeo": [
           {
            "marker": {
             "colorbar": {
              "outlinewidth": 0,
              "ticks": ""
             }
            },
            "type": "scattergeo"
           }
          ],
          "scattergl": [
           {
            "marker": {
             "colorbar": {
              "outlinewidth": 0,
              "ticks": ""
             }
            },
            "type": "scattergl"
           }
          ],
          "scattermap": [
           {
            "marker": {
             "colorbar": {
              "outlinewidth": 0,
              "ticks": ""
             }
            },
            "type": "scattermap"
           }
          ],
          "scattermapbox": [
           {
            "marker": {
             "colorbar": {
              "outlinewidth": 0,
              "ticks": ""
             }
            },
            "type": "scattermapbox"
           }
          ],
          "scatterpolar": [
           {
            "marker": {
             "colorbar": {
              "outlinewidth": 0,
              "ticks": ""
             }
            },
            "type": "scatterpolar"
           }
          ],
          "scatterpolargl": [
           {
            "marker": {
             "colorbar": {
              "outlinewidth": 0,
              "ticks": ""
             }
            },
            "type": "scatterpolargl"
           }
          ],
          "scatterternary": [
           {
            "marker": {
             "colorbar": {
              "outlinewidth": 0,
              "ticks": ""
             }
            },
            "type": "scatterternary"
           }
          ],
          "surface": [
           {
            "colorbar": {
             "outlinewidth": 0,
             "ticks": ""
            },
            "colorscale": [
             [
              0,
              "#0d0887"
             ],
             [
              0.1111111111111111,
              "#46039f"
             ],
             [
              0.2222222222222222,
              "#7201a8"
             ],
             [
              0.3333333333333333,
              "#9c179e"
             ],
             [
              0.4444444444444444,
              "#bd3786"
             ],
             [
              0.5555555555555556,
              "#d8576b"
             ],
             [
              0.6666666666666666,
              "#ed7953"
             ],
             [
              0.7777777777777778,
              "#fb9f3a"
             ],
             [
              0.8888888888888888,
              "#fdca26"
             ],
             [
              1,
              "#f0f921"
             ]
            ],
            "type": "surface"
           }
          ],
          "table": [
           {
            "cells": {
             "fill": {
              "color": "#EBF0F8"
             },
             "line": {
              "color": "white"
             }
            },
            "header": {
             "fill": {
              "color": "#C8D4E3"
             },
             "line": {
              "color": "white"
             }
            },
            "type": "table"
           }
          ]
         },
         "layout": {
          "annotationdefaults": {
           "arrowcolor": "#2a3f5f",
           "arrowhead": 0,
           "arrowwidth": 1
          },
          "autotypenumbers": "strict",
          "coloraxis": {
           "colorbar": {
            "outlinewidth": 0,
            "ticks": ""
           }
          },
          "colorscale": {
           "diverging": [
            [
             0,
             "#8e0152"
            ],
            [
             0.1,
             "#c51b7d"
            ],
            [
             0.2,
             "#de77ae"
            ],
            [
             0.3,
             "#f1b6da"
            ],
            [
             0.4,
             "#fde0ef"
            ],
            [
             0.5,
             "#f7f7f7"
            ],
            [
             0.6,
             "#e6f5d0"
            ],
            [
             0.7,
             "#b8e186"
            ],
            [
             0.8,
             "#7fbc41"
            ],
            [
             0.9,
             "#4d9221"
            ],
            [
             1,
             "#276419"
            ]
           ],
           "sequential": [
            [
             0,
             "#0d0887"
            ],
            [
             0.1111111111111111,
             "#46039f"
            ],
            [
             0.2222222222222222,
             "#7201a8"
            ],
            [
             0.3333333333333333,
             "#9c179e"
            ],
            [
             0.4444444444444444,
             "#bd3786"
            ],
            [
             0.5555555555555556,
             "#d8576b"
            ],
            [
             0.6666666666666666,
             "#ed7953"
            ],
            [
             0.7777777777777778,
             "#fb9f3a"
            ],
            [
             0.8888888888888888,
             "#fdca26"
            ],
            [
             1,
             "#f0f921"
            ]
           ],
           "sequentialminus": [
            [
             0,
             "#0d0887"
            ],
            [
             0.1111111111111111,
             "#46039f"
            ],
            [
             0.2222222222222222,
             "#7201a8"
            ],
            [
             0.3333333333333333,
             "#9c179e"
            ],
            [
             0.4444444444444444,
             "#bd3786"
            ],
            [
             0.5555555555555556,
             "#d8576b"
            ],
            [
             0.6666666666666666,
             "#ed7953"
            ],
            [
             0.7777777777777778,
             "#fb9f3a"
            ],
            [
             0.8888888888888888,
             "#fdca26"
            ],
            [
             1,
             "#f0f921"
            ]
           ]
          },
          "colorway": [
           "#636efa",
           "#EF553B",
           "#00cc96",
           "#ab63fa",
           "#FFA15A",
           "#19d3f3",
           "#FF6692",
           "#B6E880",
           "#FF97FF",
           "#FECB52"
          ],
          "font": {
           "color": "#2a3f5f"
          },
          "geo": {
           "bgcolor": "white",
           "lakecolor": "white",
           "landcolor": "#E5ECF6",
           "showlakes": true,
           "showland": true,
           "subunitcolor": "white"
          },
          "hoverlabel": {
           "align": "left"
          },
          "hovermode": "closest",
          "mapbox": {
           "style": "light"
          },
          "paper_bgcolor": "white",
          "plot_bgcolor": "#E5ECF6",
          "polar": {
           "angularaxis": {
            "gridcolor": "white",
            "linecolor": "white",
            "ticks": ""
           },
           "bgcolor": "#E5ECF6",
           "radialaxis": {
            "gridcolor": "white",
            "linecolor": "white",
            "ticks": ""
           }
          },
          "scene": {
           "xaxis": {
            "backgroundcolor": "#E5ECF6",
            "gridcolor": "white",
            "gridwidth": 2,
            "linecolor": "white",
            "showbackground": true,
            "ticks": "",
            "zerolinecolor": "white"
           },
           "yaxis": {
            "backgroundcolor": "#E5ECF6",
            "gridcolor": "white",
            "gridwidth": 2,
            "linecolor": "white",
            "showbackground": true,
            "ticks": "",
            "zerolinecolor": "white"
           },
           "zaxis": {
            "backgroundcolor": "#E5ECF6",
            "gridcolor": "white",
            "gridwidth": 2,
            "linecolor": "white",
            "showbackground": true,
            "ticks": "",
            "zerolinecolor": "white"
           }
          },
          "shapedefaults": {
           "line": {
            "color": "#2a3f5f"
           }
          },
          "ternary": {
           "aaxis": {
            "gridcolor": "white",
            "linecolor": "white",
            "ticks": ""
           },
           "baxis": {
            "gridcolor": "white",
            "linecolor": "white",
            "ticks": ""
           },
           "bgcolor": "#E5ECF6",
           "caxis": {
            "gridcolor": "white",
            "linecolor": "white",
            "ticks": ""
           }
          },
          "title": {
           "x": 0.05
          },
          "xaxis": {
           "automargin": true,
           "gridcolor": "white",
           "linecolor": "white",
           "ticks": "",
           "title": {
            "standoff": 15
           },
           "zerolinecolor": "white",
           "zerolinewidth": 2
          },
          "yaxis": {
           "automargin": true,
           "gridcolor": "white",
           "linecolor": "white",
           "ticks": "",
           "title": {
            "standoff": 15
           },
           "zerolinecolor": "white",
           "zerolinewidth": 2
          }
         }
        },
        "title": {
         "text": "Alphas vs Utility (Dual Step, n^2 complexity)"
        },
        "xaxis": {
         "title": {
          "text": "Alpha"
         }
        },
        "yaxis": {
         "title": {
          "text": "Utility"
         }
        }
       }
      }
     },
     "metadata": {},
     "output_type": "display_data"
    }
   ],
   "source": [
    "j = vectorize_double_step(a, b, u_plus, u_minus, c_plus, c_minus, alphas, w_a, w_b)"
   ]
  },
  {
   "cell_type": "code",
   "execution_count": 59,
   "id": "3d572b32",
   "metadata": {},
   "outputs": [],
   "source": [
    "# Brute force double step\n",
    "def double_step(a, b, u_plus, u_minus, c_plus, c_minus, alphas, w_a, w_b):\n",
    "    \n",
    "    delta_A1 = expected(a, c_plus, c_minus)\n",
    "    delta_B1 = expected(b, c_plus, c_minus)\n",
    "\n",
    "    utilities = []\n",
    "    mean_diffs = []\n",
    "\n",
    "    from collections import defaultdict\n",
    "    all_utils = []\n",
    "    comp = []\n",
    "        \n",
    "    for i in a:\n",
    "        A = np.where(a > i, a + delta_A1, a) \n",
    "        for j in b:   \n",
    "            # Apply the first step\n",
    "            B = np.where(b > j, b + delta_B1, b)\n",
    "            \n",
    "            # Start the second step\n",
    "            delta_A2 = expected(A, c_plus, c_minus)\n",
    "            delta_B2 = expected(B, c_plus, c_minus)\n",
    "            \n",
    "            for k in A:\n",
    "                A2 = np.where(A > k, A + delta_A2, A)\n",
    "                for l in B:\n",
    "                    B2 = np.where(B > l, B + delta_B2, B)\n",
    "                    \n",
    "                    util = w_a * np.sum(expected(A2, u_plus, u_minus)) + w_b * np.sum(expected(B2, u_plus, u_minus))\n",
    "                    diff = np.abs(np.mean(A2)- np.mean(B2))\n",
    "\n",
    "                    all_utils.append((diff, util))\n",
    "\n",
    "    for alpha in alphas:\n",
    "        valid = [i for i in all_utils if i[0] < alpha]\n",
    "        valid_count = len(valid)\n",
    "        valid = sorted(valid, key=lambda x: x[1], reverse=True)\n",
    "        top_5 = valid[:5]\n",
    "\n",
    "        if len(valid) <= 0:\n",
    "            utilities.append(np.nan)\n",
    "            mean_diffs.append(np.nan)\n",
    "        else:\n",
    "            pair = max(valid, key=lambda x: x[1])\n",
    "            utilities.append(pair[1])\n",
    "            mean_diffs.append(pair[0])\n",
    "            \n",
    "        comp.append( (alpha, valid_count, top_5) )\n",
    "        \n",
    "    utility = go.Scatter(x=alphas, y=utilities, mode='markers', name='Utility')\n",
    "    mean_diff = go.Scatter(x=alphas, y=mean_diffs, mode='markers')\n",
    "    fig = go.Figure(data=[utility, mean_diff])\n",
    "    fig.update_layout(\n",
    "        title='Alpha vs Utility (Dual Step, n^4 Complexity',\n",
    "        xaxis_title='Alpha',\n",
    "        yaxis_title='Utility'\n",
    "            )\n",
    "    fig.show()\n",
    "\n",
    "    return comp\n",
    "#double_step(a, b, u_plus, u_minus, c_plus, c_minus, alphas, w_a, w_b)\n",
    "\n"
   ]
  },
  {
   "cell_type": "code",
   "execution_count": 65,
   "id": "4d737ba8",
   "metadata": {},
   "outputs": [
    {
     "data": {
      "application/vnd.plotly.v1+json": {
       "config": {
        "plotlyServerURL": "https://plot.ly"
       },
       "data": [
        {
         "mode": "markers",
         "name": "Utility",
         "type": "scatter",
         "x": {
          "bdata": "exSuR+F6hD8odNeXzNKePwrv60UUtKk//xH2H2H/sT96LPYcuCS3P/VG9hkPSrw/uDB7C7O3wD/2PfuJXkrDPzNLewgK3cU/cFj7hrVvyD+uZXsFYQLLP+ty+4MMlc0/FMA9AdwT0D+zxn3AMV3RP1LNvX+HptI/8NP9Pt3v0z+P2j3+MjnVPy7hfb2IgtY/zOe9fN7L1z9r7v07NBXZPwr1PfuJXto/qPt9ut+n2z9HAr55NfHcP+YI/jiLOt4/hA8++OCD3z8SC79bm2bgP2EOXztGC+E/sBH/GvGv4T8AFZ/6m1TiP08YP9pG+eI/nhvfufGd4z/uHn+ZnELkPz0iH3lH5+Q/jCW/WPKL5T/cKF84nTDmPyss/xdI1eY/ei+f9/J55z/KMj/XnR7oPxk237ZIw+g/aDl/lvNn6T+4PB92ngzqPwdAv1VJseo/VkNfNfRV6z+mRv8Un/rrP/VJn/RJn+w/RE0/1PRD7T+UUN+zn+jtP+NTf5NKje4/Mlcfc/Ux7z+CWr9SoNbvP+muL5mlPfA/kLD/CPuP8D84ss94UOLwP+Czn+ilNPE/h7VvWPuG8T8vtz/IUNnxP9e4DzimK/I/frrfp/t98j8mvK8XUdDyP869f4emIvM/db9P9/t08z8dwR9nUcfzP8XC79amGfQ/bMS/Rvxr9D8Uxo+2Ub70P7zHXyanEPU/Y8kvlvxi9T8Ly/8FUrX1P7PMz3WnB/Y/Ws6f5fxZ9j8C0G9VUqz2P6rRP8Wn/vY/UdMPNf1Q9z/51N+kUqP3P6HWrxSo9fc/SNh/hP1H+D/w2U/0Upr4P5jbH2So7Pg/P93v0/0++T/n3r9DU5H5P4/gj7Oo4/k/NuJfI/41+j/e4y+TU4j6P4bl/wKp2vo/LefPcv4s+z/V6J/iU3/7P33qb1Kp0fs/JOw/wv4j/D/M7Q8yVHb8P3Tv36GpyPw/G/GvEf8a/T/D8n+BVG39P2v0T/Gpv/0/EvYfYf8R/j+69+/QVGT+P2L5v0Cqtv4/CfuPsP8I/z+x/F8gVVv/P1n+L5Cqrf8/AAAAAAAAAEA=",
          "dtype": "f8"
         },
         "y": [
          null,
          null,
          null,
          null,
          null,
          null,
          null,
          null,
          null,
          null,
          null,
          null,
          null,
          null,
          null,
          null,
          null,
          null,
          null,
          null,
          null,
          0.27245149707179517,
          0.27245149707179517,
          0.27245149707179517,
          0.27245149707179517,
          0.27245149707179517,
          0.27245149707179517,
          0.27245149707179517,
          0.27245149707179517,
          0.3303408040675913,
          0.3303408040675913,
          0.3303408040675913,
          0.3303408040675913,
          0.3303408040675913,
          0.4103853883540969,
          0.41408152508657137,
          0.41408152508657137,
          0.41408152508657137,
          0.41408152508657137,
          0.41408152508657137,
          0.41408152508657137,
          0.41408152508657137,
          0.41408152508657137,
          0.4454776792853602,
          0.4454776792853602,
          0.4454776792853602,
          0.4454776792853602,
          0.4454776792853602,
          0.4454776792853602,
          0.46433303274983206,
          0.4915757858961258,
          0.5098525466589804,
          0.5098525466589804,
          0.5098525466589804,
          0.5098525466589804,
          0.5098525466589804,
          0.5098525466589804,
          0.5098525466589804,
          0.5098525466589804,
          0.5098525466589804,
          0.5098525466589804,
          0.5098525466589804,
          0.5098525466589804,
          0.5098525466589804,
          0.5098525466589804,
          0.5098525466589804,
          0.5098525466589804,
          0.5098525466589804,
          0.5098525466589804,
          0.5098525466589804,
          0.5098525466589804,
          0.5098525466589804,
          0.5098525466589804,
          0.5098525466589804,
          0.5098525466589804,
          0.5098525466589804,
          0.5098525466589804,
          0.5098525466589804,
          0.5098525466589804,
          0.5098525466589804,
          0.5098525466589804,
          0.5098525466589804,
          0.5098525466589804,
          0.5098525466589804,
          0.5098525466589804,
          0.5098525466589804,
          0.5098525466589804,
          0.5098525466589804,
          0.5098525466589804,
          0.5098525466589804,
          0.5098525466589804,
          0.5098525466589804,
          0.5098525466589804,
          0.5098525466589804,
          0.5098525466589804,
          0.5098525466589804,
          0.5098525466589804,
          0.5098525466589804,
          0.5098525466589804,
          0.5098525466589804
         ]
        },
        {
         "mode": "markers",
         "type": "scatter",
         "x": {
          "bdata": "exSuR+F6hD8odNeXzNKePwrv60UUtKk//xH2H2H/sT96LPYcuCS3P/VG9hkPSrw/uDB7C7O3wD/2PfuJXkrDPzNLewgK3cU/cFj7hrVvyD+uZXsFYQLLP+ty+4MMlc0/FMA9AdwT0D+zxn3AMV3RP1LNvX+HptI/8NP9Pt3v0z+P2j3+MjnVPy7hfb2IgtY/zOe9fN7L1z9r7v07NBXZPwr1PfuJXto/qPt9ut+n2z9HAr55NfHcP+YI/jiLOt4/hA8++OCD3z8SC79bm2bgP2EOXztGC+E/sBH/GvGv4T8AFZ/6m1TiP08YP9pG+eI/nhvfufGd4z/uHn+ZnELkPz0iH3lH5+Q/jCW/WPKL5T/cKF84nTDmPyss/xdI1eY/ei+f9/J55z/KMj/XnR7oPxk237ZIw+g/aDl/lvNn6T+4PB92ngzqPwdAv1VJseo/VkNfNfRV6z+mRv8Un/rrP/VJn/RJn+w/RE0/1PRD7T+UUN+zn+jtP+NTf5NKje4/Mlcfc/Ux7z+CWr9SoNbvP+muL5mlPfA/kLD/CPuP8D84ss94UOLwP+Czn+ilNPE/h7VvWPuG8T8vtz/IUNnxP9e4DzimK/I/frrfp/t98j8mvK8XUdDyP869f4emIvM/db9P9/t08z8dwR9nUcfzP8XC79amGfQ/bMS/Rvxr9D8Uxo+2Ub70P7zHXyanEPU/Y8kvlvxi9T8Ly/8FUrX1P7PMz3WnB/Y/Ws6f5fxZ9j8C0G9VUqz2P6rRP8Wn/vY/UdMPNf1Q9z/51N+kUqP3P6HWrxSo9fc/SNh/hP1H+D/w2U/0Upr4P5jbH2So7Pg/P93v0/0++T/n3r9DU5H5P4/gj7Oo4/k/NuJfI/41+j/e4y+TU4j6P4bl/wKp2vo/LefPcv4s+z/V6J/iU3/7P33qb1Kp0fs/JOw/wv4j/D/M7Q8yVHb8P3Tv36GpyPw/G/GvEf8a/T/D8n+BVG39P2v0T/Gpv/0/EvYfYf8R/j+69+/QVGT+P2L5v0Cqtv4/CfuPsP8I/z+x/F8gVVv/P1n+L5Cqrf8/AAAAAAAAAEA=",
          "dtype": "f8"
         },
         "y": [
          null,
          null,
          null,
          null,
          null,
          null,
          null,
          null,
          null,
          null,
          null,
          null,
          null,
          null,
          null,
          null,
          null,
          null,
          null,
          null,
          null,
          0.4178843223622688,
          0.4178843223622688,
          0.4178843223622688,
          0.4178843223622688,
          0.4178843223622688,
          0.4178843223622688,
          0.4178843223622688,
          0.4178843223622688,
          0.5751831216011675,
          0.5751831216011675,
          0.5751831216011675,
          0.5751831216011675,
          0.5751831216011675,
          0.6910210021325851,
          0.6938379910533478,
          0.6938379910533478,
          0.6938379910533478,
          0.6938379910533478,
          0.6938379910533478,
          0.6938379910533478,
          0.6938379910533478,
          0.6938379910533478,
          0.8731898596239783,
          0.8731898596239783,
          0.8731898596239783,
          0.8731898596239783,
          0.8731898596239783,
          0.8731898596239783,
          0.9888213540344325,
          1.0097649428470732,
          1.023745956131008,
          1.023745956131008,
          1.023745956131008,
          1.023745956131008,
          1.023745956131008,
          1.023745956131008,
          1.023745956131008,
          1.023745956131008,
          1.023745956131008,
          1.023745956131008,
          1.023745956131008,
          1.023745956131008,
          1.023745956131008,
          1.023745956131008,
          1.023745956131008,
          1.023745956131008,
          1.023745956131008,
          1.023745956131008,
          1.023745956131008,
          1.023745956131008,
          1.023745956131008,
          1.023745956131008,
          1.023745956131008,
          1.023745956131008,
          1.023745956131008,
          1.023745956131008,
          1.023745956131008,
          1.023745956131008,
          1.023745956131008,
          1.023745956131008,
          1.023745956131008,
          1.023745956131008,
          1.023745956131008,
          1.023745956131008,
          1.023745956131008,
          1.023745956131008,
          1.023745956131008,
          1.023745956131008,
          1.023745956131008,
          1.023745956131008,
          1.023745956131008,
          1.023745956131008,
          1.023745956131008,
          1.023745956131008,
          1.023745956131008,
          1.023745956131008,
          1.023745956131008,
          1.023745956131008,
          1.023745956131008
         ]
        }
       ],
       "layout": {
        "template": {
         "data": {
          "bar": [
           {
            "error_x": {
             "color": "#2a3f5f"
            },
            "error_y": {
             "color": "#2a3f5f"
            },
            "marker": {
             "line": {
              "color": "#E5ECF6",
              "width": 0.5
             },
             "pattern": {
              "fillmode": "overlay",
              "size": 10,
              "solidity": 0.2
             }
            },
            "type": "bar"
           }
          ],
          "barpolar": [
           {
            "marker": {
             "line": {
              "color": "#E5ECF6",
              "width": 0.5
             },
             "pattern": {
              "fillmode": "overlay",
              "size": 10,
              "solidity": 0.2
             }
            },
            "type": "barpolar"
           }
          ],
          "carpet": [
           {
            "aaxis": {
             "endlinecolor": "#2a3f5f",
             "gridcolor": "white",
             "linecolor": "white",
             "minorgridcolor": "white",
             "startlinecolor": "#2a3f5f"
            },
            "baxis": {
             "endlinecolor": "#2a3f5f",
             "gridcolor": "white",
             "linecolor": "white",
             "minorgridcolor": "white",
             "startlinecolor": "#2a3f5f"
            },
            "type": "carpet"
           }
          ],
          "choropleth": [
           {
            "colorbar": {
             "outlinewidth": 0,
             "ticks": ""
            },
            "type": "choropleth"
           }
          ],
          "contour": [
           {
            "colorbar": {
             "outlinewidth": 0,
             "ticks": ""
            },
            "colorscale": [
             [
              0,
              "#0d0887"
             ],
             [
              0.1111111111111111,
              "#46039f"
             ],
             [
              0.2222222222222222,
              "#7201a8"
             ],
             [
              0.3333333333333333,
              "#9c179e"
             ],
             [
              0.4444444444444444,
              "#bd3786"
             ],
             [
              0.5555555555555556,
              "#d8576b"
             ],
             [
              0.6666666666666666,
              "#ed7953"
             ],
             [
              0.7777777777777778,
              "#fb9f3a"
             ],
             [
              0.8888888888888888,
              "#fdca26"
             ],
             [
              1,
              "#f0f921"
             ]
            ],
            "type": "contour"
           }
          ],
          "contourcarpet": [
           {
            "colorbar": {
             "outlinewidth": 0,
             "ticks": ""
            },
            "type": "contourcarpet"
           }
          ],
          "heatmap": [
           {
            "colorbar": {
             "outlinewidth": 0,
             "ticks": ""
            },
            "colorscale": [
             [
              0,
              "#0d0887"
             ],
             [
              0.1111111111111111,
              "#46039f"
             ],
             [
              0.2222222222222222,
              "#7201a8"
             ],
             [
              0.3333333333333333,
              "#9c179e"
             ],
             [
              0.4444444444444444,
              "#bd3786"
             ],
             [
              0.5555555555555556,
              "#d8576b"
             ],
             [
              0.6666666666666666,
              "#ed7953"
             ],
             [
              0.7777777777777778,
              "#fb9f3a"
             ],
             [
              0.8888888888888888,
              "#fdca26"
             ],
             [
              1,
              "#f0f921"
             ]
            ],
            "type": "heatmap"
           }
          ],
          "histogram": [
           {
            "marker": {
             "pattern": {
              "fillmode": "overlay",
              "size": 10,
              "solidity": 0.2
             }
            },
            "type": "histogram"
           }
          ],
          "histogram2d": [
           {
            "colorbar": {
             "outlinewidth": 0,
             "ticks": ""
            },
            "colorscale": [
             [
              0,
              "#0d0887"
             ],
             [
              0.1111111111111111,
              "#46039f"
             ],
             [
              0.2222222222222222,
              "#7201a8"
             ],
             [
              0.3333333333333333,
              "#9c179e"
             ],
             [
              0.4444444444444444,
              "#bd3786"
             ],
             [
              0.5555555555555556,
              "#d8576b"
             ],
             [
              0.6666666666666666,
              "#ed7953"
             ],
             [
              0.7777777777777778,
              "#fb9f3a"
             ],
             [
              0.8888888888888888,
              "#fdca26"
             ],
             [
              1,
              "#f0f921"
             ]
            ],
            "type": "histogram2d"
           }
          ],
          "histogram2dcontour": [
           {
            "colorbar": {
             "outlinewidth": 0,
             "ticks": ""
            },
            "colorscale": [
             [
              0,
              "#0d0887"
             ],
             [
              0.1111111111111111,
              "#46039f"
             ],
             [
              0.2222222222222222,
              "#7201a8"
             ],
             [
              0.3333333333333333,
              "#9c179e"
             ],
             [
              0.4444444444444444,
              "#bd3786"
             ],
             [
              0.5555555555555556,
              "#d8576b"
             ],
             [
              0.6666666666666666,
              "#ed7953"
             ],
             [
              0.7777777777777778,
              "#fb9f3a"
             ],
             [
              0.8888888888888888,
              "#fdca26"
             ],
             [
              1,
              "#f0f921"
             ]
            ],
            "type": "histogram2dcontour"
           }
          ],
          "mesh3d": [
           {
            "colorbar": {
             "outlinewidth": 0,
             "ticks": ""
            },
            "type": "mesh3d"
           }
          ],
          "parcoords": [
           {
            "line": {
             "colorbar": {
              "outlinewidth": 0,
              "ticks": ""
             }
            },
            "type": "parcoords"
           }
          ],
          "pie": [
           {
            "automargin": true,
            "type": "pie"
           }
          ],
          "scatter": [
           {
            "fillpattern": {
             "fillmode": "overlay",
             "size": 10,
             "solidity": 0.2
            },
            "type": "scatter"
           }
          ],
          "scatter3d": [
           {
            "line": {
             "colorbar": {
              "outlinewidth": 0,
              "ticks": ""
             }
            },
            "marker": {
             "colorbar": {
              "outlinewidth": 0,
              "ticks": ""
             }
            },
            "type": "scatter3d"
           }
          ],
          "scattercarpet": [
           {
            "marker": {
             "colorbar": {
              "outlinewidth": 0,
              "ticks": ""
             }
            },
            "type": "scattercarpet"
           }
          ],
          "scattergeo": [
           {
            "marker": {
             "colorbar": {
              "outlinewidth": 0,
              "ticks": ""
             }
            },
            "type": "scattergeo"
           }
          ],
          "scattergl": [
           {
            "marker": {
             "colorbar": {
              "outlinewidth": 0,
              "ticks": ""
             }
            },
            "type": "scattergl"
           }
          ],
          "scattermap": [
           {
            "marker": {
             "colorbar": {
              "outlinewidth": 0,
              "ticks": ""
             }
            },
            "type": "scattermap"
           }
          ],
          "scattermapbox": [
           {
            "marker": {
             "colorbar": {
              "outlinewidth": 0,
              "ticks": ""
             }
            },
            "type": "scattermapbox"
           }
          ],
          "scatterpolar": [
           {
            "marker": {
             "colorbar": {
              "outlinewidth": 0,
              "ticks": ""
             }
            },
            "type": "scatterpolar"
           }
          ],
          "scatterpolargl": [
           {
            "marker": {
             "colorbar": {
              "outlinewidth": 0,
              "ticks": ""
             }
            },
            "type": "scatterpolargl"
           }
          ],
          "scatterternary": [
           {
            "marker": {
             "colorbar": {
              "outlinewidth": 0,
              "ticks": ""
             }
            },
            "type": "scatterternary"
           }
          ],
          "surface": [
           {
            "colorbar": {
             "outlinewidth": 0,
             "ticks": ""
            },
            "colorscale": [
             [
              0,
              "#0d0887"
             ],
             [
              0.1111111111111111,
              "#46039f"
             ],
             [
              0.2222222222222222,
              "#7201a8"
             ],
             [
              0.3333333333333333,
              "#9c179e"
             ],
             [
              0.4444444444444444,
              "#bd3786"
             ],
             [
              0.5555555555555556,
              "#d8576b"
             ],
             [
              0.6666666666666666,
              "#ed7953"
             ],
             [
              0.7777777777777778,
              "#fb9f3a"
             ],
             [
              0.8888888888888888,
              "#fdca26"
             ],
             [
              1,
              "#f0f921"
             ]
            ],
            "type": "surface"
           }
          ],
          "table": [
           {
            "cells": {
             "fill": {
              "color": "#EBF0F8"
             },
             "line": {
              "color": "white"
             }
            },
            "header": {
             "fill": {
              "color": "#C8D4E3"
             },
             "line": {
              "color": "white"
             }
            },
            "type": "table"
           }
          ]
         },
         "layout": {
          "annotationdefaults": {
           "arrowcolor": "#2a3f5f",
           "arrowhead": 0,
           "arrowwidth": 1
          },
          "autotypenumbers": "strict",
          "coloraxis": {
           "colorbar": {
            "outlinewidth": 0,
            "ticks": ""
           }
          },
          "colorscale": {
           "diverging": [
            [
             0,
             "#8e0152"
            ],
            [
             0.1,
             "#c51b7d"
            ],
            [
             0.2,
             "#de77ae"
            ],
            [
             0.3,
             "#f1b6da"
            ],
            [
             0.4,
             "#fde0ef"
            ],
            [
             0.5,
             "#f7f7f7"
            ],
            [
             0.6,
             "#e6f5d0"
            ],
            [
             0.7,
             "#b8e186"
            ],
            [
             0.8,
             "#7fbc41"
            ],
            [
             0.9,
             "#4d9221"
            ],
            [
             1,
             "#276419"
            ]
           ],
           "sequential": [
            [
             0,
             "#0d0887"
            ],
            [
             0.1111111111111111,
             "#46039f"
            ],
            [
             0.2222222222222222,
             "#7201a8"
            ],
            [
             0.3333333333333333,
             "#9c179e"
            ],
            [
             0.4444444444444444,
             "#bd3786"
            ],
            [
             0.5555555555555556,
             "#d8576b"
            ],
            [
             0.6666666666666666,
             "#ed7953"
            ],
            [
             0.7777777777777778,
             "#fb9f3a"
            ],
            [
             0.8888888888888888,
             "#fdca26"
            ],
            [
             1,
             "#f0f921"
            ]
           ],
           "sequentialminus": [
            [
             0,
             "#0d0887"
            ],
            [
             0.1111111111111111,
             "#46039f"
            ],
            [
             0.2222222222222222,
             "#7201a8"
            ],
            [
             0.3333333333333333,
             "#9c179e"
            ],
            [
             0.4444444444444444,
             "#bd3786"
            ],
            [
             0.5555555555555556,
             "#d8576b"
            ],
            [
             0.6666666666666666,
             "#ed7953"
            ],
            [
             0.7777777777777778,
             "#fb9f3a"
            ],
            [
             0.8888888888888888,
             "#fdca26"
            ],
            [
             1,
             "#f0f921"
            ]
           ]
          },
          "colorway": [
           "#636efa",
           "#EF553B",
           "#00cc96",
           "#ab63fa",
           "#FFA15A",
           "#19d3f3",
           "#FF6692",
           "#B6E880",
           "#FF97FF",
           "#FECB52"
          ],
          "font": {
           "color": "#2a3f5f"
          },
          "geo": {
           "bgcolor": "white",
           "lakecolor": "white",
           "landcolor": "#E5ECF6",
           "showlakes": true,
           "showland": true,
           "subunitcolor": "white"
          },
          "hoverlabel": {
           "align": "left"
          },
          "hovermode": "closest",
          "mapbox": {
           "style": "light"
          },
          "paper_bgcolor": "white",
          "plot_bgcolor": "#E5ECF6",
          "polar": {
           "angularaxis": {
            "gridcolor": "white",
            "linecolor": "white",
            "ticks": ""
           },
           "bgcolor": "#E5ECF6",
           "radialaxis": {
            "gridcolor": "white",
            "linecolor": "white",
            "ticks": ""
           }
          },
          "scene": {
           "xaxis": {
            "backgroundcolor": "#E5ECF6",
            "gridcolor": "white",
            "gridwidth": 2,
            "linecolor": "white",
            "showbackground": true,
            "ticks": "",
            "zerolinecolor": "white"
           },
           "yaxis": {
            "backgroundcolor": "#E5ECF6",
            "gridcolor": "white",
            "gridwidth": 2,
            "linecolor": "white",
            "showbackground": true,
            "ticks": "",
            "zerolinecolor": "white"
           },
           "zaxis": {
            "backgroundcolor": "#E5ECF6",
            "gridcolor": "white",
            "gridwidth": 2,
            "linecolor": "white",
            "showbackground": true,
            "ticks": "",
            "zerolinecolor": "white"
           }
          },
          "shapedefaults": {
           "line": {
            "color": "#2a3f5f"
           }
          },
          "ternary": {
           "aaxis": {
            "gridcolor": "white",
            "linecolor": "white",
            "ticks": ""
           },
           "baxis": {
            "gridcolor": "white",
            "linecolor": "white",
            "ticks": ""
           },
           "bgcolor": "#E5ECF6",
           "caxis": {
            "gridcolor": "white",
            "linecolor": "white",
            "ticks": ""
           }
          },
          "title": {
           "x": 0.05
          },
          "xaxis": {
           "automargin": true,
           "gridcolor": "white",
           "linecolor": "white",
           "ticks": "",
           "title": {
            "standoff": 15
           },
           "zerolinecolor": "white",
           "zerolinewidth": 2
          },
          "yaxis": {
           "automargin": true,
           "gridcolor": "white",
           "linecolor": "white",
           "ticks": "",
           "title": {
            "standoff": 15
           },
           "zerolinecolor": "white",
           "zerolinewidth": 2
          }
         }
        },
        "title": {
         "text": "Alpha vs Utility (Dual Step, n^4 Complexity"
        },
        "xaxis": {
         "title": {
          "text": "Alpha"
         }
        },
        "yaxis": {
         "title": {
          "text": "Utility"
         }
        }
       }
      }
     },
     "metadata": {},
     "output_type": "display_data"
    }
   ],
   "source": [
    "k = double_step(a, b, u_plus, u_minus, c_plus, c_minus, alphas, w_a, w_b)"
   ]
  },
  {
   "cell_type": "code",
   "execution_count": 62,
   "id": "4007c2a6",
   "metadata": {},
   "outputs": [
    {
     "name": "stdout",
     "output_type": "stream",
     "text": [
      "Difference at index 21 (Alpha = 0.43212121212121213):\n",
      "  Alphas: 0.43212121212121213 != 0.43212121212121213\n",
      "  Valid: 0 != 1\n",
      "  Top 5: [] != [(np.float64(0.4178843223622688), np.float64(0.27245149707179517))]\n",
      "----------------------------------------\n",
      "Difference at index 22 (Alpha = 0.45222222222222225):\n",
      "  Alphas: 0.45222222222222225 != 0.45222222222222225\n",
      "  Valid: 0 != 3\n",
      "  Top 5: [] != [(np.float64(0.4178843223622688), np.float64(0.27245149707179517)), (np.float64(0.4426929314700772), np.float64(0.24067639674802177)), (np.float64(0.4426929314700772), np.float64(0.24067639674802177))]\n",
      "----------------------------------------\n",
      "Difference at index 23 (Alpha = 0.47232323232323237):\n",
      "  Alphas: 0.47232323232323237 != 0.47232323232323237\n",
      "  Valid: 0 != 5\n",
      "  Top 5: [] != [(np.float64(0.4178843223622688), np.float64(0.27245149707179517)), (np.float64(0.4426929314700772), np.float64(0.24067639674802177)), (np.float64(0.4426929314700772), np.float64(0.24067639674802177)), (np.float64(0.46472072874620957), np.float64(0.21615082035912614)), (np.float64(0.46472072874620957), np.float64(0.21615082035912614))]\n",
      "----------------------------------------\n",
      "Difference at index 24 (Alpha = 0.49242424242424243):\n",
      "  Alphas: 0.49242424242424243 != 0.49242424242424243\n",
      "  Valid: 0 != 8\n",
      "  Top 5: [] != [(np.float64(0.4178843223622688), np.float64(0.27245149707179517)), (np.float64(0.4426929314700772), np.float64(0.24067639674802177)), (np.float64(0.4426929314700772), np.float64(0.24067639674802177)), (np.float64(0.46472072874620957), np.float64(0.21615082035912614)), (np.float64(0.46472072874620957), np.float64(0.21615082035912614))]\n",
      "----------------------------------------\n",
      "Difference at index 25 (Alpha = 0.5125252525252526):\n",
      "  Alphas: 0.5125252525252526 != 0.5125252525252526\n",
      "  Valid: 0 != 9\n",
      "  Top 5: [] != [(np.float64(0.4178843223622688), np.float64(0.27245149707179517)), (np.float64(0.4426929314700772), np.float64(0.24067639674802177)), (np.float64(0.4426929314700772), np.float64(0.24067639674802177)), (np.float64(0.46472072874620957), np.float64(0.21615082035912614)), (np.float64(0.46472072874620957), np.float64(0.21615082035912614))]\n",
      "----------------------------------------\n",
      "Difference at index 26 (Alpha = 0.5326262626262627):\n",
      "  Alphas: 0.5326262626262627 != 0.5326262626262627\n",
      "  Valid: 0 != 11\n",
      "  Top 5: [] != [(np.float64(0.4178843223622688), np.float64(0.27245149707179517)), (np.float64(0.4426929314700772), np.float64(0.24067639674802177)), (np.float64(0.4426929314700772), np.float64(0.24067639674802177)), (np.float64(0.46472072874620957), np.float64(0.21615082035912614)), (np.float64(0.46472072874620957), np.float64(0.21615082035912614))]\n",
      "----------------------------------------\n",
      "Difference at index 27 (Alpha = 0.5527272727272727):\n",
      "  Alphas: 0.5527272727272727 != 0.5527272727272727\n",
      "  Valid: 0 != 13\n",
      "  Top 5: [] != [(np.float64(0.4178843223622688), np.float64(0.27245149707179517)), (np.float64(0.4426929314700772), np.float64(0.24067639674802177)), (np.float64(0.4426929314700772), np.float64(0.24067639674802177)), (np.float64(0.46472072874620957), np.float64(0.21615082035912614)), (np.float64(0.46472072874620957), np.float64(0.21615082035912614))]\n",
      "----------------------------------------\n",
      "Difference at index 28 (Alpha = 0.5728282828282829):\n",
      "  Alphas: 0.5728282828282829 != 0.5728282828282829\n",
      "  Valid: 0 != 15\n",
      "  Top 5: [] != [(np.float64(0.4178843223622688), np.float64(0.27245149707179517)), (np.float64(0.4426929314700772), np.float64(0.24067639674802177)), (np.float64(0.4426929314700772), np.float64(0.24067639674802177)), (np.float64(0.46472072874620957), np.float64(0.21615082035912614)), (np.float64(0.46472072874620957), np.float64(0.21615082035912614))]\n",
      "----------------------------------------\n",
      "Difference at index 29 (Alpha = 0.592929292929293):\n",
      "  Alphas: 0.592929292929293 != 0.592929292929293\n",
      "  Valid: 0 != 17\n",
      "  Top 5: [] != [(np.float64(0.5751831216011675), np.float64(0.3303408040675913)), (np.float64(0.5751831216011675), np.float64(0.3303408040675913)), (np.float64(0.4178843223622688), np.float64(0.27245149707179517)), (np.float64(0.4426929314700772), np.float64(0.24067639674802177)), (np.float64(0.4426929314700772), np.float64(0.24067639674802177))]\n",
      "----------------------------------------\n",
      "Difference at index 30 (Alpha = 0.613030303030303):\n",
      "  Alphas: 0.613030303030303 != 0.613030303030303\n",
      "  Valid: 0 != 21\n",
      "  Top 5: [] != [(np.float64(0.5751831216011675), np.float64(0.3303408040675913)), (np.float64(0.5751831216011675), np.float64(0.3303408040675913)), (np.float64(0.5999917307089759), np.float64(0.2985657037438179)), (np.float64(0.5999917307089759), np.float64(0.2985657037438179)), (np.float64(0.5999917307089759), np.float64(0.2985657037438179))]\n",
      "----------------------------------------\n",
      "Difference at index 31 (Alpha = 0.6331313131313132):\n",
      "  Alphas: 0.6331313131313132 != 0.6331313131313132\n",
      "  Valid: 2 != 27\n",
      "  Top 5: [np.float64(0.2740401273549223), np.float64(0.1703199440158551)] != [(np.float64(0.5751831216011675), np.float64(0.3303408040675913)), (np.float64(0.5751831216011675), np.float64(0.3303408040675913)), (np.float64(0.5999917307089759), np.float64(0.2985657037438179)), (np.float64(0.5999917307089759), np.float64(0.2985657037438179)), (np.float64(0.5999917307089759), np.float64(0.2985657037438179))]\n",
      "----------------------------------------\n",
      "Difference at index 32 (Alpha = 0.6532323232323233):\n",
      "  Alphas: 0.6532323232323233 != 0.6532323232323233\n",
      "  Valid: 3 != 33\n",
      "  Top 5: [np.float64(0.2740401273549223), np.float64(0.24226502703114888), np.float64(0.1703199440158551)] != [(np.float64(0.5751831216011675), np.float64(0.3303408040675913)), (np.float64(0.5751831216011675), np.float64(0.3303408040675913)), (np.float64(0.5999917307089759), np.float64(0.2985657037438179)), (np.float64(0.5999917307089759), np.float64(0.2985657037438179)), (np.float64(0.5999917307089759), np.float64(0.2985657037438179))]\n",
      "----------------------------------------\n",
      "Difference at index 33 (Alpha = 0.6733333333333333):\n",
      "  Alphas: 0.6733333333333333 != 0.6733333333333333\n",
      "  Valid: 6 != 44\n",
      "  Top 5: [np.float64(0.2740401273549223), np.float64(0.24226502703114888), np.float64(0.23413911799136472), np.float64(0.1703199440158551), np.float64(0.1385448436920817)] != [(np.float64(0.5751831216011675), np.float64(0.3303408040675913)), (np.float64(0.5751831216011675), np.float64(0.3303408040675913)), (np.float64(0.5999917307089759), np.float64(0.2985657037438179)), (np.float64(0.5999917307089759), np.float64(0.2985657037438179)), (np.float64(0.5999917307089759), np.float64(0.2985657037438179))]\n",
      "----------------------------------------\n",
      "Difference at index 34 (Alpha = 0.6934343434343435):\n",
      "  Alphas: 0.6934343434343435 != 0.6934343434343435\n",
      "  Valid: 6 != 48\n",
      "  Top 5: [np.float64(0.2740401273549223), np.float64(0.24226502703114888), np.float64(0.23413911799136472), np.float64(0.1703199440158551), np.float64(0.1385448436920817)] != [(np.float64(0.6910210021325851), np.float64(0.4103853883540969)), (np.float64(0.6910210021325851), np.float64(0.4103853883540969)), (np.float64(0.6798569777694132), np.float64(0.3958047643237168)), (np.float64(0.6798569777694132), np.float64(0.3958047643237168)), (np.float64(0.5751831216011675), np.float64(0.3303408040675913))]\n",
      "----------------------------------------\n",
      "Difference at index 35 (Alpha = 0.7135353535353536):\n",
      "  Alphas: 0.7135353535353536 != 0.7135353535353536\n",
      "  Valid: 7 != 58\n",
      "  Top 5: [np.float64(0.41408152508657137), np.float64(0.2740401273549223), np.float64(0.24226502703114888), np.float64(0.23413911799136472), np.float64(0.1703199440158551)] != [(np.float64(0.6938379910533478), np.float64(0.41408152508657137)), (np.float64(0.6938379910533478), np.float64(0.41408152508657137)), (np.float64(0.6910210021325851), np.float64(0.4103853883540969)), (np.float64(0.6910210021325851), np.float64(0.4103853883540969)), (np.float64(0.6798569777694132), np.float64(0.3958047643237168))]\n",
      "----------------------------------------\n",
      "Difference at index 36 (Alpha = 0.7336363636363636):\n",
      "  Alphas: 0.7336363636363636 != 0.7336363636363636\n",
      "  Valid: 11 != 76\n",
      "  Top 5: [np.float64(0.41408152508657137), np.float64(0.38230642476279797), np.float64(0.3786102880303235), np.float64(0.2740401273549223), np.float64(0.24226502703114888)] != [(np.float64(0.6938379910533478), np.float64(0.41408152508657137)), (np.float64(0.6938379910533478), np.float64(0.41408152508657137)), (np.float64(0.6910210021325851), np.float64(0.4103853883540969)), (np.float64(0.6910210021325851), np.float64(0.4103853883540969)), (np.float64(0.6798569777694132), np.float64(0.3958047643237168))]\n",
      "----------------------------------------\n",
      "Difference at index 37 (Alpha = 0.7537373737373738):\n",
      "  Alphas: 0.7537373737373738 != 0.7537373737373738\n",
      "  Valid: 13 != 92\n",
      "  Top 5: [np.float64(0.41408152508657137), np.float64(0.38230642476279797), np.float64(0.3786102880303235), np.float64(0.35778084837390234), np.float64(0.3327236000184426)] != [(np.float64(0.6938379910533478), np.float64(0.41408152508657137)), (np.float64(0.6938379910533478), np.float64(0.41408152508657137)), (np.float64(0.6910210021325851), np.float64(0.4103853883540969)), (np.float64(0.6910210021325851), np.float64(0.4103853883540969)), (np.float64(0.6798569777694132), np.float64(0.3958047643237168))]\n",
      "----------------------------------------\n",
      "Difference at index 38 (Alpha = 0.7738383838383839):\n",
      "  Alphas: 0.7738383838383839 != 0.7738383838383839\n",
      "  Valid: 14 != 109\n",
      "  Top 5: [np.float64(0.41408152508657137), np.float64(0.38230642476279797), np.float64(0.3786102880303235), np.float64(0.35778084837390234), np.float64(0.3327236000184426)] != [(np.float64(0.6938379910533478), np.float64(0.41408152508657137)), (np.float64(0.6938379910533478), np.float64(0.41408152508657137)), (np.float64(0.6910210021325851), np.float64(0.4103853883540969)), (np.float64(0.6910210021325851), np.float64(0.4103853883540969)), (np.float64(0.6798569777694132), np.float64(0.3958047643237168))]\n",
      "----------------------------------------\n",
      "Difference at index 39 (Alpha = 0.793939393939394):\n",
      "  Alphas: 0.793939393939394 != 0.793939393939394\n",
      "  Valid: 17 != 127\n",
      "  Top 5: [np.float64(0.41408152508657137), np.float64(0.38230642476279797), np.float64(0.3786102880303235), np.float64(0.35778084837390234), np.float64(0.3327236000184426)] != [(np.float64(0.6938379910533478), np.float64(0.41408152508657137)), (np.float64(0.6938379910533478), np.float64(0.41408152508657137)), (np.float64(0.6910210021325851), np.float64(0.4103853883540969)), (np.float64(0.6910210021325851), np.float64(0.4103853883540969)), (np.float64(0.6798569777694132), np.float64(0.3958047643237168))]\n",
      "----------------------------------------\n",
      "Difference at index 40 (Alpha = 0.8140404040404041):\n",
      "  Alphas: 0.8140404040404041 != 0.8140404040404041\n",
      "  Valid: 19 != 132\n",
      "  Top 5: [np.float64(0.41408152508657137), np.float64(0.38230642476279797), np.float64(0.3786102880303235), np.float64(0.35778084837390234), np.float64(0.3327236000184426)] != [(np.float64(0.6938379910533478), np.float64(0.41408152508657137)), (np.float64(0.6938379910533478), np.float64(0.41408152508657137)), (np.float64(0.6910210021325851), np.float64(0.4103853883540969)), (np.float64(0.6910210021325851), np.float64(0.4103853883540969)), (np.float64(0.6798569777694132), np.float64(0.3958047643237168))]\n",
      "----------------------------------------\n",
      "Difference at index 41 (Alpha = 0.8341414141414142):\n",
      "  Alphas: 0.8341414141414142 != 0.8341414141414142\n",
      "  Valid: 27 != 160\n",
      "  Top 5: [np.float64(0.41408152508657137), np.float64(0.38230642476279797), np.float64(0.3786102880303235), np.float64(0.35778084837390234), np.float64(0.3327236000184426)] != [(np.float64(0.6938379910533478), np.float64(0.41408152508657137)), (np.float64(0.6938379910533478), np.float64(0.41408152508657137)), (np.float64(0.6910210021325851), np.float64(0.4103853883540969)), (np.float64(0.6910210021325851), np.float64(0.4103853883540969)), (np.float64(0.6798569777694132), np.float64(0.3958047643237168))]\n",
      "----------------------------------------\n",
      "Difference at index 42 (Alpha = 0.8542424242424242):\n",
      "  Alphas: 0.8542424242424242 != 0.8542424242424242\n",
      "  Valid: 27 != 170\n",
      "  Top 5: [np.float64(0.41408152508657137), np.float64(0.38230642476279797), np.float64(0.3786102880303235), np.float64(0.35778084837390234), np.float64(0.3327236000184426)] != [(np.float64(0.6938379910533478), np.float64(0.41408152508657137)), (np.float64(0.6938379910533478), np.float64(0.41408152508657137)), (np.float64(0.6910210021325851), np.float64(0.4103853883540969)), (np.float64(0.6910210021325851), np.float64(0.4103853883540969)), (np.float64(0.6798569777694132), np.float64(0.3958047643237168))]\n",
      "----------------------------------------\n",
      "Difference at index 43 (Alpha = 0.8743434343434344):\n",
      "  Alphas: 0.8743434343434344 != 0.8743434343434344\n",
      "  Valid: 28 != 176\n",
      "  Top 5: [np.float64(0.4454776792853602), np.float64(0.41408152508657137), np.float64(0.38230642476279797), np.float64(0.3786102880303235), np.float64(0.35778084837390234)] != [(np.float64(0.8731898596239783), np.float64(0.4454776792853602)), (np.float64(0.8731898596239783), np.float64(0.4454776792853602)), (np.float64(0.8703728707032158), np.float64(0.4417815425528857)), (np.float64(0.8703728707032158), np.float64(0.4417815425528857)), (np.float64(0.8592088463400437), np.float64(0.42720091852250563))]\n",
      "----------------------------------------\n",
      "Difference at index 44 (Alpha = 0.8944444444444445):\n",
      "  Alphas: 0.8944444444444445 != 0.8944444444444445\n",
      "  Valid: 29 != 186\n",
      "  Top 5: [np.float64(0.4454776792853602), np.float64(0.41408152508657137), np.float64(0.38230642476279797), np.float64(0.3786102880303235), np.float64(0.35778084837390234)] != [(np.float64(0.8731898596239783), np.float64(0.4454776792853602)), (np.float64(0.8731898596239783), np.float64(0.4454776792853602)), (np.float64(0.8703728707032158), np.float64(0.4417815425528857)), (np.float64(0.8703728707032158), np.float64(0.4417815425528857)), (np.float64(0.8592088463400437), np.float64(0.42720091852250563))]\n",
      "----------------------------------------\n",
      "Difference at index 45 (Alpha = 0.9145454545454546):\n",
      "  Alphas: 0.9145454545454546 != 0.9145454545454546\n",
      "  Valid: 37 != 212\n",
      "  Top 5: [np.float64(0.4454776792853602), np.float64(0.41408152508657137), np.float64(0.4137025789615868), np.float64(0.4100064422291123), np.float64(0.38230642476279797)] != [(np.float64(0.8731898596239783), np.float64(0.4454776792853602)), (np.float64(0.8731898596239783), np.float64(0.4454776792853602)), (np.float64(0.8703728707032158), np.float64(0.4417815425528857)), (np.float64(0.8703728707032158), np.float64(0.4417815425528857)), (np.float64(0.8592088463400437), np.float64(0.42720091852250563))]\n",
      "----------------------------------------\n",
      "Difference at index 46 (Alpha = 0.9346464646464647):\n",
      "  Alphas: 0.9346464646464647 != 0.9346464646464647\n",
      "  Valid: 48 != 250\n",
      "  Top 5: [np.float64(0.4454776792853602), np.float64(0.41408152508657137), np.float64(0.4137025789615868), np.float64(0.4100064422291123), np.float64(0.38917700257269117)] != [(np.float64(0.8731898596239783), np.float64(0.4454776792853602)), (np.float64(0.8731898596239783), np.float64(0.4454776792853602)), (np.float64(0.8703728707032158), np.float64(0.4417815425528857)), (np.float64(0.8703728707032158), np.float64(0.4417815425528857)), (np.float64(0.8592088463400437), np.float64(0.42720091852250563))]\n",
      "----------------------------------------\n",
      "Difference at index 47 (Alpha = 0.9547474747474748):\n",
      "  Alphas: 0.9547474747474748 != 0.9547474747474748\n",
      "  Valid: 56 != 274\n",
      "  Top 5: [np.float64(0.4454776792853602), np.float64(0.41408152508657137), np.float64(0.4137025789615868), np.float64(0.4100064422291123), np.float64(0.38917700257269117)] != [(np.float64(0.8731898596239783), np.float64(0.4454776792853602)), (np.float64(0.8731898596239783), np.float64(0.4454776792853602)), (np.float64(0.8703728707032158), np.float64(0.4417815425528857)), (np.float64(0.8703728707032158), np.float64(0.4417815425528857)), (np.float64(0.8592088463400437), np.float64(0.42720091852250563))]\n",
      "----------------------------------------\n",
      "Difference at index 48 (Alpha = 0.9748484848484849):\n",
      "  Alphas: 0.9748484848484849 != 0.9748484848484849\n",
      "  Valid: 59 != 290\n",
      "  Top 5: [np.float64(0.4454776792853602), np.float64(0.41408152508657137), np.float64(0.4137025789615868), np.float64(0.4100064422291123), np.float64(0.38917700257269117)] != [(np.float64(0.8731898596239783), np.float64(0.4454776792853602)), (np.float64(0.8731898596239783), np.float64(0.4454776792853602)), (np.float64(0.8703728707032158), np.float64(0.4417815425528857)), (np.float64(0.8703728707032158), np.float64(0.4417815425528857)), (np.float64(0.8592088463400437), np.float64(0.42720091852250563))]\n",
      "----------------------------------------\n",
      "Difference at index 49 (Alpha = 0.994949494949495):\n",
      "  Alphas: 0.994949494949495 != 0.994949494949495\n",
      "  Valid: 62 != 302\n",
      "  Top 5: [np.float64(0.4454776792853602), np.float64(0.41408152508657137), np.float64(0.4137025789615868), np.float64(0.4100064422291123), np.float64(0.38917700257269117)] != [(np.float64(0.9888213540344325), np.float64(0.46433303274983206)), (np.float64(0.8731898596239783), np.float64(0.4454776792853602)), (np.float64(0.8731898596239783), np.float64(0.4454776792853602)), (np.float64(0.8703728707032158), np.float64(0.4417815425528857)), (np.float64(0.8703728707032158), np.float64(0.4417815425528857))]\n",
      "----------------------------------------\n",
      "Difference at index 50 (Alpha = 1.0150505050505052):\n",
      "  Alphas: 1.0150505050505052 != 1.0150505050505052\n",
      "  Valid: 70 != 334\n",
      "  Top 5: [np.float64(0.4915757858961258), np.float64(0.4454776792853602), np.float64(0.41408152508657137), np.float64(0.4137025789615868), np.float64(0.4100064422291123)] != [(np.float64(1.0097649428470732), np.float64(0.4915757858961258)), (np.float64(1.0097649428470732), np.float64(0.4915757858961258)), (np.float64(1.005539901837749), np.float64(0.48603433691121567)), (np.float64(1.005539901837749), np.float64(0.48603433691121567)), (np.float64(0.9888213540344325), np.float64(0.46433303274983206))]\n",
      "----------------------------------------\n",
      "Difference at index 51 (Alpha = 1.0351515151515152):\n",
      "  Alphas: 1.0351515151515152 != 1.0351515151515152\n",
      "  Valid: 75 != 350\n",
      "  Top 5: [np.float64(0.5098525466589804), np.float64(0.5061564099265059), np.float64(0.4915757858961258), np.float64(0.45980068557235243), np.float64(0.45425923658744227)] != [(np.float64(1.023745956131008), np.float64(0.5098525466589804)), (np.float64(1.0209289672102455), np.float64(0.5061564099265059)), (np.float64(1.0209289672102455), np.float64(0.5061564099265059)), (np.float64(1.016703926200921), np.float64(0.5006149609415957)), (np.float64(1.0097649428470732), np.float64(0.4915757858961258))]\n",
      "----------------------------------------\n",
      "Difference at index 52 (Alpha = 1.0552525252525253):\n",
      "  Alphas: 1.0552525252525253 != 1.0552525252525253\n",
      "  Valid: 79 != 365\n",
      "  Top 5: [np.float64(0.5098525466589804), np.float64(0.5061564099265059), np.float64(0.4915757858961258), np.float64(0.478077446335207), np.float64(0.4743813096027325)] != [(np.float64(1.023745956131008), np.float64(0.5098525466589804)), (np.float64(1.0209289672102455), np.float64(0.5061564099265059)), (np.float64(1.0209289672102455), np.float64(0.5061564099265059)), (np.float64(1.016703926200921), np.float64(0.5006149609415957)), (np.float64(1.0097649428470732), np.float64(0.4915757858961258))]\n",
      "----------------------------------------\n",
      "Difference at index 53 (Alpha = 1.0753535353535355):\n",
      "  Alphas: 1.0753535353535355 != 1.0753535353535355\n",
      "  Valid: 84 != 392\n",
      "  Top 5: [np.float64(0.5098525466589804), np.float64(0.5061564099265059), np.float64(0.4915757858961258), np.float64(0.478077446335207), np.float64(0.4743813096027325)] != [(np.float64(1.023745956131008), np.float64(0.5098525466589804)), (np.float64(1.0209289672102455), np.float64(0.5061564099265059)), (np.float64(1.0209289672102455), np.float64(0.5061564099265059)), (np.float64(1.016703926200921), np.float64(0.5006149609415957)), (np.float64(1.0097649428470732), np.float64(0.4915757858961258))]\n",
      "----------------------------------------\n",
      "Difference at index 54 (Alpha = 1.0954545454545455):\n",
      "  Alphas: 1.0954545454545455 != 1.0954545454545455\n",
      "  Valid: 93 != 431\n",
      "  Top 5: [np.float64(0.5098525466589804), np.float64(0.5061564099265059), np.float64(0.4915757858961258), np.float64(0.478077446335207), np.float64(0.4743813096027325)] != [(np.float64(1.023745956131008), np.float64(0.5098525466589804)), (np.float64(1.0209289672102455), np.float64(0.5061564099265059)), (np.float64(1.0209289672102455), np.float64(0.5061564099265059)), (np.float64(1.016703926200921), np.float64(0.5006149609415957)), (np.float64(1.0097649428470732), np.float64(0.4915757858961258))]\n",
      "----------------------------------------\n",
      "Difference at index 55 (Alpha = 1.1155555555555556):\n",
      "  Alphas: 1.1155555555555556 != 1.1155555555555556\n",
      "  Valid: 99 != 466\n",
      "  Top 5: [np.float64(0.5098525466589804), np.float64(0.5061564099265059), np.float64(0.4915757858961258), np.float64(0.478077446335207), np.float64(0.4743813096027325)] != [(np.float64(1.023745956131008), np.float64(0.5098525466589804)), (np.float64(1.0209289672102455), np.float64(0.5061564099265059)), (np.float64(1.0209289672102455), np.float64(0.5061564099265059)), (np.float64(1.016703926200921), np.float64(0.5006149609415957)), (np.float64(1.0097649428470732), np.float64(0.4915757858961258))]\n",
      "----------------------------------------\n",
      "Difference at index 56 (Alpha = 1.1356565656565658):\n",
      "  Alphas: 1.1356565656565658 != 1.1356565656565658\n",
      "  Valid: 105 != 484\n",
      "  Top 5: [np.float64(0.5098525466589804), np.float64(0.5061564099265059), np.float64(0.4915757858961258), np.float64(0.478077446335207), np.float64(0.4743813096027325)] != [(np.float64(1.023745956131008), np.float64(0.5098525466589804)), (np.float64(1.0209289672102455), np.float64(0.5061564099265059)), (np.float64(1.0209289672102455), np.float64(0.5061564099265059)), (np.float64(1.016703926200921), np.float64(0.5006149609415957)), (np.float64(1.0097649428470732), np.float64(0.4915757858961258))]\n",
      "----------------------------------------\n",
      "Difference at index 57 (Alpha = 1.1557575757575758):\n",
      "  Alphas: 1.1557575757575758 != 1.1557575757575758\n",
      "  Valid: 112 != 507\n",
      "  Top 5: [np.float64(0.5098525466589804), np.float64(0.5061564099265059), np.float64(0.4915757858961258), np.float64(0.478077446335207), np.float64(0.4743813096027325)] != [(np.float64(1.023745956131008), np.float64(0.5098525466589804)), (np.float64(1.0209289672102455), np.float64(0.5061564099265059)), (np.float64(1.0209289672102455), np.float64(0.5061564099265059)), (np.float64(1.016703926200921), np.float64(0.5006149609415957)), (np.float64(1.0097649428470732), np.float64(0.4915757858961258))]\n",
      "----------------------------------------\n",
      "Difference at index 58 (Alpha = 1.175858585858586):\n",
      "  Alphas: 1.175858585858586 != 1.175858585858586\n",
      "  Valid: 113 != 521\n",
      "  Top 5: [np.float64(0.5098525466589804), np.float64(0.5061564099265059), np.float64(0.4915757858961258), np.float64(0.478077446335207), np.float64(0.4743813096027325)] != [(np.float64(1.023745956131008), np.float64(0.5098525466589804)), (np.float64(1.0209289672102455), np.float64(0.5061564099265059)), (np.float64(1.0209289672102455), np.float64(0.5061564099265059)), (np.float64(1.016703926200921), np.float64(0.5006149609415957)), (np.float64(1.0097649428470732), np.float64(0.4915757858961258))]\n",
      "----------------------------------------\n",
      "Difference at index 59 (Alpha = 1.1959595959595961):\n",
      "  Alphas: 1.1959595959595961 != 1.1959595959595961\n",
      "  Valid: 113 != 529\n",
      "  Top 5: [np.float64(0.5098525466589804), np.float64(0.5061564099265059), np.float64(0.4915757858961258), np.float64(0.478077446335207), np.float64(0.4743813096027325)] != [(np.float64(1.023745956131008), np.float64(0.5098525466589804)), (np.float64(1.0209289672102455), np.float64(0.5061564099265059)), (np.float64(1.0209289672102455), np.float64(0.5061564099265059)), (np.float64(1.016703926200921), np.float64(0.5006149609415957)), (np.float64(1.0097649428470732), np.float64(0.4915757858961258))]\n",
      "----------------------------------------\n",
      "Difference at index 60 (Alpha = 1.216060606060606):\n",
      "  Alphas: 1.216060606060606 != 1.216060606060606\n",
      "  Valid: 113 != 531\n",
      "  Top 5: [np.float64(0.5098525466589804), np.float64(0.5061564099265059), np.float64(0.4915757858961258), np.float64(0.478077446335207), np.float64(0.4743813096027325)] != [(np.float64(1.023745956131008), np.float64(0.5098525466589804)), (np.float64(1.0209289672102455), np.float64(0.5061564099265059)), (np.float64(1.0209289672102455), np.float64(0.5061564099265059)), (np.float64(1.016703926200921), np.float64(0.5006149609415957)), (np.float64(1.0097649428470732), np.float64(0.4915757858961258))]\n",
      "----------------------------------------\n",
      "Difference at index 61 (Alpha = 1.2361616161616162):\n",
      "  Alphas: 1.2361616161616162 != 1.2361616161616162\n",
      "  Valid: 116 != 550\n",
      "  Top 5: [np.float64(0.5098525466589804), np.float64(0.5061564099265059), np.float64(0.4915757858961258), np.float64(0.478077446335207), np.float64(0.4743813096027325)] != [(np.float64(1.023745956131008), np.float64(0.5098525466589804)), (np.float64(1.0209289672102455), np.float64(0.5061564099265059)), (np.float64(1.0209289672102455), np.float64(0.5061564099265059)), (np.float64(1.016703926200921), np.float64(0.5006149609415957)), (np.float64(1.0097649428470732), np.float64(0.4915757858961258))]\n",
      "----------------------------------------\n",
      "Difference at index 62 (Alpha = 1.2562626262626264):\n",
      "  Alphas: 1.2562626262626264 != 1.2562626262626264\n",
      "  Valid: 120 != 571\n",
      "  Top 5: [np.float64(0.5098525466589804), np.float64(0.5061564099265059), np.float64(0.4915757858961258), np.float64(0.478077446335207), np.float64(0.4743813096027325)] != [(np.float64(1.023745956131008), np.float64(0.5098525466589804)), (np.float64(1.0209289672102455), np.float64(0.5061564099265059)), (np.float64(1.0209289672102455), np.float64(0.5061564099265059)), (np.float64(1.016703926200921), np.float64(0.5006149609415957)), (np.float64(1.0097649428470732), np.float64(0.4915757858961258))]\n",
      "----------------------------------------\n",
      "Difference at index 63 (Alpha = 1.2763636363636364):\n",
      "  Alphas: 1.2763636363636364 != 1.2763636363636364\n",
      "  Valid: 122 != 598\n",
      "  Top 5: [np.float64(0.5098525466589804), np.float64(0.5061564099265059), np.float64(0.4915757858961258), np.float64(0.478077446335207), np.float64(0.4743813096027325)] != [(np.float64(1.023745956131008), np.float64(0.5098525466589804)), (np.float64(1.0209289672102455), np.float64(0.5061564099265059)), (np.float64(1.0209289672102455), np.float64(0.5061564099265059)), (np.float64(1.016703926200921), np.float64(0.5006149609415957)), (np.float64(1.0097649428470732), np.float64(0.4915757858961258))]\n",
      "----------------------------------------\n",
      "Difference at index 64 (Alpha = 1.2964646464646465):\n",
      "  Alphas: 1.2964646464646465 != 1.2964646464646465\n",
      "  Valid: 122 != 598\n",
      "  Top 5: [np.float64(0.5098525466589804), np.float64(0.5061564099265059), np.float64(0.4915757858961258), np.float64(0.478077446335207), np.float64(0.4743813096027325)] != [(np.float64(1.023745956131008), np.float64(0.5098525466589804)), (np.float64(1.0209289672102455), np.float64(0.5061564099265059)), (np.float64(1.0209289672102455), np.float64(0.5061564099265059)), (np.float64(1.016703926200921), np.float64(0.5006149609415957)), (np.float64(1.0097649428470732), np.float64(0.4915757858961258))]\n",
      "----------------------------------------\n",
      "Difference at index 65 (Alpha = 1.3165656565656567):\n",
      "  Alphas: 1.3165656565656567 != 1.3165656565656567\n",
      "  Valid: 123 != 600\n",
      "  Top 5: [np.float64(0.5098525466589804), np.float64(0.5061564099265059), np.float64(0.4915757858961258), np.float64(0.478077446335207), np.float64(0.4743813096027325)] != [(np.float64(1.023745956131008), np.float64(0.5098525466589804)), (np.float64(1.0209289672102455), np.float64(0.5061564099265059)), (np.float64(1.0209289672102455), np.float64(0.5061564099265059)), (np.float64(1.016703926200921), np.float64(0.5006149609415957)), (np.float64(1.0097649428470732), np.float64(0.4915757858961258))]\n",
      "----------------------------------------\n",
      "Difference at index 66 (Alpha = 1.3366666666666667):\n",
      "  Alphas: 1.3366666666666667 != 1.3366666666666667\n",
      "  Valid: 125 != 616\n",
      "  Top 5: [np.float64(0.5098525466589804), np.float64(0.5061564099265059), np.float64(0.4915757858961258), np.float64(0.478077446335207), np.float64(0.4743813096027325)] != [(np.float64(1.023745956131008), np.float64(0.5098525466589804)), (np.float64(1.0209289672102455), np.float64(0.5061564099265059)), (np.float64(1.0209289672102455), np.float64(0.5061564099265059)), (np.float64(1.016703926200921), np.float64(0.5006149609415957)), (np.float64(1.0097649428470732), np.float64(0.4915757858961258))]\n",
      "----------------------------------------\n",
      "Difference at index 67 (Alpha = 1.3567676767676768):\n",
      "  Alphas: 1.3567676767676768 != 1.3567676767676768\n",
      "  Valid: 125 != 616\n",
      "  Top 5: [np.float64(0.5098525466589804), np.float64(0.5061564099265059), np.float64(0.4915757858961258), np.float64(0.478077446335207), np.float64(0.4743813096027325)] != [(np.float64(1.023745956131008), np.float64(0.5098525466589804)), (np.float64(1.0209289672102455), np.float64(0.5061564099265059)), (np.float64(1.0209289672102455), np.float64(0.5061564099265059)), (np.float64(1.016703926200921), np.float64(0.5006149609415957)), (np.float64(1.0097649428470732), np.float64(0.4915757858961258))]\n",
      "----------------------------------------\n",
      "Difference at index 68 (Alpha = 1.376868686868687):\n",
      "  Alphas: 1.376868686868687 != 1.376868686868687\n",
      "  Valid: 125 != 617\n",
      "  Top 5: [np.float64(0.5098525466589804), np.float64(0.5061564099265059), np.float64(0.4915757858961258), np.float64(0.478077446335207), np.float64(0.4743813096027325)] != [(np.float64(1.023745956131008), np.float64(0.5098525466589804)), (np.float64(1.0209289672102455), np.float64(0.5061564099265059)), (np.float64(1.0209289672102455), np.float64(0.5061564099265059)), (np.float64(1.016703926200921), np.float64(0.5006149609415957)), (np.float64(1.0097649428470732), np.float64(0.4915757858961258))]\n",
      "----------------------------------------\n",
      "Difference at index 69 (Alpha = 1.396969696969697):\n",
      "  Alphas: 1.396969696969697 != 1.396969696969697\n",
      "  Valid: 125 != 621\n",
      "  Top 5: [np.float64(0.5098525466589804), np.float64(0.5061564099265059), np.float64(0.4915757858961258), np.float64(0.478077446335207), np.float64(0.4743813096027325)] != [(np.float64(1.023745956131008), np.float64(0.5098525466589804)), (np.float64(1.0209289672102455), np.float64(0.5061564099265059)), (np.float64(1.0209289672102455), np.float64(0.5061564099265059)), (np.float64(1.016703926200921), np.float64(0.5006149609415957)), (np.float64(1.0097649428470732), np.float64(0.4915757858961258))]\n",
      "----------------------------------------\n",
      "Difference at index 70 (Alpha = 1.4170707070707071):\n",
      "  Alphas: 1.4170707070707071 != 1.4170707070707071\n",
      "  Valid: 125 != 625\n",
      "  Top 5: [np.float64(0.5098525466589804), np.float64(0.5061564099265059), np.float64(0.4915757858961258), np.float64(0.478077446335207), np.float64(0.4743813096027325)] != [(np.float64(1.023745956131008), np.float64(0.5098525466589804)), (np.float64(1.0209289672102455), np.float64(0.5061564099265059)), (np.float64(1.0209289672102455), np.float64(0.5061564099265059)), (np.float64(1.016703926200921), np.float64(0.5006149609415957)), (np.float64(1.0097649428470732), np.float64(0.4915757858961258))]\n",
      "----------------------------------------\n",
      "Difference at index 71 (Alpha = 1.4371717171717173):\n",
      "  Alphas: 1.4371717171717173 != 1.4371717171717173\n",
      "  Valid: 125 != 625\n",
      "  Top 5: [np.float64(0.5098525466589804), np.float64(0.5061564099265059), np.float64(0.4915757858961258), np.float64(0.478077446335207), np.float64(0.4743813096027325)] != [(np.float64(1.023745956131008), np.float64(0.5098525466589804)), (np.float64(1.0209289672102455), np.float64(0.5061564099265059)), (np.float64(1.0209289672102455), np.float64(0.5061564099265059)), (np.float64(1.016703926200921), np.float64(0.5006149609415957)), (np.float64(1.0097649428470732), np.float64(0.4915757858961258))]\n",
      "----------------------------------------\n",
      "Difference at index 72 (Alpha = 1.4572727272727273):\n",
      "  Alphas: 1.4572727272727273 != 1.4572727272727273\n",
      "  Valid: 125 != 625\n",
      "  Top 5: [np.float64(0.5098525466589804), np.float64(0.5061564099265059), np.float64(0.4915757858961258), np.float64(0.478077446335207), np.float64(0.4743813096027325)] != [(np.float64(1.023745956131008), np.float64(0.5098525466589804)), (np.float64(1.0209289672102455), np.float64(0.5061564099265059)), (np.float64(1.0209289672102455), np.float64(0.5061564099265059)), (np.float64(1.016703926200921), np.float64(0.5006149609415957)), (np.float64(1.0097649428470732), np.float64(0.4915757858961258))]\n",
      "----------------------------------------\n",
      "Difference at index 73 (Alpha = 1.4773737373737375):\n",
      "  Alphas: 1.4773737373737375 != 1.4773737373737375\n",
      "  Valid: 125 != 625\n",
      "  Top 5: [np.float64(0.5098525466589804), np.float64(0.5061564099265059), np.float64(0.4915757858961258), np.float64(0.478077446335207), np.float64(0.4743813096027325)] != [(np.float64(1.023745956131008), np.float64(0.5098525466589804)), (np.float64(1.0209289672102455), np.float64(0.5061564099265059)), (np.float64(1.0209289672102455), np.float64(0.5061564099265059)), (np.float64(1.016703926200921), np.float64(0.5006149609415957)), (np.float64(1.0097649428470732), np.float64(0.4915757858961258))]\n",
      "----------------------------------------\n",
      "Difference at index 74 (Alpha = 1.4974747474747476):\n",
      "  Alphas: 1.4974747474747476 != 1.4974747474747476\n",
      "  Valid: 125 != 625\n",
      "  Top 5: [np.float64(0.5098525466589804), np.float64(0.5061564099265059), np.float64(0.4915757858961258), np.float64(0.478077446335207), np.float64(0.4743813096027325)] != [(np.float64(1.023745956131008), np.float64(0.5098525466589804)), (np.float64(1.0209289672102455), np.float64(0.5061564099265059)), (np.float64(1.0209289672102455), np.float64(0.5061564099265059)), (np.float64(1.016703926200921), np.float64(0.5006149609415957)), (np.float64(1.0097649428470732), np.float64(0.4915757858961258))]\n",
      "----------------------------------------\n",
      "Difference at index 75 (Alpha = 1.5175757575757576):\n",
      "  Alphas: 1.5175757575757576 != 1.5175757575757576\n",
      "  Valid: 125 != 625\n",
      "  Top 5: [np.float64(0.5098525466589804), np.float64(0.5061564099265059), np.float64(0.4915757858961258), np.float64(0.478077446335207), np.float64(0.4743813096027325)] != [(np.float64(1.023745956131008), np.float64(0.5098525466589804)), (np.float64(1.0209289672102455), np.float64(0.5061564099265059)), (np.float64(1.0209289672102455), np.float64(0.5061564099265059)), (np.float64(1.016703926200921), np.float64(0.5006149609415957)), (np.float64(1.0097649428470732), np.float64(0.4915757858961258))]\n",
      "----------------------------------------\n",
      "Difference at index 76 (Alpha = 1.5376767676767678):\n",
      "  Alphas: 1.5376767676767678 != 1.5376767676767678\n",
      "  Valid: 125 != 625\n",
      "  Top 5: [np.float64(0.5098525466589804), np.float64(0.5061564099265059), np.float64(0.4915757858961258), np.float64(0.478077446335207), np.float64(0.4743813096027325)] != [(np.float64(1.023745956131008), np.float64(0.5098525466589804)), (np.float64(1.0209289672102455), np.float64(0.5061564099265059)), (np.float64(1.0209289672102455), np.float64(0.5061564099265059)), (np.float64(1.016703926200921), np.float64(0.5006149609415957)), (np.float64(1.0097649428470732), np.float64(0.4915757858961258))]\n",
      "----------------------------------------\n",
      "Difference at index 77 (Alpha = 1.557777777777778):\n",
      "  Alphas: 1.557777777777778 != 1.557777777777778\n",
      "  Valid: 125 != 625\n",
      "  Top 5: [np.float64(0.5098525466589804), np.float64(0.5061564099265059), np.float64(0.4915757858961258), np.float64(0.478077446335207), np.float64(0.4743813096027325)] != [(np.float64(1.023745956131008), np.float64(0.5098525466589804)), (np.float64(1.0209289672102455), np.float64(0.5061564099265059)), (np.float64(1.0209289672102455), np.float64(0.5061564099265059)), (np.float64(1.016703926200921), np.float64(0.5006149609415957)), (np.float64(1.0097649428470732), np.float64(0.4915757858961258))]\n",
      "----------------------------------------\n",
      "Difference at index 78 (Alpha = 1.5778787878787879):\n",
      "  Alphas: 1.5778787878787879 != 1.5778787878787879\n",
      "  Valid: 125 != 625\n",
      "  Top 5: [np.float64(0.5098525466589804), np.float64(0.5061564099265059), np.float64(0.4915757858961258), np.float64(0.478077446335207), np.float64(0.4743813096027325)] != [(np.float64(1.023745956131008), np.float64(0.5098525466589804)), (np.float64(1.0209289672102455), np.float64(0.5061564099265059)), (np.float64(1.0209289672102455), np.float64(0.5061564099265059)), (np.float64(1.016703926200921), np.float64(0.5006149609415957)), (np.float64(1.0097649428470732), np.float64(0.4915757858961258))]\n",
      "----------------------------------------\n",
      "Difference at index 79 (Alpha = 1.597979797979798):\n",
      "  Alphas: 1.597979797979798 != 1.597979797979798\n",
      "  Valid: 125 != 625\n",
      "  Top 5: [np.float64(0.5098525466589804), np.float64(0.5061564099265059), np.float64(0.4915757858961258), np.float64(0.478077446335207), np.float64(0.4743813096027325)] != [(np.float64(1.023745956131008), np.float64(0.5098525466589804)), (np.float64(1.0209289672102455), np.float64(0.5061564099265059)), (np.float64(1.0209289672102455), np.float64(0.5061564099265059)), (np.float64(1.016703926200921), np.float64(0.5006149609415957)), (np.float64(1.0097649428470732), np.float64(0.4915757858961258))]\n",
      "----------------------------------------\n",
      "Difference at index 80 (Alpha = 1.6180808080808082):\n",
      "  Alphas: 1.6180808080808082 != 1.6180808080808082\n",
      "  Valid: 125 != 625\n",
      "  Top 5: [np.float64(0.5098525466589804), np.float64(0.5061564099265059), np.float64(0.4915757858961258), np.float64(0.478077446335207), np.float64(0.4743813096027325)] != [(np.float64(1.023745956131008), np.float64(0.5098525466589804)), (np.float64(1.0209289672102455), np.float64(0.5061564099265059)), (np.float64(1.0209289672102455), np.float64(0.5061564099265059)), (np.float64(1.016703926200921), np.float64(0.5006149609415957)), (np.float64(1.0097649428470732), np.float64(0.4915757858961258))]\n",
      "----------------------------------------\n",
      "Difference at index 81 (Alpha = 1.6381818181818182):\n",
      "  Alphas: 1.6381818181818182 != 1.6381818181818182\n",
      "  Valid: 125 != 625\n",
      "  Top 5: [np.float64(0.5098525466589804), np.float64(0.5061564099265059), np.float64(0.4915757858961258), np.float64(0.478077446335207), np.float64(0.4743813096027325)] != [(np.float64(1.023745956131008), np.float64(0.5098525466589804)), (np.float64(1.0209289672102455), np.float64(0.5061564099265059)), (np.float64(1.0209289672102455), np.float64(0.5061564099265059)), (np.float64(1.016703926200921), np.float64(0.5006149609415957)), (np.float64(1.0097649428470732), np.float64(0.4915757858961258))]\n",
      "----------------------------------------\n",
      "Difference at index 82 (Alpha = 1.6582828282828284):\n",
      "  Alphas: 1.6582828282828284 != 1.6582828282828284\n",
      "  Valid: 125 != 625\n",
      "  Top 5: [np.float64(0.5098525466589804), np.float64(0.5061564099265059), np.float64(0.4915757858961258), np.float64(0.478077446335207), np.float64(0.4743813096027325)] != [(np.float64(1.023745956131008), np.float64(0.5098525466589804)), (np.float64(1.0209289672102455), np.float64(0.5061564099265059)), (np.float64(1.0209289672102455), np.float64(0.5061564099265059)), (np.float64(1.016703926200921), np.float64(0.5006149609415957)), (np.float64(1.0097649428470732), np.float64(0.4915757858961258))]\n",
      "----------------------------------------\n",
      "Difference at index 83 (Alpha = 1.6783838383838385):\n",
      "  Alphas: 1.6783838383838385 != 1.6783838383838385\n",
      "  Valid: 125 != 625\n",
      "  Top 5: [np.float64(0.5098525466589804), np.float64(0.5061564099265059), np.float64(0.4915757858961258), np.float64(0.478077446335207), np.float64(0.4743813096027325)] != [(np.float64(1.023745956131008), np.float64(0.5098525466589804)), (np.float64(1.0209289672102455), np.float64(0.5061564099265059)), (np.float64(1.0209289672102455), np.float64(0.5061564099265059)), (np.float64(1.016703926200921), np.float64(0.5006149609415957)), (np.float64(1.0097649428470732), np.float64(0.4915757858961258))]\n",
      "----------------------------------------\n",
      "Difference at index 84 (Alpha = 1.6984848484848485):\n",
      "  Alphas: 1.6984848484848485 != 1.6984848484848485\n",
      "  Valid: 125 != 625\n",
      "  Top 5: [np.float64(0.5098525466589804), np.float64(0.5061564099265059), np.float64(0.4915757858961258), np.float64(0.478077446335207), np.float64(0.4743813096027325)] != [(np.float64(1.023745956131008), np.float64(0.5098525466589804)), (np.float64(1.0209289672102455), np.float64(0.5061564099265059)), (np.float64(1.0209289672102455), np.float64(0.5061564099265059)), (np.float64(1.016703926200921), np.float64(0.5006149609415957)), (np.float64(1.0097649428470732), np.float64(0.4915757858961258))]\n",
      "----------------------------------------\n",
      "Difference at index 85 (Alpha = 1.7185858585858587):\n",
      "  Alphas: 1.7185858585858587 != 1.7185858585858587\n",
      "  Valid: 125 != 625\n",
      "  Top 5: [np.float64(0.5098525466589804), np.float64(0.5061564099265059), np.float64(0.4915757858961258), np.float64(0.478077446335207), np.float64(0.4743813096027325)] != [(np.float64(1.023745956131008), np.float64(0.5098525466589804)), (np.float64(1.0209289672102455), np.float64(0.5061564099265059)), (np.float64(1.0209289672102455), np.float64(0.5061564099265059)), (np.float64(1.016703926200921), np.float64(0.5006149609415957)), (np.float64(1.0097649428470732), np.float64(0.4915757858961258))]\n",
      "----------------------------------------\n",
      "Difference at index 86 (Alpha = 1.7386868686868688):\n",
      "  Alphas: 1.7386868686868688 != 1.7386868686868688\n",
      "  Valid: 125 != 625\n",
      "  Top 5: [np.float64(0.5098525466589804), np.float64(0.5061564099265059), np.float64(0.4915757858961258), np.float64(0.478077446335207), np.float64(0.4743813096027325)] != [(np.float64(1.023745956131008), np.float64(0.5098525466589804)), (np.float64(1.0209289672102455), np.float64(0.5061564099265059)), (np.float64(1.0209289672102455), np.float64(0.5061564099265059)), (np.float64(1.016703926200921), np.float64(0.5006149609415957)), (np.float64(1.0097649428470732), np.float64(0.4915757858961258))]\n",
      "----------------------------------------\n",
      "Difference at index 87 (Alpha = 1.7587878787878788):\n",
      "  Alphas: 1.7587878787878788 != 1.7587878787878788\n",
      "  Valid: 125 != 625\n",
      "  Top 5: [np.float64(0.5098525466589804), np.float64(0.5061564099265059), np.float64(0.4915757858961258), np.float64(0.478077446335207), np.float64(0.4743813096027325)] != [(np.float64(1.023745956131008), np.float64(0.5098525466589804)), (np.float64(1.0209289672102455), np.float64(0.5061564099265059)), (np.float64(1.0209289672102455), np.float64(0.5061564099265059)), (np.float64(1.016703926200921), np.float64(0.5006149609415957)), (np.float64(1.0097649428470732), np.float64(0.4915757858961258))]\n",
      "----------------------------------------\n",
      "Difference at index 88 (Alpha = 1.778888888888889):\n",
      "  Alphas: 1.778888888888889 != 1.778888888888889\n",
      "  Valid: 125 != 625\n",
      "  Top 5: [np.float64(0.5098525466589804), np.float64(0.5061564099265059), np.float64(0.4915757858961258), np.float64(0.478077446335207), np.float64(0.4743813096027325)] != [(np.float64(1.023745956131008), np.float64(0.5098525466589804)), (np.float64(1.0209289672102455), np.float64(0.5061564099265059)), (np.float64(1.0209289672102455), np.float64(0.5061564099265059)), (np.float64(1.016703926200921), np.float64(0.5006149609415957)), (np.float64(1.0097649428470732), np.float64(0.4915757858961258))]\n",
      "----------------------------------------\n",
      "Difference at index 89 (Alpha = 1.7989898989898991):\n",
      "  Alphas: 1.7989898989898991 != 1.7989898989898991\n",
      "  Valid: 125 != 625\n",
      "  Top 5: [np.float64(0.5098525466589804), np.float64(0.5061564099265059), np.float64(0.4915757858961258), np.float64(0.478077446335207), np.float64(0.4743813096027325)] != [(np.float64(1.023745956131008), np.float64(0.5098525466589804)), (np.float64(1.0209289672102455), np.float64(0.5061564099265059)), (np.float64(1.0209289672102455), np.float64(0.5061564099265059)), (np.float64(1.016703926200921), np.float64(0.5006149609415957)), (np.float64(1.0097649428470732), np.float64(0.4915757858961258))]\n",
      "----------------------------------------\n",
      "Difference at index 90 (Alpha = 1.819090909090909):\n",
      "  Alphas: 1.819090909090909 != 1.819090909090909\n",
      "  Valid: 125 != 625\n",
      "  Top 5: [np.float64(0.5098525466589804), np.float64(0.5061564099265059), np.float64(0.4915757858961258), np.float64(0.478077446335207), np.float64(0.4743813096027325)] != [(np.float64(1.023745956131008), np.float64(0.5098525466589804)), (np.float64(1.0209289672102455), np.float64(0.5061564099265059)), (np.float64(1.0209289672102455), np.float64(0.5061564099265059)), (np.float64(1.016703926200921), np.float64(0.5006149609415957)), (np.float64(1.0097649428470732), np.float64(0.4915757858961258))]\n",
      "----------------------------------------\n",
      "Difference at index 91 (Alpha = 1.8391919191919193):\n",
      "  Alphas: 1.8391919191919193 != 1.8391919191919193\n",
      "  Valid: 125 != 625\n",
      "  Top 5: [np.float64(0.5098525466589804), np.float64(0.5061564099265059), np.float64(0.4915757858961258), np.float64(0.478077446335207), np.float64(0.4743813096027325)] != [(np.float64(1.023745956131008), np.float64(0.5098525466589804)), (np.float64(1.0209289672102455), np.float64(0.5061564099265059)), (np.float64(1.0209289672102455), np.float64(0.5061564099265059)), (np.float64(1.016703926200921), np.float64(0.5006149609415957)), (np.float64(1.0097649428470732), np.float64(0.4915757858961258))]\n",
      "----------------------------------------\n",
      "Difference at index 92 (Alpha = 1.8592929292929294):\n",
      "  Alphas: 1.8592929292929294 != 1.8592929292929294\n",
      "  Valid: 125 != 625\n",
      "  Top 5: [np.float64(0.5098525466589804), np.float64(0.5061564099265059), np.float64(0.4915757858961258), np.float64(0.478077446335207), np.float64(0.4743813096027325)] != [(np.float64(1.023745956131008), np.float64(0.5098525466589804)), (np.float64(1.0209289672102455), np.float64(0.5061564099265059)), (np.float64(1.0209289672102455), np.float64(0.5061564099265059)), (np.float64(1.016703926200921), np.float64(0.5006149609415957)), (np.float64(1.0097649428470732), np.float64(0.4915757858961258))]\n",
      "----------------------------------------\n",
      "Difference at index 93 (Alpha = 1.8793939393939394):\n",
      "  Alphas: 1.8793939393939394 != 1.8793939393939394\n",
      "  Valid: 125 != 625\n",
      "  Top 5: [np.float64(0.5098525466589804), np.float64(0.5061564099265059), np.float64(0.4915757858961258), np.float64(0.478077446335207), np.float64(0.4743813096027325)] != [(np.float64(1.023745956131008), np.float64(0.5098525466589804)), (np.float64(1.0209289672102455), np.float64(0.5061564099265059)), (np.float64(1.0209289672102455), np.float64(0.5061564099265059)), (np.float64(1.016703926200921), np.float64(0.5006149609415957)), (np.float64(1.0097649428470732), np.float64(0.4915757858961258))]\n",
      "----------------------------------------\n",
      "Difference at index 94 (Alpha = 1.8994949494949496):\n",
      "  Alphas: 1.8994949494949496 != 1.8994949494949496\n",
      "  Valid: 125 != 625\n",
      "  Top 5: [np.float64(0.5098525466589804), np.float64(0.5061564099265059), np.float64(0.4915757858961258), np.float64(0.478077446335207), np.float64(0.4743813096027325)] != [(np.float64(1.023745956131008), np.float64(0.5098525466589804)), (np.float64(1.0209289672102455), np.float64(0.5061564099265059)), (np.float64(1.0209289672102455), np.float64(0.5061564099265059)), (np.float64(1.016703926200921), np.float64(0.5006149609415957)), (np.float64(1.0097649428470732), np.float64(0.4915757858961258))]\n",
      "----------------------------------------\n",
      "Difference at index 95 (Alpha = 1.9195959595959597):\n",
      "  Alphas: 1.9195959595959597 != 1.9195959595959597\n",
      "  Valid: 125 != 625\n",
      "  Top 5: [np.float64(0.5098525466589804), np.float64(0.5061564099265059), np.float64(0.4915757858961258), np.float64(0.478077446335207), np.float64(0.4743813096027325)] != [(np.float64(1.023745956131008), np.float64(0.5098525466589804)), (np.float64(1.0209289672102455), np.float64(0.5061564099265059)), (np.float64(1.0209289672102455), np.float64(0.5061564099265059)), (np.float64(1.016703926200921), np.float64(0.5006149609415957)), (np.float64(1.0097649428470732), np.float64(0.4915757858961258))]\n",
      "----------------------------------------\n",
      "Difference at index 96 (Alpha = 1.9396969696969697):\n",
      "  Alphas: 1.9396969696969697 != 1.9396969696969697\n",
      "  Valid: 125 != 625\n",
      "  Top 5: [np.float64(0.5098525466589804), np.float64(0.5061564099265059), np.float64(0.4915757858961258), np.float64(0.478077446335207), np.float64(0.4743813096027325)] != [(np.float64(1.023745956131008), np.float64(0.5098525466589804)), (np.float64(1.0209289672102455), np.float64(0.5061564099265059)), (np.float64(1.0209289672102455), np.float64(0.5061564099265059)), (np.float64(1.016703926200921), np.float64(0.5006149609415957)), (np.float64(1.0097649428470732), np.float64(0.4915757858961258))]\n",
      "----------------------------------------\n",
      "Difference at index 97 (Alpha = 1.9597979797979799):\n",
      "  Alphas: 1.9597979797979799 != 1.9597979797979799\n",
      "  Valid: 125 != 625\n",
      "  Top 5: [np.float64(0.5098525466589804), np.float64(0.5061564099265059), np.float64(0.4915757858961258), np.float64(0.478077446335207), np.float64(0.4743813096027325)] != [(np.float64(1.023745956131008), np.float64(0.5098525466589804)), (np.float64(1.0209289672102455), np.float64(0.5061564099265059)), (np.float64(1.0209289672102455), np.float64(0.5061564099265059)), (np.float64(1.016703926200921), np.float64(0.5006149609415957)), (np.float64(1.0097649428470732), np.float64(0.4915757858961258))]\n",
      "----------------------------------------\n",
      "Difference at index 98 (Alpha = 1.97989898989899):\n",
      "  Alphas: 1.97989898989899 != 1.97989898989899\n",
      "  Valid: 125 != 625\n",
      "  Top 5: [np.float64(0.5098525466589804), np.float64(0.5061564099265059), np.float64(0.4915757858961258), np.float64(0.478077446335207), np.float64(0.4743813096027325)] != [(np.float64(1.023745956131008), np.float64(0.5098525466589804)), (np.float64(1.0209289672102455), np.float64(0.5061564099265059)), (np.float64(1.0209289672102455), np.float64(0.5061564099265059)), (np.float64(1.016703926200921), np.float64(0.5006149609415957)), (np.float64(1.0097649428470732), np.float64(0.4915757858961258))]\n",
      "----------------------------------------\n",
      "Difference at index 99 (Alpha = 2.0):\n",
      "  Alphas: 2.0 != 2.0\n",
      "  Valid: 125 != 625\n",
      "  Top 5: [np.float64(0.5098525466589804), np.float64(0.5061564099265059), np.float64(0.4915757858961258), np.float64(0.478077446335207), np.float64(0.4743813096027325)] != [(np.float64(1.023745956131008), np.float64(0.5098525466589804)), (np.float64(1.0209289672102455), np.float64(0.5061564099265059)), (np.float64(1.0209289672102455), np.float64(0.5061564099265059)), (np.float64(1.016703926200921), np.float64(0.5006149609415957)), (np.float64(1.0097649428470732), np.float64(0.4915757858961258))]\n",
      "----------------------------------------\n"
     ]
    }
   ],
   "source": [
    "def s(j, k):\n",
    "    for i in range(len(j)):\n",
    "        a, b, c = j[i]\n",
    "        d, e, f = k[i]\n",
    "\n",
    "        # Normalize all elements for comparison\n",
    "        a, d = float(a), float(d)\n",
    "        b, e = int(b), int(e)\n",
    "        c, f = list(c), list(f)\n",
    "\n",
    "        if (a != d) or (b != e) or (c != f):\n",
    "            print(f'Difference at index {i} (Alpha = {a}):')\n",
    "            print(f'  Alphas: {a} != {d}')\n",
    "            print(f'  Valid: {b} != {e}')\n",
    "            print(f'  Top 5: {c} != {f}')\n",
    "            print('-' * 40)  # for readability\n",
    "\n",
    "s(j, k)"
   ]
  }
 ],
 "metadata": {
  "kernelspec": {
   "display_name": "Python 3",
   "language": "python",
   "name": "python3"
  },
  "language_info": {
   "codemirror_mode": {
    "name": "ipython",
    "version": 3
   },
   "file_extension": ".py",
   "mimetype": "text/x-python",
   "name": "python",
   "nbconvert_exporter": "python",
   "pygments_lexer": "ipython3",
   "version": "3.11.0"
  }
 },
 "nbformat": 4,
 "nbformat_minor": 5
}
