{
 "cells": [
  {
   "cell_type": "code",
   "execution_count": 1,
   "id": "056cecf0",
   "metadata": {},
   "outputs": [],
   "source": [
    "# Import necessary modules/libraries\n",
    "from tqdm import tqdm\n",
    "import numpy as np\n",
    "import pandas as pd\n",
    "import matplotlib.pyplot as plt\n",
    "import plotly.graph_objects as go\n",
    "\n",
    "# Import custom utility functions\n",
    "from utils import p, expected, sampl_fair_opt_step, opt_step, fair_opt_step"
   ]
  },
  {
   "cell_type": "code",
   "execution_count": 2,
   "id": "d7bd9193",
   "metadata": {},
   "outputs": [],
   "source": [
    "# Set experiment parameters\n",
    "np.random.seed(1)\n",
    "\n",
    "# Distribution parameters\n",
    "mean_a, std_a = 0.5, 1\n",
    "mean_b, std_b = 0.0, 1\n",
    "\n",
    "# Domain of alpha values to test\n",
    "alpha_min, alpha_max = 0.01, 2\n",
    "alphas = np.linspace(alpha_min, alpha_max, num=100)\n",
    "\n",
    "# Sample size of each distribution\n",
    "n = 5\n",
    "\n",
    "# Generate samples from normal distributions\n",
    "a = np.random.normal(mean_a, std_a, n)\n",
    "b = np.random.normal(mean_b, std_b, n)\n",
    "a.sort(), b.sort()\n",
    "w_a = len(a) / (len(a) + len(b))\n",
    "w_b = 1 - w_a\n",
    "\n",
    "#Step Parameters\n",
    "\n",
    "# U+ / U- > C+ / C-\n",
    "u_plus = 1\n",
    "u_minus = -1.1\n",
    "c_plus = 1\n",
    "c_minus = -1\n",
    "# -0.4056\n",
    "# -0.40551"
   ]
  },
  {
   "cell_type": "code",
   "execution_count": 3,
   "id": "ff11b688",
   "metadata": {},
   "outputs": [
    {
     "data": {
      "text/plain": [
       "\"\\nprint(f' Assumption 1: {p.__doc__} ')\\nprint(f' Assumption 2: \\n U+ / U- > C+ / C- is {(u_plus / u_minus) > (c_plus / c_minus)}' )\\n\""
      ]
     },
     "execution_count": 3,
     "metadata": {},
     "output_type": "execute_result"
    }
   ],
   "source": [
    "# Assumptions\n",
    "'''\n",
    "print(f' Assumption 1: {p.__doc__} ')\n",
    "print(f' Assumption 2: \\n U+ / U- > C+ / C- is {(u_plus / u_minus) > (c_plus / c_minus)}' )\n",
    "'''"
   ]
  },
  {
   "cell_type": "code",
   "execution_count": 4,
   "id": "e6c1aebf",
   "metadata": {},
   "outputs": [
    {
     "name": "stderr",
     "output_type": "stream",
     "text": [
      "100%|██████████| 100/100 [00:00<00:00, 590.02it/s]\n"
     ]
    }
   ],
   "source": [
    "# Single step optimization\n",
    "\n",
    "x_alphas = []\n",
    "y_mean_A, y_mean_B = [], []\n",
    "y_thresh_A, y_thresh_B = [], []\n",
    "y_util = []\n",
    "y_pof = [] # Price of fairness\n",
    "\n",
    "\n",
    "y_opt_util = []\n",
    "\n",
    "B_temp = None\n",
    "\n",
    "opt_util_A, opt_util_B = opt_step(a, u_plus, u_minus, c_plus, c_minus)[0], opt_step(b, u_plus, u_minus, c_plus, c_minus)[0]\n",
    "opt_util_A, opt_util_B  = expected(opt_util_A, 1, -1.1), expected(opt_util_B, 1, -1.1)\n",
    "opt_util_A, opt_util_B = np.sum(opt_util_A), np.sum(opt_util_B)\n",
    "y_opt = w_a * opt_util_A + w_b * opt_util_B\n",
    "\n",
    "for alpha in tqdm(alphas):\n",
    "    results1 = sampl_fair_opt_step(a, b, u_plus, u_minus, c_plus, c_minus, alpha)\n",
    "    results = fair_opt_step(a, b, u_plus, u_minus, c_plus, c_minus, alpha)\n",
    "    if results != results1:\n",
    "        print('error')\n",
    "    thresh_A, thresh_B, max_util, (A, B) = results\n",
    "    if np.abs(A - B) > alpha:\n",
    "        continue\n",
    "    else:\n",
    "        x_alphas.append(alpha)\n",
    "        y_mean_A.append(A)\n",
    "        y_mean_B.append(B)\n",
    "        y_thresh_A.append(thresh_A)\n",
    "        y_thresh_B.append(thresh_B)\n",
    "        y_util.append(max_util)\n",
    "        pof = 1 - (max_util/y_opt)\n",
    "        y_pof.append(pof)"
   ]
  },
  {
   "cell_type": "code",
   "execution_count": null,
   "id": "405ad8ae",
   "metadata": {},
   "outputs": [],
   "source": [
    "def plot_graphs():\n",
    "    \n",
    "    # Traces\n",
    "    thresholds_A = go.Scatter(x=x_alphas, y=y_thresh_A, mode='markers', name=\"Fair Threshold (A)\")\n",
    "    thresholds_B = go.Scatter(x=x_alphas, y=y_thresh_B, mode='markers', name=\"Fair Threshold (B)\") \n",
    "    utilities = go.Scatter(x=x_alphas, y=y_util, mode='markers', name='Utility', yaxis='y2')\n",
    "\n",
    "    # Create figure\n",
    "    fig = go.Figure(data=[thresholds_A, thresholds_B, utilities])\n",
    "\n",
    "    # Add toggle buttons\n",
    "    fig.update_layout(\n",
    "        height = 600,\n",
    "        title='Single Step Thresholding Policy',\n",
    "        xaxis=dict(title=\"Alpha\"),\n",
    "        yaxis=dict(title=\"Threshold\"),\n",
    "        yaxis2=dict(\n",
    "            title=\"Utility\",\n",
    "            overlaying=\"y\",\n",
    "            side=\"right\"\n",
    "        ),\n",
    "        legend=dict(\n",
    "            x=0,          # Right edge of the plotting area\n",
    "            #y=1,          # Top of the plotting area\n",
    "            xanchor='right',   # Legend's left edge aligns at x=1\n",
    "            yanchor='top'     # Legend's top edge aligns at y=1\n",
    "        ),\n",
    "        showlegend=True,\n",
    "    )\n",
    "\n",
    "    fig.show()\n",
    "plot_graphs()"
   ]
  },
  {
   "cell_type": "code",
   "execution_count": 5,
   "id": "ef082a83",
   "metadata": {},
   "outputs": [
    {
     "name": "stderr",
     "output_type": "stream",
     "text": [
      "100%|██████████| 100/100 [00:00<00:00, 247.80it/s]"
     ]
    },
    {
     "name": "stdout",
     "output_type": "stream",
     "text": [
      "True\n"
     ]
    },
    {
     "name": "stderr",
     "output_type": "stream",
     "text": [
      "\n"
     ]
    }
   ],
   "source": [
    "# Experiment 0: Check if vectorized algorithm is the same as the original\n",
    "from experiment_0 import experiment_0\n",
    "print( (x_alphas, y_thresh_A, y_thresh_B) == experiment_0(a, b, u_plus, u_minus, c_plus, c_minus, w_a, w_b, alphas, a, b) )"
   ]
  },
  {
   "cell_type": "code",
   "execution_count": null,
   "id": "b5eded16",
   "metadata": {},
   "outputs": [],
   "source": [
    "# Experiment 2\n",
    "from experiment_2 import experiment_2\n",
    "test_alpha = 0.52\n",
    "ex2a, ex2b = experiment_2(a, b, u_plus, u_minus, c_plus, c_minus, test_alpha, w_a, w_b, thresh_B, a, alphas)\n",
    "ex2a.update_layout(\n",
    "    xaxis_title ='Threshold A (using samples)'\n",
    ")\n",
    "ex2a.show()\n",
    "#ex2b.show()\n",
    "\n",
    "trace1 = ex2a.data[1]\n",
    "trace2 = ex2a.data[2]\n",
    "mean_diffs = dict(zip(trace1.x, trace1.y))\n",
    "utilities = dict(zip(trace2.x, trace2.y))\n",
    "\n",
    "y_thresh_A = np.array(y_thresh_A)\n",
    "y_thresh_B = np.array(y_thresh_B)\n",
    "x_alphas = np.array(x_alphas)\n",
    "indices = np.where(y_thresh_A < y_thresh_B)[0]\n",
    "test_alphas  = x_alphas[indices]\n",
    "print(test_alphas)\n",
    "#test_alphas = np.arange(0.54, 0.63, 0.01)\n",
    "results = []\n",
    "\n",
    "for test_alpha in test_alphas:\n",
    "    # Filter mean_diffs under current threshold\n",
    "    filtered = {k: v for k, v in mean_diffs.items() if v < test_alpha}\n",
    "\n",
    "    # Find before and after keys\n",
    "    before_keys = [k for k in filtered if k < 0]\n",
    "    after_keys = [k for k in filtered if k > 0]\n",
    "\n",
    "    before = max(before_keys) if before_keys else None\n",
    "    after = min(after_keys) if after_keys else None\n",
    "\n",
    "    if before is not None and after is not None:\n",
    "        # Prepare data\n",
    "        utility_before = utilities[before]\n",
    "        utility_after = utilities[after]\n",
    "        utility_diff = np.abs(utility_after - utility_before)\n",
    "\n",
    "        # Build vertical block\n",
    "        block = pd.DataFrame([\n",
    "            {\n",
    "                'Test Alpha': round(test_alpha, 3),\n",
    "                'Side': 'Negative',\n",
    "                'Threshold': before,\n",
    "                'Mean Difference': mean_diffs[before],\n",
    "                'Utility': utility_before\n",
    "            },\n",
    "            {\n",
    "                'Test Alpha': round(test_alpha, 3),\n",
    "                'Side': 'Positive',\n",
    "                'Threshold': after,\n",
    "                'Mean Difference': mean_diffs[after],\n",
    "                'Utility': utility_after\n",
    "            },\n",
    "            {\n",
    "                'Test Alpha': round(test_alpha, 3),\n",
    "                'Side': 'Δ Utility',\n",
    "                'Threshold': '',\n",
    "                'Mean Difference': '',\n",
    "                'Utility': utility_diff\n",
    "            }\n",
    "        ])\n",
    "\n",
    "        print(block.to_string(index=False))\n",
    "        print(\"--------\")\n"
   ]
  },
  {
   "cell_type": "code",
   "execution_count": null,
   "id": "d8834f6d",
   "metadata": {},
   "outputs": [],
   "source": [
    "import numpy as np\n",
    "import matplotlib.pyplot as plt\n",
    "\n",
    "def test(a, b, u_plus, u_minus, c_plus, c_minus, w_a, w_b):\n",
    "    a = np.asarray(a)\n",
    "    b = np.asarray(b)\n",
    "\n",
    "    delta_A = expected(a, c_plus, c_minus)\n",
    "    delta_B = expected(b, c_plus, c_minus)\n",
    "\n",
    "    N = a.shape[0]\n",
    "    A_matrix = np.repeat(a, N).reshape((N, N))\n",
    "    B_matrix = np.repeat(b, N).reshape((N, N))\n",
    "    delta_A_matrix = np.repeat(delta_A, N).reshape((N, N))\n",
    "    delta_B_matrix = np.repeat(delta_B, N).reshape((N, N))\n",
    "\n",
    "    A_matrix = np.where(A_matrix > A_matrix.T, A_matrix + delta_A_matrix, A_matrix)\n",
    "    B_matrix = np.where(B_matrix > B_matrix.T, B_matrix + delta_B_matrix, B_matrix)\n",
    "\n",
    "    columns = [(A_matrix[:, [i]], B_matrix[:, [i]]) for i in range(N)]\n",
    "    final = []\n",
    "    mean_diffs = []\n",
    "    utilities = []\n",
    "\n",
    "    for col_A_vec, col_B_vec in tqdm(columns):\n",
    "        n = col_A_vec.shape[0]\n",
    "\n",
    "        col_A_vec, col_B_vec = col_A_vec.T, col_B_vec.T\n",
    "\n",
    "        delta_col_A = expected(col_A_vec, c_plus, c_minus)\n",
    "        delta_col_B = expected(col_B_vec, c_plus, c_minus)\n",
    "\n",
    "        col_A_matrix = np.repeat(col_A_vec, n).reshape((n, n))\n",
    "        col_B_matrix = np.repeat(col_B_vec, n).reshape((n, n))\n",
    "\n",
    "        delta_col_A_matrix = np.repeat(delta_col_A, n).reshape((n, n))\n",
    "        delta_col_B_matrix = np.repeat(delta_col_B, n).reshape((n, n))\n",
    "\n",
    "        col_A_matrix = np.where(col_A_matrix > col_A_matrix.T, col_A_matrix + delta_col_A_matrix, col_A_matrix)\n",
    "        col_B_matrix = np.where(col_B_matrix > col_B_matrix.T, col_B_matrix + delta_col_B_matrix, col_B_matrix)\n",
    "\n",
    "        final.append((col_A_matrix, col_B_matrix))\n",
    "\n",
    "        # Compute utility from one matrix (e.g., col_A_matrix)\n",
    "        util = w_a * expected(col_A_vec, u_plus, u_minus) + w_b * expected(col_B_vec, u_plus, u_minus)\n",
    "        util = np.sum(util)\n",
    "        utilities.append(util)\n",
    "\n",
    "        # Compute mean absolute difference between vectors\n",
    "        diff = np.mean(np.abs(col_A_vec - col_B_vec))\n",
    "        mean_diffs.append(diff)\n",
    "\n",
    "    # === Plot ===\n",
    "    # === Plot Heatmap ===\n",
    "    import matplotlib.pyplot as plt\n",
    "\n",
    "    heatmap_data = utilities\n",
    "    print(heatmap_data.shape)\n",
    "\n",
    "    plt.figure(figsize=(7, 6))\n",
    "    im = plt.imshow(heatmap_data, cmap='viridis', origin='lower', aspect='auto')\n",
    "    plt.colorbar(im, label='Utility')\n",
    "    plt.title(\"Utility Heatmap\")\n",
    "    plt.xlabel(\"Column Index\")\n",
    "    plt.ylabel(\"Row Index\")\n",
    "    plt.tight_layout()\n",
    "    plt.show()\n",
    "\n",
    "    return final\n",
    "test(a, b, u_plus, u_minus, c_plus, c_minus, w_a, w_b)\n"
   ]
  },
  {
   "cell_type": "code",
   "execution_count": 6,
   "id": "7246ac21",
   "metadata": {},
   "outputs": [],
   "source": [
    "# Vectorized double step\n",
    "from utils import change\n",
    "\n",
    "def vectorize_double_step(a, b, u_plus, u_minus, c_plus, c_minus, alphas, w_a, w_b):\n",
    "    \n",
    "    a = np.asarray(a)\n",
    "    b = np.asarray(b)\n",
    "\n",
    "    _, _, _, _,  A_matrix, B_matrix = change(a, b, c_plus, c_minus, u_plus, u_minus)\n",
    "    '''\n",
    "    print(a)\n",
    "    print(A_matrix)\n",
    "    print(A_matrix.T)\n",
    "    print(A_matrix.T[0])\n",
    "    '''\n",
    "    A_matrix = A_matrix.T\n",
    "    B_matrix = B_matrix.T\n",
    "\n",
    "    mat_utils = []\n",
    "    mat_diffs = []\n",
    "    util = []\n",
    "    top_5 = []\n",
    "\n",
    "    # Iterate through each row of A_matrix and B_matrix\n",
    "    for row_a, row_b in tqdm(zip(A_matrix, B_matrix)):\n",
    "        mean_A, mean_B, util_A, util_B, _, _ = change(row_a, row_b, c_plus, c_minus, u_plus, u_minus)\n",
    "        \n",
    "        fairness_diff = np.abs(mean_A - mean_B)\n",
    "        total_util = w_a * util_A + w_b * util_B.T\n",
    "\n",
    "\n",
    "        mat_utils.append(total_util)\n",
    "        mat_diffs.append(fairness_diff)\n",
    "    \n",
    "    mat_utils = np.stack(mat_utils, axis=0) \n",
    "    mat_diffs = np.stack(mat_diffs, axis=0)\n",
    "\n",
    "    print(mat_utils)\n",
    "\n",
    "    for alpha in alphas:\n",
    "\n",
    "        temp = np.where(mat_diffs <= alpha, mat_utils, -np.inf)\n",
    "        max_util = np.max(temp)\n",
    "\n",
    "        valid_count = np.sum(np.isfinite(temp))\n",
    "        print(f'Alpha {alpha:.2f}: valid entries = {valid_count}/{temp.size}, max_util = {max_util:.3f}')\n",
    "        \n",
    "        finite_vals = temp[np.isfinite(temp)]\n",
    "        if finite_vals.size >= 5:\n",
    "            top5_vals = np.partition(finite_vals, -5)[-5:]\n",
    "            top5_vals_sorted = np.sort(top5_vals)[::-1]  # optional: sort in descending order\n",
    "        else:\n",
    "            top5_vals_sorted = np.sort(finite_vals)[::-1]  # sort whatever is available\n",
    "            util.append(max_util)\n",
    "\n",
    "        print(f\"Top 5 values (alpha={alpha:.2f}): {top5_vals_sorted}\")\n",
    "\n",
    "    plot1 = go.Scatter(x=alphas, y=util, mode='markers')\n",
    "    fig = go.Figure(plot1)\n",
    "    fig.update_layout(\n",
    "        title='Alphas vs Utility (Dual Step, n^2 complexity)',\n",
    "        xaxis_title='Alpha',\n",
    "        yaxis_title='Utility'\n",
    "        )\n",
    "    fig.show()\n",
    "    return np.array(alphas), np.array(util)"
   ]
  },
  {
   "cell_type": "code",
   "execution_count": 7,
   "id": "3d572b32",
   "metadata": {},
   "outputs": [],
   "source": [
    "# Brute force double step\n",
    "def double_step(a, b, u_plus, u_minus, c_plus, c_minus, alphas, w_a, w_b):\n",
    "    \n",
    "    delta_A1 = expected(a, c_plus, c_minus)\n",
    "    delta_B1 = expected(b, c_plus, c_minus)\n",
    "\n",
    "    utilities = []\n",
    "    mean_diffs = []\n",
    "\n",
    "    from collections import defaultdict\n",
    "    all_utils = {}\n",
    "\n",
    "\n",
    "    for i in a:\n",
    "        A = np.where(a > i, a + delta_A1, a) \n",
    "        for j in b:   \n",
    "            # Apply the first step\n",
    "            B = np.where(b > j, b + delta_B1, b)\n",
    "            \n",
    "            # Start the second step\n",
    "            delta_A2 = expected(A, c_plus, c_minus)\n",
    "            delta_B2 = expected(B, c_plus, c_minus)\n",
    "            \n",
    "            for k in A:\n",
    "                A2 = np.where(A > k, A + delta_A2, A)\n",
    "                for l in B:\n",
    "                    B2 = np.where(B > l, B + delta_B2, B)\n",
    "                    \n",
    "                    util = w_a * np.sum(expected(A2, u_plus, u_minus)) + w_b * np.sum(expected(B2, u_plus, u_minus))\n",
    "                    diff = np.abs(np.mean(A2)- np.mean(B2))\n",
    "\n",
    "                    all_utils[diff]= util \n",
    "\n",
    "    for alpha in alphas:\n",
    "        # Filter (key, value) pairs where key < alpha\n",
    "        filtered = [(k, v) for k, v in all_utils.items() if k < alpha]\n",
    "\n",
    "        if filtered:\n",
    "            # Get the key-value pair with the maximum value\n",
    "            best_key, best_val = max(filtered, key=lambda x: x[1])\n",
    "            utilities.append(best_val)\n",
    "            mean_diffs.append(best_key)  # assuming 'fair' is computed elsewhere\n",
    "\n",
    "            # Get top 5 value-key pairs by value (descending)\n",
    "            top5 = sorted(filtered, key=lambda x: x[1], reverse=True)[:5]\n",
    "            print(f\"\\nAlpha {alpha:.2f} — Top 5 key-value pairs (key < alpha):\")\n",
    "            for k, v in top5:\n",
    "                print(f\"  key = {k:.4f}, value = {v:.4f}\")\n",
    "        else:\n",
    "            utilities.append(-np.inf)\n",
    "            mean_diffs.append(np.nan)\n",
    "            print(f\"\\nAlpha {alpha:.2f} — No keys below threshold.\")\n",
    "\n",
    "        \n",
    "    utility = go.Scatter(x=alphas, y=utilities, mode='markers', name='Utility')\n",
    "    mean_diff = go.Scatter(x=alphas, y=mean_diffs, mode='markers')\n",
    "    fig = go.Figure(data=[utility, mean_diff])\n",
    "    fig.update_layout(\n",
    "        title='Alpha vs Utility (Dual Step, n^4 Complexity',\n",
    "        xaxis_title='Alpha',\n",
    "        yaxis_title='Utility'\n",
    "            )\n",
    "    fig.show()\n",
    "\n",
    "    return np.array(alphas), np.array(utilities), np.array(mean_diffs)\n",
    "#double_step(a, b, u_plus, u_minus, c_plus, c_minus, alphas, w_a, w_b)\n",
    "\n"
   ]
  },
  {
   "cell_type": "code",
   "execution_count": 8,
   "id": "370b70e7",
   "metadata": {},
   "outputs": [
    {
     "name": "stderr",
     "output_type": "stream",
     "text": [
      "5it [00:00, 2114.06it/s]\n"
     ]
    },
    {
     "name": "stdout",
     "output_type": "stream",
     "text": [
      "[[[0.22380637 0.30981613 0.35570282 0.29940215 0.25357127]\n",
      "  [0.24550767 0.33151744 0.37740413 0.32110345 0.27527257]\n",
      "  [0.25104912 0.33705889 0.38294558 0.3266449  0.28081402]\n",
      "  [0.18667425 0.27268402 0.31857071 0.26227003 0.21643916]\n",
      "  [0.1552781  0.24128787 0.28717455 0.23087388 0.185043  ]]\n",
      "\n",
      " [[0.33151744 0.40837255 0.45425924 0.39795856 0.35212768]\n",
      "  [0.34609806 0.42295317 0.46883986 0.41253918 0.36670831]\n",
      "  [0.35163951 0.42849462 0.47438131 0.41808063 0.37224976]\n",
      "  [0.28726464 0.36411975 0.41000644 0.35370577 0.30787489]\n",
      "  [0.25586849 0.3327236  0.37861029 0.32230961 0.27647873]]\n",
      "\n",
      " [[0.38294558 0.45980069 0.49157579 0.43527511 0.38944423]\n",
      "  [0.3975262  0.47438131 0.50615641 0.44985573 0.40402486]\n",
      "  [0.40122234 0.47807745 0.50985255 0.45355187 0.40772099]\n",
      "  [0.33684747 0.41370258 0.44547768 0.389177   0.34334613]\n",
      "  [0.30545132 0.38230642 0.41408153 0.35778085 0.31194997]]\n",
      "\n",
      " [[0.26227003 0.33912514 0.37090024 0.33099923 0.28516836]\n",
      "  [0.27685066 0.35370577 0.38548087 0.34557986 0.29974898]\n",
      "  [0.28054679 0.3574019  0.389177   0.34927599 0.30344512]\n",
      "  [0.19680607 0.27366118 0.30543628 0.26553527 0.2197044 ]\n",
      "  [0.16540992 0.24226503 0.27404013 0.23413912 0.18830824]]\n",
      "\n",
      " [[0.185043   0.26189811 0.29367321 0.2537722  0.18124414]\n",
      "  [0.19962363 0.27647873 0.30825384 0.26835283 0.19582476]\n",
      "  [0.20331976 0.28017487 0.31194997 0.27204896 0.1995209 ]\n",
      "  [0.11957904 0.19643415 0.22820925 0.18830824 0.11578018]\n",
      "  [0.06168973 0.13854484 0.17031994 0.13041893 0.05789087]]]\n",
      "Alpha 0.01: valid entries = 0/125, max_util = -inf\n",
      "Top 5 values (alpha=0.01): []\n",
      "Alpha 0.03: valid entries = 0/125, max_util = -inf\n",
      "Top 5 values (alpha=0.03): []\n",
      "Alpha 0.05: valid entries = 0/125, max_util = -inf\n",
      "Top 5 values (alpha=0.05): []\n",
      "Alpha 0.07: valid entries = 0/125, max_util = -inf\n",
      "Top 5 values (alpha=0.07): []\n",
      "Alpha 0.09: valid entries = 0/125, max_util = -inf\n",
      "Top 5 values (alpha=0.09): []\n",
      "Alpha 0.11: valid entries = 0/125, max_util = -inf\n",
      "Top 5 values (alpha=0.11): []\n",
      "Alpha 0.13: valid entries = 0/125, max_util = -inf\n",
      "Top 5 values (alpha=0.13): []\n",
      "Alpha 0.15: valid entries = 0/125, max_util = -inf\n",
      "Top 5 values (alpha=0.15): []\n",
      "Alpha 0.17: valid entries = 0/125, max_util = -inf\n",
      "Top 5 values (alpha=0.17): []\n",
      "Alpha 0.19: valid entries = 0/125, max_util = -inf\n",
      "Top 5 values (alpha=0.19): []\n",
      "Alpha 0.21: valid entries = 0/125, max_util = -inf\n",
      "Top 5 values (alpha=0.21): []\n",
      "Alpha 0.23: valid entries = 0/125, max_util = -inf\n",
      "Top 5 values (alpha=0.23): []\n",
      "Alpha 0.25: valid entries = 0/125, max_util = -inf\n",
      "Top 5 values (alpha=0.25): []\n",
      "Alpha 0.27: valid entries = 0/125, max_util = -inf\n",
      "Top 5 values (alpha=0.27): []\n",
      "Alpha 0.29: valid entries = 0/125, max_util = -inf\n",
      "Top 5 values (alpha=0.29): []\n",
      "Alpha 0.31: valid entries = 0/125, max_util = -inf\n",
      "Top 5 values (alpha=0.31): []\n",
      "Alpha 0.33: valid entries = 0/125, max_util = -inf\n",
      "Top 5 values (alpha=0.33): []\n",
      "Alpha 0.35: valid entries = 0/125, max_util = -inf\n",
      "Top 5 values (alpha=0.35): []\n",
      "Alpha 0.37: valid entries = 0/125, max_util = -inf\n",
      "Top 5 values (alpha=0.37): []\n",
      "Alpha 0.39: valid entries = 0/125, max_util = -inf\n",
      "Top 5 values (alpha=0.39): []\n",
      "Alpha 0.41: valid entries = 0/125, max_util = -inf\n",
      "Top 5 values (alpha=0.41): []\n",
      "Alpha 0.43: valid entries = 0/125, max_util = -inf\n",
      "Top 5 values (alpha=0.43): []\n",
      "Alpha 0.45: valid entries = 0/125, max_util = -inf\n",
      "Top 5 values (alpha=0.45): []\n",
      "Alpha 0.47: valid entries = 0/125, max_util = -inf\n",
      "Top 5 values (alpha=0.47): []\n",
      "Alpha 0.49: valid entries = 0/125, max_util = -inf\n",
      "Top 5 values (alpha=0.49): []\n",
      "Alpha 0.51: valid entries = 0/125, max_util = -inf\n",
      "Top 5 values (alpha=0.51): []\n",
      "Alpha 0.53: valid entries = 0/125, max_util = -inf\n",
      "Top 5 values (alpha=0.53): []\n",
      "Alpha 0.55: valid entries = 0/125, max_util = -inf\n",
      "Top 5 values (alpha=0.55): []\n",
      "Alpha 0.57: valid entries = 0/125, max_util = -inf\n",
      "Top 5 values (alpha=0.57): []\n",
      "Alpha 0.59: valid entries = 0/125, max_util = -inf\n",
      "Top 5 values (alpha=0.59): []\n",
      "Alpha 0.61: valid entries = 0/125, max_util = -inf\n",
      "Top 5 values (alpha=0.61): []\n",
      "Alpha 0.63: valid entries = 2/125, max_util = 0.274\n",
      "Top 5 values (alpha=0.63): [0.27404013 0.17031994]\n",
      "Alpha 0.65: valid entries = 3/125, max_util = 0.274\n",
      "Top 5 values (alpha=0.65): [0.27404013 0.24226503 0.17031994]\n",
      "Alpha 0.67: valid entries = 6/125, max_util = 0.274\n",
      "Top 5 values (alpha=0.67): [0.27404013 0.24226503 0.23413912 0.17031994 0.13854484]\n",
      "Alpha 0.69: valid entries = 6/125, max_util = 0.274\n",
      "Top 5 values (alpha=0.69): [0.27404013 0.24226503 0.23413912 0.17031994 0.13854484]\n",
      "Alpha 0.71: valid entries = 7/125, max_util = 0.414\n",
      "Top 5 values (alpha=0.71): [0.41408153 0.27404013 0.24226503 0.23413912 0.17031994]\n",
      "Alpha 0.73: valid entries = 11/125, max_util = 0.414\n",
      "Top 5 values (alpha=0.73): [0.41408153 0.38230642 0.37861029 0.27404013 0.24226503]\n",
      "Alpha 0.75: valid entries = 13/125, max_util = 0.414\n",
      "Top 5 values (alpha=0.75): [0.41408153 0.38230642 0.37861029 0.35778085 0.3327236 ]\n",
      "Alpha 0.77: valid entries = 14/125, max_util = 0.414\n",
      "Top 5 values (alpha=0.77): [0.41408153 0.38230642 0.37861029 0.35778085 0.3327236 ]\n",
      "Alpha 0.79: valid entries = 17/125, max_util = 0.414\n",
      "Top 5 values (alpha=0.79): [0.41408153 0.38230642 0.37861029 0.35778085 0.3327236 ]\n",
      "Alpha 0.81: valid entries = 19/125, max_util = 0.414\n",
      "Top 5 values (alpha=0.81): [0.41408153 0.38230642 0.37861029 0.35778085 0.3327236 ]\n",
      "Alpha 0.83: valid entries = 27/125, max_util = 0.414\n",
      "Top 5 values (alpha=0.83): [0.41408153 0.38230642 0.37861029 0.35778085 0.3327236 ]\n",
      "Alpha 0.85: valid entries = 27/125, max_util = 0.414\n",
      "Top 5 values (alpha=0.85): [0.41408153 0.38230642 0.37861029 0.35778085 0.3327236 ]\n",
      "Alpha 0.87: valid entries = 28/125, max_util = 0.445\n",
      "Top 5 values (alpha=0.87): [0.44547768 0.41408153 0.38230642 0.37861029 0.35778085]\n",
      "Alpha 0.89: valid entries = 29/125, max_util = 0.445\n",
      "Top 5 values (alpha=0.89): [0.44547768 0.41408153 0.38230642 0.37861029 0.35778085]\n",
      "Alpha 0.91: valid entries = 37/125, max_util = 0.445\n",
      "Top 5 values (alpha=0.91): [0.44547768 0.41408153 0.41370258 0.41000644 0.38230642]\n",
      "Alpha 0.93: valid entries = 48/125, max_util = 0.445\n",
      "Top 5 values (alpha=0.93): [0.44547768 0.41408153 0.41370258 0.41000644 0.389177  ]\n",
      "Alpha 0.95: valid entries = 56/125, max_util = 0.445\n",
      "Top 5 values (alpha=0.95): [0.44547768 0.41408153 0.41370258 0.41000644 0.389177  ]\n",
      "Alpha 0.97: valid entries = 59/125, max_util = 0.445\n",
      "Top 5 values (alpha=0.97): [0.44547768 0.41408153 0.41370258 0.41000644 0.389177  ]\n",
      "Alpha 0.99: valid entries = 62/125, max_util = 0.445\n",
      "Top 5 values (alpha=0.99): [0.44547768 0.41408153 0.41370258 0.41000644 0.389177  ]\n",
      "Alpha 1.02: valid entries = 70/125, max_util = 0.492\n",
      "Top 5 values (alpha=1.02): [0.49157579 0.44547768 0.41408153 0.41370258 0.41000644]\n",
      "Alpha 1.04: valid entries = 75/125, max_util = 0.510\n",
      "Top 5 values (alpha=1.04): [0.50985255 0.50615641 0.49157579 0.45980069 0.45425924]\n",
      "Alpha 1.06: valid entries = 79/125, max_util = 0.510\n",
      "Top 5 values (alpha=1.06): [0.50985255 0.50615641 0.49157579 0.47807745 0.47438131]\n",
      "Alpha 1.08: valid entries = 84/125, max_util = 0.510\n",
      "Top 5 values (alpha=1.08): [0.50985255 0.50615641 0.49157579 0.47807745 0.47438131]\n",
      "Alpha 1.10: valid entries = 93/125, max_util = 0.510\n",
      "Top 5 values (alpha=1.10): [0.50985255 0.50615641 0.49157579 0.47807745 0.47438131]\n",
      "Alpha 1.12: valid entries = 99/125, max_util = 0.510\n",
      "Top 5 values (alpha=1.12): [0.50985255 0.50615641 0.49157579 0.47807745 0.47438131]\n",
      "Alpha 1.14: valid entries = 105/125, max_util = 0.510\n",
      "Top 5 values (alpha=1.14): [0.50985255 0.50615641 0.49157579 0.47807745 0.47438131]\n",
      "Alpha 1.16: valid entries = 112/125, max_util = 0.510\n",
      "Top 5 values (alpha=1.16): [0.50985255 0.50615641 0.49157579 0.47807745 0.47438131]\n",
      "Alpha 1.18: valid entries = 113/125, max_util = 0.510\n",
      "Top 5 values (alpha=1.18): [0.50985255 0.50615641 0.49157579 0.47807745 0.47438131]\n",
      "Alpha 1.20: valid entries = 113/125, max_util = 0.510\n",
      "Top 5 values (alpha=1.20): [0.50985255 0.50615641 0.49157579 0.47807745 0.47438131]\n",
      "Alpha 1.22: valid entries = 113/125, max_util = 0.510\n",
      "Top 5 values (alpha=1.22): [0.50985255 0.50615641 0.49157579 0.47807745 0.47438131]\n",
      "Alpha 1.24: valid entries = 116/125, max_util = 0.510\n",
      "Top 5 values (alpha=1.24): [0.50985255 0.50615641 0.49157579 0.47807745 0.47438131]\n",
      "Alpha 1.26: valid entries = 120/125, max_util = 0.510\n",
      "Top 5 values (alpha=1.26): [0.50985255 0.50615641 0.49157579 0.47807745 0.47438131]\n",
      "Alpha 1.28: valid entries = 122/125, max_util = 0.510\n",
      "Top 5 values (alpha=1.28): [0.50985255 0.50615641 0.49157579 0.47807745 0.47438131]\n",
      "Alpha 1.30: valid entries = 122/125, max_util = 0.510\n",
      "Top 5 values (alpha=1.30): [0.50985255 0.50615641 0.49157579 0.47807745 0.47438131]\n",
      "Alpha 1.32: valid entries = 123/125, max_util = 0.510\n",
      "Top 5 values (alpha=1.32): [0.50985255 0.50615641 0.49157579 0.47807745 0.47438131]\n",
      "Alpha 1.34: valid entries = 125/125, max_util = 0.510\n",
      "Top 5 values (alpha=1.34): [0.50985255 0.50615641 0.49157579 0.47807745 0.47438131]\n",
      "Alpha 1.36: valid entries = 125/125, max_util = 0.510\n",
      "Top 5 values (alpha=1.36): [0.50985255 0.50615641 0.49157579 0.47807745 0.47438131]\n",
      "Alpha 1.38: valid entries = 125/125, max_util = 0.510\n",
      "Top 5 values (alpha=1.38): [0.50985255 0.50615641 0.49157579 0.47807745 0.47438131]\n",
      "Alpha 1.40: valid entries = 125/125, max_util = 0.510\n",
      "Top 5 values (alpha=1.40): [0.50985255 0.50615641 0.49157579 0.47807745 0.47438131]\n",
      "Alpha 1.42: valid entries = 125/125, max_util = 0.510\n",
      "Top 5 values (alpha=1.42): [0.50985255 0.50615641 0.49157579 0.47807745 0.47438131]\n",
      "Alpha 1.44: valid entries = 125/125, max_util = 0.510\n",
      "Top 5 values (alpha=1.44): [0.50985255 0.50615641 0.49157579 0.47807745 0.47438131]\n",
      "Alpha 1.46: valid entries = 125/125, max_util = 0.510\n",
      "Top 5 values (alpha=1.46): [0.50985255 0.50615641 0.49157579 0.47807745 0.47438131]\n",
      "Alpha 1.48: valid entries = 125/125, max_util = 0.510\n",
      "Top 5 values (alpha=1.48): [0.50985255 0.50615641 0.49157579 0.47807745 0.47438131]\n",
      "Alpha 1.50: valid entries = 125/125, max_util = 0.510\n",
      "Top 5 values (alpha=1.50): [0.50985255 0.50615641 0.49157579 0.47807745 0.47438131]\n",
      "Alpha 1.52: valid entries = 125/125, max_util = 0.510\n",
      "Top 5 values (alpha=1.52): [0.50985255 0.50615641 0.49157579 0.47807745 0.47438131]\n",
      "Alpha 1.54: valid entries = 125/125, max_util = 0.510\n",
      "Top 5 values (alpha=1.54): [0.50985255 0.50615641 0.49157579 0.47807745 0.47438131]\n",
      "Alpha 1.56: valid entries = 125/125, max_util = 0.510\n",
      "Top 5 values (alpha=1.56): [0.50985255 0.50615641 0.49157579 0.47807745 0.47438131]\n",
      "Alpha 1.58: valid entries = 125/125, max_util = 0.510\n",
      "Top 5 values (alpha=1.58): [0.50985255 0.50615641 0.49157579 0.47807745 0.47438131]\n",
      "Alpha 1.60: valid entries = 125/125, max_util = 0.510\n",
      "Top 5 values (alpha=1.60): [0.50985255 0.50615641 0.49157579 0.47807745 0.47438131]\n",
      "Alpha 1.62: valid entries = 125/125, max_util = 0.510\n",
      "Top 5 values (alpha=1.62): [0.50985255 0.50615641 0.49157579 0.47807745 0.47438131]\n",
      "Alpha 1.64: valid entries = 125/125, max_util = 0.510\n",
      "Top 5 values (alpha=1.64): [0.50985255 0.50615641 0.49157579 0.47807745 0.47438131]\n",
      "Alpha 1.66: valid entries = 125/125, max_util = 0.510\n",
      "Top 5 values (alpha=1.66): [0.50985255 0.50615641 0.49157579 0.47807745 0.47438131]\n",
      "Alpha 1.68: valid entries = 125/125, max_util = 0.510\n",
      "Top 5 values (alpha=1.68): [0.50985255 0.50615641 0.49157579 0.47807745 0.47438131]\n",
      "Alpha 1.70: valid entries = 125/125, max_util = 0.510\n",
      "Top 5 values (alpha=1.70): [0.50985255 0.50615641 0.49157579 0.47807745 0.47438131]\n",
      "Alpha 1.72: valid entries = 125/125, max_util = 0.510\n",
      "Top 5 values (alpha=1.72): [0.50985255 0.50615641 0.49157579 0.47807745 0.47438131]\n",
      "Alpha 1.74: valid entries = 125/125, max_util = 0.510\n",
      "Top 5 values (alpha=1.74): [0.50985255 0.50615641 0.49157579 0.47807745 0.47438131]\n",
      "Alpha 1.76: valid entries = 125/125, max_util = 0.510\n",
      "Top 5 values (alpha=1.76): [0.50985255 0.50615641 0.49157579 0.47807745 0.47438131]\n",
      "Alpha 1.78: valid entries = 125/125, max_util = 0.510\n",
      "Top 5 values (alpha=1.78): [0.50985255 0.50615641 0.49157579 0.47807745 0.47438131]\n",
      "Alpha 1.80: valid entries = 125/125, max_util = 0.510\n",
      "Top 5 values (alpha=1.80): [0.50985255 0.50615641 0.49157579 0.47807745 0.47438131]\n",
      "Alpha 1.82: valid entries = 125/125, max_util = 0.510\n",
      "Top 5 values (alpha=1.82): [0.50985255 0.50615641 0.49157579 0.47807745 0.47438131]\n",
      "Alpha 1.84: valid entries = 125/125, max_util = 0.510\n",
      "Top 5 values (alpha=1.84): [0.50985255 0.50615641 0.49157579 0.47807745 0.47438131]\n",
      "Alpha 1.86: valid entries = 125/125, max_util = 0.510\n",
      "Top 5 values (alpha=1.86): [0.50985255 0.50615641 0.49157579 0.47807745 0.47438131]\n",
      "Alpha 1.88: valid entries = 125/125, max_util = 0.510\n",
      "Top 5 values (alpha=1.88): [0.50985255 0.50615641 0.49157579 0.47807745 0.47438131]\n",
      "Alpha 1.90: valid entries = 125/125, max_util = 0.510\n",
      "Top 5 values (alpha=1.90): [0.50985255 0.50615641 0.49157579 0.47807745 0.47438131]\n",
      "Alpha 1.92: valid entries = 125/125, max_util = 0.510\n",
      "Top 5 values (alpha=1.92): [0.50985255 0.50615641 0.49157579 0.47807745 0.47438131]\n",
      "Alpha 1.94: valid entries = 125/125, max_util = 0.510\n",
      "Top 5 values (alpha=1.94): [0.50985255 0.50615641 0.49157579 0.47807745 0.47438131]\n",
      "Alpha 1.96: valid entries = 125/125, max_util = 0.510\n",
      "Top 5 values (alpha=1.96): [0.50985255 0.50615641 0.49157579 0.47807745 0.47438131]\n",
      "Alpha 1.98: valid entries = 125/125, max_util = 0.510\n",
      "Top 5 values (alpha=1.98): [0.50985255 0.50615641 0.49157579 0.47807745 0.47438131]\n",
      "Alpha 2.00: valid entries = 125/125, max_util = 0.510\n",
      "Top 5 values (alpha=2.00): [0.50985255 0.50615641 0.49157579 0.47807745 0.47438131]\n"
     ]
    },
    {
     "data": {
      "application/vnd.plotly.v1+json": {
       "config": {
        "plotlyServerURL": "https://plot.ly"
       },
       "data": [
        {
         "mode": "markers",
         "type": "scatter",
         "x": {
          "bdata": "exSuR+F6hD8odNeXzNKePwrv60UUtKk//xH2H2H/sT96LPYcuCS3P/VG9hkPSrw/uDB7C7O3wD/2PfuJXkrDPzNLewgK3cU/cFj7hrVvyD+uZXsFYQLLP+ty+4MMlc0/FMA9AdwT0D+zxn3AMV3RP1LNvX+HptI/8NP9Pt3v0z+P2j3+MjnVPy7hfb2IgtY/zOe9fN7L1z9r7v07NBXZPwr1PfuJXto/qPt9ut+n2z9HAr55NfHcP+YI/jiLOt4/hA8++OCD3z8SC79bm2bgP2EOXztGC+E/sBH/GvGv4T8AFZ/6m1TiP08YP9pG+eI/nhvfufGd4z/uHn+ZnELkPz0iH3lH5+Q/jCW/WPKL5T/cKF84nTDmPyss/xdI1eY/ei+f9/J55z/KMj/XnR7oPxk237ZIw+g/aDl/lvNn6T+4PB92ngzqPwdAv1VJseo/VkNfNfRV6z+mRv8Un/rrP/VJn/RJn+w/RE0/1PRD7T+UUN+zn+jtP+NTf5NKje4/Mlcfc/Ux7z+CWr9SoNbvP+muL5mlPfA/kLD/CPuP8D84ss94UOLwP+Czn+ilNPE/h7VvWPuG8T8vtz/IUNnxP9e4DzimK/I/frrfp/t98j8mvK8XUdDyP869f4emIvM/db9P9/t08z8dwR9nUcfzP8XC79amGfQ/bMS/Rvxr9D8Uxo+2Ub70P7zHXyanEPU/Y8kvlvxi9T8Ly/8FUrX1P7PMz3WnB/Y/Ws6f5fxZ9j8C0G9VUqz2P6rRP8Wn/vY/UdMPNf1Q9z/51N+kUqP3P6HWrxSo9fc/SNh/hP1H+D/w2U/0Upr4P5jbH2So7Pg/P93v0/0++T/n3r9DU5H5P4/gj7Oo4/k/NuJfI/41+j/e4y+TU4j6P4bl/wKp2vo/LefPcv4s+z/V6J/iU3/7P33qb1Kp0fs/JOw/wv4j/D/M7Q8yVHb8P3Tv36GpyPw/G/GvEf8a/T/D8n+BVG39P2v0T/Gpv/0/EvYfYf8R/j+69+/QVGT+P2L5v0Cqtv4/CfuPsP8I/z+x/F8gVVv/P1n+L5Cqrf8/AAAAAAAAAEA=",
          "dtype": "f8"
         },
         "y": [
          null,
          null,
          null,
          null,
          null,
          null,
          null,
          null,
          null,
          null,
          null,
          null,
          null,
          null,
          null,
          null,
          null,
          null,
          null,
          null,
          null,
          null,
          null,
          null,
          null,
          null,
          null,
          null,
          null,
          null,
          null,
          0.2740401273549223,
          0.2740401273549223
         ]
        }
       ],
       "layout": {
        "template": {
         "data": {
          "bar": [
           {
            "error_x": {
             "color": "#2a3f5f"
            },
            "error_y": {
             "color": "#2a3f5f"
            },
            "marker": {
             "line": {
              "color": "#E5ECF6",
              "width": 0.5
             },
             "pattern": {
              "fillmode": "overlay",
              "size": 10,
              "solidity": 0.2
             }
            },
            "type": "bar"
           }
          ],
          "barpolar": [
           {
            "marker": {
             "line": {
              "color": "#E5ECF6",
              "width": 0.5
             },
             "pattern": {
              "fillmode": "overlay",
              "size": 10,
              "solidity": 0.2
             }
            },
            "type": "barpolar"
           }
          ],
          "carpet": [
           {
            "aaxis": {
             "endlinecolor": "#2a3f5f",
             "gridcolor": "white",
             "linecolor": "white",
             "minorgridcolor": "white",
             "startlinecolor": "#2a3f5f"
            },
            "baxis": {
             "endlinecolor": "#2a3f5f",
             "gridcolor": "white",
             "linecolor": "white",
             "minorgridcolor": "white",
             "startlinecolor": "#2a3f5f"
            },
            "type": "carpet"
           }
          ],
          "choropleth": [
           {
            "colorbar": {
             "outlinewidth": 0,
             "ticks": ""
            },
            "type": "choropleth"
           }
          ],
          "contour": [
           {
            "colorbar": {
             "outlinewidth": 0,
             "ticks": ""
            },
            "colorscale": [
             [
              0,
              "#0d0887"
             ],
             [
              0.1111111111111111,
              "#46039f"
             ],
             [
              0.2222222222222222,
              "#7201a8"
             ],
             [
              0.3333333333333333,
              "#9c179e"
             ],
             [
              0.4444444444444444,
              "#bd3786"
             ],
             [
              0.5555555555555556,
              "#d8576b"
             ],
             [
              0.6666666666666666,
              "#ed7953"
             ],
             [
              0.7777777777777778,
              "#fb9f3a"
             ],
             [
              0.8888888888888888,
              "#fdca26"
             ],
             [
              1,
              "#f0f921"
             ]
            ],
            "type": "contour"
           }
          ],
          "contourcarpet": [
           {
            "colorbar": {
             "outlinewidth": 0,
             "ticks": ""
            },
            "type": "contourcarpet"
           }
          ],
          "heatmap": [
           {
            "colorbar": {
             "outlinewidth": 0,
             "ticks": ""
            },
            "colorscale": [
             [
              0,
              "#0d0887"
             ],
             [
              0.1111111111111111,
              "#46039f"
             ],
             [
              0.2222222222222222,
              "#7201a8"
             ],
             [
              0.3333333333333333,
              "#9c179e"
             ],
             [
              0.4444444444444444,
              "#bd3786"
             ],
             [
              0.5555555555555556,
              "#d8576b"
             ],
             [
              0.6666666666666666,
              "#ed7953"
             ],
             [
              0.7777777777777778,
              "#fb9f3a"
             ],
             [
              0.8888888888888888,
              "#fdca26"
             ],
             [
              1,
              "#f0f921"
             ]
            ],
            "type": "heatmap"
           }
          ],
          "histogram": [
           {
            "marker": {
             "pattern": {
              "fillmode": "overlay",
              "size": 10,
              "solidity": 0.2
             }
            },
            "type": "histogram"
           }
          ],
          "histogram2d": [
           {
            "colorbar": {
             "outlinewidth": 0,
             "ticks": ""
            },
            "colorscale": [
             [
              0,
              "#0d0887"
             ],
             [
              0.1111111111111111,
              "#46039f"
             ],
             [
              0.2222222222222222,
              "#7201a8"
             ],
             [
              0.3333333333333333,
              "#9c179e"
             ],
             [
              0.4444444444444444,
              "#bd3786"
             ],
             [
              0.5555555555555556,
              "#d8576b"
             ],
             [
              0.6666666666666666,
              "#ed7953"
             ],
             [
              0.7777777777777778,
              "#fb9f3a"
             ],
             [
              0.8888888888888888,
              "#fdca26"
             ],
             [
              1,
              "#f0f921"
             ]
            ],
            "type": "histogram2d"
           }
          ],
          "histogram2dcontour": [
           {
            "colorbar": {
             "outlinewidth": 0,
             "ticks": ""
            },
            "colorscale": [
             [
              0,
              "#0d0887"
             ],
             [
              0.1111111111111111,
              "#46039f"
             ],
             [
              0.2222222222222222,
              "#7201a8"
             ],
             [
              0.3333333333333333,
              "#9c179e"
             ],
             [
              0.4444444444444444,
              "#bd3786"
             ],
             [
              0.5555555555555556,
              "#d8576b"
             ],
             [
              0.6666666666666666,
              "#ed7953"
             ],
             [
              0.7777777777777778,
              "#fb9f3a"
             ],
             [
              0.8888888888888888,
              "#fdca26"
             ],
             [
              1,
              "#f0f921"
             ]
            ],
            "type": "histogram2dcontour"
           }
          ],
          "mesh3d": [
           {
            "colorbar": {
             "outlinewidth": 0,
             "ticks": ""
            },
            "type": "mesh3d"
           }
          ],
          "parcoords": [
           {
            "line": {
             "colorbar": {
              "outlinewidth": 0,
              "ticks": ""
             }
            },
            "type": "parcoords"
           }
          ],
          "pie": [
           {
            "automargin": true,
            "type": "pie"
           }
          ],
          "scatter": [
           {
            "fillpattern": {
             "fillmode": "overlay",
             "size": 10,
             "solidity": 0.2
            },
            "type": "scatter"
           }
          ],
          "scatter3d": [
           {
            "line": {
             "colorbar": {
              "outlinewidth": 0,
              "ticks": ""
             }
            },
            "marker": {
             "colorbar": {
              "outlinewidth": 0,
              "ticks": ""
             }
            },
            "type": "scatter3d"
           }
          ],
          "scattercarpet": [
           {
            "marker": {
             "colorbar": {
              "outlinewidth": 0,
              "ticks": ""
             }
            },
            "type": "scattercarpet"
           }
          ],
          "scattergeo": [
           {
            "marker": {
             "colorbar": {
              "outlinewidth": 0,
              "ticks": ""
             }
            },
            "type": "scattergeo"
           }
          ],
          "scattergl": [
           {
            "marker": {
             "colorbar": {
              "outlinewidth": 0,
              "ticks": ""
             }
            },
            "type": "scattergl"
           }
          ],
          "scattermap": [
           {
            "marker": {
             "colorbar": {
              "outlinewidth": 0,
              "ticks": ""
             }
            },
            "type": "scattermap"
           }
          ],
          "scattermapbox": [
           {
            "marker": {
             "colorbar": {
              "outlinewidth": 0,
              "ticks": ""
             }
            },
            "type": "scattermapbox"
           }
          ],
          "scatterpolar": [
           {
            "marker": {
             "colorbar": {
              "outlinewidth": 0,
              "ticks": ""
             }
            },
            "type": "scatterpolar"
           }
          ],
          "scatterpolargl": [
           {
            "marker": {
             "colorbar": {
              "outlinewidth": 0,
              "ticks": ""
             }
            },
            "type": "scatterpolargl"
           }
          ],
          "scatterternary": [
           {
            "marker": {
             "colorbar": {
              "outlinewidth": 0,
              "ticks": ""
             }
            },
            "type": "scatterternary"
           }
          ],
          "surface": [
           {
            "colorbar": {
             "outlinewidth": 0,
             "ticks": ""
            },
            "colorscale": [
             [
              0,
              "#0d0887"
             ],
             [
              0.1111111111111111,
              "#46039f"
             ],
             [
              0.2222222222222222,
              "#7201a8"
             ],
             [
              0.3333333333333333,
              "#9c179e"
             ],
             [
              0.4444444444444444,
              "#bd3786"
             ],
             [
              0.5555555555555556,
              "#d8576b"
             ],
             [
              0.6666666666666666,
              "#ed7953"
             ],
             [
              0.7777777777777778,
              "#fb9f3a"
             ],
             [
              0.8888888888888888,
              "#fdca26"
             ],
             [
              1,
              "#f0f921"
             ]
            ],
            "type": "surface"
           }
          ],
          "table": [
           {
            "cells": {
             "fill": {
              "color": "#EBF0F8"
             },
             "line": {
              "color": "white"
             }
            },
            "header": {
             "fill": {
              "color": "#C8D4E3"
             },
             "line": {
              "color": "white"
             }
            },
            "type": "table"
           }
          ]
         },
         "layout": {
          "annotationdefaults": {
           "arrowcolor": "#2a3f5f",
           "arrowhead": 0,
           "arrowwidth": 1
          },
          "autotypenumbers": "strict",
          "coloraxis": {
           "colorbar": {
            "outlinewidth": 0,
            "ticks": ""
           }
          },
          "colorscale": {
           "diverging": [
            [
             0,
             "#8e0152"
            ],
            [
             0.1,
             "#c51b7d"
            ],
            [
             0.2,
             "#de77ae"
            ],
            [
             0.3,
             "#f1b6da"
            ],
            [
             0.4,
             "#fde0ef"
            ],
            [
             0.5,
             "#f7f7f7"
            ],
            [
             0.6,
             "#e6f5d0"
            ],
            [
             0.7,
             "#b8e186"
            ],
            [
             0.8,
             "#7fbc41"
            ],
            [
             0.9,
             "#4d9221"
            ],
            [
             1,
             "#276419"
            ]
           ],
           "sequential": [
            [
             0,
             "#0d0887"
            ],
            [
             0.1111111111111111,
             "#46039f"
            ],
            [
             0.2222222222222222,
             "#7201a8"
            ],
            [
             0.3333333333333333,
             "#9c179e"
            ],
            [
             0.4444444444444444,
             "#bd3786"
            ],
            [
             0.5555555555555556,
             "#d8576b"
            ],
            [
             0.6666666666666666,
             "#ed7953"
            ],
            [
             0.7777777777777778,
             "#fb9f3a"
            ],
            [
             0.8888888888888888,
             "#fdca26"
            ],
            [
             1,
             "#f0f921"
            ]
           ],
           "sequentialminus": [
            [
             0,
             "#0d0887"
            ],
            [
             0.1111111111111111,
             "#46039f"
            ],
            [
             0.2222222222222222,
             "#7201a8"
            ],
            [
             0.3333333333333333,
             "#9c179e"
            ],
            [
             0.4444444444444444,
             "#bd3786"
            ],
            [
             0.5555555555555556,
             "#d8576b"
            ],
            [
             0.6666666666666666,
             "#ed7953"
            ],
            [
             0.7777777777777778,
             "#fb9f3a"
            ],
            [
             0.8888888888888888,
             "#fdca26"
            ],
            [
             1,
             "#f0f921"
            ]
           ]
          },
          "colorway": [
           "#636efa",
           "#EF553B",
           "#00cc96",
           "#ab63fa",
           "#FFA15A",
           "#19d3f3",
           "#FF6692",
           "#B6E880",
           "#FF97FF",
           "#FECB52"
          ],
          "font": {
           "color": "#2a3f5f"
          },
          "geo": {
           "bgcolor": "white",
           "lakecolor": "white",
           "landcolor": "#E5ECF6",
           "showlakes": true,
           "showland": true,
           "subunitcolor": "white"
          },
          "hoverlabel": {
           "align": "left"
          },
          "hovermode": "closest",
          "mapbox": {
           "style": "light"
          },
          "paper_bgcolor": "white",
          "plot_bgcolor": "#E5ECF6",
          "polar": {
           "angularaxis": {
            "gridcolor": "white",
            "linecolor": "white",
            "ticks": ""
           },
           "bgcolor": "#E5ECF6",
           "radialaxis": {
            "gridcolor": "white",
            "linecolor": "white",
            "ticks": ""
           }
          },
          "scene": {
           "xaxis": {
            "backgroundcolor": "#E5ECF6",
            "gridcolor": "white",
            "gridwidth": 2,
            "linecolor": "white",
            "showbackground": true,
            "ticks": "",
            "zerolinecolor": "white"
           },
           "yaxis": {
            "backgroundcolor": "#E5ECF6",
            "gridcolor": "white",
            "gridwidth": 2,
            "linecolor": "white",
            "showbackground": true,
            "ticks": "",
            "zerolinecolor": "white"
           },
           "zaxis": {
            "backgroundcolor": "#E5ECF6",
            "gridcolor": "white",
            "gridwidth": 2,
            "linecolor": "white",
            "showbackground": true,
            "ticks": "",
            "zerolinecolor": "white"
           }
          },
          "shapedefaults": {
           "line": {
            "color": "#2a3f5f"
           }
          },
          "ternary": {
           "aaxis": {
            "gridcolor": "white",
            "linecolor": "white",
            "ticks": ""
           },
           "baxis": {
            "gridcolor": "white",
            "linecolor": "white",
            "ticks": ""
           },
           "bgcolor": "#E5ECF6",
           "caxis": {
            "gridcolor": "white",
            "linecolor": "white",
            "ticks": ""
           }
          },
          "title": {
           "x": 0.05
          },
          "xaxis": {
           "automargin": true,
           "gridcolor": "white",
           "linecolor": "white",
           "ticks": "",
           "title": {
            "standoff": 15
           },
           "zerolinecolor": "white",
           "zerolinewidth": 2
          },
          "yaxis": {
           "automargin": true,
           "gridcolor": "white",
           "linecolor": "white",
           "ticks": "",
           "title": {
            "standoff": 15
           },
           "zerolinecolor": "white",
           "zerolinewidth": 2
          }
         }
        },
        "title": {
         "text": "Alphas vs Utility (Dual Step, n^2 complexity)"
        },
        "xaxis": {
         "title": {
          "text": "Alpha"
         }
        },
        "yaxis": {
         "title": {
          "text": "Utility"
         }
        }
       }
      }
     },
     "metadata": {},
     "output_type": "display_data"
    }
   ],
   "source": [
    "alphas2, utils2 = vectorize_double_step(a, b, u_plus, u_minus, c_plus, c_minus, alphas, w_a, w_b)"
   ]
  },
  {
   "cell_type": "code",
   "execution_count": 10,
   "id": "4d737ba8",
   "metadata": {},
   "outputs": [
    {
     "name": "stdout",
     "output_type": "stream",
     "text": [
      "\n",
      "Alpha 0.01 — No keys below threshold.\n",
      "\n",
      "Alpha 0.03 — No keys below threshold.\n",
      "\n",
      "Alpha 0.05 — No keys below threshold.\n",
      "\n",
      "Alpha 0.07 — No keys below threshold.\n",
      "\n",
      "Alpha 0.09 — No keys below threshold.\n",
      "\n",
      "Alpha 0.11 — No keys below threshold.\n",
      "\n",
      "Alpha 0.13 — No keys below threshold.\n",
      "\n",
      "Alpha 0.15 — No keys below threshold.\n",
      "\n",
      "Alpha 0.17 — No keys below threshold.\n",
      "\n",
      "Alpha 0.19 — No keys below threshold.\n",
      "\n",
      "Alpha 0.21 — No keys below threshold.\n",
      "\n",
      "Alpha 0.23 — No keys below threshold.\n",
      "\n",
      "Alpha 0.25 — No keys below threshold.\n",
      "\n",
      "Alpha 0.27 — No keys below threshold.\n",
      "\n",
      "Alpha 0.29 — No keys below threshold.\n",
      "\n",
      "Alpha 0.31 — No keys below threshold.\n",
      "\n",
      "Alpha 0.33 — No keys below threshold.\n",
      "\n",
      "Alpha 0.35 — No keys below threshold.\n",
      "\n",
      "Alpha 0.37 — No keys below threshold.\n",
      "\n",
      "Alpha 0.39 — No keys below threshold.\n",
      "\n",
      "Alpha 0.41 — No keys below threshold.\n",
      "\n",
      "Alpha 0.43 — Top 5 key-value pairs (key < alpha):\n",
      "  key = 0.4179, value = 0.2725\n",
      "\n",
      "Alpha 0.45 — Top 5 key-value pairs (key < alpha):\n",
      "  key = 0.4179, value = 0.2725\n",
      "  key = 0.4427, value = 0.2407\n",
      "\n",
      "Alpha 0.47 — Top 5 key-value pairs (key < alpha):\n",
      "  key = 0.4179, value = 0.2725\n",
      "  key = 0.4427, value = 0.2407\n",
      "  key = 0.4647, value = 0.2162\n",
      "\n",
      "Alpha 0.49 — Top 5 key-value pairs (key < alpha):\n",
      "  key = 0.4179, value = 0.2725\n",
      "  key = 0.4427, value = 0.2407\n",
      "  key = 0.4647, value = 0.2162\n",
      "  key = 0.4796, value = 0.1948\n",
      "  key = 0.4895, value = 0.1844\n",
      "\n",
      "Alpha 0.51 — Top 5 key-value pairs (key < alpha):\n",
      "  key = 0.4179, value = 0.2725\n",
      "  key = 0.4427, value = 0.2407\n",
      "  key = 0.4647, value = 0.2162\n",
      "  key = 0.4796, value = 0.1948\n",
      "  key = 0.4895, value = 0.1844\n",
      "\n",
      "Alpha 0.53 — Top 5 key-value pairs (key < alpha):\n",
      "  key = 0.4179, value = 0.2725\n",
      "  key = 0.4427, value = 0.2407\n",
      "  key = 0.4647, value = 0.2162\n",
      "  key = 0.4796, value = 0.1948\n",
      "  key = 0.4895, value = 0.1844\n",
      "\n",
      "Alpha 0.55 — Top 5 key-value pairs (key < alpha):\n",
      "  key = 0.4179, value = 0.2725\n",
      "  key = 0.4427, value = 0.2407\n",
      "  key = 0.4647, value = 0.2162\n",
      "  key = 0.4796, value = 0.1948\n",
      "  key = 0.4895, value = 0.1844\n",
      "\n",
      "Alpha 0.57 — Top 5 key-value pairs (key < alpha):\n",
      "  key = 0.4179, value = 0.2725\n",
      "  key = 0.4427, value = 0.2407\n",
      "  key = 0.4647, value = 0.2162\n",
      "  key = 0.4796, value = 0.1948\n",
      "  key = 0.4895, value = 0.1844\n",
      "\n",
      "Alpha 0.59 — Top 5 key-value pairs (key < alpha):\n",
      "  key = 0.5752, value = 0.3303\n",
      "  key = 0.4179, value = 0.2725\n",
      "  key = 0.4427, value = 0.2407\n",
      "  key = 0.4647, value = 0.2162\n",
      "  key = 0.4796, value = 0.1948\n",
      "\n",
      "Alpha 0.61 — Top 5 key-value pairs (key < alpha):\n",
      "  key = 0.5752, value = 0.3303\n",
      "  key = 0.6000, value = 0.2986\n",
      "  key = 0.4179, value = 0.2725\n",
      "  key = 0.4427, value = 0.2407\n",
      "  key = 0.4647, value = 0.2162\n",
      "\n",
      "Alpha 0.63 — Top 5 key-value pairs (key < alpha):\n",
      "  key = 0.5752, value = 0.3303\n",
      "  key = 0.6000, value = 0.2986\n",
      "  key = 0.6220, value = 0.2740\n",
      "  key = 0.4179, value = 0.2725\n",
      "  key = 0.4427, value = 0.2407\n",
      "\n",
      "Alpha 0.65 — Top 5 key-value pairs (key < alpha):\n",
      "  key = 0.5752, value = 0.3303\n",
      "  key = 0.6000, value = 0.2986\n",
      "  key = 0.6220, value = 0.2740\n",
      "  key = 0.4179, value = 0.2725\n",
      "  key = 0.6369, value = 0.2527\n",
      "\n",
      "Alpha 0.67 — Top 5 key-value pairs (key < alpha):\n",
      "  key = 0.5752, value = 0.3303\n",
      "  key = 0.6000, value = 0.2986\n",
      "  key = 0.6220, value = 0.2740\n",
      "  key = 0.4179, value = 0.2725\n",
      "  key = 0.6369, value = 0.2527\n",
      "\n",
      "Alpha 0.69 — Top 5 key-value pairs (key < alpha):\n",
      "  key = 0.6910, value = 0.4104\n",
      "  key = 0.6799, value = 0.3958\n",
      "  key = 0.5752, value = 0.3303\n",
      "  key = 0.6000, value = 0.2986\n",
      "  key = 0.6220, value = 0.2740\n",
      "\n",
      "Alpha 0.71 — Top 5 key-value pairs (key < alpha):\n",
      "  key = 0.6938, value = 0.4141\n",
      "  key = 0.6910, value = 0.4104\n",
      "  key = 0.6799, value = 0.3958\n",
      "  key = 0.7047, value = 0.3640\n",
      "  key = 0.5752, value = 0.3303\n",
      "\n",
      "Alpha 0.73 — Top 5 key-value pairs (key < alpha):\n",
      "  key = 0.6938, value = 0.4141\n",
      "  key = 0.6910, value = 0.4104\n",
      "  key = 0.6799, value = 0.3958\n",
      "  key = 0.7186, value = 0.3823\n",
      "  key = 0.7158, value = 0.3786\n",
      "\n",
      "Alpha 0.75 — Top 5 key-value pairs (key < alpha):\n",
      "  key = 0.6938, value = 0.4141\n",
      "  key = 0.6910, value = 0.4104\n",
      "  key = 0.6799, value = 0.3958\n",
      "  key = 0.7186, value = 0.3823\n",
      "  key = 0.7158, value = 0.3786\n",
      "\n",
      "Alpha 0.77 — Top 5 key-value pairs (key < alpha):\n",
      "  key = 0.6938, value = 0.4141\n",
      "  key = 0.6910, value = 0.4104\n",
      "  key = 0.6799, value = 0.3958\n",
      "  key = 0.7186, value = 0.3823\n",
      "  key = 0.7158, value = 0.3786\n",
      "\n",
      "Alpha 0.79 — Top 5 key-value pairs (key < alpha):\n",
      "  key = 0.6938, value = 0.4141\n",
      "  key = 0.6910, value = 0.4104\n",
      "  key = 0.6799, value = 0.3958\n",
      "  key = 0.7186, value = 0.3823\n",
      "  key = 0.7158, value = 0.3786\n",
      "\n",
      "Alpha 0.81 — Top 5 key-value pairs (key < alpha):\n",
      "  key = 0.6938, value = 0.4141\n",
      "  key = 0.6910, value = 0.4104\n",
      "  key = 0.6799, value = 0.3958\n",
      "  key = 0.7186, value = 0.3823\n",
      "  key = 0.7158, value = 0.3786\n",
      "\n",
      "Alpha 0.83 — Top 5 key-value pairs (key < alpha):\n",
      "  key = 0.6938, value = 0.4141\n",
      "  key = 0.6910, value = 0.4104\n",
      "  key = 0.6799, value = 0.3958\n",
      "  key = 0.7186, value = 0.3823\n",
      "  key = 0.7158, value = 0.3786\n",
      "\n",
      "Alpha 0.85 — Top 5 key-value pairs (key < alpha):\n",
      "  key = 0.6938, value = 0.4141\n",
      "  key = 0.6910, value = 0.4104\n",
      "  key = 0.6799, value = 0.3958\n",
      "  key = 0.7186, value = 0.3823\n",
      "  key = 0.7158, value = 0.3786\n",
      "\n",
      "Alpha 0.87 — Top 5 key-value pairs (key < alpha):\n",
      "  key = 0.8732, value = 0.4455\n",
      "  key = 0.8704, value = 0.4418\n",
      "  key = 0.8592, value = 0.4272\n",
      "  key = 0.6938, value = 0.4141\n",
      "  key = 0.6910, value = 0.4104\n",
      "\n",
      "Alpha 0.89 — Top 5 key-value pairs (key < alpha):\n",
      "  key = 0.8732, value = 0.4455\n",
      "  key = 0.8704, value = 0.4418\n",
      "  key = 0.8592, value = 0.4272\n",
      "  key = 0.6938, value = 0.4141\n",
      "  key = 0.6910, value = 0.4104\n",
      "\n",
      "Alpha 0.91 — Top 5 key-value pairs (key < alpha):\n",
      "  key = 0.8732, value = 0.4455\n",
      "  key = 0.8704, value = 0.4418\n",
      "  key = 0.8592, value = 0.4272\n",
      "  key = 0.6938, value = 0.4141\n",
      "  key = 0.8980, value = 0.4137\n",
      "\n",
      "Alpha 0.93 — Top 5 key-value pairs (key < alpha):\n",
      "  key = 0.8732, value = 0.4455\n",
      "  key = 0.8704, value = 0.4418\n",
      "  key = 0.8592, value = 0.4272\n",
      "  key = 0.6938, value = 0.4141\n",
      "  key = 0.8980, value = 0.4137\n",
      "\n",
      "Alpha 0.95 — Top 5 key-value pairs (key < alpha):\n",
      "  key = 0.8732, value = 0.4455\n",
      "  key = 0.8704, value = 0.4418\n",
      "  key = 0.8592, value = 0.4272\n",
      "  key = 0.6938, value = 0.4141\n",
      "  key = 0.8980, value = 0.4137\n",
      "\n",
      "Alpha 0.97 — Top 5 key-value pairs (key < alpha):\n",
      "  key = 0.8732, value = 0.4455\n",
      "  key = 0.8704, value = 0.4418\n",
      "  key = 0.8592, value = 0.4272\n",
      "  key = 0.6938, value = 0.4141\n",
      "  key = 0.8980, value = 0.4137\n",
      "\n",
      "Alpha 0.99 — Top 5 key-value pairs (key < alpha):\n",
      "  key = 0.9888, value = 0.4643\n",
      "  key = 0.8732, value = 0.4455\n",
      "  key = 0.8704, value = 0.4418\n",
      "  key = 0.8592, value = 0.4272\n",
      "  key = 0.6938, value = 0.4141\n",
      "\n",
      "Alpha 1.02 — Top 5 key-value pairs (key < alpha):\n",
      "  key = 1.0098, value = 0.4916\n",
      "  key = 1.0055, value = 0.4860\n",
      "  key = 0.9888, value = 0.4643\n",
      "  key = 0.8732, value = 0.4455\n",
      "  key = 0.8704, value = 0.4418\n",
      "\n",
      "Alpha 1.04 — Top 5 key-value pairs (key < alpha):\n",
      "  key = 1.0237, value = 0.5099\n",
      "  key = 1.0209, value = 0.5062\n",
      "  key = 1.0167, value = 0.5006\n",
      "  key = 1.0098, value = 0.4916\n",
      "  key = 1.0055, value = 0.4860\n",
      "\n",
      "Alpha 1.06 — Top 5 key-value pairs (key < alpha):\n",
      "  key = 1.0237, value = 0.5099\n",
      "  key = 1.0209, value = 0.5062\n",
      "  key = 1.0167, value = 0.5006\n",
      "  key = 1.0098, value = 0.4916\n",
      "  key = 1.0055, value = 0.4860\n",
      "\n",
      "Alpha 1.08 — Top 5 key-value pairs (key < alpha):\n",
      "  key = 1.0237, value = 0.5099\n",
      "  key = 1.0209, value = 0.5062\n",
      "  key = 1.0167, value = 0.5006\n",
      "  key = 1.0098, value = 0.4916\n",
      "  key = 1.0055, value = 0.4860\n",
      "\n",
      "Alpha 1.10 — Top 5 key-value pairs (key < alpha):\n",
      "  key = 1.0237, value = 0.5099\n",
      "  key = 1.0209, value = 0.5062\n",
      "  key = 1.0167, value = 0.5006\n",
      "  key = 1.0098, value = 0.4916\n",
      "  key = 1.0055, value = 0.4860\n",
      "\n",
      "Alpha 1.12 — Top 5 key-value pairs (key < alpha):\n",
      "  key = 1.0237, value = 0.5099\n",
      "  key = 1.0209, value = 0.5062\n",
      "  key = 1.0167, value = 0.5006\n",
      "  key = 1.0098, value = 0.4916\n",
      "  key = 1.0055, value = 0.4860\n",
      "\n",
      "Alpha 1.14 — Top 5 key-value pairs (key < alpha):\n",
      "  key = 1.0237, value = 0.5099\n",
      "  key = 1.0209, value = 0.5062\n",
      "  key = 1.0167, value = 0.5006\n",
      "  key = 1.0098, value = 0.4916\n",
      "  key = 1.0055, value = 0.4860\n",
      "\n",
      "Alpha 1.16 — Top 5 key-value pairs (key < alpha):\n",
      "  key = 1.0237, value = 0.5099\n",
      "  key = 1.0209, value = 0.5062\n",
      "  key = 1.0167, value = 0.5006\n",
      "  key = 1.0098, value = 0.4916\n",
      "  key = 1.0055, value = 0.4860\n",
      "\n",
      "Alpha 1.18 — Top 5 key-value pairs (key < alpha):\n",
      "  key = 1.0237, value = 0.5099\n",
      "  key = 1.0209, value = 0.5062\n",
      "  key = 1.0167, value = 0.5006\n",
      "  key = 1.0098, value = 0.4916\n",
      "  key = 1.0055, value = 0.4860\n",
      "\n",
      "Alpha 1.20 — Top 5 key-value pairs (key < alpha):\n",
      "  key = 1.0237, value = 0.5099\n",
      "  key = 1.0209, value = 0.5062\n",
      "  key = 1.0167, value = 0.5006\n",
      "  key = 1.0098, value = 0.4916\n",
      "  key = 1.0055, value = 0.4860\n",
      "\n",
      "Alpha 1.22 — Top 5 key-value pairs (key < alpha):\n",
      "  key = 1.0237, value = 0.5099\n",
      "  key = 1.0209, value = 0.5062\n",
      "  key = 1.0167, value = 0.5006\n",
      "  key = 1.0098, value = 0.4916\n",
      "  key = 1.0055, value = 0.4860\n",
      "\n",
      "Alpha 1.24 — Top 5 key-value pairs (key < alpha):\n",
      "  key = 1.0237, value = 0.5099\n",
      "  key = 1.0209, value = 0.5062\n",
      "  key = 1.0167, value = 0.5006\n",
      "  key = 1.0098, value = 0.4916\n",
      "  key = 1.0055, value = 0.4860\n",
      "\n",
      "Alpha 1.26 — Top 5 key-value pairs (key < alpha):\n",
      "  key = 1.0237, value = 0.5099\n",
      "  key = 1.0209, value = 0.5062\n",
      "  key = 1.0167, value = 0.5006\n",
      "  key = 1.0098, value = 0.4916\n",
      "  key = 1.0055, value = 0.4860\n",
      "\n",
      "Alpha 1.28 — Top 5 key-value pairs (key < alpha):\n",
      "  key = 1.0237, value = 0.5099\n",
      "  key = 1.0209, value = 0.5062\n",
      "  key = 1.0167, value = 0.5006\n",
      "  key = 1.0098, value = 0.4916\n",
      "  key = 1.0055, value = 0.4860\n",
      "\n",
      "Alpha 1.30 — Top 5 key-value pairs (key < alpha):\n",
      "  key = 1.0237, value = 0.5099\n",
      "  key = 1.0209, value = 0.5062\n",
      "  key = 1.0167, value = 0.5006\n",
      "  key = 1.0098, value = 0.4916\n",
      "  key = 1.0055, value = 0.4860\n",
      "\n",
      "Alpha 1.32 — Top 5 key-value pairs (key < alpha):\n",
      "  key = 1.0237, value = 0.5099\n",
      "  key = 1.0209, value = 0.5062\n",
      "  key = 1.0167, value = 0.5006\n",
      "  key = 1.0098, value = 0.4916\n",
      "  key = 1.0055, value = 0.4860\n",
      "\n",
      "Alpha 1.34 — Top 5 key-value pairs (key < alpha):\n",
      "  key = 1.0237, value = 0.5099\n",
      "  key = 1.0209, value = 0.5062\n",
      "  key = 1.0167, value = 0.5006\n",
      "  key = 1.0098, value = 0.4916\n",
      "  key = 1.0055, value = 0.4860\n",
      "\n",
      "Alpha 1.36 — Top 5 key-value pairs (key < alpha):\n",
      "  key = 1.0237, value = 0.5099\n",
      "  key = 1.0209, value = 0.5062\n",
      "  key = 1.0167, value = 0.5006\n",
      "  key = 1.0098, value = 0.4916\n",
      "  key = 1.0055, value = 0.4860\n",
      "\n",
      "Alpha 1.38 — Top 5 key-value pairs (key < alpha):\n",
      "  key = 1.0237, value = 0.5099\n",
      "  key = 1.0209, value = 0.5062\n",
      "  key = 1.0167, value = 0.5006\n",
      "  key = 1.0098, value = 0.4916\n",
      "  key = 1.0055, value = 0.4860\n",
      "\n",
      "Alpha 1.40 — Top 5 key-value pairs (key < alpha):\n",
      "  key = 1.0237, value = 0.5099\n",
      "  key = 1.0209, value = 0.5062\n",
      "  key = 1.0167, value = 0.5006\n",
      "  key = 1.0098, value = 0.4916\n",
      "  key = 1.0055, value = 0.4860\n",
      "\n",
      "Alpha 1.42 — Top 5 key-value pairs (key < alpha):\n",
      "  key = 1.0237, value = 0.5099\n",
      "  key = 1.0209, value = 0.5062\n",
      "  key = 1.0167, value = 0.5006\n",
      "  key = 1.0098, value = 0.4916\n",
      "  key = 1.0055, value = 0.4860\n",
      "\n",
      "Alpha 1.44 — Top 5 key-value pairs (key < alpha):\n",
      "  key = 1.0237, value = 0.5099\n",
      "  key = 1.0209, value = 0.5062\n",
      "  key = 1.0167, value = 0.5006\n",
      "  key = 1.0098, value = 0.4916\n",
      "  key = 1.0055, value = 0.4860\n",
      "\n",
      "Alpha 1.46 — Top 5 key-value pairs (key < alpha):\n",
      "  key = 1.0237, value = 0.5099\n",
      "  key = 1.0209, value = 0.5062\n",
      "  key = 1.0167, value = 0.5006\n",
      "  key = 1.0098, value = 0.4916\n",
      "  key = 1.0055, value = 0.4860\n",
      "\n",
      "Alpha 1.48 — Top 5 key-value pairs (key < alpha):\n",
      "  key = 1.0237, value = 0.5099\n",
      "  key = 1.0209, value = 0.5062\n",
      "  key = 1.0167, value = 0.5006\n",
      "  key = 1.0098, value = 0.4916\n",
      "  key = 1.0055, value = 0.4860\n",
      "\n",
      "Alpha 1.50 — Top 5 key-value pairs (key < alpha):\n",
      "  key = 1.0237, value = 0.5099\n",
      "  key = 1.0209, value = 0.5062\n",
      "  key = 1.0167, value = 0.5006\n",
      "  key = 1.0098, value = 0.4916\n",
      "  key = 1.0055, value = 0.4860\n",
      "\n",
      "Alpha 1.52 — Top 5 key-value pairs (key < alpha):\n",
      "  key = 1.0237, value = 0.5099\n",
      "  key = 1.0209, value = 0.5062\n",
      "  key = 1.0167, value = 0.5006\n",
      "  key = 1.0098, value = 0.4916\n",
      "  key = 1.0055, value = 0.4860\n",
      "\n",
      "Alpha 1.54 — Top 5 key-value pairs (key < alpha):\n",
      "  key = 1.0237, value = 0.5099\n",
      "  key = 1.0209, value = 0.5062\n",
      "  key = 1.0167, value = 0.5006\n",
      "  key = 1.0098, value = 0.4916\n",
      "  key = 1.0055, value = 0.4860\n",
      "\n",
      "Alpha 1.56 — Top 5 key-value pairs (key < alpha):\n",
      "  key = 1.0237, value = 0.5099\n",
      "  key = 1.0209, value = 0.5062\n",
      "  key = 1.0167, value = 0.5006\n",
      "  key = 1.0098, value = 0.4916\n",
      "  key = 1.0055, value = 0.4860\n",
      "\n",
      "Alpha 1.58 — Top 5 key-value pairs (key < alpha):\n",
      "  key = 1.0237, value = 0.5099\n",
      "  key = 1.0209, value = 0.5062\n",
      "  key = 1.0167, value = 0.5006\n",
      "  key = 1.0098, value = 0.4916\n",
      "  key = 1.0055, value = 0.4860\n",
      "\n",
      "Alpha 1.60 — Top 5 key-value pairs (key < alpha):\n",
      "  key = 1.0237, value = 0.5099\n",
      "  key = 1.0209, value = 0.5062\n",
      "  key = 1.0167, value = 0.5006\n",
      "  key = 1.0098, value = 0.4916\n",
      "  key = 1.0055, value = 0.4860\n",
      "\n",
      "Alpha 1.62 — Top 5 key-value pairs (key < alpha):\n",
      "  key = 1.0237, value = 0.5099\n",
      "  key = 1.0209, value = 0.5062\n",
      "  key = 1.0167, value = 0.5006\n",
      "  key = 1.0098, value = 0.4916\n",
      "  key = 1.0055, value = 0.4860\n",
      "\n",
      "Alpha 1.64 — Top 5 key-value pairs (key < alpha):\n",
      "  key = 1.0237, value = 0.5099\n",
      "  key = 1.0209, value = 0.5062\n",
      "  key = 1.0167, value = 0.5006\n",
      "  key = 1.0098, value = 0.4916\n",
      "  key = 1.0055, value = 0.4860\n",
      "\n",
      "Alpha 1.66 — Top 5 key-value pairs (key < alpha):\n",
      "  key = 1.0237, value = 0.5099\n",
      "  key = 1.0209, value = 0.5062\n",
      "  key = 1.0167, value = 0.5006\n",
      "  key = 1.0098, value = 0.4916\n",
      "  key = 1.0055, value = 0.4860\n",
      "\n",
      "Alpha 1.68 — Top 5 key-value pairs (key < alpha):\n",
      "  key = 1.0237, value = 0.5099\n",
      "  key = 1.0209, value = 0.5062\n",
      "  key = 1.0167, value = 0.5006\n",
      "  key = 1.0098, value = 0.4916\n",
      "  key = 1.0055, value = 0.4860\n",
      "\n",
      "Alpha 1.70 — Top 5 key-value pairs (key < alpha):\n",
      "  key = 1.0237, value = 0.5099\n",
      "  key = 1.0209, value = 0.5062\n",
      "  key = 1.0167, value = 0.5006\n",
      "  key = 1.0098, value = 0.4916\n",
      "  key = 1.0055, value = 0.4860\n",
      "\n",
      "Alpha 1.72 — Top 5 key-value pairs (key < alpha):\n",
      "  key = 1.0237, value = 0.5099\n",
      "  key = 1.0209, value = 0.5062\n",
      "  key = 1.0167, value = 0.5006\n",
      "  key = 1.0098, value = 0.4916\n",
      "  key = 1.0055, value = 0.4860\n",
      "\n",
      "Alpha 1.74 — Top 5 key-value pairs (key < alpha):\n",
      "  key = 1.0237, value = 0.5099\n",
      "  key = 1.0209, value = 0.5062\n",
      "  key = 1.0167, value = 0.5006\n",
      "  key = 1.0098, value = 0.4916\n",
      "  key = 1.0055, value = 0.4860\n",
      "\n",
      "Alpha 1.76 — Top 5 key-value pairs (key < alpha):\n",
      "  key = 1.0237, value = 0.5099\n",
      "  key = 1.0209, value = 0.5062\n",
      "  key = 1.0167, value = 0.5006\n",
      "  key = 1.0098, value = 0.4916\n",
      "  key = 1.0055, value = 0.4860\n",
      "\n",
      "Alpha 1.78 — Top 5 key-value pairs (key < alpha):\n",
      "  key = 1.0237, value = 0.5099\n",
      "  key = 1.0209, value = 0.5062\n",
      "  key = 1.0167, value = 0.5006\n",
      "  key = 1.0098, value = 0.4916\n",
      "  key = 1.0055, value = 0.4860\n",
      "\n",
      "Alpha 1.80 — Top 5 key-value pairs (key < alpha):\n",
      "  key = 1.0237, value = 0.5099\n",
      "  key = 1.0209, value = 0.5062\n",
      "  key = 1.0167, value = 0.5006\n",
      "  key = 1.0098, value = 0.4916\n",
      "  key = 1.0055, value = 0.4860\n",
      "\n",
      "Alpha 1.82 — Top 5 key-value pairs (key < alpha):\n",
      "  key = 1.0237, value = 0.5099\n",
      "  key = 1.0209, value = 0.5062\n",
      "  key = 1.0167, value = 0.5006\n",
      "  key = 1.0098, value = 0.4916\n",
      "  key = 1.0055, value = 0.4860\n",
      "\n",
      "Alpha 1.84 — Top 5 key-value pairs (key < alpha):\n",
      "  key = 1.0237, value = 0.5099\n",
      "  key = 1.0209, value = 0.5062\n",
      "  key = 1.0167, value = 0.5006\n",
      "  key = 1.0098, value = 0.4916\n",
      "  key = 1.0055, value = 0.4860\n",
      "\n",
      "Alpha 1.86 — Top 5 key-value pairs (key < alpha):\n",
      "  key = 1.0237, value = 0.5099\n",
      "  key = 1.0209, value = 0.5062\n",
      "  key = 1.0167, value = 0.5006\n",
      "  key = 1.0098, value = 0.4916\n",
      "  key = 1.0055, value = 0.4860\n",
      "\n",
      "Alpha 1.88 — Top 5 key-value pairs (key < alpha):\n",
      "  key = 1.0237, value = 0.5099\n",
      "  key = 1.0209, value = 0.5062\n",
      "  key = 1.0167, value = 0.5006\n",
      "  key = 1.0098, value = 0.4916\n",
      "  key = 1.0055, value = 0.4860\n",
      "\n",
      "Alpha 1.90 — Top 5 key-value pairs (key < alpha):\n",
      "  key = 1.0237, value = 0.5099\n",
      "  key = 1.0209, value = 0.5062\n",
      "  key = 1.0167, value = 0.5006\n",
      "  key = 1.0098, value = 0.4916\n",
      "  key = 1.0055, value = 0.4860\n",
      "\n",
      "Alpha 1.92 — Top 5 key-value pairs (key < alpha):\n",
      "  key = 1.0237, value = 0.5099\n",
      "  key = 1.0209, value = 0.5062\n",
      "  key = 1.0167, value = 0.5006\n",
      "  key = 1.0098, value = 0.4916\n",
      "  key = 1.0055, value = 0.4860\n",
      "\n",
      "Alpha 1.94 — Top 5 key-value pairs (key < alpha):\n",
      "  key = 1.0237, value = 0.5099\n",
      "  key = 1.0209, value = 0.5062\n",
      "  key = 1.0167, value = 0.5006\n",
      "  key = 1.0098, value = 0.4916\n",
      "  key = 1.0055, value = 0.4860\n",
      "\n",
      "Alpha 1.96 — Top 5 key-value pairs (key < alpha):\n",
      "  key = 1.0237, value = 0.5099\n",
      "  key = 1.0209, value = 0.5062\n",
      "  key = 1.0167, value = 0.5006\n",
      "  key = 1.0098, value = 0.4916\n",
      "  key = 1.0055, value = 0.4860\n",
      "\n",
      "Alpha 1.98 — Top 5 key-value pairs (key < alpha):\n",
      "  key = 1.0237, value = 0.5099\n",
      "  key = 1.0209, value = 0.5062\n",
      "  key = 1.0167, value = 0.5006\n",
      "  key = 1.0098, value = 0.4916\n",
      "  key = 1.0055, value = 0.4860\n",
      "\n",
      "Alpha 2.00 — Top 5 key-value pairs (key < alpha):\n",
      "  key = 1.0237, value = 0.5099\n",
      "  key = 1.0209, value = 0.5062\n",
      "  key = 1.0167, value = 0.5006\n",
      "  key = 1.0098, value = 0.4916\n",
      "  key = 1.0055, value = 0.4860\n"
     ]
    },
    {
     "data": {
      "application/vnd.plotly.v1+json": {
       "config": {
        "plotlyServerURL": "https://plot.ly"
       },
       "data": [
        {
         "mode": "markers",
         "name": "Utility",
         "type": "scatter",
         "x": {
          "bdata": "exSuR+F6hD8odNeXzNKePwrv60UUtKk//xH2H2H/sT96LPYcuCS3P/VG9hkPSrw/uDB7C7O3wD/2PfuJXkrDPzNLewgK3cU/cFj7hrVvyD+uZXsFYQLLP+ty+4MMlc0/FMA9AdwT0D+zxn3AMV3RP1LNvX+HptI/8NP9Pt3v0z+P2j3+MjnVPy7hfb2IgtY/zOe9fN7L1z9r7v07NBXZPwr1PfuJXto/qPt9ut+n2z9HAr55NfHcP+YI/jiLOt4/hA8++OCD3z8SC79bm2bgP2EOXztGC+E/sBH/GvGv4T8AFZ/6m1TiP08YP9pG+eI/nhvfufGd4z/uHn+ZnELkPz0iH3lH5+Q/jCW/WPKL5T/cKF84nTDmPyss/xdI1eY/ei+f9/J55z/KMj/XnR7oPxk237ZIw+g/aDl/lvNn6T+4PB92ngzqPwdAv1VJseo/VkNfNfRV6z+mRv8Un/rrP/VJn/RJn+w/RE0/1PRD7T+UUN+zn+jtP+NTf5NKje4/Mlcfc/Ux7z+CWr9SoNbvP+muL5mlPfA/kLD/CPuP8D84ss94UOLwP+Czn+ilNPE/h7VvWPuG8T8vtz/IUNnxP9e4DzimK/I/frrfp/t98j8mvK8XUdDyP869f4emIvM/db9P9/t08z8dwR9nUcfzP8XC79amGfQ/bMS/Rvxr9D8Uxo+2Ub70P7zHXyanEPU/Y8kvlvxi9T8Ly/8FUrX1P7PMz3WnB/Y/Ws6f5fxZ9j8C0G9VUqz2P6rRP8Wn/vY/UdMPNf1Q9z/51N+kUqP3P6HWrxSo9fc/SNh/hP1H+D/w2U/0Upr4P5jbH2So7Pg/P93v0/0++T/n3r9DU5H5P4/gj7Oo4/k/NuJfI/41+j/e4y+TU4j6P4bl/wKp2vo/LefPcv4s+z/V6J/iU3/7P33qb1Kp0fs/JOw/wv4j/D/M7Q8yVHb8P3Tv36GpyPw/G/GvEf8a/T/D8n+BVG39P2v0T/Gpv/0/EvYfYf8R/j+69+/QVGT+P2L5v0Cqtv4/CfuPsP8I/z+x/F8gVVv/P1n+L5Cqrf8/AAAAAAAAAEA=",
          "dtype": "f8"
         },
         "y": [
          null,
          null,
          null,
          null,
          null,
          null,
          null,
          null,
          null,
          null,
          null,
          null,
          null,
          null,
          null,
          null,
          null,
          null,
          null,
          null,
          null,
          0.27245149707179517,
          0.27245149707179517,
          0.27245149707179517,
          0.27245149707179517,
          0.27245149707179517,
          0.27245149707179517,
          0.27245149707179517,
          0.27245149707179517,
          0.3303408040675913,
          0.3303408040675913,
          0.3303408040675913,
          0.3303408040675913,
          0.3303408040675913,
          0.4103853883540969,
          0.41408152508657137,
          0.41408152508657137,
          0.41408152508657137,
          0.41408152508657137,
          0.41408152508657137,
          0.41408152508657137,
          0.41408152508657137,
          0.41408152508657137,
          0.4454776792853602,
          0.4454776792853602,
          0.4454776792853602,
          0.4454776792853602,
          0.4454776792853602,
          0.4454776792853602,
          0.46433303274983206,
          0.4915757858961258,
          0.5098525466589804,
          0.5098525466589804,
          0.5098525466589804,
          0.5098525466589804,
          0.5098525466589804,
          0.5098525466589804,
          0.5098525466589804,
          0.5098525466589804,
          0.5098525466589804,
          0.5098525466589804,
          0.5098525466589804,
          0.5098525466589804,
          0.5098525466589804,
          0.5098525466589804,
          0.5098525466589804,
          0.5098525466589804,
          0.5098525466589804,
          0.5098525466589804,
          0.5098525466589804,
          0.5098525466589804,
          0.5098525466589804,
          0.5098525466589804,
          0.5098525466589804,
          0.5098525466589804,
          0.5098525466589804,
          0.5098525466589804,
          0.5098525466589804,
          0.5098525466589804,
          0.5098525466589804,
          0.5098525466589804,
          0.5098525466589804,
          0.5098525466589804,
          0.5098525466589804,
          0.5098525466589804,
          0.5098525466589804,
          0.5098525466589804,
          0.5098525466589804,
          0.5098525466589804,
          0.5098525466589804,
          0.5098525466589804,
          0.5098525466589804,
          0.5098525466589804,
          0.5098525466589804,
          0.5098525466589804,
          0.5098525466589804,
          0.5098525466589804,
          0.5098525466589804,
          0.5098525466589804,
          0.5098525466589804
         ]
        },
        {
         "mode": "markers",
         "type": "scatter",
         "x": {
          "bdata": "exSuR+F6hD8odNeXzNKePwrv60UUtKk//xH2H2H/sT96LPYcuCS3P/VG9hkPSrw/uDB7C7O3wD/2PfuJXkrDPzNLewgK3cU/cFj7hrVvyD+uZXsFYQLLP+ty+4MMlc0/FMA9AdwT0D+zxn3AMV3RP1LNvX+HptI/8NP9Pt3v0z+P2j3+MjnVPy7hfb2IgtY/zOe9fN7L1z9r7v07NBXZPwr1PfuJXto/qPt9ut+n2z9HAr55NfHcP+YI/jiLOt4/hA8++OCD3z8SC79bm2bgP2EOXztGC+E/sBH/GvGv4T8AFZ/6m1TiP08YP9pG+eI/nhvfufGd4z/uHn+ZnELkPz0iH3lH5+Q/jCW/WPKL5T/cKF84nTDmPyss/xdI1eY/ei+f9/J55z/KMj/XnR7oPxk237ZIw+g/aDl/lvNn6T+4PB92ngzqPwdAv1VJseo/VkNfNfRV6z+mRv8Un/rrP/VJn/RJn+w/RE0/1PRD7T+UUN+zn+jtP+NTf5NKje4/Mlcfc/Ux7z+CWr9SoNbvP+muL5mlPfA/kLD/CPuP8D84ss94UOLwP+Czn+ilNPE/h7VvWPuG8T8vtz/IUNnxP9e4DzimK/I/frrfp/t98j8mvK8XUdDyP869f4emIvM/db9P9/t08z8dwR9nUcfzP8XC79amGfQ/bMS/Rvxr9D8Uxo+2Ub70P7zHXyanEPU/Y8kvlvxi9T8Ly/8FUrX1P7PMz3WnB/Y/Ws6f5fxZ9j8C0G9VUqz2P6rRP8Wn/vY/UdMPNf1Q9z/51N+kUqP3P6HWrxSo9fc/SNh/hP1H+D/w2U/0Upr4P5jbH2So7Pg/P93v0/0++T/n3r9DU5H5P4/gj7Oo4/k/NuJfI/41+j/e4y+TU4j6P4bl/wKp2vo/LefPcv4s+z/V6J/iU3/7P33qb1Kp0fs/JOw/wv4j/D/M7Q8yVHb8P3Tv36GpyPw/G/GvEf8a/T/D8n+BVG39P2v0T/Gpv/0/EvYfYf8R/j+69+/QVGT+P2L5v0Cqtv4/CfuPsP8I/z+x/F8gVVv/P1n+L5Cqrf8/AAAAAAAAAEA=",
          "dtype": "f8"
         },
         "y": [
          null,
          null,
          null,
          null,
          null,
          null,
          null,
          null,
          null,
          null,
          null,
          null,
          null,
          null,
          null,
          null,
          null,
          null,
          null,
          null,
          null,
          0.4178843223622688,
          0.4178843223622688,
          0.4178843223622688,
          0.4178843223622688,
          0.4178843223622688,
          0.4178843223622688,
          0.4178843223622688,
          0.4178843223622688,
          0.5751831216011675,
          0.5751831216011675,
          0.5751831216011675,
          0.5751831216011675,
          0.5751831216011675,
          0.6910210021325851,
          0.6938379910533478,
          0.6938379910533478,
          0.6938379910533478,
          0.6938379910533478,
          0.6938379910533478,
          0.6938379910533478,
          0.6938379910533478,
          0.6938379910533478,
          0.8731898596239783,
          0.8731898596239783,
          0.8731898596239783,
          0.8731898596239783,
          0.8731898596239783,
          0.8731898596239783,
          0.9888213540344325,
          1.0097649428470732,
          1.023745956131008,
          1.023745956131008,
          1.023745956131008,
          1.023745956131008,
          1.023745956131008,
          1.023745956131008,
          1.023745956131008,
          1.023745956131008,
          1.023745956131008,
          1.023745956131008,
          1.023745956131008,
          1.023745956131008,
          1.023745956131008,
          1.023745956131008,
          1.023745956131008,
          1.023745956131008,
          1.023745956131008,
          1.023745956131008,
          1.023745956131008,
          1.023745956131008,
          1.023745956131008,
          1.023745956131008,
          1.023745956131008,
          1.023745956131008,
          1.023745956131008,
          1.023745956131008,
          1.023745956131008,
          1.023745956131008,
          1.023745956131008,
          1.023745956131008,
          1.023745956131008,
          1.023745956131008,
          1.023745956131008,
          1.023745956131008,
          1.023745956131008,
          1.023745956131008,
          1.023745956131008,
          1.023745956131008,
          1.023745956131008,
          1.023745956131008,
          1.023745956131008,
          1.023745956131008,
          1.023745956131008,
          1.023745956131008,
          1.023745956131008,
          1.023745956131008,
          1.023745956131008,
          1.023745956131008,
          1.023745956131008
         ]
        }
       ],
       "layout": {
        "template": {
         "data": {
          "bar": [
           {
            "error_x": {
             "color": "#2a3f5f"
            },
            "error_y": {
             "color": "#2a3f5f"
            },
            "marker": {
             "line": {
              "color": "#E5ECF6",
              "width": 0.5
             },
             "pattern": {
              "fillmode": "overlay",
              "size": 10,
              "solidity": 0.2
             }
            },
            "type": "bar"
           }
          ],
          "barpolar": [
           {
            "marker": {
             "line": {
              "color": "#E5ECF6",
              "width": 0.5
             },
             "pattern": {
              "fillmode": "overlay",
              "size": 10,
              "solidity": 0.2
             }
            },
            "type": "barpolar"
           }
          ],
          "carpet": [
           {
            "aaxis": {
             "endlinecolor": "#2a3f5f",
             "gridcolor": "white",
             "linecolor": "white",
             "minorgridcolor": "white",
             "startlinecolor": "#2a3f5f"
            },
            "baxis": {
             "endlinecolor": "#2a3f5f",
             "gridcolor": "white",
             "linecolor": "white",
             "minorgridcolor": "white",
             "startlinecolor": "#2a3f5f"
            },
            "type": "carpet"
           }
          ],
          "choropleth": [
           {
            "colorbar": {
             "outlinewidth": 0,
             "ticks": ""
            },
            "type": "choropleth"
           }
          ],
          "contour": [
           {
            "colorbar": {
             "outlinewidth": 0,
             "ticks": ""
            },
            "colorscale": [
             [
              0,
              "#0d0887"
             ],
             [
              0.1111111111111111,
              "#46039f"
             ],
             [
              0.2222222222222222,
              "#7201a8"
             ],
             [
              0.3333333333333333,
              "#9c179e"
             ],
             [
              0.4444444444444444,
              "#bd3786"
             ],
             [
              0.5555555555555556,
              "#d8576b"
             ],
             [
              0.6666666666666666,
              "#ed7953"
             ],
             [
              0.7777777777777778,
              "#fb9f3a"
             ],
             [
              0.8888888888888888,
              "#fdca26"
             ],
             [
              1,
              "#f0f921"
             ]
            ],
            "type": "contour"
           }
          ],
          "contourcarpet": [
           {
            "colorbar": {
             "outlinewidth": 0,
             "ticks": ""
            },
            "type": "contourcarpet"
           }
          ],
          "heatmap": [
           {
            "colorbar": {
             "outlinewidth": 0,
             "ticks": ""
            },
            "colorscale": [
             [
              0,
              "#0d0887"
             ],
             [
              0.1111111111111111,
              "#46039f"
             ],
             [
              0.2222222222222222,
              "#7201a8"
             ],
             [
              0.3333333333333333,
              "#9c179e"
             ],
             [
              0.4444444444444444,
              "#bd3786"
             ],
             [
              0.5555555555555556,
              "#d8576b"
             ],
             [
              0.6666666666666666,
              "#ed7953"
             ],
             [
              0.7777777777777778,
              "#fb9f3a"
             ],
             [
              0.8888888888888888,
              "#fdca26"
             ],
             [
              1,
              "#f0f921"
             ]
            ],
            "type": "heatmap"
           }
          ],
          "histogram": [
           {
            "marker": {
             "pattern": {
              "fillmode": "overlay",
              "size": 10,
              "solidity": 0.2
             }
            },
            "type": "histogram"
           }
          ],
          "histogram2d": [
           {
            "colorbar": {
             "outlinewidth": 0,
             "ticks": ""
            },
            "colorscale": [
             [
              0,
              "#0d0887"
             ],
             [
              0.1111111111111111,
              "#46039f"
             ],
             [
              0.2222222222222222,
              "#7201a8"
             ],
             [
              0.3333333333333333,
              "#9c179e"
             ],
             [
              0.4444444444444444,
              "#bd3786"
             ],
             [
              0.5555555555555556,
              "#d8576b"
             ],
             [
              0.6666666666666666,
              "#ed7953"
             ],
             [
              0.7777777777777778,
              "#fb9f3a"
             ],
             [
              0.8888888888888888,
              "#fdca26"
             ],
             [
              1,
              "#f0f921"
             ]
            ],
            "type": "histogram2d"
           }
          ],
          "histogram2dcontour": [
           {
            "colorbar": {
             "outlinewidth": 0,
             "ticks": ""
            },
            "colorscale": [
             [
              0,
              "#0d0887"
             ],
             [
              0.1111111111111111,
              "#46039f"
             ],
             [
              0.2222222222222222,
              "#7201a8"
             ],
             [
              0.3333333333333333,
              "#9c179e"
             ],
             [
              0.4444444444444444,
              "#bd3786"
             ],
             [
              0.5555555555555556,
              "#d8576b"
             ],
             [
              0.6666666666666666,
              "#ed7953"
             ],
             [
              0.7777777777777778,
              "#fb9f3a"
             ],
             [
              0.8888888888888888,
              "#fdca26"
             ],
             [
              1,
              "#f0f921"
             ]
            ],
            "type": "histogram2dcontour"
           }
          ],
          "mesh3d": [
           {
            "colorbar": {
             "outlinewidth": 0,
             "ticks": ""
            },
            "type": "mesh3d"
           }
          ],
          "parcoords": [
           {
            "line": {
             "colorbar": {
              "outlinewidth": 0,
              "ticks": ""
             }
            },
            "type": "parcoords"
           }
          ],
          "pie": [
           {
            "automargin": true,
            "type": "pie"
           }
          ],
          "scatter": [
           {
            "fillpattern": {
             "fillmode": "overlay",
             "size": 10,
             "solidity": 0.2
            },
            "type": "scatter"
           }
          ],
          "scatter3d": [
           {
            "line": {
             "colorbar": {
              "outlinewidth": 0,
              "ticks": ""
             }
            },
            "marker": {
             "colorbar": {
              "outlinewidth": 0,
              "ticks": ""
             }
            },
            "type": "scatter3d"
           }
          ],
          "scattercarpet": [
           {
            "marker": {
             "colorbar": {
              "outlinewidth": 0,
              "ticks": ""
             }
            },
            "type": "scattercarpet"
           }
          ],
          "scattergeo": [
           {
            "marker": {
             "colorbar": {
              "outlinewidth": 0,
              "ticks": ""
             }
            },
            "type": "scattergeo"
           }
          ],
          "scattergl": [
           {
            "marker": {
             "colorbar": {
              "outlinewidth": 0,
              "ticks": ""
             }
            },
            "type": "scattergl"
           }
          ],
          "scattermap": [
           {
            "marker": {
             "colorbar": {
              "outlinewidth": 0,
              "ticks": ""
             }
            },
            "type": "scattermap"
           }
          ],
          "scattermapbox": [
           {
            "marker": {
             "colorbar": {
              "outlinewidth": 0,
              "ticks": ""
             }
            },
            "type": "scattermapbox"
           }
          ],
          "scatterpolar": [
           {
            "marker": {
             "colorbar": {
              "outlinewidth": 0,
              "ticks": ""
             }
            },
            "type": "scatterpolar"
           }
          ],
          "scatterpolargl": [
           {
            "marker": {
             "colorbar": {
              "outlinewidth": 0,
              "ticks": ""
             }
            },
            "type": "scatterpolargl"
           }
          ],
          "scatterternary": [
           {
            "marker": {
             "colorbar": {
              "outlinewidth": 0,
              "ticks": ""
             }
            },
            "type": "scatterternary"
           }
          ],
          "surface": [
           {
            "colorbar": {
             "outlinewidth": 0,
             "ticks": ""
            },
            "colorscale": [
             [
              0,
              "#0d0887"
             ],
             [
              0.1111111111111111,
              "#46039f"
             ],
             [
              0.2222222222222222,
              "#7201a8"
             ],
             [
              0.3333333333333333,
              "#9c179e"
             ],
             [
              0.4444444444444444,
              "#bd3786"
             ],
             [
              0.5555555555555556,
              "#d8576b"
             ],
             [
              0.6666666666666666,
              "#ed7953"
             ],
             [
              0.7777777777777778,
              "#fb9f3a"
             ],
             [
              0.8888888888888888,
              "#fdca26"
             ],
             [
              1,
              "#f0f921"
             ]
            ],
            "type": "surface"
           }
          ],
          "table": [
           {
            "cells": {
             "fill": {
              "color": "#EBF0F8"
             },
             "line": {
              "color": "white"
             }
            },
            "header": {
             "fill": {
              "color": "#C8D4E3"
             },
             "line": {
              "color": "white"
             }
            },
            "type": "table"
           }
          ]
         },
         "layout": {
          "annotationdefaults": {
           "arrowcolor": "#2a3f5f",
           "arrowhead": 0,
           "arrowwidth": 1
          },
          "autotypenumbers": "strict",
          "coloraxis": {
           "colorbar": {
            "outlinewidth": 0,
            "ticks": ""
           }
          },
          "colorscale": {
           "diverging": [
            [
             0,
             "#8e0152"
            ],
            [
             0.1,
             "#c51b7d"
            ],
            [
             0.2,
             "#de77ae"
            ],
            [
             0.3,
             "#f1b6da"
            ],
            [
             0.4,
             "#fde0ef"
            ],
            [
             0.5,
             "#f7f7f7"
            ],
            [
             0.6,
             "#e6f5d0"
            ],
            [
             0.7,
             "#b8e186"
            ],
            [
             0.8,
             "#7fbc41"
            ],
            [
             0.9,
             "#4d9221"
            ],
            [
             1,
             "#276419"
            ]
           ],
           "sequential": [
            [
             0,
             "#0d0887"
            ],
            [
             0.1111111111111111,
             "#46039f"
            ],
            [
             0.2222222222222222,
             "#7201a8"
            ],
            [
             0.3333333333333333,
             "#9c179e"
            ],
            [
             0.4444444444444444,
             "#bd3786"
            ],
            [
             0.5555555555555556,
             "#d8576b"
            ],
            [
             0.6666666666666666,
             "#ed7953"
            ],
            [
             0.7777777777777778,
             "#fb9f3a"
            ],
            [
             0.8888888888888888,
             "#fdca26"
            ],
            [
             1,
             "#f0f921"
            ]
           ],
           "sequentialminus": [
            [
             0,
             "#0d0887"
            ],
            [
             0.1111111111111111,
             "#46039f"
            ],
            [
             0.2222222222222222,
             "#7201a8"
            ],
            [
             0.3333333333333333,
             "#9c179e"
            ],
            [
             0.4444444444444444,
             "#bd3786"
            ],
            [
             0.5555555555555556,
             "#d8576b"
            ],
            [
             0.6666666666666666,
             "#ed7953"
            ],
            [
             0.7777777777777778,
             "#fb9f3a"
            ],
            [
             0.8888888888888888,
             "#fdca26"
            ],
            [
             1,
             "#f0f921"
            ]
           ]
          },
          "colorway": [
           "#636efa",
           "#EF553B",
           "#00cc96",
           "#ab63fa",
           "#FFA15A",
           "#19d3f3",
           "#FF6692",
           "#B6E880",
           "#FF97FF",
           "#FECB52"
          ],
          "font": {
           "color": "#2a3f5f"
          },
          "geo": {
           "bgcolor": "white",
           "lakecolor": "white",
           "landcolor": "#E5ECF6",
           "showlakes": true,
           "showland": true,
           "subunitcolor": "white"
          },
          "hoverlabel": {
           "align": "left"
          },
          "hovermode": "closest",
          "mapbox": {
           "style": "light"
          },
          "paper_bgcolor": "white",
          "plot_bgcolor": "#E5ECF6",
          "polar": {
           "angularaxis": {
            "gridcolor": "white",
            "linecolor": "white",
            "ticks": ""
           },
           "bgcolor": "#E5ECF6",
           "radialaxis": {
            "gridcolor": "white",
            "linecolor": "white",
            "ticks": ""
           }
          },
          "scene": {
           "xaxis": {
            "backgroundcolor": "#E5ECF6",
            "gridcolor": "white",
            "gridwidth": 2,
            "linecolor": "white",
            "showbackground": true,
            "ticks": "",
            "zerolinecolor": "white"
           },
           "yaxis": {
            "backgroundcolor": "#E5ECF6",
            "gridcolor": "white",
            "gridwidth": 2,
            "linecolor": "white",
            "showbackground": true,
            "ticks": "",
            "zerolinecolor": "white"
           },
           "zaxis": {
            "backgroundcolor": "#E5ECF6",
            "gridcolor": "white",
            "gridwidth": 2,
            "linecolor": "white",
            "showbackground": true,
            "ticks": "",
            "zerolinecolor": "white"
           }
          },
          "shapedefaults": {
           "line": {
            "color": "#2a3f5f"
           }
          },
          "ternary": {
           "aaxis": {
            "gridcolor": "white",
            "linecolor": "white",
            "ticks": ""
           },
           "baxis": {
            "gridcolor": "white",
            "linecolor": "white",
            "ticks": ""
           },
           "bgcolor": "#E5ECF6",
           "caxis": {
            "gridcolor": "white",
            "linecolor": "white",
            "ticks": ""
           }
          },
          "title": {
           "x": 0.05
          },
          "xaxis": {
           "automargin": true,
           "gridcolor": "white",
           "linecolor": "white",
           "ticks": "",
           "title": {
            "standoff": 15
           },
           "zerolinecolor": "white",
           "zerolinewidth": 2
          },
          "yaxis": {
           "automargin": true,
           "gridcolor": "white",
           "linecolor": "white",
           "ticks": "",
           "title": {
            "standoff": 15
           },
           "zerolinecolor": "white",
           "zerolinewidth": 2
          }
         }
        },
        "title": {
         "text": "Alpha vs Utility (Dual Step, n^4 Complexity"
        },
        "xaxis": {
         "title": {
          "text": "Alpha"
         }
        },
        "yaxis": {
         "title": {
          "text": "Utility"
         }
        }
       }
      }
     },
     "metadata": {},
     "output_type": "display_data"
    }
   ],
   "source": [
    "alphas1, utils1, _ = double_step(a, b, u_plus, u_minus, c_plus, c_minus, alphas, w_a, w_b)"
   ]
  },
  {
   "cell_type": "code",
   "execution_count": null,
   "id": "4007c2a6",
   "metadata": {},
   "outputs": [],
   "source": [
    "print(np.allclose(utils1, utils2, equal_nan=True))\n",
    "print([(i, j) for i, j in zip(utils1, utils2) if not np.isclose(i, j, equal_nan=True)])\n",
    "print(utils1)\n",
    "print('\\n')\n",
    "print(utils2)"
   ]
  },
  {
   "cell_type": "code",
   "execution_count": 13,
   "id": "f343768d",
   "metadata": {},
   "outputs": [
    {
     "name": "stdout",
     "output_type": "stream",
     "text": [
      "[(0, 0), (0, 1), (0, 2), (0, 3), (0, 4), (1, 0), (1, 1), (1, 2), (1, 3), (1, 4), (2, 0), (2, 1), (2, 2), (2, 3), (2, 4), (3, 0), (3, 1), (3, 2), (3, 3), (3, 4), (4, 0), (4, 1), (4, 2), (4, 3), (4, 4)]\n"
     ]
    }
   ],
   "source": [
    "SAMPLE_SIZE = 5\n",
    "\n",
    "from itertools import combinations, product\n",
    "ACTIONS = list(range(SAMPLE_SIZE))\n",
    "ACTIONS = list(product(ACTIONS, repeat=2))\n",
    "print(ACTIONS)"
   ]
  }
 ],
 "metadata": {
  "kernelspec": {
   "display_name": "Python 3",
   "language": "python",
   "name": "python3"
  },
  "language_info": {
   "codemirror_mode": {
    "name": "ipython",
    "version": 3
   },
   "file_extension": ".py",
   "mimetype": "text/x-python",
   "name": "python",
   "nbconvert_exporter": "python",
   "pygments_lexer": "ipython3",
   "version": "3.11.0"
  }
 },
 "nbformat": 4,
 "nbformat_minor": 5
}
