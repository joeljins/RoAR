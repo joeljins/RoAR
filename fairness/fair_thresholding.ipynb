{
 "cells": [
  {
   "cell_type": "code",
   "execution_count": 1,
   "id": "056cecf0",
   "metadata": {},
   "outputs": [],
   "source": [
    "# Import necessary modules/libraries\n",
    "from tqdm import tqdm\n",
    "import numpy as np\n",
    "import pandas as pd\n",
    "import matplotlib.pyplot as plt\n",
    "import plotly.graph_objects as go\n",
    "\n",
    "# Import custom utility functions\n",
    "from utils import p, expected, sampl_fair_opt_step, opt_step, fair_opt_step"
   ]
  },
  {
   "cell_type": "code",
   "execution_count": 6,
   "id": "d7bd9193",
   "metadata": {},
   "outputs": [],
   "source": [
    "# Set experiment parameters\n",
    "np.random.seed(1)\n",
    "\n",
    "# Distribution parameters\n",
    "mean_a, std_a = 0.5, 1\n",
    "mean_b, std_b = 0.0, 1\n",
    "\n",
    "# Domain of alpha values to test\n",
    "alpha_min, alpha_max = 0.01, 0.7\n",
    "alphas = np.linspace(alpha_min, alpha_max, num=100)\n",
    "\n",
    "# Sample size of each distribution\n",
    "n = 10\n",
    "\n",
    "# Generate samples from normal distributions\n",
    "a = np.random.normal(mean_a, std_a, n)\n",
    "b = np.random.normal(mean_b, std_b, n)\n",
    "a.sort(), b.sort()\n",
    "w_a = len(a) / (len(a) + len(b))\n",
    "w_b = 1 - w_a\n",
    "\n",
    "#Step Parameters\n",
    "\n",
    "# U+ / U- > C+ / C-\n",
    "u_plus = 1\n",
    "u_minus = -1.1\n",
    "c_plus = 1\n",
    "c_minus = -1\n",
    "# -0.4056\n",
    "# -0.40551"
   ]
  },
  {
   "cell_type": "code",
   "execution_count": null,
   "id": "ff11b688",
   "metadata": {},
   "outputs": [],
   "source": [
    "# Assumptions\n",
    "'''\n",
    "print(f' Assumption 1: {p.__doc__} ')\n",
    "print(f' Assumption 2: \\n U+ / U- > C+ / C- is {(u_plus / u_minus) > (c_plus / c_minus)}' )\n",
    "'''"
   ]
  },
  {
   "cell_type": "code",
   "execution_count": null,
   "id": "e6c1aebf",
   "metadata": {},
   "outputs": [],
   "source": [
    "# Single step optimization\n",
    "\n",
    "x_alphas = []\n",
    "y_mean_A, y_mean_B = [], []\n",
    "y_thresh_A, y_thresh_B = [], []\n",
    "y_util = []\n",
    "y_pof = [] # Price of fairness\n",
    "\n",
    "\n",
    "y_opt_util = []\n",
    "\n",
    "B_temp = None\n",
    "\n",
    "opt_util_A, opt_util_B = opt_step(a, u_plus, u_minus, c_plus, c_minus)[0], opt_step(b, u_plus, u_minus, c_plus, c_minus)[0]\n",
    "opt_util_A, opt_util_B  = expected(opt_util_A, 1, -1.1), expected(opt_util_B, 1, -1.1)\n",
    "opt_util_A, opt_util_B = np.sum(opt_util_A), np.sum(opt_util_B)\n",
    "y_opt = w_a * opt_util_A + w_b * opt_util_B\n",
    "\n",
    "for alpha in tqdm(alphas):\n",
    "    results1 = sampl_fair_opt_step(a, b, u_plus, u_minus, c_plus, c_minus, alpha)\n",
    "    results = fair_opt_step(a, b, u_plus, u_minus, c_plus, c_minus, alpha)\n",
    "    if results != results1:\n",
    "        print('error')\n",
    "    thresh_A, thresh_B, max_util, (A, B) = results\n",
    "    if np.abs(A - B) > alpha:\n",
    "        continue\n",
    "    else:\n",
    "        x_alphas.append(alpha)\n",
    "        y_mean_A.append(A)\n",
    "        y_mean_B.append(B)\n",
    "        y_thresh_A.append(thresh_A)\n",
    "        y_thresh_B.append(thresh_B)\n",
    "        y_util.append(max_util)\n",
    "        pof = 1 - (max_util/y_opt)\n",
    "        y_pof.append(pof)"
   ]
  },
  {
   "cell_type": "code",
   "execution_count": null,
   "id": "405ad8ae",
   "metadata": {},
   "outputs": [],
   "source": [
    "def plot_graphs():\n",
    "    \n",
    "    # Traces\n",
    "    thresholds_A = go.Scatter(x=x_alphas, y=y_thresh_A, mode='markers', name=\"Fair Threshold (A)\")\n",
    "    thresholds_B = go.Scatter(x=x_alphas, y=y_thresh_B, mode='markers', name=\"Fair Threshold (B)\") \n",
    "    utilities = go.Scatter(x=x_alphas, y=y_util, mode='markers', name='Utility', yaxis='y2')\n",
    "\n",
    "    # Create figure\n",
    "    fig = go.Figure(data=[thresholds_A, thresholds_B, utilities])\n",
    "\n",
    "    # Add toggle buttons\n",
    "    fig.update_layout(\n",
    "        height = 600,\n",
    "        title='Single Step Thresholding Policy',\n",
    "        xaxis=dict(title=\"Alpha\"),\n",
    "        yaxis=dict(title=\"Threshold\"),\n",
    "        yaxis2=dict(\n",
    "            title=\"Utility\",\n",
    "            overlaying=\"y\",\n",
    "            side=\"right\"\n",
    "        ),\n",
    "        legend=dict(\n",
    "            x=0,          # Right edge of the plotting area\n",
    "            #y=1,          # Top of the plotting area\n",
    "            xanchor='right',   # Legend's left edge aligns at x=1\n",
    "            yanchor='top'     # Legend's top edge aligns at y=1\n",
    "        ),\n",
    "        showlegend=True,\n",
    "    )\n",
    "\n",
    "    fig.show()\n",
    "plot_graphs()"
   ]
  },
  {
   "cell_type": "code",
   "execution_count": null,
   "id": "ef082a83",
   "metadata": {},
   "outputs": [],
   "source": [
    "# Experiment 0: Check if vectorized algorithm is the same as the original\n",
    "from experiment_0 import experiment_0\n",
    "print( (x_alphas, y_thresh_A, y_thresh_B) == experiment_0(a, b, u_plus, u_minus, c_plus, c_minus, w_a, w_b, alphas, a, b) )"
   ]
  },
  {
   "cell_type": "code",
   "execution_count": null,
   "id": "b5eded16",
   "metadata": {},
   "outputs": [],
   "source": [
    "# Experiment 2\n",
    "from experiment_2 import experiment_2\n",
    "test_alpha = 0.52\n",
    "ex2a, ex2b = experiment_2(a, b, u_plus, u_minus, c_plus, c_minus, test_alpha, w_a, w_b, thresh_B, a, alphas)\n",
    "ex2a.update_layout(\n",
    "    xaxis_title ='Threshold A (using samples)'\n",
    ")\n",
    "ex2a.show()\n",
    "#ex2b.show()\n",
    "\n",
    "trace1 = ex2a.data[1]\n",
    "trace2 = ex2a.data[2]\n",
    "mean_diffs = dict(zip(trace1.x, trace1.y))\n",
    "utilities = dict(zip(trace2.x, trace2.y))\n",
    "\n",
    "y_thresh_A = np.array(y_thresh_A)\n",
    "y_thresh_B = np.array(y_thresh_B)\n",
    "x_alphas = np.array(x_alphas)\n",
    "indices = np.where(y_thresh_A < y_thresh_B)[0]\n",
    "test_alphas  = x_alphas[indices]\n",
    "print(test_alphas)\n",
    "#test_alphas = np.arange(0.54, 0.63, 0.01)\n",
    "results = []\n",
    "\n",
    "for test_alpha in test_alphas:\n",
    "    # Filter mean_diffs under current threshold\n",
    "    filtered = {k: v for k, v in mean_diffs.items() if v < test_alpha}\n",
    "\n",
    "    # Find before and after keys\n",
    "    before_keys = [k for k in filtered if k < 0]\n",
    "    after_keys = [k for k in filtered if k > 0]\n",
    "\n",
    "    before = max(before_keys) if before_keys else None\n",
    "    after = min(after_keys) if after_keys else None\n",
    "\n",
    "    if before is not None and after is not None:\n",
    "        # Prepare data\n",
    "        utility_before = utilities[before]\n",
    "        utility_after = utilities[after]\n",
    "        utility_diff = np.abs(utility_after - utility_before)\n",
    "\n",
    "        # Build vertical block\n",
    "        block = pd.DataFrame([\n",
    "            {\n",
    "                'Test Alpha': round(test_alpha, 3),\n",
    "                'Side': 'Negative',\n",
    "                'Threshold': before,\n",
    "                'Mean Difference': mean_diffs[before],\n",
    "                'Utility': utility_before\n",
    "            },\n",
    "            {\n",
    "                'Test Alpha': round(test_alpha, 3),\n",
    "                'Side': 'Positive',\n",
    "                'Threshold': after,\n",
    "                'Mean Difference': mean_diffs[after],\n",
    "                'Utility': utility_after\n",
    "            },\n",
    "            {\n",
    "                'Test Alpha': round(test_alpha, 3),\n",
    "                'Side': 'Δ Utility',\n",
    "                'Threshold': '',\n",
    "                'Mean Difference': '',\n",
    "                'Utility': utility_diff\n",
    "            }\n",
    "        ])\n",
    "\n",
    "        print(block.to_string(index=False))\n",
    "        print(\"--------\")\n"
   ]
  },
  {
   "cell_type": "code",
   "execution_count": null,
   "id": "d8834f6d",
   "metadata": {},
   "outputs": [],
   "source": [
    "import numpy as np\n",
    "import matplotlib.pyplot as plt\n",
    "\n",
    "def test(a, b, u_plus, u_minus, c_plus, c_minus, w_a, w_b):\n",
    "    a = np.asarray(a)\n",
    "    b = np.asarray(b)\n",
    "\n",
    "    delta_A = expected(a, c_plus, c_minus)\n",
    "    delta_B = expected(b, c_plus, c_minus)\n",
    "\n",
    "    N = a.shape[0]\n",
    "    A_matrix = np.repeat(a, N).reshape((N, N))\n",
    "    B_matrix = np.repeat(b, N).reshape((N, N))\n",
    "    delta_A_matrix = np.repeat(delta_A, N).reshape((N, N))\n",
    "    delta_B_matrix = np.repeat(delta_B, N).reshape((N, N))\n",
    "\n",
    "    A_matrix = np.where(A_matrix > A_matrix.T, A_matrix + delta_A_matrix, A_matrix)\n",
    "    B_matrix = np.where(B_matrix > B_matrix.T, B_matrix + delta_B_matrix, B_matrix)\n",
    "\n",
    "    columns = [(A_matrix[:, [i]], B_matrix[:, [i]]) for i in range(N)]\n",
    "    final = []\n",
    "    mean_diffs = []\n",
    "    utilities = []\n",
    "\n",
    "    for col_A_vec, col_B_vec in tqdm(columns):\n",
    "        n = col_A_vec.shape[0]\n",
    "\n",
    "        col_A_vec, col_B_vec = col_A_vec.T, col_B_vec.T\n",
    "\n",
    "        delta_col_A = expected(col_A_vec, c_plus, c_minus)\n",
    "        delta_col_B = expected(col_B_vec, c_plus, c_minus)\n",
    "\n",
    "        col_A_matrix = np.repeat(col_A_vec, n).reshape((n, n))\n",
    "        col_B_matrix = np.repeat(col_B_vec, n).reshape((n, n))\n",
    "\n",
    "        delta_col_A_matrix = np.repeat(delta_col_A, n).reshape((n, n))\n",
    "        delta_col_B_matrix = np.repeat(delta_col_B, n).reshape((n, n))\n",
    "\n",
    "        col_A_matrix = np.where(col_A_matrix > col_A_matrix.T, col_A_matrix + delta_col_A_matrix, col_A_matrix)\n",
    "        col_B_matrix = np.where(col_B_matrix > col_B_matrix.T, col_B_matrix + delta_col_B_matrix, col_B_matrix)\n",
    "\n",
    "        final.append((col_A_matrix, col_B_matrix))\n",
    "\n",
    "        # Compute utility from one matrix (e.g., col_A_matrix)\n",
    "        util = w_a * expected(col_A_vec, u_plus, u_minus) + w_b * expected(col_B_vec, u_plus, u_minus)\n",
    "        util = np.sum(util)\n",
    "        utilities.append(util)\n",
    "\n",
    "        # Compute mean absolute difference between vectors\n",
    "        diff = np.mean(np.abs(col_A_vec - col_B_vec))\n",
    "        mean_diffs.append(diff)\n",
    "\n",
    "    # === Plot ===\n",
    "    # === Plot Heatmap ===\n",
    "    import matplotlib.pyplot as plt\n",
    "\n",
    "    heatmap_data = utilities\n",
    "    print(heatmap_data.shape)\n",
    "\n",
    "    plt.figure(figsize=(7, 6))\n",
    "    im = plt.imshow(heatmap_data, cmap='viridis', origin='lower', aspect='auto')\n",
    "    plt.colorbar(im, label='Utility')\n",
    "    plt.title(\"Utility Heatmap\")\n",
    "    plt.xlabel(\"Column Index\")\n",
    "    plt.ylabel(\"Row Index\")\n",
    "    plt.tight_layout()\n",
    "    plt.show()\n",
    "\n",
    "    return final\n",
    "test(a, b, u_plus, u_minus, c_plus, c_minus, w_a, w_b)\n"
   ]
  },
  {
   "cell_type": "code",
   "execution_count": 38,
   "id": "7246ac21",
   "metadata": {},
   "outputs": [],
   "source": [
    "# Vectorized double step\n",
    "from utils import change\n",
    "\n",
    "def vectorize_double_step(a, b, u_plus, u_minus, c_plus, c_minus, alphas, w_a, w_b):\n",
    "    \n",
    "    a = np.asarray(a)\n",
    "    b = np.asarray(b)\n",
    "\n",
    "    _, _, _, _,  A_matrix, B_matrix = change(a, b, c_plus, c_minus, u_plus, u_minus)\n",
    "    A_matrix = A_matrix.T\n",
    "    B_matrix = B_matrix.T\n",
    "\n",
    "    mat_utils = []\n",
    "    mat_diffs = []\n",
    "    util = []\n",
    "\n",
    "    # Iterate through each row of A_matrix and B_matrix\n",
    "    for row_a, row_b in tqdm(zip(A_matrix, B_matrix)):\n",
    "        mean_A, mean_B, util_A, util_B, _, _ = change(row_a, row_b, c_plus, c_minus, u_plus, u_minus)\n",
    "        \n",
    "        fairness_diff = np.abs(mean_A - mean_B)\n",
    "        total_util = w_a * util_A + w_b * util_B.T\n",
    "\n",
    "\n",
    "        mat_utils.append(total_util)\n",
    "        mat_diffs.append(fairness_diff)\n",
    "    \n",
    "    utility = np.stack(mat_utils, axis=0) \n",
    "    mean_diff = np.stack(mat_diffs, axis=0)\n",
    "\n",
    "    for alpha in alphas:\n",
    "\n",
    "        temp = np.where(mean_diff <= alpha, utility, -np.inf)\n",
    "        max_util = np.max(temp)\n",
    "        '''\n",
    "        # Build a list of masked total utilities satisfying the fairness constraint\n",
    "        masked_utilities = []\n",
    "        for total_util, fairness_diff in post_two_steps:\n",
    "            # Apply fairness constraint: mask out unfair values\n",
    "            masked = np.where(fairness_diff <= alpha, total_util, -np.inf)\n",
    "            masked_utilities.append(masked)\n",
    "\n",
    "        # Convert to 3D array: shape = (num_pairs, n, m)\n",
    "        stacked_utils = np.array(masked_utilities)\n",
    "\n",
    "        # Compute max across all utilities that met fairness constraint\n",
    "        max_util = np.max(stacked_utils)\n",
    "\n",
    "        # If all values are -inf (i.e. no valid entries), replace with np.nan\n",
    "        if not np.isfinite(max_util):\n",
    "            max_util = -np.inf\n",
    "        '''\n",
    "        util.append(max_util)\n",
    "\n",
    "    plot1 = go.Scatter(x=alphas, y=util, mode='markers')\n",
    "    fig = go.Figure(plot1)\n",
    "    fig.update_layout(\n",
    "        title='Alphas vs Utility (Dual Step, n^2 complexity)',\n",
    "        xaxis_title='Alpha',\n",
    "        yaxis_title='Utility'\n",
    "        )\n",
    "    fig.show()\n",
    "    return np.array(alphas), np.array(util)"
   ]
  },
  {
   "cell_type": "code",
   "execution_count": 39,
   "id": "3d572b32",
   "metadata": {},
   "outputs": [],
   "source": [
    "# Brute force double step\n",
    "def double_step(a, b, u_plus, u_minus, c_plus, c_minus, alphas, w_a, w_b):\n",
    "    \n",
    "    delta_A1 = expected(a, c_plus, c_minus)\n",
    "    delta_B1 = expected(b, c_plus, c_minus)\n",
    "\n",
    "    utilities = []\n",
    "    mean_diffs = []\n",
    "    thresholds = []\n",
    "\n",
    "    for alpha in tqdm(alphas):\n",
    "        max_util = -np.inf\n",
    "        fair = -np.inf \n",
    "        for i in a:\n",
    "            for j in b:   \n",
    "                # Apply the first step\n",
    "                A = np.where(a > i, a + delta_A1, a)\n",
    "                B = np.where(b > j, b + delta_B1, b)\n",
    "                \n",
    "                # Start the second step\n",
    "                delta_A2 = expected(A, c_plus, c_minus)\n",
    "                delta_B2 = expected(B, c_plus, c_minus)\n",
    "                \n",
    "                for k in A:\n",
    "                    for l in B:\n",
    "                        A2 = np.where(A > k, A + delta_A2, A)\n",
    "                        B2 = np.where(B > l, B + delta_B2, B)\n",
    "                        \n",
    "                        util = w_a * np.sum(expected(A2, u_plus, u_minus)) + w_b * np.sum(expected(B2, u_plus, u_minus))\n",
    "                        diff = np.abs(np.mean(A2)- np.mean(B2))\n",
    "                        \n",
    "                        if util > max_util and diff <= alpha:\n",
    "                            max_util = util\n",
    "                            fair = diff\n",
    "                        \n",
    "        utilities.append(max_util)\n",
    "        mean_diffs.append(fair)\n",
    "        thresholds.append((i, j, k, l))\n",
    "    utility = go.Scatter(x=alphas, y=utilities, mode='markers', name='Utility')\n",
    "    mean_diff = go.Scatter(x=alphas, y=mean_diffs, mode='markers')\n",
    "    fig = go.Figure(data=[utility, mean_diff])\n",
    "    fig.update_layout(\n",
    "        title='Alpha vs Utility (Dual Step, n^4 Complexity',\n",
    "        xaxis_title='Alpha',\n",
    "        yaxis_title='Utility'\n",
    "            )\n",
    "    fig.show()\n",
    "\n",
    "    return np.array(alphas), np.array(utilities), np.array(mean_diffs)\n",
    "#double_step(a, b, u_plus, u_minus, c_plus, c_minus, alphas, w_a, w_b)\n",
    "\n"
   ]
  },
  {
   "cell_type": "code",
   "execution_count": 41,
   "id": "370b70e7",
   "metadata": {},
   "outputs": [
    {
     "name": "stderr",
     "output_type": "stream",
     "text": [
      "10it [00:00, 5806.87it/s]\n"
     ]
    },
    {
     "data": {
      "application/vnd.plotly.v1+json": {
       "config": {
        "plotlyServerURL": "https://plot.ly"
       },
       "data": [
        {
         "mode": "markers",
         "type": "scatter",
         "x": {
          "bdata": "exSuR+F6hD9gEQgWgWCRP4QYOYiRg5g/ph9q+qGmnz9lk0022WSjP/cWZm9h9qY/iJp+qOmHqj8ZHpfhcRmuP9XQVw191bA/nhLkKUGesj9nVHBGBWe0Py+W/GLJL7Y/+NeIf434tz/BGRWcUcG5P4lbobgVirs/Up0t1dlSvT8b37nxnRu/P3IQIwcxcsA/VzFpFZNWwT87Uq8j9TrCPyBz9TFXH8M/BJQ7QLkDxD/otIFOG+jEP83Vx1x9zMU/sfYNa9+wxj+VF1R5QZXHP3o4moejecg/XlnglQVeyT9CeiakZ0LKPyebbLLJJss/C7yywCsLzD/w3PjOje/MP9T9Pt3v080/uB6F61G4zj+dP8v5s5zPP0CwCASLQNA/s8ArC7yy0D8l0U4S7STRP5fhcRkel9E/CfKUIE8J0j98ArgngHvSP+4S2y6x7dI/YCP+NeJf0z/SMyE9E9LTP0RERERERNQ/tlRnS3W21D8pZYpSpijVP5t1rVnXmtU/DYbQYAgN1j9/lvNnOX/WP/GmFm9q8dY/ZLc5dptj1z/Wx1x9zNXXP0jYf4T9R9g/uuiiiy662D8s+cWSXyzZP54J6ZmQntk/ERoMocEQ2j+DKi+o8oLaP/U6Uq8j9do/Z0t1tlRn2z/ZW5i9hdnbP0xsu8S2S9w/vnzey+e93D8wjQHTGDDdP6KdJNpJot0/FK5H4XoU3j+Hvmroq4beP/nOje/c+N4/a9+w9g1r3z/d79P9Pt3fPyeAewK4J+A/YQgNhtBg4D+akJ4J6ZngP9MYMI0B0+A/DKHBEBoM4T9FKVOUMkXhP36x5BdLfuE/tzl2m2O34T/wwQcffPDhPypKmaKUKeI/Y9IqJq1i4j+cWrypxZviP9XiTS3e1OI/DmvfsPYN4z9H83A0D0fjP4B7ArgngOM/uQOUO0C54z/yiyW/WPLjPysUt0JxK+Q/ZJxIxolk5D+eJNpJop3kP9esa8261uQ/EDX9UNMP5T9JvY7U60jlP4JFIFgEguU/u82x2xy75T/0VUNfNfTlPy3e1OJNLeY/ZmZmZmZm5j8=",
          "dtype": "f8"
         },
         "y": [
          null,
          null,
          null,
          null,
          null,
          null,
          null,
          null,
          null,
          null,
          null,
          null,
          null,
          null,
          null,
          null,
          null,
          null,
          null,
          null,
          null,
          null,
          null,
          null,
          null,
          null,
          null,
          null,
          null,
          null,
          null,
          null,
          null,
          null,
          null,
          null,
          null,
          null,
          null,
          null,
          null,
          null,
          null,
          null,
          null,
          null,
          null,
          null,
          null,
          null,
          null,
          null,
          null,
          null,
          null,
          null,
          null,
          null,
          null,
          null,
          null,
          0.28380537802380046,
          0.28380537802380046,
          0.4176757924208163,
          0.4176757924208163,
          0.5827835544176836,
          0.5827835544176836,
          0.5827835544176836,
          0.5827835544176836,
          0.5827835544176836,
          0.6706194817270477,
          0.6706194817270477,
          0.6706194817270477,
          0.6802334651188187,
          0.6802334651188187,
          0.6802334651188187,
          0.6802334651188187,
          0.6802334651188187,
          0.6802334651188187,
          0.6802334651188187,
          0.6802334651188187,
          0.6802334651188187,
          0.6802334651188187,
          0.6983692837066008,
          0.6983692837066008,
          0.6983692837066008,
          0.7079832670983718,
          0.7079832670983718,
          0.7079832670983718,
          0.7079832670983718,
          0.7079832670983718,
          0.7079832670983718,
          0.7079832670983718,
          0.7079832670983718,
          0.7079832670983718,
          0.7079832670983718,
          0.7297654379053896,
          0.7297654379053896,
          0.7297654379053896,
          0.7393794212971606
         ]
        }
       ],
       "layout": {
        "template": {
         "data": {
          "bar": [
           {
            "error_x": {
             "color": "#2a3f5f"
            },
            "error_y": {
             "color": "#2a3f5f"
            },
            "marker": {
             "line": {
              "color": "#E5ECF6",
              "width": 0.5
             },
             "pattern": {
              "fillmode": "overlay",
              "size": 10,
              "solidity": 0.2
             }
            },
            "type": "bar"
           }
          ],
          "barpolar": [
           {
            "marker": {
             "line": {
              "color": "#E5ECF6",
              "width": 0.5
             },
             "pattern": {
              "fillmode": "overlay",
              "size": 10,
              "solidity": 0.2
             }
            },
            "type": "barpolar"
           }
          ],
          "carpet": [
           {
            "aaxis": {
             "endlinecolor": "#2a3f5f",
             "gridcolor": "white",
             "linecolor": "white",
             "minorgridcolor": "white",
             "startlinecolor": "#2a3f5f"
            },
            "baxis": {
             "endlinecolor": "#2a3f5f",
             "gridcolor": "white",
             "linecolor": "white",
             "minorgridcolor": "white",
             "startlinecolor": "#2a3f5f"
            },
            "type": "carpet"
           }
          ],
          "choropleth": [
           {
            "colorbar": {
             "outlinewidth": 0,
             "ticks": ""
            },
            "type": "choropleth"
           }
          ],
          "contour": [
           {
            "colorbar": {
             "outlinewidth": 0,
             "ticks": ""
            },
            "colorscale": [
             [
              0,
              "#0d0887"
             ],
             [
              0.1111111111111111,
              "#46039f"
             ],
             [
              0.2222222222222222,
              "#7201a8"
             ],
             [
              0.3333333333333333,
              "#9c179e"
             ],
             [
              0.4444444444444444,
              "#bd3786"
             ],
             [
              0.5555555555555556,
              "#d8576b"
             ],
             [
              0.6666666666666666,
              "#ed7953"
             ],
             [
              0.7777777777777778,
              "#fb9f3a"
             ],
             [
              0.8888888888888888,
              "#fdca26"
             ],
             [
              1,
              "#f0f921"
             ]
            ],
            "type": "contour"
           }
          ],
          "contourcarpet": [
           {
            "colorbar": {
             "outlinewidth": 0,
             "ticks": ""
            },
            "type": "contourcarpet"
           }
          ],
          "heatmap": [
           {
            "colorbar": {
             "outlinewidth": 0,
             "ticks": ""
            },
            "colorscale": [
             [
              0,
              "#0d0887"
             ],
             [
              0.1111111111111111,
              "#46039f"
             ],
             [
              0.2222222222222222,
              "#7201a8"
             ],
             [
              0.3333333333333333,
              "#9c179e"
             ],
             [
              0.4444444444444444,
              "#bd3786"
             ],
             [
              0.5555555555555556,
              "#d8576b"
             ],
             [
              0.6666666666666666,
              "#ed7953"
             ],
             [
              0.7777777777777778,
              "#fb9f3a"
             ],
             [
              0.8888888888888888,
              "#fdca26"
             ],
             [
              1,
              "#f0f921"
             ]
            ],
            "type": "heatmap"
           }
          ],
          "histogram": [
           {
            "marker": {
             "pattern": {
              "fillmode": "overlay",
              "size": 10,
              "solidity": 0.2
             }
            },
            "type": "histogram"
           }
          ],
          "histogram2d": [
           {
            "colorbar": {
             "outlinewidth": 0,
             "ticks": ""
            },
            "colorscale": [
             [
              0,
              "#0d0887"
             ],
             [
              0.1111111111111111,
              "#46039f"
             ],
             [
              0.2222222222222222,
              "#7201a8"
             ],
             [
              0.3333333333333333,
              "#9c179e"
             ],
             [
              0.4444444444444444,
              "#bd3786"
             ],
             [
              0.5555555555555556,
              "#d8576b"
             ],
             [
              0.6666666666666666,
              "#ed7953"
             ],
             [
              0.7777777777777778,
              "#fb9f3a"
             ],
             [
              0.8888888888888888,
              "#fdca26"
             ],
             [
              1,
              "#f0f921"
             ]
            ],
            "type": "histogram2d"
           }
          ],
          "histogram2dcontour": [
           {
            "colorbar": {
             "outlinewidth": 0,
             "ticks": ""
            },
            "colorscale": [
             [
              0,
              "#0d0887"
             ],
             [
              0.1111111111111111,
              "#46039f"
             ],
             [
              0.2222222222222222,
              "#7201a8"
             ],
             [
              0.3333333333333333,
              "#9c179e"
             ],
             [
              0.4444444444444444,
              "#bd3786"
             ],
             [
              0.5555555555555556,
              "#d8576b"
             ],
             [
              0.6666666666666666,
              "#ed7953"
             ],
             [
              0.7777777777777778,
              "#fb9f3a"
             ],
             [
              0.8888888888888888,
              "#fdca26"
             ],
             [
              1,
              "#f0f921"
             ]
            ],
            "type": "histogram2dcontour"
           }
          ],
          "mesh3d": [
           {
            "colorbar": {
             "outlinewidth": 0,
             "ticks": ""
            },
            "type": "mesh3d"
           }
          ],
          "parcoords": [
           {
            "line": {
             "colorbar": {
              "outlinewidth": 0,
              "ticks": ""
             }
            },
            "type": "parcoords"
           }
          ],
          "pie": [
           {
            "automargin": true,
            "type": "pie"
           }
          ],
          "scatter": [
           {
            "fillpattern": {
             "fillmode": "overlay",
             "size": 10,
             "solidity": 0.2
            },
            "type": "scatter"
           }
          ],
          "scatter3d": [
           {
            "line": {
             "colorbar": {
              "outlinewidth": 0,
              "ticks": ""
             }
            },
            "marker": {
             "colorbar": {
              "outlinewidth": 0,
              "ticks": ""
             }
            },
            "type": "scatter3d"
           }
          ],
          "scattercarpet": [
           {
            "marker": {
             "colorbar": {
              "outlinewidth": 0,
              "ticks": ""
             }
            },
            "type": "scattercarpet"
           }
          ],
          "scattergeo": [
           {
            "marker": {
             "colorbar": {
              "outlinewidth": 0,
              "ticks": ""
             }
            },
            "type": "scattergeo"
           }
          ],
          "scattergl": [
           {
            "marker": {
             "colorbar": {
              "outlinewidth": 0,
              "ticks": ""
             }
            },
            "type": "scattergl"
           }
          ],
          "scattermap": [
           {
            "marker": {
             "colorbar": {
              "outlinewidth": 0,
              "ticks": ""
             }
            },
            "type": "scattermap"
           }
          ],
          "scattermapbox": [
           {
            "marker": {
             "colorbar": {
              "outlinewidth": 0,
              "ticks": ""
             }
            },
            "type": "scattermapbox"
           }
          ],
          "scatterpolar": [
           {
            "marker": {
             "colorbar": {
              "outlinewidth": 0,
              "ticks": ""
             }
            },
            "type": "scatterpolar"
           }
          ],
          "scatterpolargl": [
           {
            "marker": {
             "colorbar": {
              "outlinewidth": 0,
              "ticks": ""
             }
            },
            "type": "scatterpolargl"
           }
          ],
          "scatterternary": [
           {
            "marker": {
             "colorbar": {
              "outlinewidth": 0,
              "ticks": ""
             }
            },
            "type": "scatterternary"
           }
          ],
          "surface": [
           {
            "colorbar": {
             "outlinewidth": 0,
             "ticks": ""
            },
            "colorscale": [
             [
              0,
              "#0d0887"
             ],
             [
              0.1111111111111111,
              "#46039f"
             ],
             [
              0.2222222222222222,
              "#7201a8"
             ],
             [
              0.3333333333333333,
              "#9c179e"
             ],
             [
              0.4444444444444444,
              "#bd3786"
             ],
             [
              0.5555555555555556,
              "#d8576b"
             ],
             [
              0.6666666666666666,
              "#ed7953"
             ],
             [
              0.7777777777777778,
              "#fb9f3a"
             ],
             [
              0.8888888888888888,
              "#fdca26"
             ],
             [
              1,
              "#f0f921"
             ]
            ],
            "type": "surface"
           }
          ],
          "table": [
           {
            "cells": {
             "fill": {
              "color": "#EBF0F8"
             },
             "line": {
              "color": "white"
             }
            },
            "header": {
             "fill": {
              "color": "#C8D4E3"
             },
             "line": {
              "color": "white"
             }
            },
            "type": "table"
           }
          ]
         },
         "layout": {
          "annotationdefaults": {
           "arrowcolor": "#2a3f5f",
           "arrowhead": 0,
           "arrowwidth": 1
          },
          "autotypenumbers": "strict",
          "coloraxis": {
           "colorbar": {
            "outlinewidth": 0,
            "ticks": ""
           }
          },
          "colorscale": {
           "diverging": [
            [
             0,
             "#8e0152"
            ],
            [
             0.1,
             "#c51b7d"
            ],
            [
             0.2,
             "#de77ae"
            ],
            [
             0.3,
             "#f1b6da"
            ],
            [
             0.4,
             "#fde0ef"
            ],
            [
             0.5,
             "#f7f7f7"
            ],
            [
             0.6,
             "#e6f5d0"
            ],
            [
             0.7,
             "#b8e186"
            ],
            [
             0.8,
             "#7fbc41"
            ],
            [
             0.9,
             "#4d9221"
            ],
            [
             1,
             "#276419"
            ]
           ],
           "sequential": [
            [
             0,
             "#0d0887"
            ],
            [
             0.1111111111111111,
             "#46039f"
            ],
            [
             0.2222222222222222,
             "#7201a8"
            ],
            [
             0.3333333333333333,
             "#9c179e"
            ],
            [
             0.4444444444444444,
             "#bd3786"
            ],
            [
             0.5555555555555556,
             "#d8576b"
            ],
            [
             0.6666666666666666,
             "#ed7953"
            ],
            [
             0.7777777777777778,
             "#fb9f3a"
            ],
            [
             0.8888888888888888,
             "#fdca26"
            ],
            [
             1,
             "#f0f921"
            ]
           ],
           "sequentialminus": [
            [
             0,
             "#0d0887"
            ],
            [
             0.1111111111111111,
             "#46039f"
            ],
            [
             0.2222222222222222,
             "#7201a8"
            ],
            [
             0.3333333333333333,
             "#9c179e"
            ],
            [
             0.4444444444444444,
             "#bd3786"
            ],
            [
             0.5555555555555556,
             "#d8576b"
            ],
            [
             0.6666666666666666,
             "#ed7953"
            ],
            [
             0.7777777777777778,
             "#fb9f3a"
            ],
            [
             0.8888888888888888,
             "#fdca26"
            ],
            [
             1,
             "#f0f921"
            ]
           ]
          },
          "colorway": [
           "#636efa",
           "#EF553B",
           "#00cc96",
           "#ab63fa",
           "#FFA15A",
           "#19d3f3",
           "#FF6692",
           "#B6E880",
           "#FF97FF",
           "#FECB52"
          ],
          "font": {
           "color": "#2a3f5f"
          },
          "geo": {
           "bgcolor": "white",
           "lakecolor": "white",
           "landcolor": "#E5ECF6",
           "showlakes": true,
           "showland": true,
           "subunitcolor": "white"
          },
          "hoverlabel": {
           "align": "left"
          },
          "hovermode": "closest",
          "mapbox": {
           "style": "light"
          },
          "paper_bgcolor": "white",
          "plot_bgcolor": "#E5ECF6",
          "polar": {
           "angularaxis": {
            "gridcolor": "white",
            "linecolor": "white",
            "ticks": ""
           },
           "bgcolor": "#E5ECF6",
           "radialaxis": {
            "gridcolor": "white",
            "linecolor": "white",
            "ticks": ""
           }
          },
          "scene": {
           "xaxis": {
            "backgroundcolor": "#E5ECF6",
            "gridcolor": "white",
            "gridwidth": 2,
            "linecolor": "white",
            "showbackground": true,
            "ticks": "",
            "zerolinecolor": "white"
           },
           "yaxis": {
            "backgroundcolor": "#E5ECF6",
            "gridcolor": "white",
            "gridwidth": 2,
            "linecolor": "white",
            "showbackground": true,
            "ticks": "",
            "zerolinecolor": "white"
           },
           "zaxis": {
            "backgroundcolor": "#E5ECF6",
            "gridcolor": "white",
            "gridwidth": 2,
            "linecolor": "white",
            "showbackground": true,
            "ticks": "",
            "zerolinecolor": "white"
           }
          },
          "shapedefaults": {
           "line": {
            "color": "#2a3f5f"
           }
          },
          "ternary": {
           "aaxis": {
            "gridcolor": "white",
            "linecolor": "white",
            "ticks": ""
           },
           "baxis": {
            "gridcolor": "white",
            "linecolor": "white",
            "ticks": ""
           },
           "bgcolor": "#E5ECF6",
           "caxis": {
            "gridcolor": "white",
            "linecolor": "white",
            "ticks": ""
           }
          },
          "title": {
           "x": 0.05
          },
          "xaxis": {
           "automargin": true,
           "gridcolor": "white",
           "linecolor": "white",
           "ticks": "",
           "title": {
            "standoff": 15
           },
           "zerolinecolor": "white",
           "zerolinewidth": 2
          },
          "yaxis": {
           "automargin": true,
           "gridcolor": "white",
           "linecolor": "white",
           "ticks": "",
           "title": {
            "standoff": 15
           },
           "zerolinecolor": "white",
           "zerolinewidth": 2
          }
         }
        },
        "title": {
         "text": "Alphas vs Utility (Dual Step, n^2 complexity)"
        },
        "xaxis": {
         "title": {
          "text": "Alpha"
         }
        },
        "yaxis": {
         "title": {
          "text": "Utility"
         }
        }
       }
      }
     },
     "metadata": {},
     "output_type": "display_data"
    },
    {
     "name": "stderr",
     "output_type": "stream",
     "text": [
      "100%|██████████| 100/100 [00:38<00:00,  2.57it/s]\n"
     ]
    },
    {
     "data": {
      "application/vnd.plotly.v1+json": {
       "config": {
        "plotlyServerURL": "https://plot.ly"
       },
       "data": [
        {
         "mode": "markers",
         "name": "Utility",
         "type": "scatter",
         "x": {
          "bdata": "exSuR+F6hD9gEQgWgWCRP4QYOYiRg5g/ph9q+qGmnz9lk0022WSjP/cWZm9h9qY/iJp+qOmHqj8ZHpfhcRmuP9XQVw191bA/nhLkKUGesj9nVHBGBWe0Py+W/GLJL7Y/+NeIf434tz/BGRWcUcG5P4lbobgVirs/Up0t1dlSvT8b37nxnRu/P3IQIwcxcsA/VzFpFZNWwT87Uq8j9TrCPyBz9TFXH8M/BJQ7QLkDxD/otIFOG+jEP83Vx1x9zMU/sfYNa9+wxj+VF1R5QZXHP3o4moejecg/XlnglQVeyT9CeiakZ0LKPyebbLLJJss/C7yywCsLzD/w3PjOje/MP9T9Pt3v080/uB6F61G4zj+dP8v5s5zPP0CwCASLQNA/s8ArC7yy0D8l0U4S7STRP5fhcRkel9E/CfKUIE8J0j98ArgngHvSP+4S2y6x7dI/YCP+NeJf0z/SMyE9E9LTP0RERERERNQ/tlRnS3W21D8pZYpSpijVP5t1rVnXmtU/DYbQYAgN1j9/lvNnOX/WP/GmFm9q8dY/ZLc5dptj1z/Wx1x9zNXXP0jYf4T9R9g/uuiiiy662D8s+cWSXyzZP54J6ZmQntk/ERoMocEQ2j+DKi+o8oLaP/U6Uq8j9do/Z0t1tlRn2z/ZW5i9hdnbP0xsu8S2S9w/vnzey+e93D8wjQHTGDDdP6KdJNpJot0/FK5H4XoU3j+Hvmroq4beP/nOje/c+N4/a9+w9g1r3z/d79P9Pt3fPyeAewK4J+A/YQgNhtBg4D+akJ4J6ZngP9MYMI0B0+A/DKHBEBoM4T9FKVOUMkXhP36x5BdLfuE/tzl2m2O34T/wwQcffPDhPypKmaKUKeI/Y9IqJq1i4j+cWrypxZviP9XiTS3e1OI/DmvfsPYN4z9H83A0D0fjP4B7ArgngOM/uQOUO0C54z/yiyW/WPLjPysUt0JxK+Q/ZJxIxolk5D+eJNpJop3kP9esa8261uQ/EDX9UNMP5T9JvY7U60jlP4JFIFgEguU/u82x2xy75T/0VUNfNfTlPy3e1OJNLeY/ZmZmZmZm5j8=",
          "dtype": "f8"
         },
         "y": [
          null,
          null,
          null,
          null,
          null,
          null,
          null,
          null,
          null,
          null,
          null,
          null,
          null,
          null,
          null,
          null,
          null,
          null,
          null,
          null,
          null,
          null,
          null,
          null,
          null,
          null,
          null,
          null,
          null,
          null,
          null,
          null,
          null,
          0.39619295398545407,
          0.39619295398545407,
          0.39619295398545407,
          0.39619295398545407,
          0.39619295398545407,
          0.39619295398545407,
          0.39619295398545407,
          0.39619295398545407,
          0.39619295398545407,
          0.39619295398545407,
          0.39619295398545407,
          0.39619295398545407,
          0.44944800394220197,
          0.44944800394220197,
          0.44944800394220197,
          0.44944800394220197,
          0.44944800394220197,
          0.44944800394220197,
          0.44944800394220197,
          0.44944800394220197,
          0.44944800394220197,
          0.44944800394220197,
          0.44944800394220197,
          0.5073373109379982,
          0.5073373109379982,
          0.5073373109379982,
          0.5073373109379982,
          0.5073373109379982,
          0.5073373109379982,
          0.5073373109379982,
          0.5073373109379982,
          0.5073373109379982,
          0.5910780319569783,
          0.5910780319569783,
          0.5910780319569783,
          0.5910780319569783,
          0.6510803918151374,
          0.6706194817270478,
          0.6842687673982789,
          0.7025455281611335,
          0.7025455281611335,
          0.7025455281611335,
          0.7025455281611335,
          0.7025455281611335,
          0.7025455281611335,
          0.7025455281611335,
          0.7025455281611335,
          0.7025455281611335,
          0.7025455281611335,
          0.7025455281611335,
          0.7025455281611335,
          0.712018569377832,
          0.7302953301406865,
          0.7302953301406865,
          0.7302953301406865,
          0.7302953301406865,
          0.7302953301406865,
          0.7302953301406865,
          0.7302953301406865,
          0.7302953301406865,
          0.7302953301406865,
          0.7302953301406865,
          0.7302953301406865,
          0.7302953301406865,
          0.7434147235766209,
          0.7616914843394753,
          0.7616914843394753
         ]
        },
        {
         "mode": "markers",
         "type": "scatter",
         "x": {
          "bdata": "exSuR+F6hD9gEQgWgWCRP4QYOYiRg5g/ph9q+qGmnz9lk0022WSjP/cWZm9h9qY/iJp+qOmHqj8ZHpfhcRmuP9XQVw191bA/nhLkKUGesj9nVHBGBWe0Py+W/GLJL7Y/+NeIf434tz/BGRWcUcG5P4lbobgVirs/Up0t1dlSvT8b37nxnRu/P3IQIwcxcsA/VzFpFZNWwT87Uq8j9TrCPyBz9TFXH8M/BJQ7QLkDxD/otIFOG+jEP83Vx1x9zMU/sfYNa9+wxj+VF1R5QZXHP3o4moejecg/XlnglQVeyT9CeiakZ0LKPyebbLLJJss/C7yywCsLzD/w3PjOje/MP9T9Pt3v080/uB6F61G4zj+dP8v5s5zPP0CwCASLQNA/s8ArC7yy0D8l0U4S7STRP5fhcRkel9E/CfKUIE8J0j98ArgngHvSP+4S2y6x7dI/YCP+NeJf0z/SMyE9E9LTP0RERERERNQ/tlRnS3W21D8pZYpSpijVP5t1rVnXmtU/DYbQYAgN1j9/lvNnOX/WP/GmFm9q8dY/ZLc5dptj1z/Wx1x9zNXXP0jYf4T9R9g/uuiiiy662D8s+cWSXyzZP54J6ZmQntk/ERoMocEQ2j+DKi+o8oLaP/U6Uq8j9do/Z0t1tlRn2z/ZW5i9hdnbP0xsu8S2S9w/vnzey+e93D8wjQHTGDDdP6KdJNpJot0/FK5H4XoU3j+Hvmroq4beP/nOje/c+N4/a9+w9g1r3z/d79P9Pt3fPyeAewK4J+A/YQgNhtBg4D+akJ4J6ZngP9MYMI0B0+A/DKHBEBoM4T9FKVOUMkXhP36x5BdLfuE/tzl2m2O34T/wwQcffPDhPypKmaKUKeI/Y9IqJq1i4j+cWrypxZviP9XiTS3e1OI/DmvfsPYN4z9H83A0D0fjP4B7ArgngOM/uQOUO0C54z/yiyW/WPLjPysUt0JxK+Q/ZJxIxolk5D+eJNpJop3kP9esa8261uQ/EDX9UNMP5T9JvY7U60jlP4JFIFgEguU/u82x2xy75T/0VUNfNfTlPy3e1OJNLeY/ZmZmZmZm5j8=",
          "dtype": "f8"
         },
         "y": [
          null,
          null,
          null,
          null,
          null,
          null,
          null,
          null,
          null,
          null,
          null,
          null,
          null,
          null,
          null,
          null,
          null,
          null,
          null,
          null,
          null,
          null,
          null,
          null,
          null,
          null,
          null,
          null,
          null,
          null,
          null,
          null,
          null,
          0.23876277352791525,
          0.23876277352791525,
          0.23876277352791525,
          0.23876277352791525,
          0.23876277352791525,
          0.23876277352791525,
          0.23876277352791525,
          0.23876277352791525,
          0.23876277352791525,
          0.23876277352791525,
          0.23876277352791525,
          0.23876277352791525,
          0.3196031871341339,
          0.3196031871341339,
          0.3196031871341339,
          0.3196031871341339,
          0.3196031871341339,
          0.3196031871341339,
          0.3196031871341339,
          0.3196031871341339,
          0.3196031871341339,
          0.3196031871341339,
          0.3196031871341339,
          0.39825258675358316,
          0.39825258675358316,
          0.39825258675358316,
          0.39825258675358316,
          0.39825258675358316,
          0.39825258675358316,
          0.39825258675358316,
          0.39825258675358316,
          0.39825258675358316,
          0.4575800214796733,
          0.4575800214796733,
          0.4575800214796733,
          0.4575800214796733,
          0.4888756836539598,
          0.49638648724170414,
          0.5018622739734231,
          0.5088527806153902,
          0.5088527806153902,
          0.5088527806153902,
          0.5088527806153902,
          0.5088527806153902,
          0.5088527806153902,
          0.5088527806153902,
          0.5088527806153902,
          0.5088527806153902,
          0.5088527806153902,
          0.5088527806153902,
          0.5088527806153902,
          0.592846506619022,
          0.5998370132609894,
          0.5998370132609894,
          0.5998370132609894,
          0.5998370132609894,
          0.5998370132609894,
          0.5998370132609894,
          0.5998370132609894,
          0.5998370132609894,
          0.5998370132609894,
          0.5998370132609894,
          0.5998370132609894,
          0.5998370132609894,
          0.6825224409043373,
          0.6895129475463044,
          0.6895129475463044
         ]
        }
       ],
       "layout": {
        "template": {
         "data": {
          "bar": [
           {
            "error_x": {
             "color": "#2a3f5f"
            },
            "error_y": {
             "color": "#2a3f5f"
            },
            "marker": {
             "line": {
              "color": "#E5ECF6",
              "width": 0.5
             },
             "pattern": {
              "fillmode": "overlay",
              "size": 10,
              "solidity": 0.2
             }
            },
            "type": "bar"
           }
          ],
          "barpolar": [
           {
            "marker": {
             "line": {
              "color": "#E5ECF6",
              "width": 0.5
             },
             "pattern": {
              "fillmode": "overlay",
              "size": 10,
              "solidity": 0.2
             }
            },
            "type": "barpolar"
           }
          ],
          "carpet": [
           {
            "aaxis": {
             "endlinecolor": "#2a3f5f",
             "gridcolor": "white",
             "linecolor": "white",
             "minorgridcolor": "white",
             "startlinecolor": "#2a3f5f"
            },
            "baxis": {
             "endlinecolor": "#2a3f5f",
             "gridcolor": "white",
             "linecolor": "white",
             "minorgridcolor": "white",
             "startlinecolor": "#2a3f5f"
            },
            "type": "carpet"
           }
          ],
          "choropleth": [
           {
            "colorbar": {
             "outlinewidth": 0,
             "ticks": ""
            },
            "type": "choropleth"
           }
          ],
          "contour": [
           {
            "colorbar": {
             "outlinewidth": 0,
             "ticks": ""
            },
            "colorscale": [
             [
              0,
              "#0d0887"
             ],
             [
              0.1111111111111111,
              "#46039f"
             ],
             [
              0.2222222222222222,
              "#7201a8"
             ],
             [
              0.3333333333333333,
              "#9c179e"
             ],
             [
              0.4444444444444444,
              "#bd3786"
             ],
             [
              0.5555555555555556,
              "#d8576b"
             ],
             [
              0.6666666666666666,
              "#ed7953"
             ],
             [
              0.7777777777777778,
              "#fb9f3a"
             ],
             [
              0.8888888888888888,
              "#fdca26"
             ],
             [
              1,
              "#f0f921"
             ]
            ],
            "type": "contour"
           }
          ],
          "contourcarpet": [
           {
            "colorbar": {
             "outlinewidth": 0,
             "ticks": ""
            },
            "type": "contourcarpet"
           }
          ],
          "heatmap": [
           {
            "colorbar": {
             "outlinewidth": 0,
             "ticks": ""
            },
            "colorscale": [
             [
              0,
              "#0d0887"
             ],
             [
              0.1111111111111111,
              "#46039f"
             ],
             [
              0.2222222222222222,
              "#7201a8"
             ],
             [
              0.3333333333333333,
              "#9c179e"
             ],
             [
              0.4444444444444444,
              "#bd3786"
             ],
             [
              0.5555555555555556,
              "#d8576b"
             ],
             [
              0.6666666666666666,
              "#ed7953"
             ],
             [
              0.7777777777777778,
              "#fb9f3a"
             ],
             [
              0.8888888888888888,
              "#fdca26"
             ],
             [
              1,
              "#f0f921"
             ]
            ],
            "type": "heatmap"
           }
          ],
          "histogram": [
           {
            "marker": {
             "pattern": {
              "fillmode": "overlay",
              "size": 10,
              "solidity": 0.2
             }
            },
            "type": "histogram"
           }
          ],
          "histogram2d": [
           {
            "colorbar": {
             "outlinewidth": 0,
             "ticks": ""
            },
            "colorscale": [
             [
              0,
              "#0d0887"
             ],
             [
              0.1111111111111111,
              "#46039f"
             ],
             [
              0.2222222222222222,
              "#7201a8"
             ],
             [
              0.3333333333333333,
              "#9c179e"
             ],
             [
              0.4444444444444444,
              "#bd3786"
             ],
             [
              0.5555555555555556,
              "#d8576b"
             ],
             [
              0.6666666666666666,
              "#ed7953"
             ],
             [
              0.7777777777777778,
              "#fb9f3a"
             ],
             [
              0.8888888888888888,
              "#fdca26"
             ],
             [
              1,
              "#f0f921"
             ]
            ],
            "type": "histogram2d"
           }
          ],
          "histogram2dcontour": [
           {
            "colorbar": {
             "outlinewidth": 0,
             "ticks": ""
            },
            "colorscale": [
             [
              0,
              "#0d0887"
             ],
             [
              0.1111111111111111,
              "#46039f"
             ],
             [
              0.2222222222222222,
              "#7201a8"
             ],
             [
              0.3333333333333333,
              "#9c179e"
             ],
             [
              0.4444444444444444,
              "#bd3786"
             ],
             [
              0.5555555555555556,
              "#d8576b"
             ],
             [
              0.6666666666666666,
              "#ed7953"
             ],
             [
              0.7777777777777778,
              "#fb9f3a"
             ],
             [
              0.8888888888888888,
              "#fdca26"
             ],
             [
              1,
              "#f0f921"
             ]
            ],
            "type": "histogram2dcontour"
           }
          ],
          "mesh3d": [
           {
            "colorbar": {
             "outlinewidth": 0,
             "ticks": ""
            },
            "type": "mesh3d"
           }
          ],
          "parcoords": [
           {
            "line": {
             "colorbar": {
              "outlinewidth": 0,
              "ticks": ""
             }
            },
            "type": "parcoords"
           }
          ],
          "pie": [
           {
            "automargin": true,
            "type": "pie"
           }
          ],
          "scatter": [
           {
            "fillpattern": {
             "fillmode": "overlay",
             "size": 10,
             "solidity": 0.2
            },
            "type": "scatter"
           }
          ],
          "scatter3d": [
           {
            "line": {
             "colorbar": {
              "outlinewidth": 0,
              "ticks": ""
             }
            },
            "marker": {
             "colorbar": {
              "outlinewidth": 0,
              "ticks": ""
             }
            },
            "type": "scatter3d"
           }
          ],
          "scattercarpet": [
           {
            "marker": {
             "colorbar": {
              "outlinewidth": 0,
              "ticks": ""
             }
            },
            "type": "scattercarpet"
           }
          ],
          "scattergeo": [
           {
            "marker": {
             "colorbar": {
              "outlinewidth": 0,
              "ticks": ""
             }
            },
            "type": "scattergeo"
           }
          ],
          "scattergl": [
           {
            "marker": {
             "colorbar": {
              "outlinewidth": 0,
              "ticks": ""
             }
            },
            "type": "scattergl"
           }
          ],
          "scattermap": [
           {
            "marker": {
             "colorbar": {
              "outlinewidth": 0,
              "ticks": ""
             }
            },
            "type": "scattermap"
           }
          ],
          "scattermapbox": [
           {
            "marker": {
             "colorbar": {
              "outlinewidth": 0,
              "ticks": ""
             }
            },
            "type": "scattermapbox"
           }
          ],
          "scatterpolar": [
           {
            "marker": {
             "colorbar": {
              "outlinewidth": 0,
              "ticks": ""
             }
            },
            "type": "scatterpolar"
           }
          ],
          "scatterpolargl": [
           {
            "marker": {
             "colorbar": {
              "outlinewidth": 0,
              "ticks": ""
             }
            },
            "type": "scatterpolargl"
           }
          ],
          "scatterternary": [
           {
            "marker": {
             "colorbar": {
              "outlinewidth": 0,
              "ticks": ""
             }
            },
            "type": "scatterternary"
           }
          ],
          "surface": [
           {
            "colorbar": {
             "outlinewidth": 0,
             "ticks": ""
            },
            "colorscale": [
             [
              0,
              "#0d0887"
             ],
             [
              0.1111111111111111,
              "#46039f"
             ],
             [
              0.2222222222222222,
              "#7201a8"
             ],
             [
              0.3333333333333333,
              "#9c179e"
             ],
             [
              0.4444444444444444,
              "#bd3786"
             ],
             [
              0.5555555555555556,
              "#d8576b"
             ],
             [
              0.6666666666666666,
              "#ed7953"
             ],
             [
              0.7777777777777778,
              "#fb9f3a"
             ],
             [
              0.8888888888888888,
              "#fdca26"
             ],
             [
              1,
              "#f0f921"
             ]
            ],
            "type": "surface"
           }
          ],
          "table": [
           {
            "cells": {
             "fill": {
              "color": "#EBF0F8"
             },
             "line": {
              "color": "white"
             }
            },
            "header": {
             "fill": {
              "color": "#C8D4E3"
             },
             "line": {
              "color": "white"
             }
            },
            "type": "table"
           }
          ]
         },
         "layout": {
          "annotationdefaults": {
           "arrowcolor": "#2a3f5f",
           "arrowhead": 0,
           "arrowwidth": 1
          },
          "autotypenumbers": "strict",
          "coloraxis": {
           "colorbar": {
            "outlinewidth": 0,
            "ticks": ""
           }
          },
          "colorscale": {
           "diverging": [
            [
             0,
             "#8e0152"
            ],
            [
             0.1,
             "#c51b7d"
            ],
            [
             0.2,
             "#de77ae"
            ],
            [
             0.3,
             "#f1b6da"
            ],
            [
             0.4,
             "#fde0ef"
            ],
            [
             0.5,
             "#f7f7f7"
            ],
            [
             0.6,
             "#e6f5d0"
            ],
            [
             0.7,
             "#b8e186"
            ],
            [
             0.8,
             "#7fbc41"
            ],
            [
             0.9,
             "#4d9221"
            ],
            [
             1,
             "#276419"
            ]
           ],
           "sequential": [
            [
             0,
             "#0d0887"
            ],
            [
             0.1111111111111111,
             "#46039f"
            ],
            [
             0.2222222222222222,
             "#7201a8"
            ],
            [
             0.3333333333333333,
             "#9c179e"
            ],
            [
             0.4444444444444444,
             "#bd3786"
            ],
            [
             0.5555555555555556,
             "#d8576b"
            ],
            [
             0.6666666666666666,
             "#ed7953"
            ],
            [
             0.7777777777777778,
             "#fb9f3a"
            ],
            [
             0.8888888888888888,
             "#fdca26"
            ],
            [
             1,
             "#f0f921"
            ]
           ],
           "sequentialminus": [
            [
             0,
             "#0d0887"
            ],
            [
             0.1111111111111111,
             "#46039f"
            ],
            [
             0.2222222222222222,
             "#7201a8"
            ],
            [
             0.3333333333333333,
             "#9c179e"
            ],
            [
             0.4444444444444444,
             "#bd3786"
            ],
            [
             0.5555555555555556,
             "#d8576b"
            ],
            [
             0.6666666666666666,
             "#ed7953"
            ],
            [
             0.7777777777777778,
             "#fb9f3a"
            ],
            [
             0.8888888888888888,
             "#fdca26"
            ],
            [
             1,
             "#f0f921"
            ]
           ]
          },
          "colorway": [
           "#636efa",
           "#EF553B",
           "#00cc96",
           "#ab63fa",
           "#FFA15A",
           "#19d3f3",
           "#FF6692",
           "#B6E880",
           "#FF97FF",
           "#FECB52"
          ],
          "font": {
           "color": "#2a3f5f"
          },
          "geo": {
           "bgcolor": "white",
           "lakecolor": "white",
           "landcolor": "#E5ECF6",
           "showlakes": true,
           "showland": true,
           "subunitcolor": "white"
          },
          "hoverlabel": {
           "align": "left"
          },
          "hovermode": "closest",
          "mapbox": {
           "style": "light"
          },
          "paper_bgcolor": "white",
          "plot_bgcolor": "#E5ECF6",
          "polar": {
           "angularaxis": {
            "gridcolor": "white",
            "linecolor": "white",
            "ticks": ""
           },
           "bgcolor": "#E5ECF6",
           "radialaxis": {
            "gridcolor": "white",
            "linecolor": "white",
            "ticks": ""
           }
          },
          "scene": {
           "xaxis": {
            "backgroundcolor": "#E5ECF6",
            "gridcolor": "white",
            "gridwidth": 2,
            "linecolor": "white",
            "showbackground": true,
            "ticks": "",
            "zerolinecolor": "white"
           },
           "yaxis": {
            "backgroundcolor": "#E5ECF6",
            "gridcolor": "white",
            "gridwidth": 2,
            "linecolor": "white",
            "showbackground": true,
            "ticks": "",
            "zerolinecolor": "white"
           },
           "zaxis": {
            "backgroundcolor": "#E5ECF6",
            "gridcolor": "white",
            "gridwidth": 2,
            "linecolor": "white",
            "showbackground": true,
            "ticks": "",
            "zerolinecolor": "white"
           }
          },
          "shapedefaults": {
           "line": {
            "color": "#2a3f5f"
           }
          },
          "ternary": {
           "aaxis": {
            "gridcolor": "white",
            "linecolor": "white",
            "ticks": ""
           },
           "baxis": {
            "gridcolor": "white",
            "linecolor": "white",
            "ticks": ""
           },
           "bgcolor": "#E5ECF6",
           "caxis": {
            "gridcolor": "white",
            "linecolor": "white",
            "ticks": ""
           }
          },
          "title": {
           "x": 0.05
          },
          "xaxis": {
           "automargin": true,
           "gridcolor": "white",
           "linecolor": "white",
           "ticks": "",
           "title": {
            "standoff": 15
           },
           "zerolinecolor": "white",
           "zerolinewidth": 2
          },
          "yaxis": {
           "automargin": true,
           "gridcolor": "white",
           "linecolor": "white",
           "ticks": "",
           "title": {
            "standoff": 15
           },
           "zerolinecolor": "white",
           "zerolinewidth": 2
          }
         }
        },
        "title": {
         "text": "Alpha vs Utility (Dual Step, n^4 Complexity"
        },
        "xaxis": {
         "title": {
          "text": "Alpha"
         }
        },
        "yaxis": {
         "title": {
          "text": "Utility"
         }
        }
       }
      }
     },
     "metadata": {},
     "output_type": "display_data"
    }
   ],
   "source": [
    "alphas2, utils2 = vectorize_double_step(a, b, u_plus, u_minus, c_plus, c_minus, alphas, w_a, w_b)\n",
    "alphas1, utils1, _ = double_step(a, b, u_plus, u_minus, c_plus, c_minus, alphas, w_a, w_b)"
   ]
  },
  {
   "cell_type": "code",
   "execution_count": 37,
   "id": "4007c2a6",
   "metadata": {},
   "outputs": [
    {
     "name": "stdout",
     "output_type": "stream",
     "text": [
      "False\n",
      "[(np.float64(0.39619295398545407), np.float64(-inf)), (np.float64(0.39619295398545407), np.float64(-inf)), (np.float64(0.39619295398545407), np.float64(-inf)), (np.float64(0.39619295398545407), np.float64(-inf)), (np.float64(0.39619295398545407), np.float64(-inf)), (np.float64(0.39619295398545407), np.float64(-inf)), (np.float64(0.39619295398545407), np.float64(-inf)), (np.float64(0.39619295398545407), np.float64(-inf)), (np.float64(0.39619295398545407), np.float64(-inf)), (np.float64(0.39619295398545407), np.float64(-inf)), (np.float64(0.39619295398545407), np.float64(-inf)), (np.float64(0.39619295398545407), np.float64(-inf)), (np.float64(0.44944800394220197), np.float64(-inf)), (np.float64(0.44944800394220197), np.float64(-inf)), (np.float64(0.44944800394220197), np.float64(-inf)), (np.float64(0.44944800394220197), np.float64(-inf)), (np.float64(0.44944800394220197), np.float64(-inf)), (np.float64(0.44944800394220197), np.float64(-inf)), (np.float64(0.44944800394220197), np.float64(-inf)), (np.float64(0.44944800394220197), np.float64(-inf)), (np.float64(0.44944800394220197), np.float64(-inf)), (np.float64(0.44944800394220197), np.float64(-inf)), (np.float64(0.44944800394220197), np.float64(-inf)), (np.float64(0.5073373109379982), np.float64(-inf)), (np.float64(0.5073373109379982), np.float64(-inf)), (np.float64(0.5073373109379982), np.float64(-inf)), (np.float64(0.5073373109379982), np.float64(-inf)), (np.float64(0.5073373109379982), np.float64(-inf)), (np.float64(0.5073373109379982), np.float64(-inf)), (np.float64(0.5073373109379982), np.float64(-inf)), (np.float64(0.5073373109379982), np.float64(-inf)), (np.float64(0.5073373109379982), np.float64(-inf)), (np.float64(0.5910780319569783), np.float64(-inf)), (np.float64(0.5910780319569783), np.float64(-inf)), (np.float64(0.5910780319569783), np.float64(-inf)), (np.float64(0.5910780319569783), np.float64(-inf)), (np.float64(0.6510803918151374), np.float64(-inf)), (np.float64(0.6706194817270478), np.float64(-inf)), (np.float64(0.6842687673982789), np.float64(-inf)), (np.float64(0.7025455281611335), np.float64(-inf)), (np.float64(0.7025455281611335), np.float64(-inf)), (np.float64(0.7025455281611335), np.float64(-inf)), (np.float64(0.7025455281611335), np.float64(-inf)), (np.float64(0.7025455281611335), np.float64(-inf)), (np.float64(0.7025455281611335), np.float64(-inf)), (np.float64(0.7025455281611335), np.float64(-inf)), (np.float64(0.7025455281611335), np.float64(-inf)), (np.float64(0.7025455281611335), np.float64(-inf)), (np.float64(0.7025455281611335), np.float64(-inf)), (np.float64(0.7025455281611335), np.float64(-inf)), (np.float64(0.7025455281611335), np.float64(-inf)), (np.float64(0.712018569377832), np.float64(-inf)), (np.float64(0.7302953301406865), np.float64(-inf)), (np.float64(0.7302953301406865), np.float64(-inf)), (np.float64(0.7302953301406865), np.float64(-inf)), (np.float64(0.7302953301406865), np.float64(-inf)), (np.float64(0.7302953301406865), np.float64(-inf)), (np.float64(0.7302953301406865), np.float64(-inf)), (np.float64(0.7302953301406865), np.float64(-inf)), (np.float64(0.7302953301406865), np.float64(-inf)), (np.float64(0.7302953301406865), np.float64(-inf)), (np.float64(0.7302953301406865), np.float64(-inf)), (np.float64(0.7302953301406865), np.float64(-inf)), (np.float64(0.7302953301406865), np.float64(-inf)), (np.float64(0.7434147235766209), np.float64(-inf)), (np.float64(0.7616914843394753), np.float64(-inf)), (np.float64(0.7616914843394753), np.float64(-inf))]\n",
      "[      -inf       -inf       -inf       -inf       -inf       -inf\n",
      "       -inf       -inf       -inf       -inf       -inf       -inf\n",
      "       -inf       -inf       -inf       -inf       -inf       -inf\n",
      "       -inf       -inf       -inf       -inf       -inf       -inf\n",
      "       -inf       -inf       -inf       -inf       -inf       -inf\n",
      "       -inf       -inf       -inf 0.39619295 0.39619295 0.39619295\n",
      " 0.39619295 0.39619295 0.39619295 0.39619295 0.39619295 0.39619295\n",
      " 0.39619295 0.39619295 0.39619295 0.449448   0.449448   0.449448\n",
      " 0.449448   0.449448   0.449448   0.449448   0.449448   0.449448\n",
      " 0.449448   0.449448   0.50733731 0.50733731 0.50733731 0.50733731\n",
      " 0.50733731 0.50733731 0.50733731 0.50733731 0.50733731 0.59107803\n",
      " 0.59107803 0.59107803 0.59107803 0.65108039 0.67061948 0.68426877\n",
      " 0.70254553 0.70254553 0.70254553 0.70254553 0.70254553 0.70254553\n",
      " 0.70254553 0.70254553 0.70254553 0.70254553 0.70254553 0.70254553\n",
      " 0.71201857 0.73029533 0.73029533 0.73029533 0.73029533 0.73029533\n",
      " 0.73029533 0.73029533 0.73029533 0.73029533 0.73029533 0.73029533\n",
      " 0.73029533 0.74341472 0.76169148 0.76169148]\n",
      "\n",
      "\n",
      "[-inf -inf -inf -inf -inf -inf -inf -inf -inf -inf -inf -inf -inf -inf\n",
      " -inf -inf -inf -inf -inf -inf -inf -inf -inf -inf -inf -inf -inf -inf\n",
      " -inf -inf -inf -inf -inf -inf -inf -inf -inf -inf -inf -inf -inf -inf\n",
      " -inf -inf -inf -inf -inf -inf -inf -inf -inf -inf -inf -inf -inf -inf\n",
      " -inf -inf -inf -inf -inf -inf -inf -inf -inf -inf -inf -inf -inf -inf\n",
      " -inf -inf -inf -inf -inf -inf -inf -inf -inf -inf -inf -inf -inf -inf\n",
      " -inf -inf -inf -inf -inf -inf -inf -inf -inf -inf -inf -inf -inf -inf\n",
      " -inf -inf]\n"
     ]
    }
   ],
   "source": [
    "print(np.allclose(utils1, utils2, equal_nan=True))\n",
    "print([(i, j) for i, j in zip(utils1, utils2) if not np.isclose(i, j, equal_nan=True)])\n",
    "print(utils1)\n",
    "print('\\n')\n",
    "print(utils2)"
   ]
  }
 ],
 "metadata": {
  "kernelspec": {
   "display_name": "Python 3",
   "language": "python",
   "name": "python3"
  },
  "language_info": {
   "codemirror_mode": {
    "name": "ipython",
    "version": 3
   },
   "file_extension": ".py",
   "mimetype": "text/x-python",
   "name": "python",
   "nbconvert_exporter": "python",
   "pygments_lexer": "ipython3",
   "version": "3.12.10"
  }
 },
 "nbformat": 4,
 "nbformat_minor": 5
}
