{
 "cells": [
  {
   "cell_type": "code",
   "execution_count": 1,
   "id": "78ecba13",
   "metadata": {},
   "outputs": [
    {
     "data": {
      "application/vnd.jupyter.widget-view+json": {
       "model_id": "2a123e4cf607470cae82c9990cd1f543",
       "version_major": 2,
       "version_minor": 0
      },
      "text/plain": [
       "HBox(children=(Checkbox(value=True, description='Show Means'), Checkbox(value=True, description='Show Threshol…"
      ]
     },
     "metadata": {},
     "output_type": "display_data"
    },
    {
     "data": {
      "application/vnd.jupyter.widget-view+json": {
       "model_id": "c622637351b34d11874cadc3b66682c2",
       "version_major": 2,
       "version_minor": 0
      },
      "text/plain": [
       "Output()"
      ]
     },
     "metadata": {},
     "output_type": "display_data"
    }
   ],
   "source": [
    "import numpy as np\n",
    "import matplotlib.pyplot as plt\n",
    "import ipywidgets as widgets\n",
    "from utils import opt_step, test_fair_opt_step \n",
    "\n",
    "# Distribution parameters\n",
    "mean_a, std_a = 0.5, 1\n",
    "mean_b, std_b = 0, 1\n",
    "\n",
    "# Domain of alpha values to test\n",
    "alpha_min, alpha_max = 0, 2\n",
    "alphas = np.linspace(alpha_min, alpha_max, num=100)\n",
    "\n",
    "# Sample size of each distribution\n",
    "sample_size = 1000\n",
    "\n",
    "# Generate samples from normal distributions\n",
    "np.random.seed(1)\n",
    "a = np.random.normal(mean_a, std_a, sample_size)\n",
    "b = np.random.normal(mean_b, std_b, sample_size)\n",
    "\n",
    "# Store results\n",
    "x = []\n",
    "fair_mean_A = []\n",
    "fair_mean_B = []\n",
    "fair_threshold_A = []\n",
    "fair_threshold_B = []\n",
    "total_util = []\n",
    "\n",
    "# Unconstrained optimal means\n",
    "opt_result_A = opt_step(a, 1, -1, 1, -1)[1]\n",
    "opt_result_B = opt_step(b, 1, -1, 1, -1)[1]\n",
    "y3 = np.mean(opt_result_A)\n",
    "y4 = np.mean(opt_result_B)\n",
    "\n",
    "# Run fair optimization over a range of alpha values\n",
    "for alpha in alphas:\n",
    "    results = test_fair_opt_step(a, b, 1, -1, 1, -1, alpha)\n",
    "    if results is not None:\n",
    "        A, B = results[3]\n",
    "        if np.abs(A - B) > alpha:\n",
    "            # Only store results if the fairness constraint is satisfied\n",
    "            continue\n",
    "        x.append(alpha)\n",
    "        fair_mean_A.append(A)\n",
    "        fair_mean_B.append(B)\n",
    "        fair_threshold_A.append(results[0])\n",
    "        fair_threshold_B.append(results[1])\n",
    "        total_util.append(((results[4])*0.01))\n",
    "\n",
    "def plot_fairness(show_means=True, show_thresholds=True, show_utility=True):\n",
    "    plt.figure(figsize=(10, 6))\n",
    "\n",
    "    if show_means:\n",
    "        plt.plot(x, fair_mean_A, label=\"Fair μ(A)'\", color='red')\n",
    "        plt.plot(x, fair_mean_B, label=\"Fair μ(B)'\", color='blue')\n",
    "        plt.axhline(y3, color='red', linestyle='--', label='Optimal μ(A)\\' (Unconstrained)')\n",
    "        plt.axhline(y4, color='blue', linestyle='--', label='Optimal μ(B)\\' (Unconstrained)')\n",
    "        plt.plot(0, mean_a, 'ro', label='Initial μ(A)')\n",
    "        plt.plot(0, mean_b, 'bo', label='Initial μ(B)')\n",
    "\n",
    "    if show_thresholds:\n",
    "        plt.plot(x, fair_threshold_A, label=\"Fair Threshold (A)\", color='orange')\n",
    "        plt.plot(x, fair_threshold_B, label=\"Fair Threshold (B)\", color='purple')\n",
    "\n",
    "    if show_utility:\n",
    "        plt.plot(x, total_util, label='Total Utility', color='green')\n",
    "\n",
    "    plt.title(\"Fair vs. Optimal Means under Varying Fairness Constraint α\")\n",
    "    plt.xlabel(\"α (Fairness Threshold)\")\n",
    "    plt.ylabel(\"Metric Value\")\n",
    "    plt.legend()\n",
    "    plt.grid(True)\n",
    "    plt.tight_layout()\n",
    "    plt.show()\n",
    "\n",
    "# Toggle widgets\n",
    "means_toggle = widgets.Checkbox(value=True, description='Show Means')\n",
    "thresholds_toggle = widgets.Checkbox(value=True, description='Show Thresholds')\n",
    "utility_toggle = widgets.Checkbox(value=True, description='Show Utility')\n",
    "\n",
    "ui = widgets.HBox([means_toggle, thresholds_toggle, utility_toggle])\n",
    "out = widgets.interactive_output(plot_fairness, {\n",
    "    'show_means': means_toggle,\n",
    "    'show_thresholds': thresholds_toggle,\n",
    "    'show_utility': utility_toggle\n",
    "})\n",
    "\n",
    "display(ui, out)"
   ]
  },
  {
   "cell_type": "code",
   "execution_count": 4,
   "id": "bf0f0695",
   "metadata": {},
   "outputs": [
    {
     "data": {
      "application/vnd.jupyter.widget-view+json": {
       "model_id": "7707ebb518dd421aa101603b9eceb8b1",
       "version_major": 2,
       "version_minor": 0
      },
      "text/plain": [
       "HBox(children=(Checkbox(value=True, description='Show Means'), Checkbox(value=True, description='Show Threshol…"
      ]
     },
     "metadata": {},
     "output_type": "display_data"
    },
    {
     "data": {
      "application/vnd.jupyter.widget-view+json": {
       "model_id": "b42213e3c0134d4a927fbae20e955a26",
       "version_major": 2,
       "version_minor": 0
      },
      "text/plain": [
       "Output()"
      ]
     },
     "metadata": {},
     "output_type": "display_data"
    }
   ],
   "source": [
    "import numpy as np\n",
    "import matplotlib.pyplot as plt\n",
    "import ipywidgets as widgets\n",
    "from utils import opt_step, test_fair_opt_step \n",
    "\n",
    "# Distribution parameters\n",
    "mean_a, std_a = 0.5, 1\n",
    "mean_b, std_b = 0, 1\n",
    "\n",
    "# Domain of alpha values to test\n",
    "alpha_min, alpha_max = 0, 2\n",
    "alphas = np.linspace(alpha_min, alpha_max, num=100)\n",
    "\n",
    "# Sample size of each distribution\n",
    "sample_size = 1000\n",
    "\n",
    "# Generate samples from normal distributions\n",
    "np.random.seed(1)\n",
    "a = np.random.normal(mean_a, std_a, sample_size)\n",
    "b = np.random.normal(mean_b, std_b, sample_size)\n",
    "\n",
    "# Store results\n",
    "x = []\n",
    "fair_mean_A = []\n",
    "fair_mean_B = []\n",
    "fair_threshold_A = []\n",
    "fair_threshold_B = []\n",
    "total_util = []\n",
    "\n",
    "# Unconstrained optimal means\n",
    "opt_result_A = opt_step(a, 1, -1, 1, -1)[1]\n",
    "opt_result_B = opt_step(b, 1, -1, 1, -1)[1]\n",
    "y3 = np.mean(opt_result_A)\n",
    "y4 = np.mean(opt_result_B)\n",
    "\n",
    "# Run fair optimization over a range of alpha values\n",
    "for alpha in alphas:\n",
    "    results = fair_opt_step(a, b, 1, -1, 1, -1, alpha)\n",
    "    if results is not None:\n",
    "        A, B = results[3]\n",
    "        if np.abs(A - B) > alpha:\n",
    "            # Only store results if the fairness constraint is satisfied\n",
    "            continue\n",
    "        x.append(alpha)\n",
    "        fair_mean_A.append(A)\n",
    "        fair_mean_B.append(B)\n",
    "        fair_threshold_A.append(results[0])\n",
    "        fair_threshold_B.append(results[1])\n",
    "        total_util.append(((results[4])*0.01))\n",
    "\n",
    "def plot_fairness(show_means=True, show_thresholds=True, show_utility=True):\n",
    "    plt.figure(figsize=(10, 6))\n",
    "\n",
    "    if show_means:\n",
    "        plt.plot(x, fair_mean_A, label=\"Fair μ(A)'\", color='red')\n",
    "        plt.plot(x, fair_mean_B, label=\"Fair μ(B)'\", color='blue')\n",
    "        plt.axhline(y3, color='red', linestyle='--', label='Optimal μ(A)\\' (Unconstrained)')\n",
    "        plt.axhline(y4, color='blue', linestyle='--', label='Optimal μ(B)\\' (Unconstrained)')\n",
    "        plt.plot(0, mean_a, 'ro', label='Initial μ(A)')\n",
    "        plt.plot(0, mean_b, 'bo', label='Initial μ(B)')\n",
    "\n",
    "    if show_thresholds:\n",
    "        plt.plot(x, fair_threshold_A, label=\"Fair Threshold (A)\", color='orange')\n",
    "        plt.plot(x, fair_threshold_B, label=\"Fair Threshold (B)\", color='purple')\n",
    "\n",
    "    if show_utility:\n",
    "        plt.plot(x, total_util, label='Total Utility', color='green')\n",
    "\n",
    "    plt.title(\"Fair vs. Optimal Means under Varying Fairness Constraint α\")\n",
    "    plt.xlabel(\"α (Fairness Threshold)\")\n",
    "    plt.ylabel(\"Metric Value\")\n",
    "    plt.legend()\n",
    "    plt.grid(True)\n",
    "    plt.tight_layout()\n",
    "    plt.show()\n",
    "\n",
    "# Toggle widgets\n",
    "means_toggle = widgets.Checkbox(value=True, description='Show Means')\n",
    "thresholds_toggle = widgets.Checkbox(value=True, description='Show Thresholds')\n",
    "utility_toggle = widgets.Checkbox(value=True, description='Show Utility')\n",
    "\n",
    "ui = widgets.HBox([means_toggle, thresholds_toggle, utility_toggle])\n",
    "out = widgets.interactive_output(plot_fairness, {\n",
    "    'show_means': means_toggle,\n",
    "    'show_thresholds': thresholds_toggle,\n",
    "    'show_utility': utility_toggle\n",
    "})\n",
    "\n",
    "display(ui, out)"
   ]
  }
 ],
 "metadata": {
  "kernelspec": {
   "display_name": "Python 3",
   "language": "python",
   "name": "python3"
  },
  "language_info": {
   "codemirror_mode": {
    "name": "ipython",
    "version": 3
   },
   "file_extension": ".py",
   "mimetype": "text/x-python",
   "name": "python",
   "nbconvert_exporter": "python",
   "pygments_lexer": "ipython3",
   "version": "3.12.10"
  }
 },
 "nbformat": 4,
 "nbformat_minor": 5
}
