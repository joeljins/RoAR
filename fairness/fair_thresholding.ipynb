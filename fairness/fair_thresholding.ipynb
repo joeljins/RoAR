{
 "cells": [
  {
   "cell_type": "code",
   "execution_count": 18,
   "id": "056cecf0",
   "metadata": {},
   "outputs": [],
   "source": [
    "# Import necessary modules/libraries\n",
    "from tqdm import tqdm\n",
    "import numpy as np\n",
    "import pandas as pd\n",
    "import matplotlib.pyplot as plt\n",
    "import plotly.graph_objects as go\n",
    "\n",
    "# Import custom utility functions\n",
    "from utils import p, expected, sampl_fair_opt_step, opt_step"
   ]
  },
  {
   "cell_type": "code",
   "execution_count": 29,
   "id": "d7bd9193",
   "metadata": {},
   "outputs": [],
   "source": [
    "# Set experiment parameters\n",
    "np.random.seed(1)\n",
    "\n",
    "# Distribution parameters\n",
    "mean_a, std_a = 0.5, 1\n",
    "mean_b, std_b = 0.0, 1\n",
    "\n",
    "# Domain of alpha values to test\n",
    "alpha_min, alpha_max = 0.01, 0.6\n",
    "alphas = np.linspace(alpha_min, alpha_max, num=60)\n",
    "\n",
    "# Sample size of each distribution\n",
    "n = 5\n",
    "\n",
    "# Generate samples from normal distributions\n",
    "a = np.random.normal(mean_a, std_a, n)\n",
    "b = np.random.normal(mean_b, std_b, n)\n",
    "a.sort(), b.sort()\n",
    "w_a = len(a) / (len(a) + len(b))\n",
    "w_b = 1 - w_a\n",
    "\n",
    "#Step Parameters\n",
    "\n",
    "# U+ / U- > C+ / C-\n",
    "u_plus = 1\n",
    "u_minus = -1.1\n",
    "c_plus = 1\n",
    "c_minus = -0.405509\n",
    "# -0.4056\n",
    "# -0.40551"
   ]
  },
  {
   "cell_type": "code",
   "execution_count": 20,
   "id": "ff11b688",
   "metadata": {},
   "outputs": [
    {
     "name": "stdout",
     "output_type": "stream",
     "text": [
      " Assumption 1: \n",
      "    p : a monotonic function, X -> [0,1], e.g. sigmoid\n",
      "     \n",
      " Assumption 2: \n",
      " U+ / U- > C+ / C- is True\n"
     ]
    }
   ],
   "source": [
    "# Assumptions\n",
    "print(f' Assumption 1: {p.__doc__} ')\n",
    "print(f' Assumption 2: \\n U+ / U- > C+ / C- is {(u_plus / u_minus) > (c_plus / c_minus)}' )"
   ]
  },
  {
   "cell_type": "code",
   "execution_count": 21,
   "id": "e6c1aebf",
   "metadata": {},
   "outputs": [
    {
     "name": "stderr",
     "output_type": "stream",
     "text": [
      "100%|██████████| 60/60 [00:00<00:00, 5685.65it/s]\n"
     ]
    }
   ],
   "source": [
    "# Single step optimization\n",
    "\n",
    "x_alphas = []\n",
    "y_mean_A, y_mean_B = [], []\n",
    "y_thresh_A, y_thresh_B = [], []\n",
    "y_util = []\n",
    "y_pof = [] # Price of fairness\n",
    "\n",
    "\n",
    "y_opt_util = []\n",
    "\n",
    "B_temp = None\n",
    "\n",
    "opt_util_A, opt_util_B = opt_step(a, u_plus, u_minus, c_plus, c_minus)[0], opt_step(b, u_plus, u_minus, c_plus, c_minus)[0]\n",
    "opt_util_A, opt_util_B  = expected(opt_util_A, 1, -1.1), expected(opt_util_B, 1, -1.1)\n",
    "opt_util_A, opt_util_B = np.sum(opt_util_A), np.sum(opt_util_B)\n",
    "y_opt = w_a * opt_util_A + w_b * opt_util_B\n",
    "\n",
    "for alpha in tqdm(alphas):\n",
    "    results = sampl_fair_opt_step(a, b, u_plus, u_minus, c_plus, c_minus, alpha)\n",
    "    thresh_A, thresh_B, max_util, (A, B) = results\n",
    "    if np.abs(A - B) > alpha:\n",
    "        continue\n",
    "    else:\n",
    "        x_alphas.append(alpha)\n",
    "        y_mean_A.append(A)\n",
    "        y_mean_B.append(B)\n",
    "        y_thresh_A.append(thresh_A)\n",
    "        y_thresh_B.append(thresh_B)\n",
    "        y_util.append(max_util)\n",
    "        pof = 1 - (max_util/y_opt)\n",
    "        y_pof.append(pof)"
   ]
  },
  {
   "cell_type": "code",
   "execution_count": 22,
   "id": "405ad8ae",
   "metadata": {},
   "outputs": [
    {
     "data": {
      "application/vnd.plotly.v1+json": {
       "config": {
        "plotlyServerURL": "https://plot.ly"
       },
       "data": [
        {
         "mode": "markers",
         "name": "Fair Threshold (A)",
         "type": "scatter",
         "x": [
          0.3,
          0.31,
          0.32,
          0.33,
          0.34,
          0.35000000000000003,
          0.36000000000000004,
          0.37,
          0.38,
          0.39,
          0.4,
          0.41000000000000003,
          0.42000000000000004,
          0.43,
          0.44,
          0.45,
          0.46,
          0.47000000000000003,
          0.48000000000000004,
          0.49,
          0.5,
          0.51,
          0.52,
          0.53,
          0.54,
          0.55,
          0.56,
          0.5700000000000001,
          0.5800000000000001,
          0.59,
          0.6
         ],
         "y": [
          2.2448117642164798,
          2.2448117642164798,
          2.2448117642164798,
          2.2448117642164798,
          2.2448117642164798,
          2.2448117642164798,
          2.2448117642164798,
          2.2448117642164798,
          2.1243453636632417,
          2.1243453636632417,
          2.1243453636632417,
          2.1243453636632417,
          2.1243453636632417,
          2.1243453636632417,
          2.1243453636632417,
          2.1243453636632417,
          2.1243453636632417,
          1.3654076293246784,
          1.3654076293246784,
          1.3654076293246784,
          1.3654076293246784,
          1.3654076293246784,
          1.3654076293246784,
          1.3654076293246784,
          0.8190390960570986,
          0.8190390960570986,
          0.8190390960570986,
          0.8190390960570986,
          0.8190390960570986,
          0.8190390960570986,
          0.2506296245225899
         ]
        },
        {
         "mode": "markers",
         "name": "Fair Threshold (B)",
         "type": "scatter",
         "x": [
          0.3,
          0.31,
          0.32,
          0.33,
          0.34,
          0.35000000000000003,
          0.36000000000000004,
          0.37,
          0.38,
          0.39,
          0.4,
          0.41000000000000003,
          0.42000000000000004,
          0.43,
          0.44,
          0.45,
          0.46,
          0.47000000000000003,
          0.48000000000000004,
          0.49,
          0.5,
          0.51,
          0.52,
          0.53,
          0.54,
          0.55,
          0.56,
          0.5700000000000001,
          0.5800000000000001,
          0.59,
          0.6
         ],
         "y": [
          -1.0998912673140309,
          -1.0998912673140309,
          -1.0998912673140309,
          -1.0998912673140309,
          -1.0998912673140309,
          -1.0998912673140309,
          -1.0998912673140309,
          -1.0998912673140309,
          -1.0998912673140309,
          -1.0998912673140309,
          -1.0998912673140309,
          -1.0998912673140309,
          -1.0998912673140309,
          -1.0998912673140309,
          -1.0998912673140309,
          -1.0998912673140309,
          -1.0998912673140309,
          -1.0998912673140309,
          -1.0998912673140309,
          -1.0998912673140309,
          -1.0998912673140309,
          -1.0998912673140309,
          -1.0998912673140309,
          -1.0998912673140309,
          -1.0998912673140309,
          -1.0998912673140309,
          -1.0998912673140309,
          -1.0998912673140309,
          -1.0998912673140309,
          -1.0998912673140309,
          -1.0998912673140309
         ]
        },
        {
         "mode": "markers",
         "name": "Utility",
         "type": "scatter",
         "x": [
          0.3,
          0.31,
          0.32,
          0.33,
          0.34,
          0.35000000000000003,
          0.36000000000000004,
          0.37,
          0.38,
          0.39,
          0.4,
          0.41000000000000003,
          0.42000000000000004,
          0.43,
          0.44,
          0.45,
          0.46,
          0.47000000000000003,
          0.48000000000000004,
          0.49,
          0.5,
          0.51,
          0.52,
          0.53,
          0.54,
          0.55,
          0.56,
          0.5700000000000001,
          0.5800000000000001,
          0.59,
          0.6
         ],
         "y": [
          0.47525592614472806,
          0.47525592614472806,
          0.47525592614472806,
          0.47525592614472806,
          0.47525592614472806,
          0.47525592614472806,
          0.47525592614472806,
          0.47525592614472806,
          0.5310194410086535,
          0.5310194410086535,
          0.5310194410086535,
          0.5310194410086535,
          0.5310194410086535,
          0.5310194410086535,
          0.5310194410086535,
          0.5310194410086535,
          0.5310194410086535,
          0.592079704878467,
          0.592079704878467,
          0.592079704878467,
          0.592079704878467,
          0.592079704878467,
          0.592079704878467,
          0.592079704878467,
          0.6889582960142675,
          0.6889582960142675,
          0.6889582960142675,
          0.6889582960142675,
          0.6889582960142675,
          0.6889582960142675,
          0.8006783246205063
         ],
         "yaxis": "y2"
        }
       ],
       "layout": {
        "height": 600,
        "legend": {
         "x": 0,
         "xanchor": "right",
         "yanchor": "top"
        },
        "showlegend": true,
        "template": {
         "data": {
          "bar": [
           {
            "error_x": {
             "color": "#2a3f5f"
            },
            "error_y": {
             "color": "#2a3f5f"
            },
            "marker": {
             "line": {
              "color": "#E5ECF6",
              "width": 0.5
             },
             "pattern": {
              "fillmode": "overlay",
              "size": 10,
              "solidity": 0.2
             }
            },
            "type": "bar"
           }
          ],
          "barpolar": [
           {
            "marker": {
             "line": {
              "color": "#E5ECF6",
              "width": 0.5
             },
             "pattern": {
              "fillmode": "overlay",
              "size": 10,
              "solidity": 0.2
             }
            },
            "type": "barpolar"
           }
          ],
          "carpet": [
           {
            "aaxis": {
             "endlinecolor": "#2a3f5f",
             "gridcolor": "white",
             "linecolor": "white",
             "minorgridcolor": "white",
             "startlinecolor": "#2a3f5f"
            },
            "baxis": {
             "endlinecolor": "#2a3f5f",
             "gridcolor": "white",
             "linecolor": "white",
             "minorgridcolor": "white",
             "startlinecolor": "#2a3f5f"
            },
            "type": "carpet"
           }
          ],
          "choropleth": [
           {
            "colorbar": {
             "outlinewidth": 0,
             "ticks": ""
            },
            "type": "choropleth"
           }
          ],
          "contour": [
           {
            "colorbar": {
             "outlinewidth": 0,
             "ticks": ""
            },
            "colorscale": [
             [
              0,
              "#0d0887"
             ],
             [
              0.1111111111111111,
              "#46039f"
             ],
             [
              0.2222222222222222,
              "#7201a8"
             ],
             [
              0.3333333333333333,
              "#9c179e"
             ],
             [
              0.4444444444444444,
              "#bd3786"
             ],
             [
              0.5555555555555556,
              "#d8576b"
             ],
             [
              0.6666666666666666,
              "#ed7953"
             ],
             [
              0.7777777777777778,
              "#fb9f3a"
             ],
             [
              0.8888888888888888,
              "#fdca26"
             ],
             [
              1,
              "#f0f921"
             ]
            ],
            "type": "contour"
           }
          ],
          "contourcarpet": [
           {
            "colorbar": {
             "outlinewidth": 0,
             "ticks": ""
            },
            "type": "contourcarpet"
           }
          ],
          "heatmap": [
           {
            "colorbar": {
             "outlinewidth": 0,
             "ticks": ""
            },
            "colorscale": [
             [
              0,
              "#0d0887"
             ],
             [
              0.1111111111111111,
              "#46039f"
             ],
             [
              0.2222222222222222,
              "#7201a8"
             ],
             [
              0.3333333333333333,
              "#9c179e"
             ],
             [
              0.4444444444444444,
              "#bd3786"
             ],
             [
              0.5555555555555556,
              "#d8576b"
             ],
             [
              0.6666666666666666,
              "#ed7953"
             ],
             [
              0.7777777777777778,
              "#fb9f3a"
             ],
             [
              0.8888888888888888,
              "#fdca26"
             ],
             [
              1,
              "#f0f921"
             ]
            ],
            "type": "heatmap"
           }
          ],
          "histogram": [
           {
            "marker": {
             "pattern": {
              "fillmode": "overlay",
              "size": 10,
              "solidity": 0.2
             }
            },
            "type": "histogram"
           }
          ],
          "histogram2d": [
           {
            "colorbar": {
             "outlinewidth": 0,
             "ticks": ""
            },
            "colorscale": [
             [
              0,
              "#0d0887"
             ],
             [
              0.1111111111111111,
              "#46039f"
             ],
             [
              0.2222222222222222,
              "#7201a8"
             ],
             [
              0.3333333333333333,
              "#9c179e"
             ],
             [
              0.4444444444444444,
              "#bd3786"
             ],
             [
              0.5555555555555556,
              "#d8576b"
             ],
             [
              0.6666666666666666,
              "#ed7953"
             ],
             [
              0.7777777777777778,
              "#fb9f3a"
             ],
             [
              0.8888888888888888,
              "#fdca26"
             ],
             [
              1,
              "#f0f921"
             ]
            ],
            "type": "histogram2d"
           }
          ],
          "histogram2dcontour": [
           {
            "colorbar": {
             "outlinewidth": 0,
             "ticks": ""
            },
            "colorscale": [
             [
              0,
              "#0d0887"
             ],
             [
              0.1111111111111111,
              "#46039f"
             ],
             [
              0.2222222222222222,
              "#7201a8"
             ],
             [
              0.3333333333333333,
              "#9c179e"
             ],
             [
              0.4444444444444444,
              "#bd3786"
             ],
             [
              0.5555555555555556,
              "#d8576b"
             ],
             [
              0.6666666666666666,
              "#ed7953"
             ],
             [
              0.7777777777777778,
              "#fb9f3a"
             ],
             [
              0.8888888888888888,
              "#fdca26"
             ],
             [
              1,
              "#f0f921"
             ]
            ],
            "type": "histogram2dcontour"
           }
          ],
          "mesh3d": [
           {
            "colorbar": {
             "outlinewidth": 0,
             "ticks": ""
            },
            "type": "mesh3d"
           }
          ],
          "parcoords": [
           {
            "line": {
             "colorbar": {
              "outlinewidth": 0,
              "ticks": ""
             }
            },
            "type": "parcoords"
           }
          ],
          "pie": [
           {
            "automargin": true,
            "type": "pie"
           }
          ],
          "scatter": [
           {
            "fillpattern": {
             "fillmode": "overlay",
             "size": 10,
             "solidity": 0.2
            },
            "type": "scatter"
           }
          ],
          "scatter3d": [
           {
            "line": {
             "colorbar": {
              "outlinewidth": 0,
              "ticks": ""
             }
            },
            "marker": {
             "colorbar": {
              "outlinewidth": 0,
              "ticks": ""
             }
            },
            "type": "scatter3d"
           }
          ],
          "scattercarpet": [
           {
            "marker": {
             "colorbar": {
              "outlinewidth": 0,
              "ticks": ""
             }
            },
            "type": "scattercarpet"
           }
          ],
          "scattergeo": [
           {
            "marker": {
             "colorbar": {
              "outlinewidth": 0,
              "ticks": ""
             }
            },
            "type": "scattergeo"
           }
          ],
          "scattergl": [
           {
            "marker": {
             "colorbar": {
              "outlinewidth": 0,
              "ticks": ""
             }
            },
            "type": "scattergl"
           }
          ],
          "scattermap": [
           {
            "marker": {
             "colorbar": {
              "outlinewidth": 0,
              "ticks": ""
             }
            },
            "type": "scattermap"
           }
          ],
          "scattermapbox": [
           {
            "marker": {
             "colorbar": {
              "outlinewidth": 0,
              "ticks": ""
             }
            },
            "type": "scattermapbox"
           }
          ],
          "scatterpolar": [
           {
            "marker": {
             "colorbar": {
              "outlinewidth": 0,
              "ticks": ""
             }
            },
            "type": "scatterpolar"
           }
          ],
          "scatterpolargl": [
           {
            "marker": {
             "colorbar": {
              "outlinewidth": 0,
              "ticks": ""
             }
            },
            "type": "scatterpolargl"
           }
          ],
          "scatterternary": [
           {
            "marker": {
             "colorbar": {
              "outlinewidth": 0,
              "ticks": ""
             }
            },
            "type": "scatterternary"
           }
          ],
          "surface": [
           {
            "colorbar": {
             "outlinewidth": 0,
             "ticks": ""
            },
            "colorscale": [
             [
              0,
              "#0d0887"
             ],
             [
              0.1111111111111111,
              "#46039f"
             ],
             [
              0.2222222222222222,
              "#7201a8"
             ],
             [
              0.3333333333333333,
              "#9c179e"
             ],
             [
              0.4444444444444444,
              "#bd3786"
             ],
             [
              0.5555555555555556,
              "#d8576b"
             ],
             [
              0.6666666666666666,
              "#ed7953"
             ],
             [
              0.7777777777777778,
              "#fb9f3a"
             ],
             [
              0.8888888888888888,
              "#fdca26"
             ],
             [
              1,
              "#f0f921"
             ]
            ],
            "type": "surface"
           }
          ],
          "table": [
           {
            "cells": {
             "fill": {
              "color": "#EBF0F8"
             },
             "line": {
              "color": "white"
             }
            },
            "header": {
             "fill": {
              "color": "#C8D4E3"
             },
             "line": {
              "color": "white"
             }
            },
            "type": "table"
           }
          ]
         },
         "layout": {
          "annotationdefaults": {
           "arrowcolor": "#2a3f5f",
           "arrowhead": 0,
           "arrowwidth": 1
          },
          "autotypenumbers": "strict",
          "coloraxis": {
           "colorbar": {
            "outlinewidth": 0,
            "ticks": ""
           }
          },
          "colorscale": {
           "diverging": [
            [
             0,
             "#8e0152"
            ],
            [
             0.1,
             "#c51b7d"
            ],
            [
             0.2,
             "#de77ae"
            ],
            [
             0.3,
             "#f1b6da"
            ],
            [
             0.4,
             "#fde0ef"
            ],
            [
             0.5,
             "#f7f7f7"
            ],
            [
             0.6,
             "#e6f5d0"
            ],
            [
             0.7,
             "#b8e186"
            ],
            [
             0.8,
             "#7fbc41"
            ],
            [
             0.9,
             "#4d9221"
            ],
            [
             1,
             "#276419"
            ]
           ],
           "sequential": [
            [
             0,
             "#0d0887"
            ],
            [
             0.1111111111111111,
             "#46039f"
            ],
            [
             0.2222222222222222,
             "#7201a8"
            ],
            [
             0.3333333333333333,
             "#9c179e"
            ],
            [
             0.4444444444444444,
             "#bd3786"
            ],
            [
             0.5555555555555556,
             "#d8576b"
            ],
            [
             0.6666666666666666,
             "#ed7953"
            ],
            [
             0.7777777777777778,
             "#fb9f3a"
            ],
            [
             0.8888888888888888,
             "#fdca26"
            ],
            [
             1,
             "#f0f921"
            ]
           ],
           "sequentialminus": [
            [
             0,
             "#0d0887"
            ],
            [
             0.1111111111111111,
             "#46039f"
            ],
            [
             0.2222222222222222,
             "#7201a8"
            ],
            [
             0.3333333333333333,
             "#9c179e"
            ],
            [
             0.4444444444444444,
             "#bd3786"
            ],
            [
             0.5555555555555556,
             "#d8576b"
            ],
            [
             0.6666666666666666,
             "#ed7953"
            ],
            [
             0.7777777777777778,
             "#fb9f3a"
            ],
            [
             0.8888888888888888,
             "#fdca26"
            ],
            [
             1,
             "#f0f921"
            ]
           ]
          },
          "colorway": [
           "#636efa",
           "#EF553B",
           "#00cc96",
           "#ab63fa",
           "#FFA15A",
           "#19d3f3",
           "#FF6692",
           "#B6E880",
           "#FF97FF",
           "#FECB52"
          ],
          "font": {
           "color": "#2a3f5f"
          },
          "geo": {
           "bgcolor": "white",
           "lakecolor": "white",
           "landcolor": "#E5ECF6",
           "showlakes": true,
           "showland": true,
           "subunitcolor": "white"
          },
          "hoverlabel": {
           "align": "left"
          },
          "hovermode": "closest",
          "mapbox": {
           "style": "light"
          },
          "paper_bgcolor": "white",
          "plot_bgcolor": "#E5ECF6",
          "polar": {
           "angularaxis": {
            "gridcolor": "white",
            "linecolor": "white",
            "ticks": ""
           },
           "bgcolor": "#E5ECF6",
           "radialaxis": {
            "gridcolor": "white",
            "linecolor": "white",
            "ticks": ""
           }
          },
          "scene": {
           "xaxis": {
            "backgroundcolor": "#E5ECF6",
            "gridcolor": "white",
            "gridwidth": 2,
            "linecolor": "white",
            "showbackground": true,
            "ticks": "",
            "zerolinecolor": "white"
           },
           "yaxis": {
            "backgroundcolor": "#E5ECF6",
            "gridcolor": "white",
            "gridwidth": 2,
            "linecolor": "white",
            "showbackground": true,
            "ticks": "",
            "zerolinecolor": "white"
           },
           "zaxis": {
            "backgroundcolor": "#E5ECF6",
            "gridcolor": "white",
            "gridwidth": 2,
            "linecolor": "white",
            "showbackground": true,
            "ticks": "",
            "zerolinecolor": "white"
           }
          },
          "shapedefaults": {
           "line": {
            "color": "#2a3f5f"
           }
          },
          "ternary": {
           "aaxis": {
            "gridcolor": "white",
            "linecolor": "white",
            "ticks": ""
           },
           "baxis": {
            "gridcolor": "white",
            "linecolor": "white",
            "ticks": ""
           },
           "bgcolor": "#E5ECF6",
           "caxis": {
            "gridcolor": "white",
            "linecolor": "white",
            "ticks": ""
           }
          },
          "title": {
           "x": 0.05
          },
          "xaxis": {
           "automargin": true,
           "gridcolor": "white",
           "linecolor": "white",
           "ticks": "",
           "title": {
            "standoff": 15
           },
           "zerolinecolor": "white",
           "zerolinewidth": 2
          },
          "yaxis": {
           "automargin": true,
           "gridcolor": "white",
           "linecolor": "white",
           "ticks": "",
           "title": {
            "standoff": 15
           },
           "zerolinecolor": "white",
           "zerolinewidth": 2
          }
         }
        },
        "title": {
         "text": "Single Step Thresholding Policy"
        },
        "xaxis": {
         "title": {
          "text": "Alpha"
         }
        },
        "yaxis": {
         "title": {
          "text": "Threshold"
         }
        },
        "yaxis2": {
         "overlaying": "y",
         "side": "right",
         "title": {
          "text": "Utility"
         }
        }
       }
      }
     },
     "metadata": {},
     "output_type": "display_data"
    }
   ],
   "source": [
    "def plot_graphs():\n",
    "    \n",
    "    # Traces\n",
    "    thresholds_A = go.Scatter(x=x_alphas, y=y_thresh_A, mode='markers', name=\"Fair Threshold (A)\")\n",
    "    thresholds_B = go.Scatter(x=x_alphas, y=y_thresh_B, mode='markers', name=\"Fair Threshold (B)\") \n",
    "    utilities = go.Scatter(x=x_alphas, y=y_util, mode='markers', name='Utility', yaxis='y2')\n",
    "\n",
    "    # Create figure\n",
    "    fig = go.Figure(data=[thresholds_A, thresholds_B, utilities])\n",
    "\n",
    "    # Add toggle buttons\n",
    "    fig.update_layout(\n",
    "        height = 600,\n",
    "        title='Single Step Thresholding Policy',\n",
    "        xaxis=dict(title=\"Alpha\"),\n",
    "        yaxis=dict(title=\"Threshold\"),\n",
    "        yaxis2=dict(\n",
    "            title=\"Utility\",\n",
    "            overlaying=\"y\",\n",
    "            side=\"right\"\n",
    "        ),\n",
    "        legend=dict(\n",
    "            x=0,          # Right edge of the plotting area\n",
    "            #y=1,          # Top of the plotting area\n",
    "            xanchor='right',   # Legend's left edge aligns at x=1\n",
    "            yanchor='top'     # Legend's top edge aligns at y=1\n",
    "        ),\n",
    "        showlegend=True,\n",
    "    )\n",
    "\n",
    "    fig.show()\n",
    "plot_graphs()"
   ]
  },
  {
   "cell_type": "code",
   "execution_count": 23,
   "id": "ef082a83",
   "metadata": {},
   "outputs": [
    {
     "name": "stderr",
     "output_type": "stream",
     "text": [
      "100%|██████████| 60/60 [00:00<00:00, 247.84it/s]"
     ]
    },
    {
     "name": "stdout",
     "output_type": "stream",
     "text": [
      "True\n"
     ]
    },
    {
     "name": "stderr",
     "output_type": "stream",
     "text": [
      "\n"
     ]
    }
   ],
   "source": [
    "# Experiment 0: Check if vectorized algorithm is the same as the original\n",
    "from experiment_0 import experiment_0\n",
    "print( (x_alphas, y_thresh_A, y_thresh_B) == experiment_0(a, b, u_plus, u_minus, c_plus, c_minus, w_a, w_b, alphas, a, b) )"
   ]
  },
  {
   "cell_type": "code",
   "execution_count": 24,
   "id": "b5eded16",
   "metadata": {},
   "outputs": [
    {
     "ename": "ImportError",
     "evalue": "cannot import name 'alt_fair_opt_step' from 'utils' (c:\\Users\\joelj\\OneDrive\\Desktop\\RoAR\\fairness\\utils.py)",
     "output_type": "error",
     "traceback": [
      "\u001b[31m---------------------------------------------------------------------------\u001b[39m",
      "\u001b[31mImportError\u001b[39m                               Traceback (most recent call last)",
      "\u001b[36mCell\u001b[39m\u001b[36m \u001b[39m\u001b[32mIn[24]\u001b[39m\u001b[32m, line 2\u001b[39m\n\u001b[32m      1\u001b[39m \u001b[38;5;66;03m# Experiment 2\u001b[39;00m\n\u001b[32m----> \u001b[39m\u001b[32m2\u001b[39m \u001b[38;5;28;01mfrom\u001b[39;00m\u001b[38;5;250m \u001b[39m\u001b[34;01mexperiment_2\u001b[39;00m\u001b[38;5;250m \u001b[39m\u001b[38;5;28;01mimport\u001b[39;00m experiment_2\n\u001b[32m      3\u001b[39m test_alpha = \u001b[32m0.52\u001b[39m\n\u001b[32m      4\u001b[39m ex2a, ex2b = experiment_2(a, b, u_plus, u_minus, c_plus, c_minus, test_alpha, w_a, w_b, thresh_B, a, alphas)\n",
      "\u001b[36mFile \u001b[39m\u001b[32mc:\\Users\\joelj\\OneDrive\\Desktop\\RoAR\\fairness\\experiment_2.py:1\u001b[39m\n\u001b[32m----> \u001b[39m\u001b[32m1\u001b[39m \u001b[38;5;28;01mfrom\u001b[39;00m\u001b[38;5;250m \u001b[39m\u001b[34;01mutils\u001b[39;00m\u001b[38;5;250m \u001b[39m\u001b[38;5;28;01mimport\u001b[39;00m expected, alt_fair_opt_step\n\u001b[32m      2\u001b[39m \u001b[38;5;28;01mimport\u001b[39;00m\u001b[38;5;250m \u001b[39m\u001b[34;01mplotly\u001b[39;00m\u001b[34;01m.\u001b[39;00m\u001b[34;01mgraph_objects\u001b[39;00m\u001b[38;5;250m \u001b[39m\u001b[38;5;28;01mas\u001b[39;00m\u001b[38;5;250m \u001b[39m\u001b[34;01mgo\u001b[39;00m\n\u001b[32m      3\u001b[39m \u001b[38;5;28;01mimport\u001b[39;00m\u001b[38;5;250m \u001b[39m\u001b[34;01mnumpy\u001b[39;00m\u001b[38;5;250m \u001b[39m\u001b[38;5;28;01mas\u001b[39;00m\u001b[38;5;250m \u001b[39m\u001b[34;01mnp\u001b[39;00m\n",
      "\u001b[31mImportError\u001b[39m: cannot import name 'alt_fair_opt_step' from 'utils' (c:\\Users\\joelj\\OneDrive\\Desktop\\RoAR\\fairness\\utils.py)"
     ]
    }
   ],
   "source": [
    "# Experiment 2\n",
    "from experiment_2 import experiment_2\n",
    "test_alpha = 0.52\n",
    "ex2a, ex2b = experiment_2(a, b, u_plus, u_minus, c_plus, c_minus, test_alpha, w_a, w_b, thresh_B, a, alphas)\n",
    "ex2a.update_layout(\n",
    "    xaxis_title ='Threshold A (using samples)'\n",
    ")\n",
    "ex2a.show()\n",
    "#ex2b.show()\n",
    "\n",
    "trace1 = ex2a.data[1]\n",
    "trace2 = ex2a.data[2]\n",
    "mean_diffs = dict(zip(trace1.x, trace1.y))\n",
    "utilities = dict(zip(trace2.x, trace2.y))\n",
    "\n",
    "y_thresh_A = np.array(y_thresh_A)\n",
    "y_thresh_B = np.array(y_thresh_B)\n",
    "x_alphas = np.array(x_alphas)\n",
    "indices = np.where(y_thresh_A < y_thresh_B)[0]\n",
    "test_alphas  = x_alphas[indices]\n",
    "print(test_alphas)\n",
    "#test_alphas = np.arange(0.54, 0.63, 0.01)\n",
    "results = []\n",
    "\n",
    "for test_alpha in test_alphas:\n",
    "    # Filter mean_diffs under current threshold\n",
    "    filtered = {k: v for k, v in mean_diffs.items() if v < test_alpha}\n",
    "\n",
    "    # Find before and after keys\n",
    "    before_keys = [k for k in filtered if k < 0]\n",
    "    after_keys = [k for k in filtered if k > 0]\n",
    "\n",
    "    before = max(before_keys) if before_keys else None\n",
    "    after = min(after_keys) if after_keys else None\n",
    "\n",
    "    if before is not None and after is not None:\n",
    "        # Prepare data\n",
    "        utility_before = utilities[before]\n",
    "        utility_after = utilities[after]\n",
    "        utility_diff = np.abs(utility_after - utility_before)\n",
    "\n",
    "        # Build vertical block\n",
    "        block = pd.DataFrame([\n",
    "            {\n",
    "                'Test Alpha': round(test_alpha, 3),\n",
    "                'Side': 'Negative',\n",
    "                'Threshold': before,\n",
    "                'Mean Difference': mean_diffs[before],\n",
    "                'Utility': utility_before\n",
    "            },\n",
    "            {\n",
    "                'Test Alpha': round(test_alpha, 3),\n",
    "                'Side': 'Positive',\n",
    "                'Threshold': after,\n",
    "                'Mean Difference': mean_diffs[after],\n",
    "                'Utility': utility_after\n",
    "            },\n",
    "            {\n",
    "                'Test Alpha': round(test_alpha, 3),\n",
    "                'Side': 'Δ Utility',\n",
    "                'Threshold': '',\n",
    "                'Mean Difference': '',\n",
    "                'Utility': utility_diff\n",
    "            }\n",
    "        ])\n",
    "\n",
    "        print(block.to_string(index=False))\n",
    "        print(\"--------\")\n"
   ]
  },
  {
   "cell_type": "code",
   "execution_count": 25,
   "id": "cefc38da",
   "metadata": {},
   "outputs": [
    {
     "ename": "ValueError",
     "evalue": "Must pass 2-d input. shape=(100, 100, 10, 10)",
     "output_type": "error",
     "traceback": [
      "\u001b[31m---------------------------------------------------------------------------\u001b[39m",
      "\u001b[31mValueError\u001b[39m                                Traceback (most recent call last)",
      "\u001b[36mCell\u001b[39m\u001b[36m \u001b[39m\u001b[32mIn[25]\u001b[39m\u001b[32m, line 59\u001b[39m\n\u001b[32m     57\u001b[39m \u001b[38;5;66;03m# Assume utilities is a 2D array of shape (T_a, T_b)\u001b[39;00m\n\u001b[32m     58\u001b[39m plt.figure(figsize=(\u001b[32m10\u001b[39m, \u001b[32m8\u001b[39m))\n\u001b[32m---> \u001b[39m\u001b[32m59\u001b[39m \u001b[43msns\u001b[49m\u001b[43m.\u001b[49m\u001b[43mheatmap\u001b[49m\u001b[43m(\u001b[49m\u001b[43mutilities\u001b[49m\u001b[43m,\u001b[49m\u001b[43m \u001b[49m\u001b[43mcmap\u001b[49m\u001b[43m=\u001b[49m\u001b[33;43m'\u001b[39;49m\u001b[33;43mviridis\u001b[39;49m\u001b[33;43m'\u001b[39;49m\u001b[43m,\u001b[49m\u001b[43m \u001b[49m\u001b[43mxticklabels\u001b[49m\u001b[43m=\u001b[49m\u001b[38;5;28;43;01mTrue\u001b[39;49;00m\u001b[43m,\u001b[49m\u001b[43m \u001b[49m\u001b[43myticklabels\u001b[49m\u001b[43m=\u001b[49m\u001b[38;5;28;43;01mTrue\u001b[39;49;00m\u001b[43m)\u001b[49m\n\u001b[32m     60\u001b[39m plt.title(\u001b[33m\"\u001b[39m\u001b[33mUtilities Heatmap\u001b[39m\u001b[33m\"\u001b[39m)\n\u001b[32m     61\u001b[39m plt.xlabel(\u001b[33m\"\u001b[39m\u001b[33mThreshold index (b)\u001b[39m\u001b[33m\"\u001b[39m)\n",
      "\u001b[36mFile \u001b[39m\u001b[32m~\\AppData\\Local\\Packages\\PythonSoftwareFoundation.Python.3.12_qbz5n2kfra8p0\\LocalCache\\local-packages\\Python312\\site-packages\\seaborn\\matrix.py:446\u001b[39m, in \u001b[36mheatmap\u001b[39m\u001b[34m(data, vmin, vmax, cmap, center, robust, annot, fmt, annot_kws, linewidths, linecolor, cbar, cbar_kws, cbar_ax, square, xticklabels, yticklabels, mask, ax, **kwargs)\u001b[39m\n\u001b[32m    365\u001b[39m \u001b[38;5;250m\u001b[39m\u001b[33;03m\"\"\"Plot rectangular data as a color-encoded matrix.\u001b[39;00m\n\u001b[32m    366\u001b[39m \n\u001b[32m    367\u001b[39m \u001b[33;03mThis is an Axes-level function and will draw the heatmap into the\u001b[39;00m\n\u001b[32m   (...)\u001b[39m\u001b[32m    443\u001b[39m \n\u001b[32m    444\u001b[39m \u001b[33;03m\"\"\"\u001b[39;00m\n\u001b[32m    445\u001b[39m \u001b[38;5;66;03m# Initialize the plotter object\u001b[39;00m\n\u001b[32m--> \u001b[39m\u001b[32m446\u001b[39m plotter = \u001b[43m_HeatMapper\u001b[49m\u001b[43m(\u001b[49m\u001b[43mdata\u001b[49m\u001b[43m,\u001b[49m\u001b[43m \u001b[49m\u001b[43mvmin\u001b[49m\u001b[43m,\u001b[49m\u001b[43m \u001b[49m\u001b[43mvmax\u001b[49m\u001b[43m,\u001b[49m\u001b[43m \u001b[49m\u001b[43mcmap\u001b[49m\u001b[43m,\u001b[49m\u001b[43m \u001b[49m\u001b[43mcenter\u001b[49m\u001b[43m,\u001b[49m\u001b[43m \u001b[49m\u001b[43mrobust\u001b[49m\u001b[43m,\u001b[49m\u001b[43m \u001b[49m\u001b[43mannot\u001b[49m\u001b[43m,\u001b[49m\u001b[43m \u001b[49m\u001b[43mfmt\u001b[49m\u001b[43m,\u001b[49m\n\u001b[32m    447\u001b[39m \u001b[43m                      \u001b[49m\u001b[43mannot_kws\u001b[49m\u001b[43m,\u001b[49m\u001b[43m \u001b[49m\u001b[43mcbar\u001b[49m\u001b[43m,\u001b[49m\u001b[43m \u001b[49m\u001b[43mcbar_kws\u001b[49m\u001b[43m,\u001b[49m\u001b[43m \u001b[49m\u001b[43mxticklabels\u001b[49m\u001b[43m,\u001b[49m\n\u001b[32m    448\u001b[39m \u001b[43m                      \u001b[49m\u001b[43myticklabels\u001b[49m\u001b[43m,\u001b[49m\u001b[43m \u001b[49m\u001b[43mmask\u001b[49m\u001b[43m)\u001b[49m\n\u001b[32m    450\u001b[39m \u001b[38;5;66;03m# Add the pcolormesh kwargs here\u001b[39;00m\n\u001b[32m    451\u001b[39m kwargs[\u001b[33m\"\u001b[39m\u001b[33mlinewidths\u001b[39m\u001b[33m\"\u001b[39m] = linewidths\n",
      "\u001b[36mFile \u001b[39m\u001b[32m~\\AppData\\Local\\Packages\\PythonSoftwareFoundation.Python.3.12_qbz5n2kfra8p0\\LocalCache\\local-packages\\Python312\\site-packages\\seaborn\\matrix.py:110\u001b[39m, in \u001b[36m_HeatMapper.__init__\u001b[39m\u001b[34m(self, data, vmin, vmax, cmap, center, robust, annot, fmt, annot_kws, cbar, cbar_kws, xticklabels, yticklabels, mask)\u001b[39m\n\u001b[32m    108\u001b[39m \u001b[38;5;28;01melse\u001b[39;00m:\n\u001b[32m    109\u001b[39m     plot_data = np.asarray(data)\n\u001b[32m--> \u001b[39m\u001b[32m110\u001b[39m     data = \u001b[43mpd\u001b[49m\u001b[43m.\u001b[49m\u001b[43mDataFrame\u001b[49m\u001b[43m(\u001b[49m\u001b[43mplot_data\u001b[49m\u001b[43m)\u001b[49m\n\u001b[32m    112\u001b[39m \u001b[38;5;66;03m# Validate the mask and convert to DataFrame\u001b[39;00m\n\u001b[32m    113\u001b[39m mask = _matrix_mask(data, mask)\n",
      "\u001b[36mFile \u001b[39m\u001b[32m~\\AppData\\Local\\Packages\\PythonSoftwareFoundation.Python.3.12_qbz5n2kfra8p0\\LocalCache\\local-packages\\Python312\\site-packages\\pandas\\core\\frame.py:827\u001b[39m, in \u001b[36mDataFrame.__init__\u001b[39m\u001b[34m(self, data, index, columns, dtype, copy)\u001b[39m\n\u001b[32m    816\u001b[39m         mgr = dict_to_mgr(\n\u001b[32m    817\u001b[39m             \u001b[38;5;66;03m# error: Item \"ndarray\" of \"Union[ndarray, Series, Index]\" has no\u001b[39;00m\n\u001b[32m    818\u001b[39m             \u001b[38;5;66;03m# attribute \"name\"\u001b[39;00m\n\u001b[32m   (...)\u001b[39m\u001b[32m    824\u001b[39m             copy=_copy,\n\u001b[32m    825\u001b[39m         )\n\u001b[32m    826\u001b[39m     \u001b[38;5;28;01melse\u001b[39;00m:\n\u001b[32m--> \u001b[39m\u001b[32m827\u001b[39m         mgr = \u001b[43mndarray_to_mgr\u001b[49m\u001b[43m(\u001b[49m\n\u001b[32m    828\u001b[39m \u001b[43m            \u001b[49m\u001b[43mdata\u001b[49m\u001b[43m,\u001b[49m\n\u001b[32m    829\u001b[39m \u001b[43m            \u001b[49m\u001b[43mindex\u001b[49m\u001b[43m,\u001b[49m\n\u001b[32m    830\u001b[39m \u001b[43m            \u001b[49m\u001b[43mcolumns\u001b[49m\u001b[43m,\u001b[49m\n\u001b[32m    831\u001b[39m \u001b[43m            \u001b[49m\u001b[43mdtype\u001b[49m\u001b[43m=\u001b[49m\u001b[43mdtype\u001b[49m\u001b[43m,\u001b[49m\n\u001b[32m    832\u001b[39m \u001b[43m            \u001b[49m\u001b[43mcopy\u001b[49m\u001b[43m=\u001b[49m\u001b[43mcopy\u001b[49m\u001b[43m,\u001b[49m\n\u001b[32m    833\u001b[39m \u001b[43m            \u001b[49m\u001b[43mtyp\u001b[49m\u001b[43m=\u001b[49m\u001b[43mmanager\u001b[49m\u001b[43m,\u001b[49m\n\u001b[32m    834\u001b[39m \u001b[43m        \u001b[49m\u001b[43m)\u001b[49m\n\u001b[32m    836\u001b[39m \u001b[38;5;66;03m# For data is list-like, or Iterable (will consume into list)\u001b[39;00m\n\u001b[32m    837\u001b[39m \u001b[38;5;28;01melif\u001b[39;00m is_list_like(data):\n",
      "\u001b[36mFile \u001b[39m\u001b[32m~\\AppData\\Local\\Packages\\PythonSoftwareFoundation.Python.3.12_qbz5n2kfra8p0\\LocalCache\\local-packages\\Python312\\site-packages\\pandas\\core\\internals\\construction.py:314\u001b[39m, in \u001b[36mndarray_to_mgr\u001b[39m\u001b[34m(values, index, columns, dtype, copy, typ)\u001b[39m\n\u001b[32m    308\u001b[39m     _copy = (\n\u001b[32m    309\u001b[39m         copy_on_sanitize\n\u001b[32m    310\u001b[39m         \u001b[38;5;28;01mif\u001b[39;00m (dtype \u001b[38;5;129;01mis\u001b[39;00m \u001b[38;5;28;01mNone\u001b[39;00m \u001b[38;5;129;01mor\u001b[39;00m astype_is_view(values.dtype, dtype))\n\u001b[32m    311\u001b[39m         \u001b[38;5;28;01melse\u001b[39;00m \u001b[38;5;28;01mFalse\u001b[39;00m\n\u001b[32m    312\u001b[39m     )\n\u001b[32m    313\u001b[39m     values = np.array(values, copy=_copy)\n\u001b[32m--> \u001b[39m\u001b[32m314\u001b[39m     values = \u001b[43m_ensure_2d\u001b[49m\u001b[43m(\u001b[49m\u001b[43mvalues\u001b[49m\u001b[43m)\u001b[49m\n\u001b[32m    316\u001b[39m \u001b[38;5;28;01melse\u001b[39;00m:\n\u001b[32m    317\u001b[39m     \u001b[38;5;66;03m# by definition an array here\u001b[39;00m\n\u001b[32m    318\u001b[39m     \u001b[38;5;66;03m# the dtypes will be coerced to a single dtype\u001b[39;00m\n\u001b[32m    319\u001b[39m     values = _prep_ndarraylike(values, copy=copy_on_sanitize)\n",
      "\u001b[36mFile \u001b[39m\u001b[32m~\\AppData\\Local\\Packages\\PythonSoftwareFoundation.Python.3.12_qbz5n2kfra8p0\\LocalCache\\local-packages\\Python312\\site-packages\\pandas\\core\\internals\\construction.py:592\u001b[39m, in \u001b[36m_ensure_2d\u001b[39m\u001b[34m(values)\u001b[39m\n\u001b[32m    590\u001b[39m     values = values.reshape((values.shape[\u001b[32m0\u001b[39m], \u001b[32m1\u001b[39m))\n\u001b[32m    591\u001b[39m \u001b[38;5;28;01melif\u001b[39;00m values.ndim != \u001b[32m2\u001b[39m:\n\u001b[32m--> \u001b[39m\u001b[32m592\u001b[39m     \u001b[38;5;28;01mraise\u001b[39;00m \u001b[38;5;167;01mValueError\u001b[39;00m(\u001b[33mf\u001b[39m\u001b[33m\"\u001b[39m\u001b[33mMust pass 2-d input. shape=\u001b[39m\u001b[38;5;132;01m{\u001b[39;00mvalues.shape\u001b[38;5;132;01m}\u001b[39;00m\u001b[33m\"\u001b[39m)\n\u001b[32m    593\u001b[39m \u001b[38;5;28;01mreturn\u001b[39;00m values\n",
      "\u001b[31mValueError\u001b[39m: Must pass 2-d input. shape=(100, 100, 10, 10)"
     ]
    },
    {
     "data": {
      "text/plain": [
       "<Figure size 1000x800 with 0 Axes>"
      ]
     },
     "metadata": {},
     "output_type": "display_data"
    }
   ],
   "source": [
    "def double_step(a, b, u_plus, u_minus, c_plus, c_minus, alphas):\n",
    "    a = np.asarray(a)\n",
    "    b = np.asarray(b)\n",
    "\n",
    "    delta_A = expected(a, c_plus, c_minus)\n",
    "    delta_B = expected(b, c_plus, c_minus)\n",
    "\n",
    "    # Reshape matrices\n",
    "    # Creates vector by vector matrices for a, b, delta_A, and delta_B\n",
    "    N = a.shape[0]\n",
    "    A_matrix = np.repeat(a, N).reshape((N, N))\n",
    "    B_matrix = np.repeat(b, N).reshape((N, N))\n",
    "    delta_A_matrix = np.repeat(delta_A, N).reshape((N, N))\n",
    "    delta_B_matrix = np.repeat(delta_B, N).reshape((N, N))\n",
    "\n",
    "    # === First Step ===\n",
    "    A_matrix = np.where(A_matrix > A_matrix.T, A_matrix + delta_A_matrix, A_matrix)\n",
    "    B_matrix = np.where(B_matrix > B_matrix.T, B_matrix + delta_B_matrix, B_matrix)\n",
    "\n",
    "    # === Second Step ===\n",
    "\n",
    "    # Compute expected change for updated samples\n",
    "    delta_A = expected(A_matrix, c_plus, c_minus)\n",
    "    delta_B = expected(B_matrix, c_plus, c_minus)\n",
    "\n",
    "    # === Step 3: Get thresholds from matrices ===\n",
    "    a_thresh = A_matrix.flatten()\n",
    "    b_thresh = B_matrix.flatten()\n",
    "\n",
    "    # === Step 4: Vectorized thresholding ===\n",
    "\n",
    "    # Shape: [T_a, 1, N, N] and [1, T_b, N, N]\n",
    "    A_expanded = A_matrix[np.newaxis, np.newaxis, :, :]\n",
    "    B_expanded = B_matrix[np.newaxis, np.newaxis, :, :]\n",
    "\n",
    "    # Thresholds reshaped to [T_a, 1, 1, 1] and [1, T_b, 1, 1]\n",
    "    a_thresh = a_thresh[:, np.newaxis, np.newaxis, np.newaxis]\n",
    "    b_thresh = b_thresh[np.newaxis, :, np.newaxis, np.newaxis]\n",
    "\n",
    "    # Broadcast delta_A and delta_B for use in the update\n",
    "    delta_A_broadcast = delta_A  # shape: (N, N)\n",
    "    delta_B_broadcast = delta_B\n",
    "\n",
    "    # Apply second-step policy over all threshold pairs\n",
    "    temp_A = np.where(A_expanded > a_thresh, A_expanded + delta_A_broadcast, A_expanded)\n",
    "    temp_B = np.where(B_expanded > b_thresh, B_expanded + delta_B_broadcast, B_expanded)\n",
    "    \n",
    "    utilities = w_a * expected(temp_A, u_plus, u_minus) + w_b * expected(temp_B, u_plus, u_minus)\n",
    "    mean_diffs = np.mean(np.abs(temp_A - temp_B), axis=(2, 3))\n",
    "\n",
    "    # Result shapes: [T_a, T_b, N, N]\n",
    "    return temp_A, temp_B, utilities\n",
    "temp_A, temp_B, utilities = double_step(a, b, u_plus, u_minus, c_plus, c_minus, alphas)\n",
    "import matplotlib.pyplot as plt\n",
    "import seaborn as sns\n",
    "\n",
    "# Assume utilities is a 2D array of shape (T_a, T_b)\n",
    "plt.figure(figsize=(10, 8))\n",
    "sns.heatmap(utilities, cmap='viridis', xticklabels=True, yticklabels=True)\n",
    "plt.title(\"Utilities Heatmap\")\n",
    "plt.xlabel(\"Threshold index (b)\")\n",
    "plt.ylabel(\"Threshold index (a)\")\n",
    "plt.colorbar(label='Utility')\n",
    "plt.tight_layout()\n",
    "plt.show() \n"
   ]
  },
  {
   "cell_type": "code",
   "execution_count": 30,
   "id": "23725331",
   "metadata": {},
   "outputs": [
    {
     "data": {
      "image/png": "[encoded data removed]",
      "text/plain": [
       "<Figure size 1400x1200 with 2 Axes>"
      ]
     },
     "metadata": {},
     "output_type": "display_data"
    }
   ],
   "source": [
    "def utility_after_two_steps(a, b, u_plus, u_minus, c_plus, c_minus, w_a=0.5, w_b=0.5):\n",
    "    a = np.asarray(a)\n",
    "    b = np.asarray(b)\n",
    "    N = len(a)\n",
    "\n",
    "    delta_A = expected(a, c_plus, c_minus)\n",
    "    delta_B = expected(b, c_plus, c_minus)\n",
    "\n",
    "    A_base = np.repeat(a, N).reshape(N, N)\n",
    "    B_base = np.repeat(b, N).reshape(N, N)\n",
    "    delta_A_matrix = np.repeat(delta_A, N).reshape(N, N)\n",
    "    delta_B_matrix = np.repeat(delta_B, N).reshape(N, N)\n",
    "\n",
    "    # === First Step: Generate threshold pairs from A > A.T and B > B.T ===\n",
    "    A_thresh_vals = A_base.flatten()\n",
    "    B_thresh_vals = B_base.flatten()\n",
    "    threshold_pairs = list(zip(A_thresh_vals, B_thresh_vals))  # T threshold pairs\n",
    "    T = len(threshold_pairs)\n",
    "\n",
    "    utility_matrix = np.zeros((T, T))\n",
    "\n",
    "    for i, (a_thresh_1, b_thresh_1) in enumerate(threshold_pairs):\n",
    "        # First thresholding\n",
    "        A1, B1 = apply_threshold_pair(A_base, B_base, delta_A_matrix, delta_B_matrix, a_thresh_1, b_thresh_1)\n",
    "        delta_A1 = expected(A1, c_plus, c_minus)\n",
    "        delta_B1 = expected(B1, c_plus, c_minus)\n",
    "\n",
    "        for j, (a_thresh_2, b_thresh_2) in enumerate(threshold_pairs):\n",
    "            # Second thresholding\n",
    "            A2, B2 = apply_threshold_pair(A1, B1, delta_A1, delta_B1, a_thresh_2, b_thresh_2)\n",
    "\n",
    "            # Compute utility\n",
    "            utility = w_a * expected(A2, u_plus, u_minus) + w_b * expected(B2, u_plus, u_minus)\n",
    "            utility_matrix[i, j] = np.sum(utility)\n",
    "\n",
    "    return utility_matrix, threshold_pairs\n",
    "def apply_threshold_pair(A, B, delta_A, delta_B, a_thresh, b_thresh):\n",
    "    A_new = np.where(A > a_thresh, A + delta_A, A)\n",
    "    B_new = np.where(B > b_thresh, B + delta_B, B)\n",
    "    return A_new, B_new\n",
    "def plot_utility_heatmap(utility_matrix, threshold_pairs):\n",
    "    import matplotlib.pyplot as plt\n",
    "    import seaborn as sns\n",
    "\n",
    "    labels = [f\"a={round(a, 2)}\\nb={round(b, 2)}\" for a, b in threshold_pairs]\n",
    "\n",
    "    plt.figure(figsize=(14, 12))\n",
    "    sns.heatmap(utility_matrix, xticklabels=labels, yticklabels=labels, cmap='viridis')\n",
    "    plt.title(\"Utility After Two Sequential Threshold Applications\")\n",
    "    plt.xlabel(\"Second Threshold Pair\")\n",
    "    plt.ylabel(\"First Threshold Pair\")\n",
    "    plt.xticks(rotation=90)\n",
    "    plt.yticks(rotation=0)\n",
    "    plt.tight_layout()\n",
    "    plt.show()\n",
    "\n",
    "utility_matrix, threshold_pairs = utility_after_two_steps(\n",
    "    a, b, u_plus, u_minus, c_plus, c_minus\n",
    ")\n",
    "plot_utility_heatmap(utility_matrix, threshold_pairs)\n"
   ]
  },
  {
   "cell_type": "code",
   "execution_count": null,
   "id": "d8834f6d",
   "metadata": {},
   "outputs": [],
   "source": [
    "import numpy as np\n",
    "import matplotlib.pyplot as plt\n",
    "\n",
    "def test(a, b, u_plus, u_minus, c_plus, c_minus, w_a, w_b):\n",
    "    a = np.asarray(a)\n",
    "    b = np.asarray(b)\n",
    "\n",
    "    delta_A = expected(a, c_plus, c_minus)\n",
    "    delta_B = expected(b, c_plus, c_minus)\n",
    "\n",
    "    N = a.shape[0]\n",
    "    A_matrix = np.repeat(a, N).reshape((N, N))\n",
    "    B_matrix = np.repeat(b, N).reshape((N, N))\n",
    "    delta_A_matrix = np.repeat(delta_A, N).reshape((N, N))\n",
    "    delta_B_matrix = np.repeat(delta_B, N).reshape((N, N))\n",
    "\n",
    "    A_matrix = np.where(A_matrix > A_matrix.T, A_matrix + delta_A_matrix, A_matrix)\n",
    "    B_matrix = np.where(B_matrix > B_matrix.T, B_matrix + delta_B_matrix, B_matrix)\n",
    "\n",
    "    columns = [(A_matrix[:, [i]], B_matrix[:, [i]]) for i in range(N)]\n",
    "    final = []\n",
    "    mean_diffs = []\n",
    "    utilities = []\n",
    "\n",
    "    for col_A_vec, col_B_vec in tqdm(columns):\n",
    "        n = col_A_vec.shape[0]\n",
    "\n",
    "        col_A_vec, col_B_vec = col_A_vec.T, col_B_vec.T\n",
    "\n",
    "        delta_col_A = expected(col_A_vec, c_plus, c_minus)\n",
    "        delta_col_B = expected(col_B_vec, c_plus, c_minus)\n",
    "\n",
    "        col_A_matrix = np.repeat(col_A_vec, n).reshape((n, n))\n",
    "        col_B_matrix = np.repeat(col_B_vec, n).reshape((n, n))\n",
    "\n",
    "        delta_col_A_matrix = np.repeat(delta_col_A, n).reshape((n, n))\n",
    "        delta_col_B_matrix = np.repeat(delta_col_B, n).reshape((n, n))\n",
    "\n",
    "        col_A_matrix = np.where(col_A_matrix > col_A_matrix.T, col_A_matrix + delta_col_A_matrix, col_A_matrix)\n",
    "        col_B_matrix = np.where(col_B_matrix > col_B_matrix.T, col_B_matrix + delta_col_B_matrix, col_B_matrix)\n",
    "\n",
    "        final.append((col_A_matrix, col_B_matrix))\n",
    "\n",
    "        # Compute utility from one matrix (e.g., col_A_matrix)\n",
    "        util = w_a * expected(col_A_vec, u_plus, u_minus) + w_b * expected(col_B_vec, u_plus, u_minus)\n",
    "        util = np.sum(util)\n",
    "        utilities.append(util)\n",
    "\n",
    "        # Compute mean absolute difference between vectors\n",
    "        diff = np.mean(np.abs(col_A_vec - col_B_vec))\n",
    "        mean_diffs.append(diff)\n",
    "\n",
    "    # === Plot ===\n",
    "    # === Plot Heatmap ===\n",
    "    import matplotlib.pyplot as plt\n",
    "\n",
    "    heatmap_data = utilities\n",
    "    print(heatmap_data.shape)\n",
    "\n",
    "    plt.figure(figsize=(7, 6))\n",
    "    im = plt.imshow(heatmap_data, cmap='viridis', origin='lower', aspect='auto')\n",
    "    plt.colorbar(im, label='Utility')\n",
    "    plt.title(\"Utility Heatmap\")\n",
    "    plt.xlabel(\"Column Index\")\n",
    "    plt.ylabel(\"Row Index\")\n",
    "    plt.tight_layout()\n",
    "    plt.show()\n",
    "\n",
    "    return final\n",
    "test(a, b, u_plus, u_minus, c_plus, c_minus, w_a, w_b)\n"
   ]
  }
 ],
 "metadata": {
  "kernelspec": {
   "display_name": "Python 3",
   "language": "python",
   "name": "python3"
  },
  "language_info": {
   "codemirror_mode": {
    "name": "ipython",
    "version": 3
   },
   "file_extension": ".py",
   "mimetype": "text/x-python",
   "name": "python",
   "nbconvert_exporter": "python",
   "pygments_lexer": "ipython3",
   "version": "3.12.10"
  }
 },
 "nbformat": 4,
 "nbformat_minor": 5
}
