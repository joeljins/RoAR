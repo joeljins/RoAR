{
 "cells": [
  {
   "cell_type": "code",
   "execution_count": 1,
   "id": "120bba90",
   "metadata": {},
   "outputs": [],
   "source": [
    "# Import necessary modules/libraries\n",
    "from tqdm import tqdm\n",
    "import numpy as np\n",
    "import matplotlib.pyplot as plt\n",
    "import ipywidgets as widgets\n",
    "from IPython.display import display\n",
    "import plotly.express as px\n",
    "import plotly.graph_objects as go\n",
    "import pprint as pp"
   ]
  },
  {
   "cell_type": "code",
   "execution_count": 2,
   "id": "bb29b99c",
   "metadata": {},
   "outputs": [],
   "source": [
    "# Set experiment parameters\n",
    "np.random.seed(1)\n",
    "\n",
    "# Distribution parameters\n",
    "mean_a, std_a = 0.5, 1\n",
    "mean_b, std_b = 0.0, 1\n",
    "\n",
    "# Domain of alpha values to test\n",
    "alpha_min, alpha_max = 0.01, 1\n",
    "alphas = np.linspace(alpha_min, alpha_max, num=100)\n",
    "\n",
    "# Sample size of each distribution\n",
    "n = 25\n",
    "\n",
    "# Generate samples from normal distributions\n",
    "a = np.random.normal(mean_a, std_a, n)\n",
    "b = np.random.normal(mean_b, std_b, n)\n",
    "a.sort(), b.sort()\n",
    "w_a = len(a) / (len(a) + len(b))\n",
    "w_b = 1 - w_a\n",
    "\n",
    "#Step Parameters\n",
    "ALPHA = 0.5\n",
    "\n",
    "# U+ / U- > C+ / C-\n",
    "U_PLUS = 1\n",
    "U_MINUS = -1.1\n",
    "C_PLUS = 1\n",
    "C_MINUS = -0.4\n",
    "#print( \"Assumption 1: U+ / U- > C+ / C- is\", (u_plus / u_minus) > (c_plus / c_minus) )\n",
    "\n",
    "# Threshold intervals\n",
    "begin, end = -3, 3.1\n",
    "interval = 0.1\n",
    "THRESHOLDS = np.arange(begin, end, interval)"
   ]
  },
  {
   "cell_type": "code",
   "execution_count": 3,
   "id": "1f843731",
   "metadata": {},
   "outputs": [],
   "source": [
    "from utils import expected\n",
    "\n",
    "def brute_force(a, b):\n",
    "    utilities = []\n",
    "    mean_diffs = []\n",
    "    \n",
    "    delta_A = expected(a, C_PLUS, C_MINUS)\n",
    "    delta_B = expected(b, C_PLUS, C_MINUS)\n",
    "\n",
    "    for thresh_a1 in tqdm(THRESHOLDS):\n",
    "        A = np.where(a > thresh_a1, a + delta_A, a)\n",
    "        for thresh_b1 in THRESHOLDS:\n",
    "            B = np.where(b > thresh_b1, b + delta_B, b)\n",
    "\n",
    "            delta_A2 = expected(A, C_PLUS, C_MINUS)\n",
    "            delta_B2 = expected(B, C_PLUS, C_MINUS)\n",
    "            for thresh_a2 in THRESHOLDS:\n",
    "                A2 = np.where(A > thresh_a2, A + delta_A2, A)\n",
    "                \n",
    "                for thresh_b2 in THRESHOLDS:\n",
    "                    B2 = np.where(B > thresh_b2, B + delta_B2, B)\n",
    "\n",
    "                    util_A = np.sum(expected(A2, U_PLUS, U_MINUS))\n",
    "                    util_B = np.sum(expected(B2, U_PLUS, U_MINUS))\n",
    "                    total_util = w_a * util_A + w_b * util_B\n",
    "                    fairness_diff = abs(np.mean(A2) - np.mean(B2))\n",
    "\n",
    "                    utilities.append(total_util)\n",
    "                    mean_diffs.append(fairness_diff)\n",
    "    return (mean_diffs, utilities)"
   ]
  },
  {
   "cell_type": "code",
   "execution_count": 4,
   "id": "f129e3d7",
   "metadata": {},
   "outputs": [
    {
     "name": "stderr",
     "output_type": "stream",
     "text": [
      "100%|██████████| 61/61 [08:13<00:00,  8.08s/it]\n"
     ]
    }
   ],
   "source": [
    "diffs, utilities = brute_force(a, b)"
   ]
  },
  {
   "cell_type": "code",
   "execution_count": 5,
   "id": "b24aee79",
   "metadata": {},
   "outputs": [
    {
     "name": "stderr",
     "output_type": "stream",
     "text": [
      "100%|██████████| 100/100 [01:43<00:00,  1.04s/it]\n"
     ]
    }
   ],
   "source": [
    "y1 = []\n",
    "for alpha in tqdm(alphas):\n",
    "    valid_diffs = np.where(diffs <= alpha, utilities, -np.inf)\n",
    "    max_util = np.max(valid_diffs)\n",
    "    y1.append(max_util)"
   ]
  },
  {
   "cell_type": "code",
   "execution_count": 6,
   "id": "88d0af4f",
   "metadata": {},
   "outputs": [
    {
     "data": {
      "application/vnd.plotly.v1+json": {
       "config": {
        "plotlyServerURL": "https://plot.ly"
       },
       "data": [
        {
         "type": "scatter",
         "x": {
          "bdata": "exSuR+F6hD97FK5H4XqUP7gehetRuJ4/exSuR+F6pD+amZmZmZmpP7kehetRuK4/61G4HoXrsT97FK5H4Xq0PwrXo3A9Crc/mZmZmZmZuT8pXI/C9Si8P7gehetRuL4/pHA9CtejwD/sUbgehevBPzQzMzMzM8M/exSuR+F6xD/D9Shcj8LFPwvXo3A9Csc/UrgehetRyD+amZmZmZnJP+J6FK5H4co/KVyPwvUozD9xPQrXo3DNP7kehetRuM4/AAAAAAAA0D+kcD0K16PQP0jhehSuR9E/7FG4HoXr0T+QwvUoXI/SPzMzMzMzM9M/16NwPQrX0z97FK5H4XrUPx+F61G4HtU/w/UoXI/C1T9nZmZmZmbWPwvXo3A9Ctc/rkfhehSu1z9SuB6F61HYP/YoXI/C9dg/mpmZmZmZ2T8+CtejcD3aP+J6FK5H4do/hetRuB6F2z8pXI/C9SjcP83MzMzMzNw/cT0K16Nw3T8VrkfhehTeP7kehetRuN4/XI/C9Shc3z8AAAAAAADgP1K4HoXrUeA/pHA9Ctej4D/2KFyPwvXgP0jhehSuR+E/mpmZmZmZ4T/sUbgehevhPz4K16NwPeI/kML1KFyP4j/hehSuR+HiPzMzMzMzM+M/hetRuB6F4z/Xo3A9CtfjPylcj8L1KOQ/exSuR+F65D/NzMzMzMzkPx+F61G4HuU/cT0K16Nw5T/D9Shcj8LlPxWuR+F6FOY/Z2ZmZmZm5j+5HoXrUbjmPwrXo3A9Cuc/XI/C9Shc5z+uR+F6FK7nPwAAAAAAAOg/UrgehetR6D+kcD0K16PoP/YoXI/C9eg/SOF6FK5H6T+amZmZmZnpP+xRuB6F6+k/PgrXo3A96j+QwvUoXI/qP+J6FK5H4eo/MzMzMzMz6z+F61G4HoXrP9ejcD0K1+s/KVyPwvUo7D97FK5H4XrsP83MzMzMzOw/H4XrUbge7T9xPQrXo3DtP8P1KFyPwu0/Fa5H4XoU7j9nZmZmZmbuP7kehetRuO4/CtejcD0K7z9cj8L1KFzvP65H4XoUru8/AAAAAAAA8D8=",
          "dtype": "f8"
         },
         "y": [
          3.7972990006603995,
          3.7972990006603995,
          3.7972990006603995,
          3.824137380267791,
          3.824137380267791,
          3.824137380267791,
          3.9658849317248768,
          3.9658849317248768,
          3.9658849317248768,
          3.9658849317248768,
          3.992723311332269,
          3.992723311332269,
          4.156751412465668,
          4.156751412465668,
          4.253746122480401,
          4.253746122480401,
          4.253746122480401,
          4.253746122480401,
          4.280584502087794,
          4.470441740083799,
          4.470441740083799,
          4.470441740083799,
          4.5824443428231785,
          4.5824443428231785,
          4.691747487692387,
          4.792643490066753,
          4.792643490066753,
          4.889186476879678,
          4.889186476879678,
          4.889186476879678,
          5.068378445037741,
          5.1441492524248265,
          5.212539362995312,
          5.336587988978756,
          5.36052534780218,
          5.38297087099732,
          5.38297087099732,
          5.38297087099732,
          5.409809250604712,
          5.409809250604712,
          5.409809250604712,
          5.417673445724556,
          5.440118968919696,
          5.440118968919696,
          5.440118968919696,
          5.4533347625693525,
          5.475780285764493,
          5.475780285764493,
          5.475780285764493,
          5.475780285764493,
          5.475780285764493,
          5.527248496051073,
          5.551185854874497,
          5.573631378069637,
          5.573631378069637,
          5.573631378069637,
          5.573631378069637,
          5.573631378069637,
          5.649407430141828,
          5.6733447889652515,
          5.695790312160392,
          5.695790312160392,
          5.736419140216891,
          5.758864663412031,
          5.758864663412031,
          5.792413781021483,
          5.838796663040047,
          5.838796663040047,
          5.877317066348444,
          5.923699948367007,
          5.923699948367007,
          5.9732140476634585,
          6.019596929682023,
          6.082001091061469,
          6.105938449884891,
          6.194121043622994,
          6.218058402446417,
          6.2405039256415575,
          6.329297549602373,
          6.414594193726156,
          6.438531552549579,
          6.521214629650692,
          6.548895712778134,
          6.618441315720559,
          6.708255412375247,
          6.781951960337244,
          6.892887333625016,
          6.916377822253903,
          6.940315181077326,
          6.986473526077838,
          6.986473526077838,
          6.986473526077838,
          6.986473526077838,
          6.986473526077838,
          6.986473526077838,
          6.986473526077838,
          6.986473526077838,
          6.986473526077838,
          6.986473526077838,
          6.986473526077838
         ]
        }
       ],
       "layout": {
        "template": {
         "data": {
          "bar": [
           {
            "error_x": {
             "color": "#2a3f5f"
            },
            "error_y": {
             "color": "#2a3f5f"
            },
            "marker": {
             "line": {
              "color": "#E5ECF6",
              "width": 0.5
             },
             "pattern": {
              "fillmode": "overlay",
              "size": 10,
              "solidity": 0.2
             }
            },
            "type": "bar"
           }
          ],
          "barpolar": [
           {
            "marker": {
             "line": {
              "color": "#E5ECF6",
              "width": 0.5
             },
             "pattern": {
              "fillmode": "overlay",
              "size": 10,
              "solidity": 0.2
             }
            },
            "type": "barpolar"
           }
          ],
          "carpet": [
           {
            "aaxis": {
             "endlinecolor": "#2a3f5f",
             "gridcolor": "white",
             "linecolor": "white",
             "minorgridcolor": "white",
             "startlinecolor": "#2a3f5f"
            },
            "baxis": {
             "endlinecolor": "#2a3f5f",
             "gridcolor": "white",
             "linecolor": "white",
             "minorgridcolor": "white",
             "startlinecolor": "#2a3f5f"
            },
            "type": "carpet"
           }
          ],
          "choropleth": [
           {
            "colorbar": {
             "outlinewidth": 0,
             "ticks": ""
            },
            "type": "choropleth"
           }
          ],
          "contour": [
           {
            "colorbar": {
             "outlinewidth": 0,
             "ticks": ""
            },
            "colorscale": [
             [
              0,
              "#0d0887"
             ],
             [
              0.1111111111111111,
              "#46039f"
             ],
             [
              0.2222222222222222,
              "#7201a8"
             ],
             [
              0.3333333333333333,
              "#9c179e"
             ],
             [
              0.4444444444444444,
              "#bd3786"
             ],
             [
              0.5555555555555556,
              "#d8576b"
             ],
             [
              0.6666666666666666,
              "#ed7953"
             ],
             [
              0.7777777777777778,
              "#fb9f3a"
             ],
             [
              0.8888888888888888,
              "#fdca26"
             ],
             [
              1,
              "#f0f921"
             ]
            ],
            "type": "contour"
           }
          ],
          "contourcarpet": [
           {
            "colorbar": {
             "outlinewidth": 0,
             "ticks": ""
            },
            "type": "contourcarpet"
           }
          ],
          "heatmap": [
           {
            "colorbar": {
             "outlinewidth": 0,
             "ticks": ""
            },
            "colorscale": [
             [
              0,
              "#0d0887"
             ],
             [
              0.1111111111111111,
              "#46039f"
             ],
             [
              0.2222222222222222,
              "#7201a8"
             ],
             [
              0.3333333333333333,
              "#9c179e"
             ],
             [
              0.4444444444444444,
              "#bd3786"
             ],
             [
              0.5555555555555556,
              "#d8576b"
             ],
             [
              0.6666666666666666,
              "#ed7953"
             ],
             [
              0.7777777777777778,
              "#fb9f3a"
             ],
             [
              0.8888888888888888,
              "#fdca26"
             ],
             [
              1,
              "#f0f921"
             ]
            ],
            "type": "heatmap"
           }
          ],
          "histogram": [
           {
            "marker": {
             "pattern": {
              "fillmode": "overlay",
              "size": 10,
              "solidity": 0.2
             }
            },
            "type": "histogram"
           }
          ],
          "histogram2d": [
           {
            "colorbar": {
             "outlinewidth": 0,
             "ticks": ""
            },
            "colorscale": [
             [
              0,
              "#0d0887"
             ],
             [
              0.1111111111111111,
              "#46039f"
             ],
             [
              0.2222222222222222,
              "#7201a8"
             ],
             [
              0.3333333333333333,
              "#9c179e"
             ],
             [
              0.4444444444444444,
              "#bd3786"
             ],
             [
              0.5555555555555556,
              "#d8576b"
             ],
             [
              0.6666666666666666,
              "#ed7953"
             ],
             [
              0.7777777777777778,
              "#fb9f3a"
             ],
             [
              0.8888888888888888,
              "#fdca26"
             ],
             [
              1,
              "#f0f921"
             ]
            ],
            "type": "histogram2d"
           }
          ],
          "histogram2dcontour": [
           {
            "colorbar": {
             "outlinewidth": 0,
             "ticks": ""
            },
            "colorscale": [
             [
              0,
              "#0d0887"
             ],
             [
              0.1111111111111111,
              "#46039f"
             ],
             [
              0.2222222222222222,
              "#7201a8"
             ],
             [
              0.3333333333333333,
              "#9c179e"
             ],
             [
              0.4444444444444444,
              "#bd3786"
             ],
             [
              0.5555555555555556,
              "#d8576b"
             ],
             [
              0.6666666666666666,
              "#ed7953"
             ],
             [
              0.7777777777777778,
              "#fb9f3a"
             ],
             [
              0.8888888888888888,
              "#fdca26"
             ],
             [
              1,
              "#f0f921"
             ]
            ],
            "type": "histogram2dcontour"
           }
          ],
          "mesh3d": [
           {
            "colorbar": {
             "outlinewidth": 0,
             "ticks": ""
            },
            "type": "mesh3d"
           }
          ],
          "parcoords": [
           {
            "line": {
             "colorbar": {
              "outlinewidth": 0,
              "ticks": ""
             }
            },
            "type": "parcoords"
           }
          ],
          "pie": [
           {
            "automargin": true,
            "type": "pie"
           }
          ],
          "scatter": [
           {
            "fillpattern": {
             "fillmode": "overlay",
             "size": 10,
             "solidity": 0.2
            },
            "type": "scatter"
           }
          ],
          "scatter3d": [
           {
            "line": {
             "colorbar": {
              "outlinewidth": 0,
              "ticks": ""
             }
            },
            "marker": {
             "colorbar": {
              "outlinewidth": 0,
              "ticks": ""
             }
            },
            "type": "scatter3d"
           }
          ],
          "scattercarpet": [
           {
            "marker": {
             "colorbar": {
              "outlinewidth": 0,
              "ticks": ""
             }
            },
            "type": "scattercarpet"
           }
          ],
          "scattergeo": [
           {
            "marker": {
             "colorbar": {
              "outlinewidth": 0,
              "ticks": ""
             }
            },
            "type": "scattergeo"
           }
          ],
          "scattergl": [
           {
            "marker": {
             "colorbar": {
              "outlinewidth": 0,
              "ticks": ""
             }
            },
            "type": "scattergl"
           }
          ],
          "scattermap": [
           {
            "marker": {
             "colorbar": {
              "outlinewidth": 0,
              "ticks": ""
             }
            },
            "type": "scattermap"
           }
          ],
          "scattermapbox": [
           {
            "marker": {
             "colorbar": {
              "outlinewidth": 0,
              "ticks": ""
             }
            },
            "type": "scattermapbox"
           }
          ],
          "scatterpolar": [
           {
            "marker": {
             "colorbar": {
              "outlinewidth": 0,
              "ticks": ""
             }
            },
            "type": "scatterpolar"
           }
          ],
          "scatterpolargl": [
           {
            "marker": {
             "colorbar": {
              "outlinewidth": 0,
              "ticks": ""
             }
            },
            "type": "scatterpolargl"
           }
          ],
          "scatterternary": [
           {
            "marker": {
             "colorbar": {
              "outlinewidth": 0,
              "ticks": ""
             }
            },
            "type": "scatterternary"
           }
          ],
          "surface": [
           {
            "colorbar": {
             "outlinewidth": 0,
             "ticks": ""
            },
            "colorscale": [
             [
              0,
              "#0d0887"
             ],
             [
              0.1111111111111111,
              "#46039f"
             ],
             [
              0.2222222222222222,
              "#7201a8"
             ],
             [
              0.3333333333333333,
              "#9c179e"
             ],
             [
              0.4444444444444444,
              "#bd3786"
             ],
             [
              0.5555555555555556,
              "#d8576b"
             ],
             [
              0.6666666666666666,
              "#ed7953"
             ],
             [
              0.7777777777777778,
              "#fb9f3a"
             ],
             [
              0.8888888888888888,
              "#fdca26"
             ],
             [
              1,
              "#f0f921"
             ]
            ],
            "type": "surface"
           }
          ],
          "table": [
           {
            "cells": {
             "fill": {
              "color": "#EBF0F8"
             },
             "line": {
              "color": "white"
             }
            },
            "header": {
             "fill": {
              "color": "#C8D4E3"
             },
             "line": {
              "color": "white"
             }
            },
            "type": "table"
           }
          ]
         },
         "layout": {
          "annotationdefaults": {
           "arrowcolor": "#2a3f5f",
           "arrowhead": 0,
           "arrowwidth": 1
          },
          "autotypenumbers": "strict",
          "coloraxis": {
           "colorbar": {
            "outlinewidth": 0,
            "ticks": ""
           }
          },
          "colorscale": {
           "diverging": [
            [
             0,
             "#8e0152"
            ],
            [
             0.1,
             "#c51b7d"
            ],
            [
             0.2,
             "#de77ae"
            ],
            [
             0.3,
             "#f1b6da"
            ],
            [
             0.4,
             "#fde0ef"
            ],
            [
             0.5,
             "#f7f7f7"
            ],
            [
             0.6,
             "#e6f5d0"
            ],
            [
             0.7,
             "#b8e186"
            ],
            [
             0.8,
             "#7fbc41"
            ],
            [
             0.9,
             "#4d9221"
            ],
            [
             1,
             "#276419"
            ]
           ],
           "sequential": [
            [
             0,
             "#0d0887"
            ],
            [
             0.1111111111111111,
             "#46039f"
            ],
            [
             0.2222222222222222,
             "#7201a8"
            ],
            [
             0.3333333333333333,
             "#9c179e"
            ],
            [
             0.4444444444444444,
             "#bd3786"
            ],
            [
             0.5555555555555556,
             "#d8576b"
            ],
            [
             0.6666666666666666,
             "#ed7953"
            ],
            [
             0.7777777777777778,
             "#fb9f3a"
            ],
            [
             0.8888888888888888,
             "#fdca26"
            ],
            [
             1,
             "#f0f921"
            ]
           ],
           "sequentialminus": [
            [
             0,
             "#0d0887"
            ],
            [
             0.1111111111111111,
             "#46039f"
            ],
            [
             0.2222222222222222,
             "#7201a8"
            ],
            [
             0.3333333333333333,
             "#9c179e"
            ],
            [
             0.4444444444444444,
             "#bd3786"
            ],
            [
             0.5555555555555556,
             "#d8576b"
            ],
            [
             0.6666666666666666,
             "#ed7953"
            ],
            [
             0.7777777777777778,
             "#fb9f3a"
            ],
            [
             0.8888888888888888,
             "#fdca26"
            ],
            [
             1,
             "#f0f921"
            ]
           ]
          },
          "colorway": [
           "#636efa",
           "#EF553B",
           "#00cc96",
           "#ab63fa",
           "#FFA15A",
           "#19d3f3",
           "#FF6692",
           "#B6E880",
           "#FF97FF",
           "#FECB52"
          ],
          "font": {
           "color": "#2a3f5f"
          },
          "geo": {
           "bgcolor": "white",
           "lakecolor": "white",
           "landcolor": "#E5ECF6",
           "showlakes": true,
           "showland": true,
           "subunitcolor": "white"
          },
          "hoverlabel": {
           "align": "left"
          },
          "hovermode": "closest",
          "mapbox": {
           "style": "light"
          },
          "paper_bgcolor": "white",
          "plot_bgcolor": "#E5ECF6",
          "polar": {
           "angularaxis": {
            "gridcolor": "white",
            "linecolor": "white",
            "ticks": ""
           },
           "bgcolor": "#E5ECF6",
           "radialaxis": {
            "gridcolor": "white",
            "linecolor": "white",
            "ticks": ""
           }
          },
          "scene": {
           "xaxis": {
            "backgroundcolor": "#E5ECF6",
            "gridcolor": "white",
            "gridwidth": 2,
            "linecolor": "white",
            "showbackground": true,
            "ticks": "",
            "zerolinecolor": "white"
           },
           "yaxis": {
            "backgroundcolor": "#E5ECF6",
            "gridcolor": "white",
            "gridwidth": 2,
            "linecolor": "white",
            "showbackground": true,
            "ticks": "",
            "zerolinecolor": "white"
           },
           "zaxis": {
            "backgroundcolor": "#E5ECF6",
            "gridcolor": "white",
            "gridwidth": 2,
            "linecolor": "white",
            "showbackground": true,
            "ticks": "",
            "zerolinecolor": "white"
           }
          },
          "shapedefaults": {
           "line": {
            "color": "#2a3f5f"
           }
          },
          "ternary": {
           "aaxis": {
            "gridcolor": "white",
            "linecolor": "white",
            "ticks": ""
           },
           "baxis": {
            "gridcolor": "white",
            "linecolor": "white",
            "ticks": ""
           },
           "bgcolor": "#E5ECF6",
           "caxis": {
            "gridcolor": "white",
            "linecolor": "white",
            "ticks": ""
           }
          },
          "title": {
           "x": 0.05
          },
          "xaxis": {
           "automargin": true,
           "gridcolor": "white",
           "linecolor": "white",
           "ticks": "",
           "title": {
            "standoff": 15
           },
           "zerolinecolor": "white",
           "zerolinewidth": 2
          },
          "yaxis": {
           "automargin": true,
           "gridcolor": "white",
           "linecolor": "white",
           "ticks": "",
           "title": {
            "standoff": 15
           },
           "zerolinecolor": "white",
           "zerolinewidth": 2
          }
         }
        }
       }
      }
     },
     "metadata": {},
     "output_type": "display_data"
    }
   ],
   "source": [
    "n4 = go.Scatter(x=alphas, y=y1)\n",
    "fig = go.Figure(data=[n4])\n",
    "fig.show()"
   ]
  },
  {
   "cell_type": "code",
   "execution_count": 4,
   "id": "3a73e501",
   "metadata": {},
   "outputs": [],
   "source": [
    "# Vectorized approach\n",
    "def pairwise_thresholding(a, b, c_plus, c_minus, thresholds):\n",
    "    T = len(thresholds)\n",
    "\n",
    "    n, m = len(a), len(b)\n",
    "\n",
    "    delta_A = expected(a, c_plus, c_minus)  # (n,)\n",
    "    delta_B = expected(b, c_plus, c_minus)  # (m,)\n",
    "\n",
    "    thresh1_a, thresh1_b = np.meshgrid(thresholds, thresholds, indexing='ij')  # (T, T)\n",
    "\n",
    "    # Broadcast thresholds\n",
    "    thresh1_a_bc = thresh1_a[:, :, np.newaxis]  # (T, T, 1)\n",
    "    thresh1_b_bc = thresh1_b[:, :, np.newaxis]  # (T, T, 1)\n",
    "\n",
    "    A_bc = a[np.newaxis, np.newaxis, :]  # (1, 1, n)\n",
    "    B_bc = b[np.newaxis, np.newaxis, :]  # (1, 1, m)\n",
    "    delta_A_bc = delta_A[np.newaxis, np.newaxis, :]\n",
    "    delta_B_bc = delta_B[np.newaxis, np.newaxis, :]\n",
    "\n",
    "    condition_A1 = A_bc > thresh1_a_bc\n",
    "    condition_B1 = B_bc > thresh1_b_bc\n",
    "    \n",
    "    # Updated arrays\n",
    "    a_adj = np.where(condition_A1, A_bc + delta_A_bc, A_bc)  # (T, T, n)\n",
    "    b_adj = np.where(condition_B1, B_bc + delta_B_bc, B_bc)  # (T, T, m)\n",
    "\n",
    "\n",
    "    return a_adj, b_adj\n",
    "\n",
    "def vectorized(a, b):\n",
    "    a_adj, b_adj = pairwise_thresholding(a, b, C_PLUS, C_MINUS, THRESHOLDS)\n",
    "\n",
    "    T = len(THRESHOLDS)\n",
    "    a_rows = []\n",
    "    b_rows = []\n",
    "\n",
    "    \n",
    "    for i in range(T):\n",
    "        for j in range(T):\n",
    "            #print(f\"Threshold pair: (a={THRESHOLDS[i]}, b={THRESHOLDS[j]})\")\n",
    "            #print(f\"a_adj[{i}, {j}] = {a_adj[i, j]}\")  # shape (n,)\n",
    "            #print(f\"b_adj[{i}, {j}] = {b_adj[i, j]}\")  # shape (m,)\n",
    "            #print(\"-\" * 40)\n",
    "            a_rows.append(a_adj[i, j])\n",
    "            b_rows.append(b_adj[i, j])\n",
    "\n",
    "    print(a_adj.shape, b_adj.shape)\n",
    "    print(len(a_rows), len(b_rows))\n",
    "    \n",
    "    util_matrix = []\n",
    "    diff_matrix = []\n",
    "\n",
    "    count = 0\n",
    "    for A, B in tqdm(zip(a_rows, b_rows)):\n",
    "        a_2, b_2 = pairwise_thresholding(A, B, C_PLUS, C_MINUS, THRESHOLDS)\n",
    "    \n",
    "        a_mean = np.mean(a_2, axis=-1)\n",
    "        b_mean = np.mean(b_2, axis=-1)\n",
    "        a_util = np.sum(expected( a_2, U_PLUS, U_MINUS), axis=-1)\n",
    "        b_util = np.sum(expected( b_2, U_PLUS, U_MINUS), axis=-1)\n",
    "\n",
    "        diff = np.abs(a_mean - b_mean)\n",
    "        util = 0.5 * a_util + 0.5 * b_util\n",
    "\n",
    "        util_matrix.append(util)\n",
    "        diff_matrix.append(diff)\n",
    "\n",
    "        count += util.size\n",
    "\n",
    "    util_matrix = np.vstack(util_matrix)\n",
    "    diff_matrix = np.vstack(diff_matrix)\n",
    "    print(count)\n",
    "    print(util_matrix.shape, diff_matrix.shape)\n",
    "    print(util_matrix.size, diff_matrix.size)\n",
    "\n",
    "    return util_matrix, diff_matrix\n",
    "\n",
    "\n"
   ]
  },
  {
   "cell_type": "code",
   "execution_count": 5,
   "id": "cc82da36",
   "metadata": {},
   "outputs": [
    {
     "name": "stdout",
     "output_type": "stream",
     "text": [
      "(61, 61, 25) (61, 61, 25)\n",
      "3721 3721\n"
     ]
    },
    {
     "name": "stderr",
     "output_type": "stream",
     "text": [
      "3721it [00:21, 175.12it/s]\n"
     ]
    },
    {
     "name": "stdout",
     "output_type": "stream",
     "text": [
      "13845841\n",
      "(226981, 61) (226981, 61)\n",
      "13845841 13845841\n"
     ]
    }
   ],
   "source": [
    "util_matrix, diff_matrix = vectorized(a, b)"
   ]
  },
  {
   "cell_type": "code",
   "execution_count": 9,
   "id": "741fe428",
   "metadata": {},
   "outputs": [
    {
     "name": "stdout",
     "output_type": "stream",
     "text": [
      "(226981, 61)\n",
      "(226981, 61)\n",
      "61\n"
     ]
    }
   ],
   "source": [
    "print(util_matrix.shape)\n",
    "print(diff_matrix.shape)\n",
    "print(len(THRESHOLDS))"
   ]
  },
  {
   "cell_type": "code",
   "execution_count": 6,
   "id": "e405f85b",
   "metadata": {},
   "outputs": [
    {
     "name": "stdout",
     "output_type": "stream",
     "text": [
      "[[6.86681721 6.86681721 6.86681721 ... 5.50223763 5.50223763 5.47118409]\n",
      " [6.86681721 6.86681721 6.86681721 ... 5.50223763 5.50223763 5.47118409]\n",
      " [6.86681721 6.86681721 6.86681721 ... 5.50223763 5.50223763 5.47118409]\n",
      " ...\n",
      " [2.19010447 2.19010447 2.19010447 ... 0.87909218 0.87909218 0.87909218]\n",
      " [2.19010447 2.19010447 2.19010447 ... 0.87909218 0.87909218 0.87909218]\n",
      " [2.19010447 2.19010447 2.19010447 ... 0.87909218 0.87909218 0.87909218]]\n",
      "[[0.87231449 0.87231449 0.87231449 ... 1.18063343 1.18063343 1.2178417 ]\n",
      " [0.87231449 0.87231449 0.87231449 ... 1.18063343 1.18063343 1.2178417 ]\n",
      " [0.87231449 0.87231449 0.87231449 ... 1.18063343 1.18063343 1.2178417 ]\n",
      " ...\n",
      " [0.24996337 0.24996337 0.24996337 ... 0.52556992 0.52556992 0.52556992]\n",
      " [0.24996337 0.24996337 0.24996337 ... 0.52556992 0.52556992 0.52556992]\n",
      " [0.24996337 0.24996337 0.24996337 ... 0.52556992 0.52556992 0.52556992]]\n"
     ]
    },
    {
     "name": "stderr",
     "output_type": "stream",
     "text": [
      "100%|██████████| 100/100 [00:08<00:00, 12.14it/s]\n"
     ]
    }
   ],
   "source": [
    "y2 = []\n",
    "print(util_matrix)\n",
    "print(diff_matrix)\n",
    "for alpha in tqdm(alphas):\n",
    "    valid_diffs = np.where(diff_matrix <= alpha, util_matrix, -np.inf)\n",
    "    y2.append(np.max(valid_diffs))\n"
   ]
  },
  {
   "cell_type": "code",
   "execution_count": 7,
   "id": "ac88d1fb",
   "metadata": {},
   "outputs": [
    {
     "data": {
      "application/vnd.plotly.v1+json": {
       "config": {
        "plotlyServerURL": "https://plot.ly"
       },
       "data": [
        {
         "type": "scatter",
         "x": {
          "bdata": "exSuR+F6hD97FK5H4XqUP7gehetRuJ4/exSuR+F6pD+amZmZmZmpP7kehetRuK4/61G4HoXrsT97FK5H4Xq0PwrXo3A9Crc/mZmZmZmZuT8pXI/C9Si8P7gehetRuL4/pHA9CtejwD/sUbgehevBPzQzMzMzM8M/exSuR+F6xD/D9Shcj8LFPwvXo3A9Csc/UrgehetRyD+amZmZmZnJP+J6FK5H4co/KVyPwvUozD9xPQrXo3DNP7kehetRuM4/AAAAAAAA0D+kcD0K16PQP0jhehSuR9E/7FG4HoXr0T+QwvUoXI/SPzMzMzMzM9M/16NwPQrX0z97FK5H4XrUPx+F61G4HtU/w/UoXI/C1T9nZmZmZmbWPwvXo3A9Ctc/rkfhehSu1z9SuB6F61HYP/YoXI/C9dg/mpmZmZmZ2T8+CtejcD3aP+J6FK5H4do/hetRuB6F2z8pXI/C9SjcP83MzMzMzNw/cT0K16Nw3T8VrkfhehTeP7kehetRuN4/XI/C9Shc3z8AAAAAAADgP1K4HoXrUeA/pHA9Ctej4D/2KFyPwvXgP0jhehSuR+E/mpmZmZmZ4T/sUbgehevhPz4K16NwPeI/kML1KFyP4j/hehSuR+HiPzMzMzMzM+M/hetRuB6F4z/Xo3A9CtfjPylcj8L1KOQ/exSuR+F65D/NzMzMzMzkPx+F61G4HuU/cT0K16Nw5T/D9Shcj8LlPxWuR+F6FOY/Z2ZmZmZm5j+5HoXrUbjmPwrXo3A9Cuc/XI/C9Shc5z+uR+F6FK7nPwAAAAAAAOg/UrgehetR6D+kcD0K16PoP/YoXI/C9eg/SOF6FK5H6T+amZmZmZnpP+xRuB6F6+k/PgrXo3A96j+QwvUoXI/qP+J6FK5H4eo/MzMzMzMz6z+F61G4HoXrP9ejcD0K1+s/KVyPwvUo7D97FK5H4XrsP83MzMzMzOw/H4XrUbge7T9xPQrXo3DtP8P1KFyPwu0/Fa5H4XoU7j9nZmZmZmbuP7kehetRuO4/CtejcD0K7z9cj8L1KFzvP65H4XoUru8/AAAAAAAA8D8=",
          "dtype": "f8"
         },
         "y": [
          3.7972990006603995,
          3.7972990006603995,
          3.7972990006603995,
          3.824137380267791,
          3.824137380267791,
          3.824137380267791,
          3.9658849317248768,
          3.9658849317248768,
          3.9658849317248768,
          3.9658849317248768,
          3.992723311332269,
          3.992723311332269,
          4.156751412465668,
          4.156751412465668,
          4.253746122480401,
          4.253746122480401,
          4.253746122480401,
          4.253746122480401,
          4.280584502087794,
          4.470441740083799,
          4.470441740083799,
          4.470441740083799,
          4.5824443428231785,
          4.5824443428231785,
          4.691747487692387,
          4.792643490066753,
          4.792643490066753,
          4.889186476879678,
          4.889186476879678,
          4.889186476879678,
          5.068378445037741,
          5.1441492524248265,
          5.212539362995312,
          5.336587988978756,
          5.36052534780218,
          5.38297087099732,
          5.38297087099732,
          5.38297087099732,
          5.409809250604712,
          5.409809250604712,
          5.409809250604712,
          5.417673445724556,
          5.440118968919696,
          5.440118968919696,
          5.440118968919696,
          5.4533347625693525,
          5.475780285764493,
          5.475780285764493,
          5.475780285764493,
          5.475780285764493,
          5.475780285764493,
          5.527248496051073,
          5.551185854874497,
          5.573631378069637,
          5.573631378069637,
          5.573631378069637,
          5.573631378069637,
          5.573631378069637,
          5.649407430141828,
          5.6733447889652515,
          5.695790312160392,
          5.695790312160392,
          5.736419140216891,
          5.758864663412031,
          5.758864663412031,
          5.792413781021483,
          5.838796663040047,
          5.838796663040047,
          5.877317066348444,
          5.923699948367007,
          5.923699948367007,
          5.9732140476634585,
          6.019596929682023,
          6.082001091061469,
          6.105938449884891,
          6.194121043622994,
          6.218058402446417,
          6.2405039256415575,
          6.329297549602373,
          6.414594193726156,
          6.438531552549579,
          6.521214629650692,
          6.548895712778134,
          6.618441315720559,
          6.708255412375247,
          6.781951960337244,
          6.892887333625016,
          6.916377822253903,
          6.940315181077326,
          6.986473526077838,
          6.986473526077838,
          6.986473526077838,
          6.986473526077838,
          6.986473526077838,
          6.986473526077838,
          6.986473526077838,
          6.986473526077838,
          6.986473526077838,
          6.986473526077838,
          6.986473526077838
         ]
        }
       ],
       "layout": {
        "template": {
         "data": {
          "bar": [
           {
            "error_x": {
             "color": "#2a3f5f"
            },
            "error_y": {
             "color": "#2a3f5f"
            },
            "marker": {
             "line": {
              "color": "#E5ECF6",
              "width": 0.5
             },
             "pattern": {
              "fillmode": "overlay",
              "size": 10,
              "solidity": 0.2
             }
            },
            "type": "bar"
           }
          ],
          "barpolar": [
           {
            "marker": {
             "line": {
              "color": "#E5ECF6",
              "width": 0.5
             },
             "pattern": {
              "fillmode": "overlay",
              "size": 10,
              "solidity": 0.2
             }
            },
            "type": "barpolar"
           }
          ],
          "carpet": [
           {
            "aaxis": {
             "endlinecolor": "#2a3f5f",
             "gridcolor": "white",
             "linecolor": "white",
             "minorgridcolor": "white",
             "startlinecolor": "#2a3f5f"
            },
            "baxis": {
             "endlinecolor": "#2a3f5f",
             "gridcolor": "white",
             "linecolor": "white",
             "minorgridcolor": "white",
             "startlinecolor": "#2a3f5f"
            },
            "type": "carpet"
           }
          ],
          "choropleth": [
           {
            "colorbar": {
             "outlinewidth": 0,
             "ticks": ""
            },
            "type": "choropleth"
           }
          ],
          "contour": [
           {
            "colorbar": {
             "outlinewidth": 0,
             "ticks": ""
            },
            "colorscale": [
             [
              0,
              "#0d0887"
             ],
             [
              0.1111111111111111,
              "#46039f"
             ],
             [
              0.2222222222222222,
              "#7201a8"
             ],
             [
              0.3333333333333333,
              "#9c179e"
             ],
             [
              0.4444444444444444,
              "#bd3786"
             ],
             [
              0.5555555555555556,
              "#d8576b"
             ],
             [
              0.6666666666666666,
              "#ed7953"
             ],
             [
              0.7777777777777778,
              "#fb9f3a"
             ],
             [
              0.8888888888888888,
              "#fdca26"
             ],
             [
              1,
              "#f0f921"
             ]
            ],
            "type": "contour"
           }
          ],
          "contourcarpet": [
           {
            "colorbar": {
             "outlinewidth": 0,
             "ticks": ""
            },
            "type": "contourcarpet"
           }
          ],
          "heatmap": [
           {
            "colorbar": {
             "outlinewidth": 0,
             "ticks": ""
            },
            "colorscale": [
             [
              0,
              "#0d0887"
             ],
             [
              0.1111111111111111,
              "#46039f"
             ],
             [
              0.2222222222222222,
              "#7201a8"
             ],
             [
              0.3333333333333333,
              "#9c179e"
             ],
             [
              0.4444444444444444,
              "#bd3786"
             ],
             [
              0.5555555555555556,
              "#d8576b"
             ],
             [
              0.6666666666666666,
              "#ed7953"
             ],
             [
              0.7777777777777778,
              "#fb9f3a"
             ],
             [
              0.8888888888888888,
              "#fdca26"
             ],
             [
              1,
              "#f0f921"
             ]
            ],
            "type": "heatmap"
           }
          ],
          "histogram": [
           {
            "marker": {
             "pattern": {
              "fillmode": "overlay",
              "size": 10,
              "solidity": 0.2
             }
            },
            "type": "histogram"
           }
          ],
          "histogram2d": [
           {
            "colorbar": {
             "outlinewidth": 0,
             "ticks": ""
            },
            "colorscale": [
             [
              0,
              "#0d0887"
             ],
             [
              0.1111111111111111,
              "#46039f"
             ],
             [
              0.2222222222222222,
              "#7201a8"
             ],
             [
              0.3333333333333333,
              "#9c179e"
             ],
             [
              0.4444444444444444,
              "#bd3786"
             ],
             [
              0.5555555555555556,
              "#d8576b"
             ],
             [
              0.6666666666666666,
              "#ed7953"
             ],
             [
              0.7777777777777778,
              "#fb9f3a"
             ],
             [
              0.8888888888888888,
              "#fdca26"
             ],
             [
              1,
              "#f0f921"
             ]
            ],
            "type": "histogram2d"
           }
          ],
          "histogram2dcontour": [
           {
            "colorbar": {
             "outlinewidth": 0,
             "ticks": ""
            },
            "colorscale": [
             [
              0,
              "#0d0887"
             ],
             [
              0.1111111111111111,
              "#46039f"
             ],
             [
              0.2222222222222222,
              "#7201a8"
             ],
             [
              0.3333333333333333,
              "#9c179e"
             ],
             [
              0.4444444444444444,
              "#bd3786"
             ],
             [
              0.5555555555555556,
              "#d8576b"
             ],
             [
              0.6666666666666666,
              "#ed7953"
             ],
             [
              0.7777777777777778,
              "#fb9f3a"
             ],
             [
              0.8888888888888888,
              "#fdca26"
             ],
             [
              1,
              "#f0f921"
             ]
            ],
            "type": "histogram2dcontour"
           }
          ],
          "mesh3d": [
           {
            "colorbar": {
             "outlinewidth": 0,
             "ticks": ""
            },
            "type": "mesh3d"
           }
          ],
          "parcoords": [
           {
            "line": {
             "colorbar": {
              "outlinewidth": 0,
              "ticks": ""
             }
            },
            "type": "parcoords"
           }
          ],
          "pie": [
           {
            "automargin": true,
            "type": "pie"
           }
          ],
          "scatter": [
           {
            "fillpattern": {
             "fillmode": "overlay",
             "size": 10,
             "solidity": 0.2
            },
            "type": "scatter"
           }
          ],
          "scatter3d": [
           {
            "line": {
             "colorbar": {
              "outlinewidth": 0,
              "ticks": ""
             }
            },
            "marker": {
             "colorbar": {
              "outlinewidth": 0,
              "ticks": ""
             }
            },
            "type": "scatter3d"
           }
          ],
          "scattercarpet": [
           {
            "marker": {
             "colorbar": {
              "outlinewidth": 0,
              "ticks": ""
             }
            },
            "type": "scattercarpet"
           }
          ],
          "scattergeo": [
           {
            "marker": {
             "colorbar": {
              "outlinewidth": 0,
              "ticks": ""
             }
            },
            "type": "scattergeo"
           }
          ],
          "scattergl": [
           {
            "marker": {
             "colorbar": {
              "outlinewidth": 0,
              "ticks": ""
             }
            },
            "type": "scattergl"
           }
          ],
          "scattermap": [
           {
            "marker": {
             "colorbar": {
              "outlinewidth": 0,
              "ticks": ""
             }
            },
            "type": "scattermap"
           }
          ],
          "scattermapbox": [
           {
            "marker": {
             "colorbar": {
              "outlinewidth": 0,
              "ticks": ""
             }
            },
            "type": "scattermapbox"
           }
          ],
          "scatterpolar": [
           {
            "marker": {
             "colorbar": {
              "outlinewidth": 0,
              "ticks": ""
             }
            },
            "type": "scatterpolar"
           }
          ],
          "scatterpolargl": [
           {
            "marker": {
             "colorbar": {
              "outlinewidth": 0,
              "ticks": ""
             }
            },
            "type": "scatterpolargl"
           }
          ],
          "scatterternary": [
           {
            "marker": {
             "colorbar": {
              "outlinewidth": 0,
              "ticks": ""
             }
            },
            "type": "scatterternary"
           }
          ],
          "surface": [
           {
            "colorbar": {
             "outlinewidth": 0,
             "ticks": ""
            },
            "colorscale": [
             [
              0,
              "#0d0887"
             ],
             [
              0.1111111111111111,
              "#46039f"
             ],
             [
              0.2222222222222222,
              "#7201a8"
             ],
             [
              0.3333333333333333,
              "#9c179e"
             ],
             [
              0.4444444444444444,
              "#bd3786"
             ],
             [
              0.5555555555555556,
              "#d8576b"
             ],
             [
              0.6666666666666666,
              "#ed7953"
             ],
             [
              0.7777777777777778,
              "#fb9f3a"
             ],
             [
              0.8888888888888888,
              "#fdca26"
             ],
             [
              1,
              "#f0f921"
             ]
            ],
            "type": "surface"
           }
          ],
          "table": [
           {
            "cells": {
             "fill": {
              "color": "#EBF0F8"
             },
             "line": {
              "color": "white"
             }
            },
            "header": {
             "fill": {
              "color": "#C8D4E3"
             },
             "line": {
              "color": "white"
             }
            },
            "type": "table"
           }
          ]
         },
         "layout": {
          "annotationdefaults": {
           "arrowcolor": "#2a3f5f",
           "arrowhead": 0,
           "arrowwidth": 1
          },
          "autotypenumbers": "strict",
          "coloraxis": {
           "colorbar": {
            "outlinewidth": 0,
            "ticks": ""
           }
          },
          "colorscale": {
           "diverging": [
            [
             0,
             "#8e0152"
            ],
            [
             0.1,
             "#c51b7d"
            ],
            [
             0.2,
             "#de77ae"
            ],
            [
             0.3,
             "#f1b6da"
            ],
            [
             0.4,
             "#fde0ef"
            ],
            [
             0.5,
             "#f7f7f7"
            ],
            [
             0.6,
             "#e6f5d0"
            ],
            [
             0.7,
             "#b8e186"
            ],
            [
             0.8,
             "#7fbc41"
            ],
            [
             0.9,
             "#4d9221"
            ],
            [
             1,
             "#276419"
            ]
           ],
           "sequential": [
            [
             0,
             "#0d0887"
            ],
            [
             0.1111111111111111,
             "#46039f"
            ],
            [
             0.2222222222222222,
             "#7201a8"
            ],
            [
             0.3333333333333333,
             "#9c179e"
            ],
            [
             0.4444444444444444,
             "#bd3786"
            ],
            [
             0.5555555555555556,
             "#d8576b"
            ],
            [
             0.6666666666666666,
             "#ed7953"
            ],
            [
             0.7777777777777778,
             "#fb9f3a"
            ],
            [
             0.8888888888888888,
             "#fdca26"
            ],
            [
             1,
             "#f0f921"
            ]
           ],
           "sequentialminus": [
            [
             0,
             "#0d0887"
            ],
            [
             0.1111111111111111,
             "#46039f"
            ],
            [
             0.2222222222222222,
             "#7201a8"
            ],
            [
             0.3333333333333333,
             "#9c179e"
            ],
            [
             0.4444444444444444,
             "#bd3786"
            ],
            [
             0.5555555555555556,
             "#d8576b"
            ],
            [
             0.6666666666666666,
             "#ed7953"
            ],
            [
             0.7777777777777778,
             "#fb9f3a"
            ],
            [
             0.8888888888888888,
             "#fdca26"
            ],
            [
             1,
             "#f0f921"
            ]
           ]
          },
          "colorway": [
           "#636efa",
           "#EF553B",
           "#00cc96",
           "#ab63fa",
           "#FFA15A",
           "#19d3f3",
           "#FF6692",
           "#B6E880",
           "#FF97FF",
           "#FECB52"
          ],
          "font": {
           "color": "#2a3f5f"
          },
          "geo": {
           "bgcolor": "white",
           "lakecolor": "white",
           "landcolor": "#E5ECF6",
           "showlakes": true,
           "showland": true,
           "subunitcolor": "white"
          },
          "hoverlabel": {
           "align": "left"
          },
          "hovermode": "closest",
          "mapbox": {
           "style": "light"
          },
          "paper_bgcolor": "white",
          "plot_bgcolor": "#E5ECF6",
          "polar": {
           "angularaxis": {
            "gridcolor": "white",
            "linecolor": "white",
            "ticks": ""
           },
           "bgcolor": "#E5ECF6",
           "radialaxis": {
            "gridcolor": "white",
            "linecolor": "white",
            "ticks": ""
           }
          },
          "scene": {
           "xaxis": {
            "backgroundcolor": "#E5ECF6",
            "gridcolor": "white",
            "gridwidth": 2,
            "linecolor": "white",
            "showbackground": true,
            "ticks": "",
            "zerolinecolor": "white"
           },
           "yaxis": {
            "backgroundcolor": "#E5ECF6",
            "gridcolor": "white",
            "gridwidth": 2,
            "linecolor": "white",
            "showbackground": true,
            "ticks": "",
            "zerolinecolor": "white"
           },
           "zaxis": {
            "backgroundcolor": "#E5ECF6",
            "gridcolor": "white",
            "gridwidth": 2,
            "linecolor": "white",
            "showbackground": true,
            "ticks": "",
            "zerolinecolor": "white"
           }
          },
          "shapedefaults": {
           "line": {
            "color": "#2a3f5f"
           }
          },
          "ternary": {
           "aaxis": {
            "gridcolor": "white",
            "linecolor": "white",
            "ticks": ""
           },
           "baxis": {
            "gridcolor": "white",
            "linecolor": "white",
            "ticks": ""
           },
           "bgcolor": "#E5ECF6",
           "caxis": {
            "gridcolor": "white",
            "linecolor": "white",
            "ticks": ""
           }
          },
          "title": {
           "x": 0.05
          },
          "xaxis": {
           "automargin": true,
           "gridcolor": "white",
           "linecolor": "white",
           "ticks": "",
           "title": {
            "standoff": 15
           },
           "zerolinecolor": "white",
           "zerolinewidth": 2
          },
          "yaxis": {
           "automargin": true,
           "gridcolor": "white",
           "linecolor": "white",
           "ticks": "",
           "title": {
            "standoff": 15
           },
           "zerolinecolor": "white",
           "zerolinewidth": 2
          }
         }
        }
       }
      }
     },
     "metadata": {},
     "output_type": "display_data"
    }
   ],
   "source": [
    "n2 = go.Scatter(x=alphas, y=y2)\n",
    "fig = go.Figure(data=[n2])\n",
    "fig.show()"
   ]
  }
 ],
 "metadata": {
  "kernelspec": {
   "display_name": "Python 3",
   "language": "python",
   "name": "python3"
  },
  "language_info": {
   "codemirror_mode": {
    "name": "ipython",
    "version": 3
   },
   "file_extension": ".py",
   "mimetype": "text/x-python",
   "name": "python",
   "nbconvert_exporter": "python",
   "pygments_lexer": "ipython3",
   "version": "3.11.0"
  }
 },
 "nbformat": 4,
 "nbformat_minor": 5
}
